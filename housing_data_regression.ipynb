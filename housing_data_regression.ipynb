{
 "cells": [
  {
   "cell_type": "markdown",
   "id": "normal-blackberry",
   "metadata": {},
   "source": [
    "# Housing Price Model - Regression Analysis\n",
    "\n",
    "Author: **Paul A. Beata**  \n",
    "GitHub: [pbeata](https://github.com/pbeata)\n",
    "\n",
    "----\n",
    "\n",
    "_The original data set comes from the [Ames, Iowa housing data](https://www.kaggle.com/marcopale/housing) on Kaggle._"
   ]
  },
  {
   "cell_type": "code",
   "execution_count": 1,
   "id": "consolidated-event",
   "metadata": {},
   "outputs": [],
   "source": [
    "import numpy as np\n",
    "import pandas as pd\n",
    "import matplotlib.pyplot as plt\n",
    "import seaborn as sns\n",
    "%config Completer.use_jedi = False"
   ]
  },
  {
   "cell_type": "markdown",
   "id": "indie-executive",
   "metadata": {},
   "source": [
    "### Load the Processed Data\n",
    "\n",
    "In the data preprocessing notebook, we took care of the outliers, missing values, and categorical data in order to prepare our data set for these machine learning models."
   ]
  },
  {
   "cell_type": "code",
   "execution_count": 3,
   "id": "sunset-growing",
   "metadata": {},
   "outputs": [
    {
     "data": {
      "text/html": [
       "<div>\n",
       "<style scoped>\n",
       "    .dataframe tbody tr th:only-of-type {\n",
       "        vertical-align: middle;\n",
       "    }\n",
       "\n",
       "    .dataframe tbody tr th {\n",
       "        vertical-align: top;\n",
       "    }\n",
       "\n",
       "    .dataframe thead th {\n",
       "        text-align: right;\n",
       "    }\n",
       "</style>\n",
       "<table border=\"1\" class=\"dataframe\">\n",
       "  <thead>\n",
       "    <tr style=\"text-align: right;\">\n",
       "      <th></th>\n",
       "      <th>Lot Frontage</th>\n",
       "      <th>Lot Area</th>\n",
       "      <th>Overall Qual</th>\n",
       "      <th>Overall Cond</th>\n",
       "      <th>Year Built</th>\n",
       "      <th>Year Remod/Add</th>\n",
       "      <th>Mas Vnr Area</th>\n",
       "      <th>BsmtFin SF 1</th>\n",
       "      <th>BsmtFin SF 2</th>\n",
       "      <th>Bsmt Unf SF</th>\n",
       "      <th>...</th>\n",
       "      <th>Sale Type_ConLw</th>\n",
       "      <th>Sale Type_New</th>\n",
       "      <th>Sale Type_Oth</th>\n",
       "      <th>Sale Type_VWD</th>\n",
       "      <th>Sale Type_WD</th>\n",
       "      <th>Sale Condition_AdjLand</th>\n",
       "      <th>Sale Condition_Alloca</th>\n",
       "      <th>Sale Condition_Family</th>\n",
       "      <th>Sale Condition_Normal</th>\n",
       "      <th>Sale Condition_Partial</th>\n",
       "    </tr>\n",
       "  </thead>\n",
       "  <tbody>\n",
       "    <tr>\n",
       "      <th>0</th>\n",
       "      <td>141.0</td>\n",
       "      <td>31770</td>\n",
       "      <td>6</td>\n",
       "      <td>5</td>\n",
       "      <td>1960</td>\n",
       "      <td>1960</td>\n",
       "      <td>112.0</td>\n",
       "      <td>639.0</td>\n",
       "      <td>0.0</td>\n",
       "      <td>441.0</td>\n",
       "      <td>...</td>\n",
       "      <td>0</td>\n",
       "      <td>0</td>\n",
       "      <td>0</td>\n",
       "      <td>0</td>\n",
       "      <td>1</td>\n",
       "      <td>0</td>\n",
       "      <td>0</td>\n",
       "      <td>0</td>\n",
       "      <td>1</td>\n",
       "      <td>0</td>\n",
       "    </tr>\n",
       "    <tr>\n",
       "      <th>1</th>\n",
       "      <td>80.0</td>\n",
       "      <td>11622</td>\n",
       "      <td>5</td>\n",
       "      <td>6</td>\n",
       "      <td>1961</td>\n",
       "      <td>1961</td>\n",
       "      <td>0.0</td>\n",
       "      <td>468.0</td>\n",
       "      <td>144.0</td>\n",
       "      <td>270.0</td>\n",
       "      <td>...</td>\n",
       "      <td>0</td>\n",
       "      <td>0</td>\n",
       "      <td>0</td>\n",
       "      <td>0</td>\n",
       "      <td>1</td>\n",
       "      <td>0</td>\n",
       "      <td>0</td>\n",
       "      <td>0</td>\n",
       "      <td>1</td>\n",
       "      <td>0</td>\n",
       "    </tr>\n",
       "    <tr>\n",
       "      <th>2</th>\n",
       "      <td>81.0</td>\n",
       "      <td>14267</td>\n",
       "      <td>6</td>\n",
       "      <td>6</td>\n",
       "      <td>1958</td>\n",
       "      <td>1958</td>\n",
       "      <td>108.0</td>\n",
       "      <td>923.0</td>\n",
       "      <td>0.0</td>\n",
       "      <td>406.0</td>\n",
       "      <td>...</td>\n",
       "      <td>0</td>\n",
       "      <td>0</td>\n",
       "      <td>0</td>\n",
       "      <td>0</td>\n",
       "      <td>1</td>\n",
       "      <td>0</td>\n",
       "      <td>0</td>\n",
       "      <td>0</td>\n",
       "      <td>1</td>\n",
       "      <td>0</td>\n",
       "    </tr>\n",
       "    <tr>\n",
       "      <th>3</th>\n",
       "      <td>93.0</td>\n",
       "      <td>11160</td>\n",
       "      <td>7</td>\n",
       "      <td>5</td>\n",
       "      <td>1968</td>\n",
       "      <td>1968</td>\n",
       "      <td>0.0</td>\n",
       "      <td>1065.0</td>\n",
       "      <td>0.0</td>\n",
       "      <td>1045.0</td>\n",
       "      <td>...</td>\n",
       "      <td>0</td>\n",
       "      <td>0</td>\n",
       "      <td>0</td>\n",
       "      <td>0</td>\n",
       "      <td>1</td>\n",
       "      <td>0</td>\n",
       "      <td>0</td>\n",
       "      <td>0</td>\n",
       "      <td>1</td>\n",
       "      <td>0</td>\n",
       "    </tr>\n",
       "    <tr>\n",
       "      <th>4</th>\n",
       "      <td>74.0</td>\n",
       "      <td>13830</td>\n",
       "      <td>5</td>\n",
       "      <td>5</td>\n",
       "      <td>1997</td>\n",
       "      <td>1998</td>\n",
       "      <td>0.0</td>\n",
       "      <td>791.0</td>\n",
       "      <td>0.0</td>\n",
       "      <td>137.0</td>\n",
       "      <td>...</td>\n",
       "      <td>0</td>\n",
       "      <td>0</td>\n",
       "      <td>0</td>\n",
       "      <td>0</td>\n",
       "      <td>1</td>\n",
       "      <td>0</td>\n",
       "      <td>0</td>\n",
       "      <td>0</td>\n",
       "      <td>1</td>\n",
       "      <td>0</td>\n",
       "    </tr>\n",
       "  </tbody>\n",
       "</table>\n",
       "<p>5 rows × 274 columns</p>\n",
       "</div>"
      ],
      "text/plain": [
       "   Lot Frontage  Lot Area  Overall Qual  Overall Cond  Year Built  \\\n",
       "0         141.0     31770             6             5        1960   \n",
       "1          80.0     11622             5             6        1961   \n",
       "2          81.0     14267             6             6        1958   \n",
       "3          93.0     11160             7             5        1968   \n",
       "4          74.0     13830             5             5        1997   \n",
       "\n",
       "   Year Remod/Add  Mas Vnr Area  BsmtFin SF 1  BsmtFin SF 2  Bsmt Unf SF  ...  \\\n",
       "0            1960         112.0         639.0           0.0        441.0  ...   \n",
       "1            1961           0.0         468.0         144.0        270.0  ...   \n",
       "2            1958         108.0         923.0           0.0        406.0  ...   \n",
       "3            1968           0.0        1065.0           0.0       1045.0  ...   \n",
       "4            1998           0.0         791.0           0.0        137.0  ...   \n",
       "\n",
       "   Sale Type_ConLw  Sale Type_New  Sale Type_Oth  Sale Type_VWD  \\\n",
       "0                0              0              0              0   \n",
       "1                0              0              0              0   \n",
       "2                0              0              0              0   \n",
       "3                0              0              0              0   \n",
       "4                0              0              0              0   \n",
       "\n",
       "   Sale Type_WD   Sale Condition_AdjLand  Sale Condition_Alloca  \\\n",
       "0              1                       0                      0   \n",
       "1              1                       0                      0   \n",
       "2              1                       0                      0   \n",
       "3              1                       0                      0   \n",
       "4              1                       0                      0   \n",
       "\n",
       "   Sale Condition_Family  Sale Condition_Normal  Sale Condition_Partial  \n",
       "0                      0                      1                       0  \n",
       "1                      0                      1                       0  \n",
       "2                      0                      1                       0  \n",
       "3                      0                      1                       0  \n",
       "4                      0                      1                       0  \n",
       "\n",
       "[5 rows x 274 columns]"
      ]
     },
     "execution_count": 3,
     "metadata": {},
     "output_type": "execute_result"
    }
   ],
   "source": [
    "df = pd.read_csv('./data_processed/Ames_Housing_Data_Clean_Dummies.csv')\n",
    "df.head()"
   ]
  },
  {
   "cell_type": "code",
   "execution_count": 4,
   "id": "documentary-response",
   "metadata": {},
   "outputs": [
    {
     "data": {
      "text/plain": [
       "0"
      ]
     },
     "execution_count": 4,
     "metadata": {},
     "output_type": "execute_result"
    }
   ],
   "source": [
    "# confirm that there are no missing values\n",
    "df.isnull().sum().sort_values().max()"
   ]
  },
  {
   "cell_type": "code",
   "execution_count": 5,
   "id": "sudden-jacob",
   "metadata": {},
   "outputs": [
    {
     "name": "stdout",
     "output_type": "stream",
     "text": [
      "<class 'pandas.core.frame.DataFrame'>\n",
      "RangeIndex: 2925 entries, 0 to 2924\n",
      "Columns: 274 entries, Lot Frontage to Sale Condition_Partial\n",
      "dtypes: float64(11), int64(263)\n",
      "memory usage: 6.1 MB\n"
     ]
    }
   ],
   "source": [
    "df.info()"
   ]
  },
  {
   "cell_type": "code",
   "execution_count": 6,
   "id": "polar-statistics",
   "metadata": {},
   "outputs": [
    {
     "data": {
      "text/plain": [
       "Index(['Lot Frontage', 'Lot Area', 'Overall Qual', 'Overall Cond',\n",
       "       'Year Built', 'Year Remod/Add', 'Mas Vnr Area', 'BsmtFin SF 1',\n",
       "       'BsmtFin SF 2', 'Bsmt Unf SF',\n",
       "       ...\n",
       "       'Sale Type_ConLw', 'Sale Type_New', 'Sale Type_Oth', 'Sale Type_VWD',\n",
       "       'Sale Type_WD ', 'Sale Condition_AdjLand', 'Sale Condition_Alloca',\n",
       "       'Sale Condition_Family', 'Sale Condition_Normal',\n",
       "       'Sale Condition_Partial'],\n",
       "      dtype='object', length=274)"
      ]
     },
     "execution_count": 6,
     "metadata": {},
     "output_type": "execute_result"
    }
   ],
   "source": [
    "df.columns"
   ]
  },
  {
   "cell_type": "markdown",
   "id": "abandoned-glucose",
   "metadata": {},
   "source": [
    "### Split the Data for Training and Testing"
   ]
  },
  {
   "cell_type": "code",
   "execution_count": 7,
   "id": "crazy-momentum",
   "metadata": {},
   "outputs": [],
   "source": [
    "# X: features and y: target\n",
    "X = df.drop('SalePrice', axis=1)\n",
    "y = df['SalePrice']"
   ]
  },
  {
   "cell_type": "code",
   "execution_count": 8,
   "id": "married-storm",
   "metadata": {},
   "outputs": [],
   "source": [
    "# withhold 10% of the data for testing\n",
    "from sklearn.model_selection import train_test_split\n",
    "X_train, X_test, y_train, y_test = train_test_split(X, y, test_size=0.10, random_state=101)"
   ]
  },
  {
   "cell_type": "markdown",
   "id": "general-louisville",
   "metadata": {},
   "source": [
    "Scale the features using the standard scaler (we do not need to scale the targets):"
   ]
  },
  {
   "cell_type": "code",
   "execution_count": 9,
   "id": "accepted-columbia",
   "metadata": {},
   "outputs": [],
   "source": [
    "from sklearn.preprocessing import StandardScaler"
   ]
  },
  {
   "cell_type": "code",
   "execution_count": 10,
   "id": "modified-shadow",
   "metadata": {},
   "outputs": [],
   "source": [
    "scaler = StandardScaler()\n",
    "X_train_scaled = scaler.fit_transform(X_train)"
   ]
  },
  {
   "cell_type": "code",
   "execution_count": 11,
   "id": "municipal-stock",
   "metadata": {},
   "outputs": [],
   "source": [
    "X_test_scaled = scaler.transform(X_test)"
   ]
  },
  {
   "cell_type": "markdown",
   "id": "apparent-witch",
   "metadata": {},
   "source": [
    "### Model 1: Linear Regression using Elastic Net\n",
    "\n",
    "Combination of Ridge + Lasso Regression"
   ]
  },
  {
   "cell_type": "code",
   "execution_count": 41,
   "id": "immediate-performer",
   "metadata": {},
   "outputs": [],
   "source": [
    "from sklearn.linear_model import ElasticNet"
   ]
  },
  {
   "cell_type": "code",
   "execution_count": 49,
   "id": "competitive-forest",
   "metadata": {},
   "outputs": [],
   "source": [
    "base_model = ElasticNet()"
   ]
  },
  {
   "cell_type": "markdown",
   "id": "advisory-enemy",
   "metadata": {},
   "source": [
    "We will use a grid search to find the best alpha values and the L1-ratio for the Elastic Net model."
   ]
  },
  {
   "cell_type": "code",
   "execution_count": 50,
   "id": "handled-glance",
   "metadata": {},
   "outputs": [
    {
     "data": {
      "text/plain": [
       "[0.25, 0.5, 1, 2, 4, 8, 16, 32, 64, 128, 256, 512]"
      ]
     },
     "execution_count": 50,
     "metadata": {},
     "output_type": "execute_result"
    }
   ],
   "source": [
    "alpha_values = []\n",
    "\n",
    "for n in range(-2, 10, 1):\n",
    "    alpha = 2 ** n\n",
    "    alpha_values.append(alpha)\n",
    "\n",
    "alpha_values"
   ]
  },
  {
   "cell_type": "code",
   "execution_count": 51,
   "id": "modern-boulder",
   "metadata": {},
   "outputs": [],
   "source": [
    "l1_ratio_values = [.1, .5, .9, .95, .99, 1.0]"
   ]
  },
  {
   "cell_type": "code",
   "execution_count": 52,
   "id": "treated-graphic",
   "metadata": {},
   "outputs": [],
   "source": [
    "param_grid = {'alpha': alpha_values,\n",
    "              'l1_ratio': l1_ratio_values}"
   ]
  },
  {
   "cell_type": "code",
   "execution_count": 53,
   "id": "behind-walker",
   "metadata": {},
   "outputs": [],
   "source": [
    "from sklearn.model_selection import GridSearchCV"
   ]
  },
  {
   "cell_type": "code",
   "execution_count": 54,
   "id": "clinical-showcase",
   "metadata": {},
   "outputs": [],
   "source": [
    "# for the grid search, we choose the scoring metric to be the mean squared error in this case\n",
    "grid = GridSearchCV(estimator=base_model,\n",
    "                    param_grid=param_grid,\n",
    "                    scoring='neg_mean_squared_error',\n",
    "                    cv=5)"
   ]
  },
  {
   "cell_type": "code",
   "execution_count": 56,
   "id": "grand-scanner",
   "metadata": {},
   "outputs": [
    {
     "name": "stderr",
     "output_type": "stream",
     "text": [
      "C:\\Users\\pbeata\\anaconda3\\envs\\py3-TF2.0\\lib\\site-packages\\sklearn\\linear_model\\_coordinate_descent.py:530: ConvergenceWarning: Objective did not converge. You might want to increase the number of iterations. Duality gap: 716440645740.9347, tolerance: 1355206692.5276787\n",
      "  model = cd_fast.enet_coordinate_descent(\n",
      "C:\\Users\\pbeata\\anaconda3\\envs\\py3-TF2.0\\lib\\site-packages\\sklearn\\linear_model\\_coordinate_descent.py:530: ConvergenceWarning: Objective did not converge. You might want to increase the number of iterations. Duality gap: 742561870310.6692, tolerance: 1307913805.6588454\n",
      "  model = cd_fast.enet_coordinate_descent(\n",
      "C:\\Users\\pbeata\\anaconda3\\envs\\py3-TF2.0\\lib\\site-packages\\sklearn\\linear_model\\_coordinate_descent.py:530: ConvergenceWarning: Objective did not converge. You might want to increase the number of iterations. Duality gap: 818655118539.1367, tolerance: 1415056940.006106\n",
      "  model = cd_fast.enet_coordinate_descent(\n",
      "C:\\Users\\pbeata\\anaconda3\\envs\\py3-TF2.0\\lib\\site-packages\\sklearn\\linear_model\\_coordinate_descent.py:530: ConvergenceWarning: Objective did not converge. You might want to increase the number of iterations. Duality gap: 800486621135.0828, tolerance: 1438198040.088288\n",
      "  model = cd_fast.enet_coordinate_descent(\n",
      "C:\\Users\\pbeata\\anaconda3\\envs\\py3-TF2.0\\lib\\site-packages\\sklearn\\linear_model\\_coordinate_descent.py:530: ConvergenceWarning: Objective did not converge. You might want to increase the number of iterations. Duality gap: 765971689016.04, tolerance: 1345680018.2551236\n",
      "  model = cd_fast.enet_coordinate_descent(\n",
      "C:\\Users\\pbeata\\anaconda3\\envs\\py3-TF2.0\\lib\\site-packages\\sklearn\\linear_model\\_coordinate_descent.py:530: ConvergenceWarning: Objective did not converge. You might want to increase the number of iterations. Duality gap: 636723633572.3638, tolerance: 1355206692.5276787\n",
      "  model = cd_fast.enet_coordinate_descent(\n",
      "C:\\Users\\pbeata\\anaconda3\\envs\\py3-TF2.0\\lib\\site-packages\\sklearn\\linear_model\\_coordinate_descent.py:530: ConvergenceWarning: Objective did not converge. You might want to increase the number of iterations. Duality gap: 655547316065.174, tolerance: 1307913805.6588454\n",
      "  model = cd_fast.enet_coordinate_descent(\n",
      "C:\\Users\\pbeata\\anaconda3\\envs\\py3-TF2.0\\lib\\site-packages\\sklearn\\linear_model\\_coordinate_descent.py:530: ConvergenceWarning: Objective did not converge. You might want to increase the number of iterations. Duality gap: 725634883092.8562, tolerance: 1415056940.006106\n",
      "  model = cd_fast.enet_coordinate_descent(\n",
      "C:\\Users\\pbeata\\anaconda3\\envs\\py3-TF2.0\\lib\\site-packages\\sklearn\\linear_model\\_coordinate_descent.py:530: ConvergenceWarning: Objective did not converge. You might want to increase the number of iterations. Duality gap: 711370292689.2418, tolerance: 1438198040.088288\n",
      "  model = cd_fast.enet_coordinate_descent(\n",
      "C:\\Users\\pbeata\\anaconda3\\envs\\py3-TF2.0\\lib\\site-packages\\sklearn\\linear_model\\_coordinate_descent.py:530: ConvergenceWarning: Objective did not converge. You might want to increase the number of iterations. Duality gap: 673165118926.8225, tolerance: 1345680018.2551236\n",
      "  model = cd_fast.enet_coordinate_descent(\n",
      "C:\\Users\\pbeata\\anaconda3\\envs\\py3-TF2.0\\lib\\site-packages\\sklearn\\linear_model\\_coordinate_descent.py:530: ConvergenceWarning: Objective did not converge. You might want to increase the number of iterations. Duality gap: 397873845768.9937, tolerance: 1355206692.5276787\n",
      "  model = cd_fast.enet_coordinate_descent(\n",
      "C:\\Users\\pbeata\\anaconda3\\envs\\py3-TF2.0\\lib\\site-packages\\sklearn\\linear_model\\_coordinate_descent.py:530: ConvergenceWarning: Objective did not converge. You might want to increase the number of iterations. Duality gap: 372859127828.69476, tolerance: 1307913805.6588454\n",
      "  model = cd_fast.enet_coordinate_descent(\n",
      "C:\\Users\\pbeata\\anaconda3\\envs\\py3-TF2.0\\lib\\site-packages\\sklearn\\linear_model\\_coordinate_descent.py:530: ConvergenceWarning: Objective did not converge. You might want to increase the number of iterations. Duality gap: 442840532779.70264, tolerance: 1415056940.006106\n",
      "  model = cd_fast.enet_coordinate_descent(\n",
      "C:\\Users\\pbeata\\anaconda3\\envs\\py3-TF2.0\\lib\\site-packages\\sklearn\\linear_model\\_coordinate_descent.py:530: ConvergenceWarning: Objective did not converge. You might want to increase the number of iterations. Duality gap: 432671224857.3934, tolerance: 1438198040.088288\n",
      "  model = cd_fast.enet_coordinate_descent(\n",
      "C:\\Users\\pbeata\\anaconda3\\envs\\py3-TF2.0\\lib\\site-packages\\sklearn\\linear_model\\_coordinate_descent.py:530: ConvergenceWarning: Objective did not converge. You might want to increase the number of iterations. Duality gap: 375560605063.34155, tolerance: 1345680018.2551236\n",
      "  model = cd_fast.enet_coordinate_descent(\n",
      "C:\\Users\\pbeata\\anaconda3\\envs\\py3-TF2.0\\lib\\site-packages\\sklearn\\linear_model\\_coordinate_descent.py:530: ConvergenceWarning: Objective did not converge. You might want to increase the number of iterations. Duality gap: 257096742054.03766, tolerance: 1355206692.5276787\n",
      "  model = cd_fast.enet_coordinate_descent(\n",
      "C:\\Users\\pbeata\\anaconda3\\envs\\py3-TF2.0\\lib\\site-packages\\sklearn\\linear_model\\_coordinate_descent.py:530: ConvergenceWarning: Objective did not converge. You might want to increase the number of iterations. Duality gap: 204435423096.6745, tolerance: 1307913805.6588454\n",
      "  model = cd_fast.enet_coordinate_descent(\n",
      "C:\\Users\\pbeata\\anaconda3\\envs\\py3-TF2.0\\lib\\site-packages\\sklearn\\linear_model\\_coordinate_descent.py:530: ConvergenceWarning: Objective did not converge. You might want to increase the number of iterations. Duality gap: 278378527703.93604, tolerance: 1415056940.006106\n",
      "  model = cd_fast.enet_coordinate_descent(\n",
      "C:\\Users\\pbeata\\anaconda3\\envs\\py3-TF2.0\\lib\\site-packages\\sklearn\\linear_model\\_coordinate_descent.py:530: ConvergenceWarning: Objective did not converge. You might want to increase the number of iterations. Duality gap: 263853443048.8368, tolerance: 1438198040.088288\n",
      "  model = cd_fast.enet_coordinate_descent(\n",
      "C:\\Users\\pbeata\\anaconda3\\envs\\py3-TF2.0\\lib\\site-packages\\sklearn\\linear_model\\_coordinate_descent.py:530: ConvergenceWarning: Objective did not converge. You might want to increase the number of iterations. Duality gap: 202534782262.81482, tolerance: 1345680018.2551236\n",
      "  model = cd_fast.enet_coordinate_descent(\n",
      "C:\\Users\\pbeata\\anaconda3\\envs\\py3-TF2.0\\lib\\site-packages\\sklearn\\linear_model\\_coordinate_descent.py:530: ConvergenceWarning: Objective did not converge. You might want to increase the number of iterations. Duality gap: 357378117241.09424, tolerance: 1355206692.5276787\n",
      "  model = cd_fast.enet_coordinate_descent(\n",
      "C:\\Users\\pbeata\\anaconda3\\envs\\py3-TF2.0\\lib\\site-packages\\sklearn\\linear_model\\_coordinate_descent.py:530: ConvergenceWarning: Objective did not converge. You might want to increase the number of iterations. Duality gap: 366091371220.3881, tolerance: 1307913805.6588454\n",
      "  model = cd_fast.enet_coordinate_descent(\n",
      "C:\\Users\\pbeata\\anaconda3\\envs\\py3-TF2.0\\lib\\site-packages\\sklearn\\linear_model\\_coordinate_descent.py:530: ConvergenceWarning: Objective did not converge. You might want to increase the number of iterations. Duality gap: 414761135787.1528, tolerance: 1415056940.006106\n",
      "  model = cd_fast.enet_coordinate_descent(\n",
      "C:\\Users\\pbeata\\anaconda3\\envs\\py3-TF2.0\\lib\\site-packages\\sklearn\\linear_model\\_coordinate_descent.py:530: ConvergenceWarning: Objective did not converge. You might want to increase the number of iterations. Duality gap: 410683082552.69214, tolerance: 1438198040.088288\n",
      "  model = cd_fast.enet_coordinate_descent(\n",
      "C:\\Users\\pbeata\\anaconda3\\envs\\py3-TF2.0\\lib\\site-packages\\sklearn\\linear_model\\_coordinate_descent.py:530: ConvergenceWarning: Objective did not converge. You might want to increase the number of iterations. Duality gap: 379894814302.9, tolerance: 1345680018.2551236\n",
      "  model = cd_fast.enet_coordinate_descent(\n",
      "C:\\Users\\pbeata\\anaconda3\\envs\\py3-TF2.0\\lib\\site-packages\\sklearn\\linear_model\\_coordinate_descent.py:530: ConvergenceWarning: Objective did not converge. You might want to increase the number of iterations. Duality gap: 800399710371.8466, tolerance: 1355206692.5276787\n",
      "  model = cd_fast.enet_coordinate_descent(\n",
      "C:\\Users\\pbeata\\anaconda3\\envs\\py3-TF2.0\\lib\\site-packages\\sklearn\\linear_model\\_coordinate_descent.py:530: ConvergenceWarning: Objective did not converge. You might want to increase the number of iterations. Duality gap: 827316153321.7909, tolerance: 1307913805.6588454\n",
      "  model = cd_fast.enet_coordinate_descent(\n"
     ]
    },
    {
     "name": "stderr",
     "output_type": "stream",
     "text": [
      "C:\\Users\\pbeata\\anaconda3\\envs\\py3-TF2.0\\lib\\site-packages\\sklearn\\linear_model\\_coordinate_descent.py:530: ConvergenceWarning: Objective did not converge. You might want to increase the number of iterations. Duality gap: 913429854109.44, tolerance: 1415056940.006106\n",
      "  model = cd_fast.enet_coordinate_descent(\n",
      "C:\\Users\\pbeata\\anaconda3\\envs\\py3-TF2.0\\lib\\site-packages\\sklearn\\linear_model\\_coordinate_descent.py:530: ConvergenceWarning: Objective did not converge. You might want to increase the number of iterations. Duality gap: 890921926867.997, tolerance: 1438198040.088288\n",
      "  model = cd_fast.enet_coordinate_descent(\n",
      "C:\\Users\\pbeata\\anaconda3\\envs\\py3-TF2.0\\lib\\site-packages\\sklearn\\linear_model\\_coordinate_descent.py:530: ConvergenceWarning: Objective did not converge. You might want to increase the number of iterations. Duality gap: 853215372200.2468, tolerance: 1345680018.2551236\n",
      "  model = cd_fast.enet_coordinate_descent(\n",
      "C:\\Users\\pbeata\\anaconda3\\envs\\py3-TF2.0\\lib\\site-packages\\sklearn\\linear_model\\_coordinate_descent.py:530: ConvergenceWarning: Objective did not converge. You might want to increase the number of iterations. Duality gap: 710115963587.6705, tolerance: 1355206692.5276787\n",
      "  model = cd_fast.enet_coordinate_descent(\n",
      "C:\\Users\\pbeata\\anaconda3\\envs\\py3-TF2.0\\lib\\site-packages\\sklearn\\linear_model\\_coordinate_descent.py:530: ConvergenceWarning: Objective did not converge. You might want to increase the number of iterations. Duality gap: 729892901515.6914, tolerance: 1307913805.6588454\n",
      "  model = cd_fast.enet_coordinate_descent(\n",
      "C:\\Users\\pbeata\\anaconda3\\envs\\py3-TF2.0\\lib\\site-packages\\sklearn\\linear_model\\_coordinate_descent.py:530: ConvergenceWarning: Objective did not converge. You might want to increase the number of iterations. Duality gap: 809410153535.8291, tolerance: 1415056940.006106\n",
      "  model = cd_fast.enet_coordinate_descent(\n",
      "C:\\Users\\pbeata\\anaconda3\\envs\\py3-TF2.0\\lib\\site-packages\\sklearn\\linear_model\\_coordinate_descent.py:530: ConvergenceWarning: Objective did not converge. You might want to increase the number of iterations. Duality gap: 791217983060.0703, tolerance: 1438198040.088288\n",
      "  model = cd_fast.enet_coordinate_descent(\n",
      "C:\\Users\\pbeata\\anaconda3\\envs\\py3-TF2.0\\lib\\site-packages\\sklearn\\linear_model\\_coordinate_descent.py:530: ConvergenceWarning: Objective did not converge. You might want to increase the number of iterations. Duality gap: 749853139675.9318, tolerance: 1345680018.2551236\n",
      "  model = cd_fast.enet_coordinate_descent(\n",
      "C:\\Users\\pbeata\\anaconda3\\envs\\py3-TF2.0\\lib\\site-packages\\sklearn\\linear_model\\_coordinate_descent.py:530: ConvergenceWarning: Objective did not converge. You might want to increase the number of iterations. Duality gap: 435773854846.16504, tolerance: 1355206692.5276787\n",
      "  model = cd_fast.enet_coordinate_descent(\n",
      "C:\\Users\\pbeata\\anaconda3\\envs\\py3-TF2.0\\lib\\site-packages\\sklearn\\linear_model\\_coordinate_descent.py:530: ConvergenceWarning: Objective did not converge. You might want to increase the number of iterations. Duality gap: 408431898059.625, tolerance: 1307913805.6588454\n",
      "  model = cd_fast.enet_coordinate_descent(\n",
      "C:\\Users\\pbeata\\anaconda3\\envs\\py3-TF2.0\\lib\\site-packages\\sklearn\\linear_model\\_coordinate_descent.py:530: ConvergenceWarning: Objective did not converge. You might want to increase the number of iterations. Duality gap: 484413900496.0254, tolerance: 1415056940.006106\n",
      "  model = cd_fast.enet_coordinate_descent(\n",
      "C:\\Users\\pbeata\\anaconda3\\envs\\py3-TF2.0\\lib\\site-packages\\sklearn\\linear_model\\_coordinate_descent.py:530: ConvergenceWarning: Objective did not converge. You might want to increase the number of iterations. Duality gap: 474216845012.23157, tolerance: 1438198040.088288\n",
      "  model = cd_fast.enet_coordinate_descent(\n",
      "C:\\Users\\pbeata\\anaconda3\\envs\\py3-TF2.0\\lib\\site-packages\\sklearn\\linear_model\\_coordinate_descent.py:530: ConvergenceWarning: Objective did not converge. You might want to increase the number of iterations. Duality gap: 411920000319.41736, tolerance: 1345680018.2551236\n",
      "  model = cd_fast.enet_coordinate_descent(\n",
      "C:\\Users\\pbeata\\anaconda3\\envs\\py3-TF2.0\\lib\\site-packages\\sklearn\\linear_model\\_coordinate_descent.py:530: ConvergenceWarning: Objective did not converge. You might want to increase the number of iterations. Duality gap: 279330454653.7361, tolerance: 1355206692.5276787\n",
      "  model = cd_fast.enet_coordinate_descent(\n",
      "C:\\Users\\pbeata\\anaconda3\\envs\\py3-TF2.0\\lib\\site-packages\\sklearn\\linear_model\\_coordinate_descent.py:530: ConvergenceWarning: Objective did not converge. You might want to increase the number of iterations. Duality gap: 220186335059.96454, tolerance: 1307913805.6588454\n",
      "  model = cd_fast.enet_coordinate_descent(\n",
      "C:\\Users\\pbeata\\anaconda3\\envs\\py3-TF2.0\\lib\\site-packages\\sklearn\\linear_model\\_coordinate_descent.py:530: ConvergenceWarning: Objective did not converge. You might want to increase the number of iterations. Duality gap: 299994182587.97284, tolerance: 1415056940.006106\n",
      "  model = cd_fast.enet_coordinate_descent(\n",
      "C:\\Users\\pbeata\\anaconda3\\envs\\py3-TF2.0\\lib\\site-packages\\sklearn\\linear_model\\_coordinate_descent.py:530: ConvergenceWarning: Objective did not converge. You might want to increase the number of iterations. Duality gap: 287362618321.2898, tolerance: 1438198040.088288\n",
      "  model = cd_fast.enet_coordinate_descent(\n",
      "C:\\Users\\pbeata\\anaconda3\\envs\\py3-TF2.0\\lib\\site-packages\\sklearn\\linear_model\\_coordinate_descent.py:530: ConvergenceWarning: Objective did not converge. You might want to increase the number of iterations. Duality gap: 220642810901.95258, tolerance: 1345680018.2551236\n",
      "  model = cd_fast.enet_coordinate_descent(\n",
      "C:\\Users\\pbeata\\anaconda3\\envs\\py3-TF2.0\\lib\\site-packages\\sklearn\\linear_model\\_coordinate_descent.py:530: ConvergenceWarning: Objective did not converge. You might want to increase the number of iterations. Duality gap: 359111160011.34515, tolerance: 1355206692.5276787\n",
      "  model = cd_fast.enet_coordinate_descent(\n",
      "C:\\Users\\pbeata\\anaconda3\\envs\\py3-TF2.0\\lib\\site-packages\\sklearn\\linear_model\\_coordinate_descent.py:530: ConvergenceWarning: Objective did not converge. You might want to increase the number of iterations. Duality gap: 367890570353.2114, tolerance: 1307913805.6588454\n",
      "  model = cd_fast.enet_coordinate_descent(\n",
      "C:\\Users\\pbeata\\anaconda3\\envs\\py3-TF2.0\\lib\\site-packages\\sklearn\\linear_model\\_coordinate_descent.py:530: ConvergenceWarning: Objective did not converge. You might want to increase the number of iterations. Duality gap: 416303051175.02545, tolerance: 1415056940.006106\n",
      "  model = cd_fast.enet_coordinate_descent(\n",
      "C:\\Users\\pbeata\\anaconda3\\envs\\py3-TF2.0\\lib\\site-packages\\sklearn\\linear_model\\_coordinate_descent.py:530: ConvergenceWarning: Objective did not converge. You might want to increase the number of iterations. Duality gap: 412269595899.2518, tolerance: 1438198040.088288\n",
      "  model = cd_fast.enet_coordinate_descent(\n",
      "C:\\Users\\pbeata\\anaconda3\\envs\\py3-TF2.0\\lib\\site-packages\\sklearn\\linear_model\\_coordinate_descent.py:530: ConvergenceWarning: Objective did not converge. You might want to increase the number of iterations. Duality gap: 382300219941.6377, tolerance: 1345680018.2551236\n",
      "  model = cd_fast.enet_coordinate_descent(\n",
      "C:\\Users\\pbeata\\anaconda3\\envs\\py3-TF2.0\\lib\\site-packages\\sklearn\\linear_model\\_coordinate_descent.py:530: ConvergenceWarning: Objective did not converge. You might want to increase the number of iterations. Duality gap: 887957252217.1732, tolerance: 1355206692.5276787\n",
      "  model = cd_fast.enet_coordinate_descent(\n",
      "C:\\Users\\pbeata\\anaconda3\\envs\\py3-TF2.0\\lib\\site-packages\\sklearn\\linear_model\\_coordinate_descent.py:530: ConvergenceWarning: Objective did not converge. You might want to increase the number of iterations. Duality gap: 915201796163.8472, tolerance: 1307913805.6588454\n",
      "  model = cd_fast.enet_coordinate_descent(\n",
      "C:\\Users\\pbeata\\anaconda3\\envs\\py3-TF2.0\\lib\\site-packages\\sklearn\\linear_model\\_coordinate_descent.py:530: ConvergenceWarning: Objective did not converge. You might want to increase the number of iterations. Duality gap: 1010505680802.2621, tolerance: 1415056940.006106\n",
      "  model = cd_fast.enet_coordinate_descent(\n",
      "C:\\Users\\pbeata\\anaconda3\\envs\\py3-TF2.0\\lib\\site-packages\\sklearn\\linear_model\\_coordinate_descent.py:530: ConvergenceWarning: Objective did not converge. You might want to increase the number of iterations. Duality gap: 984124410685.8416, tolerance: 1438198040.088288\n",
      "  model = cd_fast.enet_coordinate_descent(\n"
     ]
    },
    {
     "name": "stderr",
     "output_type": "stream",
     "text": [
      "C:\\Users\\pbeata\\anaconda3\\envs\\py3-TF2.0\\lib\\site-packages\\sklearn\\linear_model\\_coordinate_descent.py:530: ConvergenceWarning: Objective did not converge. You might want to increase the number of iterations. Duality gap: 942309392452.272, tolerance: 1345680018.2551236\n",
      "  model = cd_fast.enet_coordinate_descent(\n",
      "C:\\Users\\pbeata\\anaconda3\\envs\\py3-TF2.0\\lib\\site-packages\\sklearn\\linear_model\\_coordinate_descent.py:530: ConvergenceWarning: Objective did not converge. You might want to increase the number of iterations. Duality gap: 793074022077.6157, tolerance: 1355206692.5276787\n",
      "  model = cd_fast.enet_coordinate_descent(\n",
      "C:\\Users\\pbeata\\anaconda3\\envs\\py3-TF2.0\\lib\\site-packages\\sklearn\\linear_model\\_coordinate_descent.py:530: ConvergenceWarning: Objective did not converge. You might want to increase the number of iterations. Duality gap: 813537232809.8983, tolerance: 1307913805.6588454\n",
      "  model = cd_fast.enet_coordinate_descent(\n",
      "C:\\Users\\pbeata\\anaconda3\\envs\\py3-TF2.0\\lib\\site-packages\\sklearn\\linear_model\\_coordinate_descent.py:530: ConvergenceWarning: Objective did not converge. You might want to increase the number of iterations. Duality gap: 902541583829.745, tolerance: 1415056940.006106\n",
      "  model = cd_fast.enet_coordinate_descent(\n",
      "C:\\Users\\pbeata\\anaconda3\\envs\\py3-TF2.0\\lib\\site-packages\\sklearn\\linear_model\\_coordinate_descent.py:530: ConvergenceWarning: Objective did not converge. You might want to increase the number of iterations. Duality gap: 880240098169.3368, tolerance: 1438198040.088288\n",
      "  model = cd_fast.enet_coordinate_descent(\n",
      "C:\\Users\\pbeata\\anaconda3\\envs\\py3-TF2.0\\lib\\site-packages\\sklearn\\linear_model\\_coordinate_descent.py:530: ConvergenceWarning: Objective did not converge. You might want to increase the number of iterations. Duality gap: 833960603588.7566, tolerance: 1345680018.2551236\n",
      "  model = cd_fast.enet_coordinate_descent(\n",
      "C:\\Users\\pbeata\\anaconda3\\envs\\py3-TF2.0\\lib\\site-packages\\sklearn\\linear_model\\_coordinate_descent.py:530: ConvergenceWarning: Objective did not converge. You might want to increase the number of iterations. Duality gap: 481219578302.2638, tolerance: 1355206692.5276787\n",
      "  model = cd_fast.enet_coordinate_descent(\n",
      "C:\\Users\\pbeata\\anaconda3\\envs\\py3-TF2.0\\lib\\site-packages\\sklearn\\linear_model\\_coordinate_descent.py:530: ConvergenceWarning: Objective did not converge. You might want to increase the number of iterations. Duality gap: 451839318549.62964, tolerance: 1307913805.6588454\n",
      "  model = cd_fast.enet_coordinate_descent(\n",
      "C:\\Users\\pbeata\\anaconda3\\envs\\py3-TF2.0\\lib\\site-packages\\sklearn\\linear_model\\_coordinate_descent.py:530: ConvergenceWarning: Objective did not converge. You might want to increase the number of iterations. Duality gap: 534994572600.1413, tolerance: 1415056940.006106\n",
      "  model = cd_fast.enet_coordinate_descent(\n",
      "C:\\Users\\pbeata\\anaconda3\\envs\\py3-TF2.0\\lib\\site-packages\\sklearn\\linear_model\\_coordinate_descent.py:530: ConvergenceWarning: Objective did not converge. You might want to increase the number of iterations. Duality gap: 523848435422.3153, tolerance: 1438198040.088288\n",
      "  model = cd_fast.enet_coordinate_descent(\n",
      "C:\\Users\\pbeata\\anaconda3\\envs\\py3-TF2.0\\lib\\site-packages\\sklearn\\linear_model\\_coordinate_descent.py:530: ConvergenceWarning: Objective did not converge. You might want to increase the number of iterations. Duality gap: 447043918970.6502, tolerance: 1345680018.2551236\n",
      "  model = cd_fast.enet_coordinate_descent(\n",
      "C:\\Users\\pbeata\\anaconda3\\envs\\py3-TF2.0\\lib\\site-packages\\sklearn\\linear_model\\_coordinate_descent.py:530: ConvergenceWarning: Objective did not converge. You might want to increase the number of iterations. Duality gap: 305920090814.9517, tolerance: 1355206692.5276787\n",
      "  model = cd_fast.enet_coordinate_descent(\n",
      "C:\\Users\\pbeata\\anaconda3\\envs\\py3-TF2.0\\lib\\site-packages\\sklearn\\linear_model\\_coordinate_descent.py:530: ConvergenceWarning: Objective did not converge. You might want to increase the number of iterations. Duality gap: 240839458700.859, tolerance: 1307913805.6588454\n",
      "  model = cd_fast.enet_coordinate_descent(\n",
      "C:\\Users\\pbeata\\anaconda3\\envs\\py3-TF2.0\\lib\\site-packages\\sklearn\\linear_model\\_coordinate_descent.py:530: ConvergenceWarning: Objective did not converge. You might want to increase the number of iterations. Duality gap: 326911077101.3568, tolerance: 1415056940.006106\n",
      "  model = cd_fast.enet_coordinate_descent(\n",
      "C:\\Users\\pbeata\\anaconda3\\envs\\py3-TF2.0\\lib\\site-packages\\sklearn\\linear_model\\_coordinate_descent.py:530: ConvergenceWarning: Objective did not converge. You might want to increase the number of iterations. Duality gap: 315940697015.4159, tolerance: 1438198040.088288\n",
      "  model = cd_fast.enet_coordinate_descent(\n",
      "C:\\Users\\pbeata\\anaconda3\\envs\\py3-TF2.0\\lib\\site-packages\\sklearn\\linear_model\\_coordinate_descent.py:530: ConvergenceWarning: Objective did not converge. You might want to increase the number of iterations. Duality gap: 243334185945.66132, tolerance: 1345680018.2551236\n",
      "  model = cd_fast.enet_coordinate_descent(\n",
      "C:\\Users\\pbeata\\anaconda3\\envs\\py3-TF2.0\\lib\\site-packages\\sklearn\\linear_model\\_coordinate_descent.py:530: ConvergenceWarning: Objective did not converge. You might want to increase the number of iterations. Duality gap: 362312564752.57184, tolerance: 1355206692.5276787\n",
      "  model = cd_fast.enet_coordinate_descent(\n",
      "C:\\Users\\pbeata\\anaconda3\\envs\\py3-TF2.0\\lib\\site-packages\\sklearn\\linear_model\\_coordinate_descent.py:530: ConvergenceWarning: Objective did not converge. You might want to increase the number of iterations. Duality gap: 371269230909.7869, tolerance: 1307913805.6588454\n",
      "  model = cd_fast.enet_coordinate_descent(\n",
      "C:\\Users\\pbeata\\anaconda3\\envs\\py3-TF2.0\\lib\\site-packages\\sklearn\\linear_model\\_coordinate_descent.py:530: ConvergenceWarning: Objective did not converge. You might want to increase the number of iterations. Duality gap: 419194082629.78485, tolerance: 1415056940.006106\n",
      "  model = cd_fast.enet_coordinate_descent(\n",
      "C:\\Users\\pbeata\\anaconda3\\envs\\py3-TF2.0\\lib\\site-packages\\sklearn\\linear_model\\_coordinate_descent.py:530: ConvergenceWarning: Objective did not converge. You might want to increase the number of iterations. Duality gap: 415273109992.04767, tolerance: 1438198040.088288\n",
      "  model = cd_fast.enet_coordinate_descent(\n",
      "C:\\Users\\pbeata\\anaconda3\\envs\\py3-TF2.0\\lib\\site-packages\\sklearn\\linear_model\\_coordinate_descent.py:530: ConvergenceWarning: Objective did not converge. You might want to increase the number of iterations. Duality gap: 385691150335.03253, tolerance: 1345680018.2551236\n",
      "  model = cd_fast.enet_coordinate_descent(\n",
      "C:\\Users\\pbeata\\anaconda3\\envs\\py3-TF2.0\\lib\\site-packages\\sklearn\\linear_model\\_coordinate_descent.py:530: ConvergenceWarning: Objective did not converge. You might want to increase the number of iterations. Duality gap: 967293841432.1654, tolerance: 1355206692.5276787\n",
      "  model = cd_fast.enet_coordinate_descent(\n",
      "C:\\Users\\pbeata\\anaconda3\\envs\\py3-TF2.0\\lib\\site-packages\\sklearn\\linear_model\\_coordinate_descent.py:530: ConvergenceWarning: Objective did not converge. You might want to increase the number of iterations. Duality gap: 994294916942.696, tolerance: 1307913805.6588454\n",
      "  model = cd_fast.enet_coordinate_descent(\n",
      "C:\\Users\\pbeata\\anaconda3\\envs\\py3-TF2.0\\lib\\site-packages\\sklearn\\linear_model\\_coordinate_descent.py:530: ConvergenceWarning: Objective did not converge. You might want to increase the number of iterations. Duality gap: 1097168723525.351, tolerance: 1415056940.006106\n",
      "  model = cd_fast.enet_coordinate_descent(\n",
      "C:\\Users\\pbeata\\anaconda3\\envs\\py3-TF2.0\\lib\\site-packages\\sklearn\\linear_model\\_coordinate_descent.py:530: ConvergenceWarning: Objective did not converge. You might want to increase the number of iterations. Duality gap: 1068028700435.5801, tolerance: 1438198040.088288\n",
      "  model = cd_fast.enet_coordinate_descent(\n",
      "C:\\Users\\pbeata\\anaconda3\\envs\\py3-TF2.0\\lib\\site-packages\\sklearn\\linear_model\\_coordinate_descent.py:530: ConvergenceWarning: Objective did not converge. You might want to increase the number of iterations. Duality gap: 1022001376833.1909, tolerance: 1345680018.2551236\n",
      "  model = cd_fast.enet_coordinate_descent(\n",
      "C:\\Users\\pbeata\\anaconda3\\envs\\py3-TF2.0\\lib\\site-packages\\sklearn\\linear_model\\_coordinate_descent.py:530: ConvergenceWarning: Objective did not converge. You might want to increase the number of iterations. Duality gap: 877969963291.1707, tolerance: 1355206692.5276787\n",
      "  model = cd_fast.enet_coordinate_descent(\n"
     ]
    },
    {
     "name": "stderr",
     "output_type": "stream",
     "text": [
      "C:\\Users\\pbeata\\anaconda3\\envs\\py3-TF2.0\\lib\\site-packages\\sklearn\\linear_model\\_coordinate_descent.py:530: ConvergenceWarning: Objective did not converge. You might want to increase the number of iterations. Duality gap: 898799573433.8187, tolerance: 1307913805.6588454\n",
      "  model = cd_fast.enet_coordinate_descent(\n",
      "C:\\Users\\pbeata\\anaconda3\\envs\\py3-TF2.0\\lib\\site-packages\\sklearn\\linear_model\\_coordinate_descent.py:530: ConvergenceWarning: Objective did not converge. You might want to increase the number of iterations. Duality gap: 996125115888.3553, tolerance: 1415056940.006106\n",
      "  model = cd_fast.enet_coordinate_descent(\n",
      "C:\\Users\\pbeata\\anaconda3\\envs\\py3-TF2.0\\lib\\site-packages\\sklearn\\linear_model\\_coordinate_descent.py:530: ConvergenceWarning: Objective did not converge. You might want to increase the number of iterations. Duality gap: 970244516530.3763, tolerance: 1438198040.088288\n",
      "  model = cd_fast.enet_coordinate_descent(\n",
      "C:\\Users\\pbeata\\anaconda3\\envs\\py3-TF2.0\\lib\\site-packages\\sklearn\\linear_model\\_coordinate_descent.py:530: ConvergenceWarning: Objective did not converge. You might want to increase the number of iterations. Duality gap: 917837396118.6573, tolerance: 1345680018.2551236\n",
      "  model = cd_fast.enet_coordinate_descent(\n",
      "C:\\Users\\pbeata\\anaconda3\\envs\\py3-TF2.0\\lib\\site-packages\\sklearn\\linear_model\\_coordinate_descent.py:530: ConvergenceWarning: Objective did not converge. You might want to increase the number of iterations. Duality gap: 535356170606.38495, tolerance: 1355206692.5276787\n",
      "  model = cd_fast.enet_coordinate_descent(\n",
      "C:\\Users\\pbeata\\anaconda3\\envs\\py3-TF2.0\\lib\\site-packages\\sklearn\\linear_model\\_coordinate_descent.py:530: ConvergenceWarning: Objective did not converge. You might want to increase the number of iterations. Duality gap: 504521038259.6239, tolerance: 1307913805.6588454\n",
      "  model = cd_fast.enet_coordinate_descent(\n",
      "C:\\Users\\pbeata\\anaconda3\\envs\\py3-TF2.0\\lib\\site-packages\\sklearn\\linear_model\\_coordinate_descent.py:530: ConvergenceWarning: Objective did not converge. You might want to increase the number of iterations. Duality gap: 595302975220.7456, tolerance: 1415056940.006106\n",
      "  model = cd_fast.enet_coordinate_descent(\n",
      "C:\\Users\\pbeata\\anaconda3\\envs\\py3-TF2.0\\lib\\site-packages\\sklearn\\linear_model\\_coordinate_descent.py:530: ConvergenceWarning: Objective did not converge. You might want to increase the number of iterations. Duality gap: 582291840890.6095, tolerance: 1438198040.088288\n",
      "  model = cd_fast.enet_coordinate_descent(\n",
      "C:\\Users\\pbeata\\anaconda3\\envs\\py3-TF2.0\\lib\\site-packages\\sklearn\\linear_model\\_coordinate_descent.py:530: ConvergenceWarning: Objective did not converge. You might want to increase the number of iterations. Duality gap: 494393909779.2727, tolerance: 1345680018.2551236\n",
      "  model = cd_fast.enet_coordinate_descent(\n",
      "C:\\Users\\pbeata\\anaconda3\\envs\\py3-TF2.0\\lib\\site-packages\\sklearn\\linear_model\\_coordinate_descent.py:530: ConvergenceWarning: Objective did not converge. You might want to increase the number of iterations. Duality gap: 337453009021.857, tolerance: 1355206692.5276787\n",
      "  model = cd_fast.enet_coordinate_descent(\n",
      "C:\\Users\\pbeata\\anaconda3\\envs\\py3-TF2.0\\lib\\site-packages\\sklearn\\linear_model\\_coordinate_descent.py:530: ConvergenceWarning: Objective did not converge. You might want to increase the number of iterations. Duality gap: 267191895048.04993, tolerance: 1307913805.6588454\n",
      "  model = cd_fast.enet_coordinate_descent(\n",
      "C:\\Users\\pbeata\\anaconda3\\envs\\py3-TF2.0\\lib\\site-packages\\sklearn\\linear_model\\_coordinate_descent.py:530: ConvergenceWarning: Objective did not converge. You might want to increase the number of iterations. Duality gap: 359921350089.21857, tolerance: 1415056940.006106\n",
      "  model = cd_fast.enet_coordinate_descent(\n",
      "C:\\Users\\pbeata\\anaconda3\\envs\\py3-TF2.0\\lib\\site-packages\\sklearn\\linear_model\\_coordinate_descent.py:530: ConvergenceWarning: Objective did not converge. You might want to increase the number of iterations. Duality gap: 349737675324.82935, tolerance: 1438198040.088288\n",
      "  model = cd_fast.enet_coordinate_descent(\n",
      "C:\\Users\\pbeata\\anaconda3\\envs\\py3-TF2.0\\lib\\site-packages\\sklearn\\linear_model\\_coordinate_descent.py:530: ConvergenceWarning: Objective did not converge. You might want to increase the number of iterations. Duality gap: 266296610071.93408, tolerance: 1345680018.2551236\n",
      "  model = cd_fast.enet_coordinate_descent(\n",
      "C:\\Users\\pbeata\\anaconda3\\envs\\py3-TF2.0\\lib\\site-packages\\sklearn\\linear_model\\_coordinate_descent.py:530: ConvergenceWarning: Objective did not converge. You might want to increase the number of iterations. Duality gap: 362269018968.5795, tolerance: 1355206692.5276787\n",
      "  model = cd_fast.enet_coordinate_descent(\n",
      "C:\\Users\\pbeata\\anaconda3\\envs\\py3-TF2.0\\lib\\site-packages\\sklearn\\linear_model\\_coordinate_descent.py:530: ConvergenceWarning: Objective did not converge. You might want to increase the number of iterations. Duality gap: 376793388125.85895, tolerance: 1307913805.6588454\n",
      "  model = cd_fast.enet_coordinate_descent(\n",
      "C:\\Users\\pbeata\\anaconda3\\envs\\py3-TF2.0\\lib\\site-packages\\sklearn\\linear_model\\_coordinate_descent.py:530: ConvergenceWarning: Objective did not converge. You might want to increase the number of iterations. Duality gap: 423274674612.69916, tolerance: 1415056940.006106\n",
      "  model = cd_fast.enet_coordinate_descent(\n",
      "C:\\Users\\pbeata\\anaconda3\\envs\\py3-TF2.0\\lib\\site-packages\\sklearn\\linear_model\\_coordinate_descent.py:530: ConvergenceWarning: Objective did not converge. You might want to increase the number of iterations. Duality gap: 419932143444.6731, tolerance: 1438198040.088288\n",
      "  model = cd_fast.enet_coordinate_descent(\n",
      "C:\\Users\\pbeata\\anaconda3\\envs\\py3-TF2.0\\lib\\site-packages\\sklearn\\linear_model\\_coordinate_descent.py:530: ConvergenceWarning: Objective did not converge. You might want to increase the number of iterations. Duality gap: 370063006314.4919, tolerance: 1345680018.2551236\n",
      "  model = cd_fast.enet_coordinate_descent(\n",
      "C:\\Users\\pbeata\\anaconda3\\envs\\py3-TF2.0\\lib\\site-packages\\sklearn\\linear_model\\_coordinate_descent.py:530: ConvergenceWarning: Objective did not converge. You might want to increase the number of iterations. Duality gap: 1028489586279.8473, tolerance: 1355206692.5276787\n",
      "  model = cd_fast.enet_coordinate_descent(\n",
      "C:\\Users\\pbeata\\anaconda3\\envs\\py3-TF2.0\\lib\\site-packages\\sklearn\\linear_model\\_coordinate_descent.py:530: ConvergenceWarning: Objective did not converge. You might want to increase the number of iterations. Duality gap: 1054857701352.4247, tolerance: 1307913805.6588454\n",
      "  model = cd_fast.enet_coordinate_descent(\n",
      "C:\\Users\\pbeata\\anaconda3\\envs\\py3-TF2.0\\lib\\site-packages\\sklearn\\linear_model\\_coordinate_descent.py:530: ConvergenceWarning: Objective did not converge. You might want to increase the number of iterations. Duality gap: 1163375250192.4204, tolerance: 1415056940.006106\n",
      "  model = cd_fast.enet_coordinate_descent(\n",
      "C:\\Users\\pbeata\\anaconda3\\envs\\py3-TF2.0\\lib\\site-packages\\sklearn\\linear_model\\_coordinate_descent.py:530: ConvergenceWarning: Objective did not converge. You might want to increase the number of iterations. Duality gap: 1132675391919.1016, tolerance: 1438198040.088288\n",
      "  model = cd_fast.enet_coordinate_descent(\n",
      "C:\\Users\\pbeata\\anaconda3\\envs\\py3-TF2.0\\lib\\site-packages\\sklearn\\linear_model\\_coordinate_descent.py:530: ConvergenceWarning: Objective did not converge. You might want to increase the number of iterations. Duality gap: 1083315219697.8962, tolerance: 1345680018.2551236\n",
      "  model = cd_fast.enet_coordinate_descent(\n",
      "C:\\Users\\pbeata\\anaconda3\\envs\\py3-TF2.0\\lib\\site-packages\\sklearn\\linear_model\\_coordinate_descent.py:530: ConvergenceWarning: Objective did not converge. You might want to increase the number of iterations. Duality gap: 952816971599.6588, tolerance: 1355206692.5276787\n",
      "  model = cd_fast.enet_coordinate_descent(\n",
      "C:\\Users\\pbeata\\anaconda3\\envs\\py3-TF2.0\\lib\\site-packages\\sklearn\\linear_model\\_coordinate_descent.py:530: ConvergenceWarning: Objective did not converge. You might want to increase the number of iterations. Duality gap: 973471828058.62, tolerance: 1307913805.6588454\n",
      "  model = cd_fast.enet_coordinate_descent(\n",
      "C:\\Users\\pbeata\\anaconda3\\envs\\py3-TF2.0\\lib\\site-packages\\sklearn\\linear_model\\_coordinate_descent.py:530: ConvergenceWarning: Objective did not converge. You might want to increase the number of iterations. Duality gap: 1077392831253.1412, tolerance: 1415056940.006106\n",
      "  model = cd_fast.enet_coordinate_descent(\n"
     ]
    },
    {
     "name": "stderr",
     "output_type": "stream",
     "text": [
      "C:\\Users\\pbeata\\anaconda3\\envs\\py3-TF2.0\\lib\\site-packages\\sklearn\\linear_model\\_coordinate_descent.py:530: ConvergenceWarning: Objective did not converge. You might want to increase the number of iterations. Duality gap: 1049042238309.2212, tolerance: 1438198040.088288\n",
      "  model = cd_fast.enet_coordinate_descent(\n",
      "C:\\Users\\pbeata\\anaconda3\\envs\\py3-TF2.0\\lib\\site-packages\\sklearn\\linear_model\\_coordinate_descent.py:530: ConvergenceWarning: Objective did not converge. You might want to increase the number of iterations. Duality gap: 992130265141.8177, tolerance: 1345680018.2551236\n",
      "  model = cd_fast.enet_coordinate_descent(\n",
      "C:\\Users\\pbeata\\anaconda3\\envs\\py3-TF2.0\\lib\\site-packages\\sklearn\\linear_model\\_coordinate_descent.py:530: ConvergenceWarning: Objective did not converge. You might want to increase the number of iterations. Duality gap: 598084823607.6685, tolerance: 1355206692.5276787\n",
      "  model = cd_fast.enet_coordinate_descent(\n",
      "C:\\Users\\pbeata\\anaconda3\\envs\\py3-TF2.0\\lib\\site-packages\\sklearn\\linear_model\\_coordinate_descent.py:530: ConvergenceWarning: Objective did not converge. You might want to increase the number of iterations. Duality gap: 566878177100.0082, tolerance: 1307913805.6588454\n",
      "  model = cd_fast.enet_coordinate_descent(\n",
      "C:\\Users\\pbeata\\anaconda3\\envs\\py3-TF2.0\\lib\\site-packages\\sklearn\\linear_model\\_coordinate_descent.py:530: ConvergenceWarning: Objective did not converge. You might want to increase the number of iterations. Duality gap: 664203664242.6487, tolerance: 1415056940.006106\n",
      "  model = cd_fast.enet_coordinate_descent(\n",
      "C:\\Users\\pbeata\\anaconda3\\envs\\py3-TF2.0\\lib\\site-packages\\sklearn\\linear_model\\_coordinate_descent.py:530: ConvergenceWarning: Objective did not converge. You might want to increase the number of iterations. Duality gap: 648766404573.5117, tolerance: 1438198040.088288\n",
      "  model = cd_fast.enet_coordinate_descent(\n",
      "C:\\Users\\pbeata\\anaconda3\\envs\\py3-TF2.0\\lib\\site-packages\\sklearn\\linear_model\\_coordinate_descent.py:530: ConvergenceWarning: Objective did not converge. You might want to increase the number of iterations. Duality gap: 548831201409.5372, tolerance: 1345680018.2551236\n",
      "  model = cd_fast.enet_coordinate_descent(\n",
      "C:\\Users\\pbeata\\anaconda3\\envs\\py3-TF2.0\\lib\\site-packages\\sklearn\\linear_model\\_coordinate_descent.py:530: ConvergenceWarning: Objective did not converge. You might want to increase the number of iterations. Duality gap: 374927807949.4917, tolerance: 1355206692.5276787\n",
      "  model = cd_fast.enet_coordinate_descent(\n",
      "C:\\Users\\pbeata\\anaconda3\\envs\\py3-TF2.0\\lib\\site-packages\\sklearn\\linear_model\\_coordinate_descent.py:530: ConvergenceWarning: Objective did not converge. You might want to increase the number of iterations. Duality gap: 300836938253.8325, tolerance: 1307913805.6588454\n",
      "  model = cd_fast.enet_coordinate_descent(\n",
      "C:\\Users\\pbeata\\anaconda3\\envs\\py3-TF2.0\\lib\\site-packages\\sklearn\\linear_model\\_coordinate_descent.py:530: ConvergenceWarning: Objective did not converge. You might want to increase the number of iterations. Duality gap: 399681206894.6093, tolerance: 1415056940.006106\n",
      "  model = cd_fast.enet_coordinate_descent(\n",
      "C:\\Users\\pbeata\\anaconda3\\envs\\py3-TF2.0\\lib\\site-packages\\sklearn\\linear_model\\_coordinate_descent.py:530: ConvergenceWarning: Objective did not converge. You might want to increase the number of iterations. Duality gap: 389208674240.6676, tolerance: 1438198040.088288\n",
      "  model = cd_fast.enet_coordinate_descent(\n",
      "C:\\Users\\pbeata\\anaconda3\\envs\\py3-TF2.0\\lib\\site-packages\\sklearn\\linear_model\\_coordinate_descent.py:530: ConvergenceWarning: Objective did not converge. You might want to increase the number of iterations. Duality gap: 291410135505.52405, tolerance: 1345680018.2551236\n",
      "  model = cd_fast.enet_coordinate_descent(\n",
      "C:\\Users\\pbeata\\anaconda3\\envs\\py3-TF2.0\\lib\\site-packages\\sklearn\\linear_model\\_coordinate_descent.py:530: ConvergenceWarning: Objective did not converge. You might want to increase the number of iterations. Duality gap: 376706993368.88354, tolerance: 1355206692.5276787\n",
      "  model = cd_fast.enet_coordinate_descent(\n",
      "C:\\Users\\pbeata\\anaconda3\\envs\\py3-TF2.0\\lib\\site-packages\\sklearn\\linear_model\\_coordinate_descent.py:530: ConvergenceWarning: Objective did not converge. You might want to increase the number of iterations. Duality gap: 385515941758.08093, tolerance: 1307913805.6588454\n",
      "  model = cd_fast.enet_coordinate_descent(\n",
      "C:\\Users\\pbeata\\anaconda3\\envs\\py3-TF2.0\\lib\\site-packages\\sklearn\\linear_model\\_coordinate_descent.py:530: ConvergenceWarning: Objective did not converge. You might want to increase the number of iterations. Duality gap: 430113930392.15814, tolerance: 1415056940.006106\n",
      "  model = cd_fast.enet_coordinate_descent(\n",
      "C:\\Users\\pbeata\\anaconda3\\envs\\py3-TF2.0\\lib\\site-packages\\sklearn\\linear_model\\_coordinate_descent.py:530: ConvergenceWarning: Objective did not converge. You might want to increase the number of iterations. Duality gap: 422089581488.39264, tolerance: 1438198040.088288\n",
      "  model = cd_fast.enet_coordinate_descent(\n",
      "C:\\Users\\pbeata\\anaconda3\\envs\\py3-TF2.0\\lib\\site-packages\\sklearn\\linear_model\\_coordinate_descent.py:530: ConvergenceWarning: Objective did not converge. You might want to increase the number of iterations. Duality gap: 361024322509.2293, tolerance: 1345680018.2551236\n",
      "  model = cd_fast.enet_coordinate_descent(\n",
      "C:\\Users\\pbeata\\anaconda3\\envs\\py3-TF2.0\\lib\\site-packages\\sklearn\\linear_model\\_coordinate_descent.py:530: ConvergenceWarning: Objective did not converge. You might want to increase the number of iterations. Duality gap: 1069819652752.9855, tolerance: 1355206692.5276787\n",
      "  model = cd_fast.enet_coordinate_descent(\n",
      "C:\\Users\\pbeata\\anaconda3\\envs\\py3-TF2.0\\lib\\site-packages\\sklearn\\linear_model\\_coordinate_descent.py:530: ConvergenceWarning: Objective did not converge. You might want to increase the number of iterations. Duality gap: 1095561611606.9418, tolerance: 1307913805.6588454\n",
      "  model = cd_fast.enet_coordinate_descent(\n",
      "C:\\Users\\pbeata\\anaconda3\\envs\\py3-TF2.0\\lib\\site-packages\\sklearn\\linear_model\\_coordinate_descent.py:530: ConvergenceWarning: Objective did not converge. You might want to increase the number of iterations. Duality gap: 1207874213069.6167, tolerance: 1415056940.006106\n",
      "  model = cd_fast.enet_coordinate_descent(\n",
      "C:\\Users\\pbeata\\anaconda3\\envs\\py3-TF2.0\\lib\\site-packages\\sklearn\\linear_model\\_coordinate_descent.py:530: ConvergenceWarning: Objective did not converge. You might want to increase the number of iterations. Duality gap: 1176412318452.1106, tolerance: 1438198040.088288\n",
      "  model = cd_fast.enet_coordinate_descent(\n",
      "C:\\Users\\pbeata\\anaconda3\\envs\\py3-TF2.0\\lib\\site-packages\\sklearn\\linear_model\\_coordinate_descent.py:530: ConvergenceWarning: Objective did not converge. You might want to increase the number of iterations. Duality gap: 1124702038859.1355, tolerance: 1345680018.2551236\n",
      "  model = cd_fast.enet_coordinate_descent(\n",
      "C:\\Users\\pbeata\\anaconda3\\envs\\py3-TF2.0\\lib\\site-packages\\sklearn\\linear_model\\_coordinate_descent.py:530: ConvergenceWarning: Objective did not converge. You might want to increase the number of iterations. Duality gap: 1008644778549.3365, tolerance: 1355206692.5276787\n",
      "  model = cd_fast.enet_coordinate_descent(\n",
      "C:\\Users\\pbeata\\anaconda3\\envs\\py3-TF2.0\\lib\\site-packages\\sklearn\\linear_model\\_coordinate_descent.py:530: ConvergenceWarning: Objective did not converge. You might want to increase the number of iterations. Duality gap: 1028678807071.373, tolerance: 1307913805.6588454\n",
      "  model = cd_fast.enet_coordinate_descent(\n",
      "C:\\Users\\pbeata\\anaconda3\\envs\\py3-TF2.0\\lib\\site-packages\\sklearn\\linear_model\\_coordinate_descent.py:530: ConvergenceWarning: Objective did not converge. You might want to increase the number of iterations. Duality gap: 1137351685452.9148, tolerance: 1415056940.006106\n",
      "  model = cd_fast.enet_coordinate_descent(\n",
      "C:\\Users\\pbeata\\anaconda3\\envs\\py3-TF2.0\\lib\\site-packages\\sklearn\\linear_model\\_coordinate_descent.py:530: ConvergenceWarning: Objective did not converge. You might want to increase the number of iterations. Duality gap: 1107652940265.9077, tolerance: 1438198040.088288\n",
      "  model = cd_fast.enet_coordinate_descent(\n",
      "C:\\Users\\pbeata\\anaconda3\\envs\\py3-TF2.0\\lib\\site-packages\\sklearn\\linear_model\\_coordinate_descent.py:530: ConvergenceWarning: Objective did not converge. You might want to increase the number of iterations. Duality gap: 1047658535408.4214, tolerance: 1345680018.2551236\n",
      "  model = cd_fast.enet_coordinate_descent(\n"
     ]
    },
    {
     "name": "stderr",
     "output_type": "stream",
     "text": [
      "C:\\Users\\pbeata\\anaconda3\\envs\\py3-TF2.0\\lib\\site-packages\\sklearn\\linear_model\\_coordinate_descent.py:530: ConvergenceWarning: Objective did not converge. You might want to increase the number of iterations. Duality gap: 664786187982.4379, tolerance: 1355206692.5276787\n",
      "  model = cd_fast.enet_coordinate_descent(\n",
      "C:\\Users\\pbeata\\anaconda3\\envs\\py3-TF2.0\\lib\\site-packages\\sklearn\\linear_model\\_coordinate_descent.py:530: ConvergenceWarning: Objective did not converge. You might want to increase the number of iterations. Duality gap: 634434587488.2823, tolerance: 1307913805.6588454\n",
      "  model = cd_fast.enet_coordinate_descent(\n",
      "C:\\Users\\pbeata\\anaconda3\\envs\\py3-TF2.0\\lib\\site-packages\\sklearn\\linear_model\\_coordinate_descent.py:530: ConvergenceWarning: Objective did not converge. You might want to increase the number of iterations. Duality gap: 735836732328.164, tolerance: 1415056940.006106\n",
      "  model = cd_fast.enet_coordinate_descent(\n",
      "C:\\Users\\pbeata\\anaconda3\\envs\\py3-TF2.0\\lib\\site-packages\\sklearn\\linear_model\\_coordinate_descent.py:530: ConvergenceWarning: Objective did not converge. You might want to increase the number of iterations. Duality gap: 717942371495.6206, tolerance: 1438198040.088288\n",
      "  model = cd_fast.enet_coordinate_descent(\n",
      "C:\\Users\\pbeata\\anaconda3\\envs\\py3-TF2.0\\lib\\site-packages\\sklearn\\linear_model\\_coordinate_descent.py:530: ConvergenceWarning: Objective did not converge. You might want to increase the number of iterations. Duality gap: 608136166911.5813, tolerance: 1345680018.2551236\n",
      "  model = cd_fast.enet_coordinate_descent(\n",
      "C:\\Users\\pbeata\\anaconda3\\envs\\py3-TF2.0\\lib\\site-packages\\sklearn\\linear_model\\_coordinate_descent.py:530: ConvergenceWarning: Objective did not converge. You might want to increase the number of iterations. Duality gap: 418621791410.65564, tolerance: 1355206692.5276787\n",
      "  model = cd_fast.enet_coordinate_descent(\n",
      "C:\\Users\\pbeata\\anaconda3\\envs\\py3-TF2.0\\lib\\site-packages\\sklearn\\linear_model\\_coordinate_descent.py:530: ConvergenceWarning: Objective did not converge. You might want to increase the number of iterations. Duality gap: 342605489519.76843, tolerance: 1307913805.6588454\n",
      "  model = cd_fast.enet_coordinate_descent(\n",
      "C:\\Users\\pbeata\\anaconda3\\envs\\py3-TF2.0\\lib\\site-packages\\sklearn\\linear_model\\_coordinate_descent.py:530: ConvergenceWarning: Objective did not converge. You might want to increase the number of iterations. Duality gap: 445442611924.799, tolerance: 1415056940.006106\n",
      "  model = cd_fast.enet_coordinate_descent(\n",
      "C:\\Users\\pbeata\\anaconda3\\envs\\py3-TF2.0\\lib\\site-packages\\sklearn\\linear_model\\_coordinate_descent.py:530: ConvergenceWarning: Objective did not converge. You might want to increase the number of iterations. Duality gap: 433990313331.1874, tolerance: 1438198040.088288\n",
      "  model = cd_fast.enet_coordinate_descent(\n",
      "C:\\Users\\pbeata\\anaconda3\\envs\\py3-TF2.0\\lib\\site-packages\\sklearn\\linear_model\\_coordinate_descent.py:530: ConvergenceWarning: Objective did not converge. You might want to increase the number of iterations. Duality gap: 321346097736.02155, tolerance: 1345680018.2551236\n",
      "  model = cd_fast.enet_coordinate_descent(\n",
      "C:\\Users\\pbeata\\anaconda3\\envs\\py3-TF2.0\\lib\\site-packages\\sklearn\\linear_model\\_coordinate_descent.py:530: ConvergenceWarning: Objective did not converge. You might want to increase the number of iterations. Duality gap: 278218755255.8526, tolerance: 1307913805.6588454\n",
      "  model = cd_fast.enet_coordinate_descent(\n",
      "C:\\Users\\pbeata\\anaconda3\\envs\\py3-TF2.0\\lib\\site-packages\\sklearn\\linear_model\\_coordinate_descent.py:530: ConvergenceWarning: Objective did not converge. You might want to increase the number of iterations. Duality gap: 337458205769.1549, tolerance: 1345680018.2551236\n",
      "  model = cd_fast.enet_coordinate_descent(\n",
      "C:\\Users\\pbeata\\anaconda3\\envs\\py3-TF2.0\\lib\\site-packages\\sklearn\\linear_model\\_coordinate_descent.py:530: ConvergenceWarning: Objective did not converge. You might want to increase the number of iterations. Duality gap: 1096390481820.9097, tolerance: 1355206692.5276787\n",
      "  model = cd_fast.enet_coordinate_descent(\n",
      "C:\\Users\\pbeata\\anaconda3\\envs\\py3-TF2.0\\lib\\site-packages\\sklearn\\linear_model\\_coordinate_descent.py:530: ConvergenceWarning: Objective did not converge. You might want to increase the number of iterations. Duality gap: 1121731598753.359, tolerance: 1307913805.6588454\n",
      "  model = cd_fast.enet_coordinate_descent(\n",
      "C:\\Users\\pbeata\\anaconda3\\envs\\py3-TF2.0\\lib\\site-packages\\sklearn\\linear_model\\_coordinate_descent.py:530: ConvergenceWarning: Objective did not converge. You might want to increase the number of iterations. Duality gap: 1236455973642.976, tolerance: 1415056940.006106\n",
      "  model = cd_fast.enet_coordinate_descent(\n",
      "C:\\Users\\pbeata\\anaconda3\\envs\\py3-TF2.0\\lib\\site-packages\\sklearn\\linear_model\\_coordinate_descent.py:530: ConvergenceWarning: Objective did not converge. You might want to increase the number of iterations. Duality gap: 1204599522087.27, tolerance: 1438198040.088288\n",
      "  model = cd_fast.enet_coordinate_descent(\n",
      "C:\\Users\\pbeata\\anaconda3\\envs\\py3-TF2.0\\lib\\site-packages\\sklearn\\linear_model\\_coordinate_descent.py:530: ConvergenceWarning: Objective did not converge. You might want to increase the number of iterations. Duality gap: 1151369709482.0684, tolerance: 1345680018.2551236\n",
      "  model = cd_fast.enet_coordinate_descent(\n",
      "C:\\Users\\pbeata\\anaconda3\\envs\\py3-TF2.0\\lib\\site-packages\\sklearn\\linear_model\\_coordinate_descent.py:530: ConvergenceWarning: Objective did not converge. You might want to increase the number of iterations. Duality gap: 1044573186417.7306, tolerance: 1355206692.5276787\n",
      "  model = cd_fast.enet_coordinate_descent(\n",
      "C:\\Users\\pbeata\\anaconda3\\envs\\py3-TF2.0\\lib\\site-packages\\sklearn\\linear_model\\_coordinate_descent.py:530: ConvergenceWarning: Objective did not converge. You might want to increase the number of iterations. Duality gap: 1063788135477.055, tolerance: 1307913805.6588454\n",
      "  model = cd_fast.enet_coordinate_descent(\n",
      "C:\\Users\\pbeata\\anaconda3\\envs\\py3-TF2.0\\lib\\site-packages\\sklearn\\linear_model\\_coordinate_descent.py:530: ConvergenceWarning: Objective did not converge. You might want to increase the number of iterations. Duality gap: 1175564736482.7417, tolerance: 1415056940.006106\n",
      "  model = cd_fast.enet_coordinate_descent(\n",
      "C:\\Users\\pbeata\\anaconda3\\envs\\py3-TF2.0\\lib\\site-packages\\sklearn\\linear_model\\_coordinate_descent.py:530: ConvergenceWarning: Objective did not converge. You might want to increase the number of iterations. Duality gap: 1145262040902.1423, tolerance: 1438198040.088288\n",
      "  model = cd_fast.enet_coordinate_descent(\n",
      "C:\\Users\\pbeata\\anaconda3\\envs\\py3-TF2.0\\lib\\site-packages\\sklearn\\linear_model\\_coordinate_descent.py:530: ConvergenceWarning: Objective did not converge. You might want to increase the number of iterations. Duality gap: 1082957228597.4376, tolerance: 1345680018.2551236\n",
      "  model = cd_fast.enet_coordinate_descent(\n",
      "C:\\Users\\pbeata\\anaconda3\\envs\\py3-TF2.0\\lib\\site-packages\\sklearn\\linear_model\\_coordinate_descent.py:530: ConvergenceWarning: Objective did not converge. You might want to increase the number of iterations. Duality gap: 725279053175.1716, tolerance: 1355206692.5276787\n",
      "  model = cd_fast.enet_coordinate_descent(\n",
      "C:\\Users\\pbeata\\anaconda3\\envs\\py3-TF2.0\\lib\\site-packages\\sklearn\\linear_model\\_coordinate_descent.py:530: ConvergenceWarning: Objective did not converge. You might want to increase the number of iterations. Duality gap: 695913038083.772, tolerance: 1307913805.6588454\n",
      "  model = cd_fast.enet_coordinate_descent(\n",
      "C:\\Users\\pbeata\\anaconda3\\envs\\py3-TF2.0\\lib\\site-packages\\sklearn\\linear_model\\_coordinate_descent.py:530: ConvergenceWarning: Objective did not converge. You might want to increase the number of iterations. Duality gap: 799133855298.6394, tolerance: 1415056940.006106\n",
      "  model = cd_fast.enet_coordinate_descent(\n",
      "C:\\Users\\pbeata\\anaconda3\\envs\\py3-TF2.0\\lib\\site-packages\\sklearn\\linear_model\\_coordinate_descent.py:530: ConvergenceWarning: Objective did not converge. You might want to increase the number of iterations. Duality gap: 779236495832.1782, tolerance: 1438198040.088288\n",
      "  model = cd_fast.enet_coordinate_descent(\n",
      "C:\\Users\\pbeata\\anaconda3\\envs\\py3-TF2.0\\lib\\site-packages\\sklearn\\linear_model\\_coordinate_descent.py:530: ConvergenceWarning: Objective did not converge. You might want to increase the number of iterations. Duality gap: 663834662919.3665, tolerance: 1345680018.2551236\n",
      "  model = cd_fast.enet_coordinate_descent(\n"
     ]
    },
    {
     "name": "stderr",
     "output_type": "stream",
     "text": [
      "C:\\Users\\pbeata\\anaconda3\\envs\\py3-TF2.0\\lib\\site-packages\\sklearn\\linear_model\\_coordinate_descent.py:530: ConvergenceWarning: Objective did not converge. You might want to increase the number of iterations. Duality gap: 464914355976.277, tolerance: 1355206692.5276787\n",
      "  model = cd_fast.enet_coordinate_descent(\n",
      "C:\\Users\\pbeata\\anaconda3\\envs\\py3-TF2.0\\lib\\site-packages\\sklearn\\linear_model\\_coordinate_descent.py:530: ConvergenceWarning: Objective did not converge. You might want to increase the number of iterations. Duality gap: 389407334136.71906, tolerance: 1307913805.6588454\n",
      "  model = cd_fast.enet_coordinate_descent(\n",
      "C:\\Users\\pbeata\\anaconda3\\envs\\py3-TF2.0\\lib\\site-packages\\sklearn\\linear_model\\_coordinate_descent.py:530: ConvergenceWarning: Objective did not converge. You might want to increase the number of iterations. Duality gap: 492426074808.02637, tolerance: 1415056940.006106\n",
      "  model = cd_fast.enet_coordinate_descent(\n",
      "C:\\Users\\pbeata\\anaconda3\\envs\\py3-TF2.0\\lib\\site-packages\\sklearn\\linear_model\\_coordinate_descent.py:530: ConvergenceWarning: Objective did not converge. You might want to increase the number of iterations. Duality gap: 479754607648.5721, tolerance: 1438198040.088288\n",
      "  model = cd_fast.enet_coordinate_descent(\n",
      "C:\\Users\\pbeata\\anaconda3\\envs\\py3-TF2.0\\lib\\site-packages\\sklearn\\linear_model\\_coordinate_descent.py:530: ConvergenceWarning: Objective did not converge. You might want to increase the number of iterations. Duality gap: 355935284311.04553, tolerance: 1345680018.2551236\n",
      "  model = cd_fast.enet_coordinate_descent(\n",
      "C:\\Users\\pbeata\\anaconda3\\envs\\py3-TF2.0\\lib\\site-packages\\sklearn\\linear_model\\_coordinate_descent.py:530: ConvergenceWarning: Objective did not converge. You might want to increase the number of iterations. Duality gap: 1115297919515.074, tolerance: 1355206692.5276787\n",
      "  model = cd_fast.enet_coordinate_descent(\n",
      "C:\\Users\\pbeata\\anaconda3\\envs\\py3-TF2.0\\lib\\site-packages\\sklearn\\linear_model\\_coordinate_descent.py:530: ConvergenceWarning: Objective did not converge. You might want to increase the number of iterations. Duality gap: 1140446132446.8542, tolerance: 1307913805.6588454\n",
      "  model = cd_fast.enet_coordinate_descent(\n",
      "C:\\Users\\pbeata\\anaconda3\\envs\\py3-TF2.0\\lib\\site-packages\\sklearn\\linear_model\\_coordinate_descent.py:530: ConvergenceWarning: Objective did not converge. You might want to increase the number of iterations. Duality gap: 1256827828298.4343, tolerance: 1415056940.006106\n",
      "  model = cd_fast.enet_coordinate_descent(\n",
      "C:\\Users\\pbeata\\anaconda3\\envs\\py3-TF2.0\\lib\\site-packages\\sklearn\\linear_model\\_coordinate_descent.py:530: ConvergenceWarning: Objective did not converge. You might want to increase the number of iterations. Duality gap: 1224681948119.6248, tolerance: 1438198040.088288\n",
      "  model = cd_fast.enet_coordinate_descent(\n",
      "C:\\Users\\pbeata\\anaconda3\\envs\\py3-TF2.0\\lib\\site-packages\\sklearn\\linear_model\\_coordinate_descent.py:530: ConvergenceWarning: Objective did not converge. You might want to increase the number of iterations. Duality gap: 1170384431759.1182, tolerance: 1345680018.2551236\n",
      "  model = cd_fast.enet_coordinate_descent(\n",
      "C:\\Users\\pbeata\\anaconda3\\envs\\py3-TF2.0\\lib\\site-packages\\sklearn\\linear_model\\_coordinate_descent.py:530: ConvergenceWarning: Objective did not converge. You might want to increase the number of iterations. Duality gap: 1065017942074.7316, tolerance: 1355206692.5276787\n",
      "  model = cd_fast.enet_coordinate_descent(\n",
      "C:\\Users\\pbeata\\anaconda3\\envs\\py3-TF2.0\\lib\\site-packages\\sklearn\\linear_model\\_coordinate_descent.py:530: ConvergenceWarning: Objective did not converge. You might want to increase the number of iterations. Duality gap: 1083137132617.0856, tolerance: 1307913805.6588454\n",
      "  model = cd_fast.enet_coordinate_descent(\n",
      "C:\\Users\\pbeata\\anaconda3\\envs\\py3-TF2.0\\lib\\site-packages\\sklearn\\linear_model\\_coordinate_descent.py:530: ConvergenceWarning: Objective did not converge. You might want to increase the number of iterations. Duality gap: 1196857103743.7615, tolerance: 1415056940.006106\n",
      "  model = cd_fast.enet_coordinate_descent(\n",
      "C:\\Users\\pbeata\\anaconda3\\envs\\py3-TF2.0\\lib\\site-packages\\sklearn\\linear_model\\_coordinate_descent.py:530: ConvergenceWarning: Objective did not converge. You might want to increase the number of iterations. Duality gap: 1166370351770.0867, tolerance: 1438198040.088288\n",
      "  model = cd_fast.enet_coordinate_descent(\n",
      "C:\\Users\\pbeata\\anaconda3\\envs\\py3-TF2.0\\lib\\site-packages\\sklearn\\linear_model\\_coordinate_descent.py:530: ConvergenceWarning: Objective did not converge. You might want to increase the number of iterations. Duality gap: 1101864423061.4956, tolerance: 1345680018.2551236\n",
      "  model = cd_fast.enet_coordinate_descent(\n",
      "C:\\Users\\pbeata\\anaconda3\\envs\\py3-TF2.0\\lib\\site-packages\\sklearn\\linear_model\\_coordinate_descent.py:530: ConvergenceWarning: Objective did not converge. You might want to increase the number of iterations. Duality gap: 768863049012.2845, tolerance: 1355206692.5276787\n",
      "  model = cd_fast.enet_coordinate_descent(\n",
      "C:\\Users\\pbeata\\anaconda3\\envs\\py3-TF2.0\\lib\\site-packages\\sklearn\\linear_model\\_coordinate_descent.py:530: ConvergenceWarning: Objective did not converge. You might want to increase the number of iterations. Duality gap: 739427666852.7379, tolerance: 1307913805.6588454\n",
      "  model = cd_fast.enet_coordinate_descent(\n",
      "C:\\Users\\pbeata\\anaconda3\\envs\\py3-TF2.0\\lib\\site-packages\\sklearn\\linear_model\\_coordinate_descent.py:530: ConvergenceWarning: Objective did not converge. You might want to increase the number of iterations. Duality gap: 843083124938.6581, tolerance: 1415056940.006106\n",
      "  model = cd_fast.enet_coordinate_descent(\n",
      "C:\\Users\\pbeata\\anaconda3\\envs\\py3-TF2.0\\lib\\site-packages\\sklearn\\linear_model\\_coordinate_descent.py:530: ConvergenceWarning: Objective did not converge. You might want to increase the number of iterations. Duality gap: 822016210067.9722, tolerance: 1438198040.088288\n",
      "  model = cd_fast.enet_coordinate_descent(\n",
      "C:\\Users\\pbeata\\anaconda3\\envs\\py3-TF2.0\\lib\\site-packages\\sklearn\\linear_model\\_coordinate_descent.py:530: ConvergenceWarning: Objective did not converge. You might want to increase the number of iterations. Duality gap: 704414235881.3082, tolerance: 1345680018.2551236\n",
      "  model = cd_fast.enet_coordinate_descent(\n",
      "C:\\Users\\pbeata\\anaconda3\\envs\\py3-TF2.0\\lib\\site-packages\\sklearn\\linear_model\\_coordinate_descent.py:530: ConvergenceWarning: Objective did not converge. You might want to increase the number of iterations. Duality gap: 504785893963.6347, tolerance: 1355206692.5276787\n",
      "  model = cd_fast.enet_coordinate_descent(\n",
      "C:\\Users\\pbeata\\anaconda3\\envs\\py3-TF2.0\\lib\\site-packages\\sklearn\\linear_model\\_coordinate_descent.py:530: ConvergenceWarning: Objective did not converge. You might want to increase the number of iterations. Duality gap: 430621138104.3981, tolerance: 1307913805.6588454\n",
      "  model = cd_fast.enet_coordinate_descent(\n",
      "C:\\Users\\pbeata\\anaconda3\\envs\\py3-TF2.0\\lib\\site-packages\\sklearn\\linear_model\\_coordinate_descent.py:530: ConvergenceWarning: Objective did not converge. You might want to increase the number of iterations. Duality gap: 530946074005.8925, tolerance: 1415056940.006106\n",
      "  model = cd_fast.enet_coordinate_descent(\n",
      "C:\\Users\\pbeata\\anaconda3\\envs\\py3-TF2.0\\lib\\site-packages\\sklearn\\linear_model\\_coordinate_descent.py:530: ConvergenceWarning: Objective did not converge. You might want to increase the number of iterations. Duality gap: 516983312776.9459, tolerance: 1438198040.088288\n",
      "  model = cd_fast.enet_coordinate_descent(\n",
      "C:\\Users\\pbeata\\anaconda3\\envs\\py3-TF2.0\\lib\\site-packages\\sklearn\\linear_model\\_coordinate_descent.py:530: ConvergenceWarning: Objective did not converge. You might want to increase the number of iterations. Duality gap: 388669248588.2582, tolerance: 1345680018.2551236\n",
      "  model = cd_fast.enet_coordinate_descent(\n",
      "C:\\Users\\pbeata\\anaconda3\\envs\\py3-TF2.0\\lib\\site-packages\\sklearn\\linear_model\\_coordinate_descent.py:530: ConvergenceWarning: Objective did not converge. You might want to increase the number of iterations. Duality gap: 1132496909671.5823, tolerance: 1355206692.5276787\n",
      "  model = cd_fast.enet_coordinate_descent(\n",
      "C:\\Users\\pbeata\\anaconda3\\envs\\py3-TF2.0\\lib\\site-packages\\sklearn\\linear_model\\_coordinate_descent.py:530: ConvergenceWarning: Objective did not converge. You might want to increase the number of iterations. Duality gap: 1157399329438.4087, tolerance: 1307913805.6588454\n",
      "  model = cd_fast.enet_coordinate_descent(\n"
     ]
    },
    {
     "name": "stderr",
     "output_type": "stream",
     "text": [
      "C:\\Users\\pbeata\\anaconda3\\envs\\py3-TF2.0\\lib\\site-packages\\sklearn\\linear_model\\_coordinate_descent.py:530: ConvergenceWarning: Objective did not converge. You might want to increase the number of iterations. Duality gap: 1275254716242.3552, tolerance: 1415056940.006106\n",
      "  model = cd_fast.enet_coordinate_descent(\n",
      "C:\\Users\\pbeata\\anaconda3\\envs\\py3-TF2.0\\lib\\site-packages\\sklearn\\linear_model\\_coordinate_descent.py:530: ConvergenceWarning: Objective did not converge. You might want to increase the number of iterations. Duality gap: 1242856142015.003, tolerance: 1438198040.088288\n",
      "  model = cd_fast.enet_coordinate_descent(\n",
      "C:\\Users\\pbeata\\anaconda3\\envs\\py3-TF2.0\\lib\\site-packages\\sklearn\\linear_model\\_coordinate_descent.py:530: ConvergenceWarning: Objective did not converge. You might want to increase the number of iterations. Duality gap: 1187391331959.0767, tolerance: 1345680018.2551236\n",
      "  model = cd_fast.enet_coordinate_descent(\n",
      "C:\\Users\\pbeata\\anaconda3\\envs\\py3-TF2.0\\lib\\site-packages\\sklearn\\linear_model\\_coordinate_descent.py:530: ConvergenceWarning: Objective did not converge. You might want to increase the number of iterations. Duality gap: 1073558700459.5005, tolerance: 1355206692.5276787\n",
      "  model = cd_fast.enet_coordinate_descent(\n"
     ]
    },
    {
     "ename": "KeyboardInterrupt",
     "evalue": "",
     "output_type": "error",
     "traceback": [
      "\u001b[1;31m---------------------------------------------------------------------------\u001b[0m",
      "\u001b[1;31mKeyboardInterrupt\u001b[0m                         Traceback (most recent call last)",
      "\u001b[1;32m<ipython-input-56-58b5a429ade2>\u001b[0m in \u001b[0;36m<module>\u001b[1;34m\u001b[0m\n\u001b[0;32m      1\u001b[0m \u001b[1;31m# fit the model using the training data\u001b[0m\u001b[1;33m\u001b[0m\u001b[1;33m\u001b[0m\u001b[1;33m\u001b[0m\u001b[0m\n\u001b[1;32m----> 2\u001b[1;33m \u001b[0moutput_warnings\u001b[0m \u001b[1;33m=\u001b[0m \u001b[0mgrid\u001b[0m\u001b[1;33m.\u001b[0m\u001b[0mfit\u001b[0m\u001b[1;33m(\u001b[0m\u001b[0mX_train\u001b[0m\u001b[1;33m,\u001b[0m \u001b[0my_train\u001b[0m\u001b[1;33m)\u001b[0m\u001b[1;33m;\u001b[0m\u001b[1;33m\u001b[0m\u001b[1;33m\u001b[0m\u001b[0m\n\u001b[0m",
      "\u001b[1;32m~\\anaconda3\\envs\\py3-TF2.0\\lib\\site-packages\\sklearn\\utils\\validation.py\u001b[0m in \u001b[0;36minner_f\u001b[1;34m(*args, **kwargs)\u001b[0m\n\u001b[0;32m     61\u001b[0m             \u001b[0mextra_args\u001b[0m \u001b[1;33m=\u001b[0m \u001b[0mlen\u001b[0m\u001b[1;33m(\u001b[0m\u001b[0margs\u001b[0m\u001b[1;33m)\u001b[0m \u001b[1;33m-\u001b[0m \u001b[0mlen\u001b[0m\u001b[1;33m(\u001b[0m\u001b[0mall_args\u001b[0m\u001b[1;33m)\u001b[0m\u001b[1;33m\u001b[0m\u001b[1;33m\u001b[0m\u001b[0m\n\u001b[0;32m     62\u001b[0m             \u001b[1;32mif\u001b[0m \u001b[0mextra_args\u001b[0m \u001b[1;33m<=\u001b[0m \u001b[1;36m0\u001b[0m\u001b[1;33m:\u001b[0m\u001b[1;33m\u001b[0m\u001b[1;33m\u001b[0m\u001b[0m\n\u001b[1;32m---> 63\u001b[1;33m                 \u001b[1;32mreturn\u001b[0m \u001b[0mf\u001b[0m\u001b[1;33m(\u001b[0m\u001b[1;33m*\u001b[0m\u001b[0margs\u001b[0m\u001b[1;33m,\u001b[0m \u001b[1;33m**\u001b[0m\u001b[0mkwargs\u001b[0m\u001b[1;33m)\u001b[0m\u001b[1;33m\u001b[0m\u001b[1;33m\u001b[0m\u001b[0m\n\u001b[0m\u001b[0;32m     64\u001b[0m \u001b[1;33m\u001b[0m\u001b[0m\n\u001b[0;32m     65\u001b[0m             \u001b[1;31m# extra_args > 0\u001b[0m\u001b[1;33m\u001b[0m\u001b[1;33m\u001b[0m\u001b[1;33m\u001b[0m\u001b[0m\n",
      "\u001b[1;32m~\\anaconda3\\envs\\py3-TF2.0\\lib\\site-packages\\sklearn\\model_selection\\_search.py\u001b[0m in \u001b[0;36mfit\u001b[1;34m(self, X, y, groups, **fit_params)\u001b[0m\n\u001b[0;32m    839\u001b[0m                 \u001b[1;32mreturn\u001b[0m \u001b[0mresults\u001b[0m\u001b[1;33m\u001b[0m\u001b[1;33m\u001b[0m\u001b[0m\n\u001b[0;32m    840\u001b[0m \u001b[1;33m\u001b[0m\u001b[0m\n\u001b[1;32m--> 841\u001b[1;33m             \u001b[0mself\u001b[0m\u001b[1;33m.\u001b[0m\u001b[0m_run_search\u001b[0m\u001b[1;33m(\u001b[0m\u001b[0mevaluate_candidates\u001b[0m\u001b[1;33m)\u001b[0m\u001b[1;33m\u001b[0m\u001b[1;33m\u001b[0m\u001b[0m\n\u001b[0m\u001b[0;32m    842\u001b[0m \u001b[1;33m\u001b[0m\u001b[0m\n\u001b[0;32m    843\u001b[0m             \u001b[1;31m# multimetric is determined here because in the case of a callable\u001b[0m\u001b[1;33m\u001b[0m\u001b[1;33m\u001b[0m\u001b[1;33m\u001b[0m\u001b[0m\n",
      "\u001b[1;32m~\\anaconda3\\envs\\py3-TF2.0\\lib\\site-packages\\sklearn\\model_selection\\_search.py\u001b[0m in \u001b[0;36m_run_search\u001b[1;34m(self, evaluate_candidates)\u001b[0m\n\u001b[0;32m   1286\u001b[0m     \u001b[1;32mdef\u001b[0m \u001b[0m_run_search\u001b[0m\u001b[1;33m(\u001b[0m\u001b[0mself\u001b[0m\u001b[1;33m,\u001b[0m \u001b[0mevaluate_candidates\u001b[0m\u001b[1;33m)\u001b[0m\u001b[1;33m:\u001b[0m\u001b[1;33m\u001b[0m\u001b[1;33m\u001b[0m\u001b[0m\n\u001b[0;32m   1287\u001b[0m         \u001b[1;34m\"\"\"Search all candidates in param_grid\"\"\"\u001b[0m\u001b[1;33m\u001b[0m\u001b[1;33m\u001b[0m\u001b[0m\n\u001b[1;32m-> 1288\u001b[1;33m         \u001b[0mevaluate_candidates\u001b[0m\u001b[1;33m(\u001b[0m\u001b[0mParameterGrid\u001b[0m\u001b[1;33m(\u001b[0m\u001b[0mself\u001b[0m\u001b[1;33m.\u001b[0m\u001b[0mparam_grid\u001b[0m\u001b[1;33m)\u001b[0m\u001b[1;33m)\u001b[0m\u001b[1;33m\u001b[0m\u001b[1;33m\u001b[0m\u001b[0m\n\u001b[0m\u001b[0;32m   1289\u001b[0m \u001b[1;33m\u001b[0m\u001b[0m\n\u001b[0;32m   1290\u001b[0m \u001b[1;33m\u001b[0m\u001b[0m\n",
      "\u001b[1;32m~\\anaconda3\\envs\\py3-TF2.0\\lib\\site-packages\\sklearn\\model_selection\\_search.py\u001b[0m in \u001b[0;36mevaluate_candidates\u001b[1;34m(candidate_params, cv, more_results)\u001b[0m\n\u001b[0;32m    793\u001b[0m                               n_splits, n_candidates, n_candidates * n_splits))\n\u001b[0;32m    794\u001b[0m \u001b[1;33m\u001b[0m\u001b[0m\n\u001b[1;32m--> 795\u001b[1;33m                 out = parallel(delayed(_fit_and_score)(clone(base_estimator),\n\u001b[0m\u001b[0;32m    796\u001b[0m                                                        \u001b[0mX\u001b[0m\u001b[1;33m,\u001b[0m \u001b[0my\u001b[0m\u001b[1;33m,\u001b[0m\u001b[1;33m\u001b[0m\u001b[1;33m\u001b[0m\u001b[0m\n\u001b[0;32m    797\u001b[0m                                                        \u001b[0mtrain\u001b[0m\u001b[1;33m=\u001b[0m\u001b[0mtrain\u001b[0m\u001b[1;33m,\u001b[0m \u001b[0mtest\u001b[0m\u001b[1;33m=\u001b[0m\u001b[0mtest\u001b[0m\u001b[1;33m,\u001b[0m\u001b[1;33m\u001b[0m\u001b[1;33m\u001b[0m\u001b[0m\n",
      "\u001b[1;32m~\\anaconda3\\envs\\py3-TF2.0\\lib\\site-packages\\joblib\\parallel.py\u001b[0m in \u001b[0;36m__call__\u001b[1;34m(self, iterable)\u001b[0m\n\u001b[0;32m   1042\u001b[0m                 \u001b[0mself\u001b[0m\u001b[1;33m.\u001b[0m\u001b[0m_iterating\u001b[0m \u001b[1;33m=\u001b[0m \u001b[0mself\u001b[0m\u001b[1;33m.\u001b[0m\u001b[0m_original_iterator\u001b[0m \u001b[1;32mis\u001b[0m \u001b[1;32mnot\u001b[0m \u001b[1;32mNone\u001b[0m\u001b[1;33m\u001b[0m\u001b[1;33m\u001b[0m\u001b[0m\n\u001b[0;32m   1043\u001b[0m \u001b[1;33m\u001b[0m\u001b[0m\n\u001b[1;32m-> 1044\u001b[1;33m             \u001b[1;32mwhile\u001b[0m \u001b[0mself\u001b[0m\u001b[1;33m.\u001b[0m\u001b[0mdispatch_one_batch\u001b[0m\u001b[1;33m(\u001b[0m\u001b[0miterator\u001b[0m\u001b[1;33m)\u001b[0m\u001b[1;33m:\u001b[0m\u001b[1;33m\u001b[0m\u001b[1;33m\u001b[0m\u001b[0m\n\u001b[0m\u001b[0;32m   1045\u001b[0m                 \u001b[1;32mpass\u001b[0m\u001b[1;33m\u001b[0m\u001b[1;33m\u001b[0m\u001b[0m\n\u001b[0;32m   1046\u001b[0m \u001b[1;33m\u001b[0m\u001b[0m\n",
      "\u001b[1;32m~\\anaconda3\\envs\\py3-TF2.0\\lib\\site-packages\\joblib\\parallel.py\u001b[0m in \u001b[0;36mdispatch_one_batch\u001b[1;34m(self, iterator)\u001b[0m\n\u001b[0;32m    857\u001b[0m                 \u001b[1;32mreturn\u001b[0m \u001b[1;32mFalse\u001b[0m\u001b[1;33m\u001b[0m\u001b[1;33m\u001b[0m\u001b[0m\n\u001b[0;32m    858\u001b[0m             \u001b[1;32melse\u001b[0m\u001b[1;33m:\u001b[0m\u001b[1;33m\u001b[0m\u001b[1;33m\u001b[0m\u001b[0m\n\u001b[1;32m--> 859\u001b[1;33m                 \u001b[0mself\u001b[0m\u001b[1;33m.\u001b[0m\u001b[0m_dispatch\u001b[0m\u001b[1;33m(\u001b[0m\u001b[0mtasks\u001b[0m\u001b[1;33m)\u001b[0m\u001b[1;33m\u001b[0m\u001b[1;33m\u001b[0m\u001b[0m\n\u001b[0m\u001b[0;32m    860\u001b[0m                 \u001b[1;32mreturn\u001b[0m \u001b[1;32mTrue\u001b[0m\u001b[1;33m\u001b[0m\u001b[1;33m\u001b[0m\u001b[0m\n\u001b[0;32m    861\u001b[0m \u001b[1;33m\u001b[0m\u001b[0m\n",
      "\u001b[1;32m~\\anaconda3\\envs\\py3-TF2.0\\lib\\site-packages\\joblib\\parallel.py\u001b[0m in \u001b[0;36m_dispatch\u001b[1;34m(self, batch)\u001b[0m\n\u001b[0;32m    775\u001b[0m         \u001b[1;32mwith\u001b[0m \u001b[0mself\u001b[0m\u001b[1;33m.\u001b[0m\u001b[0m_lock\u001b[0m\u001b[1;33m:\u001b[0m\u001b[1;33m\u001b[0m\u001b[1;33m\u001b[0m\u001b[0m\n\u001b[0;32m    776\u001b[0m             \u001b[0mjob_idx\u001b[0m \u001b[1;33m=\u001b[0m \u001b[0mlen\u001b[0m\u001b[1;33m(\u001b[0m\u001b[0mself\u001b[0m\u001b[1;33m.\u001b[0m\u001b[0m_jobs\u001b[0m\u001b[1;33m)\u001b[0m\u001b[1;33m\u001b[0m\u001b[1;33m\u001b[0m\u001b[0m\n\u001b[1;32m--> 777\u001b[1;33m             \u001b[0mjob\u001b[0m \u001b[1;33m=\u001b[0m \u001b[0mself\u001b[0m\u001b[1;33m.\u001b[0m\u001b[0m_backend\u001b[0m\u001b[1;33m.\u001b[0m\u001b[0mapply_async\u001b[0m\u001b[1;33m(\u001b[0m\u001b[0mbatch\u001b[0m\u001b[1;33m,\u001b[0m \u001b[0mcallback\u001b[0m\u001b[1;33m=\u001b[0m\u001b[0mcb\u001b[0m\u001b[1;33m)\u001b[0m\u001b[1;33m\u001b[0m\u001b[1;33m\u001b[0m\u001b[0m\n\u001b[0m\u001b[0;32m    778\u001b[0m             \u001b[1;31m# A job can complete so quickly than its callback is\u001b[0m\u001b[1;33m\u001b[0m\u001b[1;33m\u001b[0m\u001b[1;33m\u001b[0m\u001b[0m\n\u001b[0;32m    779\u001b[0m             \u001b[1;31m# called before we get here, causing self._jobs to\u001b[0m\u001b[1;33m\u001b[0m\u001b[1;33m\u001b[0m\u001b[1;33m\u001b[0m\u001b[0m\n",
      "\u001b[1;32m~\\anaconda3\\envs\\py3-TF2.0\\lib\\site-packages\\joblib\\_parallel_backends.py\u001b[0m in \u001b[0;36mapply_async\u001b[1;34m(self, func, callback)\u001b[0m\n\u001b[0;32m    206\u001b[0m     \u001b[1;32mdef\u001b[0m \u001b[0mapply_async\u001b[0m\u001b[1;33m(\u001b[0m\u001b[0mself\u001b[0m\u001b[1;33m,\u001b[0m \u001b[0mfunc\u001b[0m\u001b[1;33m,\u001b[0m \u001b[0mcallback\u001b[0m\u001b[1;33m=\u001b[0m\u001b[1;32mNone\u001b[0m\u001b[1;33m)\u001b[0m\u001b[1;33m:\u001b[0m\u001b[1;33m\u001b[0m\u001b[1;33m\u001b[0m\u001b[0m\n\u001b[0;32m    207\u001b[0m         \u001b[1;34m\"\"\"Schedule a func to be run\"\"\"\u001b[0m\u001b[1;33m\u001b[0m\u001b[1;33m\u001b[0m\u001b[0m\n\u001b[1;32m--> 208\u001b[1;33m         \u001b[0mresult\u001b[0m \u001b[1;33m=\u001b[0m \u001b[0mImmediateResult\u001b[0m\u001b[1;33m(\u001b[0m\u001b[0mfunc\u001b[0m\u001b[1;33m)\u001b[0m\u001b[1;33m\u001b[0m\u001b[1;33m\u001b[0m\u001b[0m\n\u001b[0m\u001b[0;32m    209\u001b[0m         \u001b[1;32mif\u001b[0m \u001b[0mcallback\u001b[0m\u001b[1;33m:\u001b[0m\u001b[1;33m\u001b[0m\u001b[1;33m\u001b[0m\u001b[0m\n\u001b[0;32m    210\u001b[0m             \u001b[0mcallback\u001b[0m\u001b[1;33m(\u001b[0m\u001b[0mresult\u001b[0m\u001b[1;33m)\u001b[0m\u001b[1;33m\u001b[0m\u001b[1;33m\u001b[0m\u001b[0m\n",
      "\u001b[1;32m~\\anaconda3\\envs\\py3-TF2.0\\lib\\site-packages\\joblib\\_parallel_backends.py\u001b[0m in \u001b[0;36m__init__\u001b[1;34m(self, batch)\u001b[0m\n\u001b[0;32m    570\u001b[0m         \u001b[1;31m# Don't delay the application, to avoid keeping the input\u001b[0m\u001b[1;33m\u001b[0m\u001b[1;33m\u001b[0m\u001b[1;33m\u001b[0m\u001b[0m\n\u001b[0;32m    571\u001b[0m         \u001b[1;31m# arguments in memory\u001b[0m\u001b[1;33m\u001b[0m\u001b[1;33m\u001b[0m\u001b[1;33m\u001b[0m\u001b[0m\n\u001b[1;32m--> 572\u001b[1;33m         \u001b[0mself\u001b[0m\u001b[1;33m.\u001b[0m\u001b[0mresults\u001b[0m \u001b[1;33m=\u001b[0m \u001b[0mbatch\u001b[0m\u001b[1;33m(\u001b[0m\u001b[1;33m)\u001b[0m\u001b[1;33m\u001b[0m\u001b[1;33m\u001b[0m\u001b[0m\n\u001b[0m\u001b[0;32m    573\u001b[0m \u001b[1;33m\u001b[0m\u001b[0m\n\u001b[0;32m    574\u001b[0m     \u001b[1;32mdef\u001b[0m \u001b[0mget\u001b[0m\u001b[1;33m(\u001b[0m\u001b[0mself\u001b[0m\u001b[1;33m)\u001b[0m\u001b[1;33m:\u001b[0m\u001b[1;33m\u001b[0m\u001b[1;33m\u001b[0m\u001b[0m\n",
      "\u001b[1;32m~\\anaconda3\\envs\\py3-TF2.0\\lib\\site-packages\\joblib\\parallel.py\u001b[0m in \u001b[0;36m__call__\u001b[1;34m(self)\u001b[0m\n\u001b[0;32m    260\u001b[0m         \u001b[1;31m# change the default number of processes to -1\u001b[0m\u001b[1;33m\u001b[0m\u001b[1;33m\u001b[0m\u001b[1;33m\u001b[0m\u001b[0m\n\u001b[0;32m    261\u001b[0m         \u001b[1;32mwith\u001b[0m \u001b[0mparallel_backend\u001b[0m\u001b[1;33m(\u001b[0m\u001b[0mself\u001b[0m\u001b[1;33m.\u001b[0m\u001b[0m_backend\u001b[0m\u001b[1;33m,\u001b[0m \u001b[0mn_jobs\u001b[0m\u001b[1;33m=\u001b[0m\u001b[0mself\u001b[0m\u001b[1;33m.\u001b[0m\u001b[0m_n_jobs\u001b[0m\u001b[1;33m)\u001b[0m\u001b[1;33m:\u001b[0m\u001b[1;33m\u001b[0m\u001b[1;33m\u001b[0m\u001b[0m\n\u001b[1;32m--> 262\u001b[1;33m             return [func(*args, **kwargs)\n\u001b[0m\u001b[0;32m    263\u001b[0m                     for func, args, kwargs in self.items]\n\u001b[0;32m    264\u001b[0m \u001b[1;33m\u001b[0m\u001b[0m\n",
      "\u001b[1;32m~\\anaconda3\\envs\\py3-TF2.0\\lib\\site-packages\\joblib\\parallel.py\u001b[0m in \u001b[0;36m<listcomp>\u001b[1;34m(.0)\u001b[0m\n\u001b[0;32m    260\u001b[0m         \u001b[1;31m# change the default number of processes to -1\u001b[0m\u001b[1;33m\u001b[0m\u001b[1;33m\u001b[0m\u001b[1;33m\u001b[0m\u001b[0m\n\u001b[0;32m    261\u001b[0m         \u001b[1;32mwith\u001b[0m \u001b[0mparallel_backend\u001b[0m\u001b[1;33m(\u001b[0m\u001b[0mself\u001b[0m\u001b[1;33m.\u001b[0m\u001b[0m_backend\u001b[0m\u001b[1;33m,\u001b[0m \u001b[0mn_jobs\u001b[0m\u001b[1;33m=\u001b[0m\u001b[0mself\u001b[0m\u001b[1;33m.\u001b[0m\u001b[0m_n_jobs\u001b[0m\u001b[1;33m)\u001b[0m\u001b[1;33m:\u001b[0m\u001b[1;33m\u001b[0m\u001b[1;33m\u001b[0m\u001b[0m\n\u001b[1;32m--> 262\u001b[1;33m             return [func(*args, **kwargs)\n\u001b[0m\u001b[0;32m    263\u001b[0m                     for func, args, kwargs in self.items]\n\u001b[0;32m    264\u001b[0m \u001b[1;33m\u001b[0m\u001b[0m\n",
      "\u001b[1;32m~\\anaconda3\\envs\\py3-TF2.0\\lib\\site-packages\\sklearn\\utils\\fixes.py\u001b[0m in \u001b[0;36m__call__\u001b[1;34m(self, *args, **kwargs)\u001b[0m\n\u001b[0;32m    220\u001b[0m     \u001b[1;32mdef\u001b[0m \u001b[0m__call__\u001b[0m\u001b[1;33m(\u001b[0m\u001b[0mself\u001b[0m\u001b[1;33m,\u001b[0m \u001b[1;33m*\u001b[0m\u001b[0margs\u001b[0m\u001b[1;33m,\u001b[0m \u001b[1;33m**\u001b[0m\u001b[0mkwargs\u001b[0m\u001b[1;33m)\u001b[0m\u001b[1;33m:\u001b[0m\u001b[1;33m\u001b[0m\u001b[1;33m\u001b[0m\u001b[0m\n\u001b[0;32m    221\u001b[0m         \u001b[1;32mwith\u001b[0m \u001b[0mconfig_context\u001b[0m\u001b[1;33m(\u001b[0m\u001b[1;33m**\u001b[0m\u001b[0mself\u001b[0m\u001b[1;33m.\u001b[0m\u001b[0mconfig\u001b[0m\u001b[1;33m)\u001b[0m\u001b[1;33m:\u001b[0m\u001b[1;33m\u001b[0m\u001b[1;33m\u001b[0m\u001b[0m\n\u001b[1;32m--> 222\u001b[1;33m             \u001b[1;32mreturn\u001b[0m \u001b[0mself\u001b[0m\u001b[1;33m.\u001b[0m\u001b[0mfunction\u001b[0m\u001b[1;33m(\u001b[0m\u001b[1;33m*\u001b[0m\u001b[0margs\u001b[0m\u001b[1;33m,\u001b[0m \u001b[1;33m**\u001b[0m\u001b[0mkwargs\u001b[0m\u001b[1;33m)\u001b[0m\u001b[1;33m\u001b[0m\u001b[1;33m\u001b[0m\u001b[0m\n\u001b[0m",
      "\u001b[1;32m~\\anaconda3\\envs\\py3-TF2.0\\lib\\site-packages\\sklearn\\model_selection\\_validation.py\u001b[0m in \u001b[0;36m_fit_and_score\u001b[1;34m(estimator, X, y, scorer, train, test, verbose, parameters, fit_params, return_train_score, return_parameters, return_n_test_samples, return_times, return_estimator, split_progress, candidate_progress, error_score)\u001b[0m\n\u001b[0;32m    583\u001b[0m     \u001b[0mstart_time\u001b[0m \u001b[1;33m=\u001b[0m \u001b[0mtime\u001b[0m\u001b[1;33m.\u001b[0m\u001b[0mtime\u001b[0m\u001b[1;33m(\u001b[0m\u001b[1;33m)\u001b[0m\u001b[1;33m\u001b[0m\u001b[1;33m\u001b[0m\u001b[0m\n\u001b[0;32m    584\u001b[0m \u001b[1;33m\u001b[0m\u001b[0m\n\u001b[1;32m--> 585\u001b[1;33m     \u001b[0mX_train\u001b[0m\u001b[1;33m,\u001b[0m \u001b[0my_train\u001b[0m \u001b[1;33m=\u001b[0m \u001b[0m_safe_split\u001b[0m\u001b[1;33m(\u001b[0m\u001b[0mestimator\u001b[0m\u001b[1;33m,\u001b[0m \u001b[0mX\u001b[0m\u001b[1;33m,\u001b[0m \u001b[0my\u001b[0m\u001b[1;33m,\u001b[0m \u001b[0mtrain\u001b[0m\u001b[1;33m)\u001b[0m\u001b[1;33m\u001b[0m\u001b[1;33m\u001b[0m\u001b[0m\n\u001b[0m\u001b[0;32m    586\u001b[0m     \u001b[0mX_test\u001b[0m\u001b[1;33m,\u001b[0m \u001b[0my_test\u001b[0m \u001b[1;33m=\u001b[0m \u001b[0m_safe_split\u001b[0m\u001b[1;33m(\u001b[0m\u001b[0mestimator\u001b[0m\u001b[1;33m,\u001b[0m \u001b[0mX\u001b[0m\u001b[1;33m,\u001b[0m \u001b[0my\u001b[0m\u001b[1;33m,\u001b[0m \u001b[0mtest\u001b[0m\u001b[1;33m,\u001b[0m \u001b[0mtrain\u001b[0m\u001b[1;33m)\u001b[0m\u001b[1;33m\u001b[0m\u001b[1;33m\u001b[0m\u001b[0m\n\u001b[0;32m    587\u001b[0m \u001b[1;33m\u001b[0m\u001b[0m\n",
      "\u001b[1;32m~\\anaconda3\\envs\\py3-TF2.0\\lib\\site-packages\\sklearn\\utils\\metaestimators.py\u001b[0m in \u001b[0;36m_safe_split\u001b[1;34m(estimator, X, y, indices, train_indices)\u001b[0m\n\u001b[0;32m    209\u001b[0m             \u001b[0mX_subset\u001b[0m \u001b[1;33m=\u001b[0m \u001b[0mX\u001b[0m\u001b[1;33m[\u001b[0m\u001b[0mnp\u001b[0m\u001b[1;33m.\u001b[0m\u001b[0mix_\u001b[0m\u001b[1;33m(\u001b[0m\u001b[0mindices\u001b[0m\u001b[1;33m,\u001b[0m \u001b[0mtrain_indices\u001b[0m\u001b[1;33m)\u001b[0m\u001b[1;33m]\u001b[0m\u001b[1;33m\u001b[0m\u001b[1;33m\u001b[0m\u001b[0m\n\u001b[0;32m    210\u001b[0m     \u001b[1;32melse\u001b[0m\u001b[1;33m:\u001b[0m\u001b[1;33m\u001b[0m\u001b[1;33m\u001b[0m\u001b[0m\n\u001b[1;32m--> 211\u001b[1;33m         \u001b[0mX_subset\u001b[0m \u001b[1;33m=\u001b[0m \u001b[0m_safe_indexing\u001b[0m\u001b[1;33m(\u001b[0m\u001b[0mX\u001b[0m\u001b[1;33m,\u001b[0m \u001b[0mindices\u001b[0m\u001b[1;33m)\u001b[0m\u001b[1;33m\u001b[0m\u001b[1;33m\u001b[0m\u001b[0m\n\u001b[0m\u001b[0;32m    212\u001b[0m \u001b[1;33m\u001b[0m\u001b[0m\n\u001b[0;32m    213\u001b[0m     \u001b[1;32mif\u001b[0m \u001b[0my\u001b[0m \u001b[1;32mis\u001b[0m \u001b[1;32mnot\u001b[0m \u001b[1;32mNone\u001b[0m\u001b[1;33m:\u001b[0m\u001b[1;33m\u001b[0m\u001b[1;33m\u001b[0m\u001b[0m\n",
      "\u001b[1;32m~\\anaconda3\\envs\\py3-TF2.0\\lib\\site-packages\\sklearn\\utils\\__init__.py\u001b[0m in \u001b[0;36m_safe_indexing\u001b[1;34m(X, indices, axis)\u001b[0m\n\u001b[0;32m    340\u001b[0m \u001b[1;33m\u001b[0m\u001b[0m\n\u001b[0;32m    341\u001b[0m     \u001b[1;32mif\u001b[0m \u001b[0mhasattr\u001b[0m\u001b[1;33m(\u001b[0m\u001b[0mX\u001b[0m\u001b[1;33m,\u001b[0m \u001b[1;34m\"iloc\"\u001b[0m\u001b[1;33m)\u001b[0m\u001b[1;33m:\u001b[0m\u001b[1;33m\u001b[0m\u001b[1;33m\u001b[0m\u001b[0m\n\u001b[1;32m--> 342\u001b[1;33m         \u001b[1;32mreturn\u001b[0m \u001b[0m_pandas_indexing\u001b[0m\u001b[1;33m(\u001b[0m\u001b[0mX\u001b[0m\u001b[1;33m,\u001b[0m \u001b[0mindices\u001b[0m\u001b[1;33m,\u001b[0m \u001b[0mindices_dtype\u001b[0m\u001b[1;33m,\u001b[0m \u001b[0maxis\u001b[0m\u001b[1;33m=\u001b[0m\u001b[0maxis\u001b[0m\u001b[1;33m)\u001b[0m\u001b[1;33m\u001b[0m\u001b[1;33m\u001b[0m\u001b[0m\n\u001b[0m\u001b[0;32m    343\u001b[0m     \u001b[1;32melif\u001b[0m \u001b[0mhasattr\u001b[0m\u001b[1;33m(\u001b[0m\u001b[0mX\u001b[0m\u001b[1;33m,\u001b[0m \u001b[1;34m\"shape\"\u001b[0m\u001b[1;33m)\u001b[0m\u001b[1;33m:\u001b[0m\u001b[1;33m\u001b[0m\u001b[1;33m\u001b[0m\u001b[0m\n\u001b[0;32m    344\u001b[0m         \u001b[1;32mreturn\u001b[0m \u001b[0m_array_indexing\u001b[0m\u001b[1;33m(\u001b[0m\u001b[0mX\u001b[0m\u001b[1;33m,\u001b[0m \u001b[0mindices\u001b[0m\u001b[1;33m,\u001b[0m \u001b[0mindices_dtype\u001b[0m\u001b[1;33m,\u001b[0m \u001b[0maxis\u001b[0m\u001b[1;33m=\u001b[0m\u001b[0maxis\u001b[0m\u001b[1;33m)\u001b[0m\u001b[1;33m\u001b[0m\u001b[1;33m\u001b[0m\u001b[0m\n",
      "\u001b[1;32m~\\anaconda3\\envs\\py3-TF2.0\\lib\\site-packages\\sklearn\\utils\\__init__.py\u001b[0m in \u001b[0;36m_pandas_indexing\u001b[1;34m(X, key, key_dtype, axis)\u001b[0m\n\u001b[0;32m    191\u001b[0m     \u001b[1;31m# check whether we should index with loc or iloc\u001b[0m\u001b[1;33m\u001b[0m\u001b[1;33m\u001b[0m\u001b[1;33m\u001b[0m\u001b[0m\n\u001b[0;32m    192\u001b[0m     \u001b[0mindexer\u001b[0m \u001b[1;33m=\u001b[0m \u001b[0mX\u001b[0m\u001b[1;33m.\u001b[0m\u001b[0miloc\u001b[0m \u001b[1;32mif\u001b[0m \u001b[0mkey_dtype\u001b[0m \u001b[1;33m==\u001b[0m \u001b[1;34m'int'\u001b[0m \u001b[1;32melse\u001b[0m \u001b[0mX\u001b[0m\u001b[1;33m.\u001b[0m\u001b[0mloc\u001b[0m\u001b[1;33m\u001b[0m\u001b[1;33m\u001b[0m\u001b[0m\n\u001b[1;32m--> 193\u001b[1;33m     \u001b[1;32mreturn\u001b[0m \u001b[0mindexer\u001b[0m\u001b[1;33m[\u001b[0m\u001b[1;33m:\u001b[0m\u001b[1;33m,\u001b[0m \u001b[0mkey\u001b[0m\u001b[1;33m]\u001b[0m \u001b[1;32mif\u001b[0m \u001b[0maxis\u001b[0m \u001b[1;32melse\u001b[0m \u001b[0mindexer\u001b[0m\u001b[1;33m[\u001b[0m\u001b[0mkey\u001b[0m\u001b[1;33m]\u001b[0m\u001b[1;33m\u001b[0m\u001b[1;33m\u001b[0m\u001b[0m\n\u001b[0m\u001b[0;32m    194\u001b[0m \u001b[1;33m\u001b[0m\u001b[0m\n\u001b[0;32m    195\u001b[0m \u001b[1;33m\u001b[0m\u001b[0m\n",
      "\u001b[1;32m~\\anaconda3\\envs\\py3-TF2.0\\lib\\site-packages\\pandas\\core\\indexing.py\u001b[0m in \u001b[0;36m__getitem__\u001b[1;34m(self, key)\u001b[0m\n\u001b[0;32m    893\u001b[0m \u001b[1;33m\u001b[0m\u001b[0m\n\u001b[0;32m    894\u001b[0m             \u001b[0mmaybe_callable\u001b[0m \u001b[1;33m=\u001b[0m \u001b[0mcom\u001b[0m\u001b[1;33m.\u001b[0m\u001b[0mapply_if_callable\u001b[0m\u001b[1;33m(\u001b[0m\u001b[0mkey\u001b[0m\u001b[1;33m,\u001b[0m \u001b[0mself\u001b[0m\u001b[1;33m.\u001b[0m\u001b[0mobj\u001b[0m\u001b[1;33m)\u001b[0m\u001b[1;33m\u001b[0m\u001b[1;33m\u001b[0m\u001b[0m\n\u001b[1;32m--> 895\u001b[1;33m             \u001b[1;32mreturn\u001b[0m \u001b[0mself\u001b[0m\u001b[1;33m.\u001b[0m\u001b[0m_getitem_axis\u001b[0m\u001b[1;33m(\u001b[0m\u001b[0mmaybe_callable\u001b[0m\u001b[1;33m,\u001b[0m \u001b[0maxis\u001b[0m\u001b[1;33m=\u001b[0m\u001b[0maxis\u001b[0m\u001b[1;33m)\u001b[0m\u001b[1;33m\u001b[0m\u001b[1;33m\u001b[0m\u001b[0m\n\u001b[0m\u001b[0;32m    896\u001b[0m \u001b[1;33m\u001b[0m\u001b[0m\n\u001b[0;32m    897\u001b[0m     \u001b[1;32mdef\u001b[0m \u001b[0m_is_scalar_access\u001b[0m\u001b[1;33m(\u001b[0m\u001b[0mself\u001b[0m\u001b[1;33m,\u001b[0m \u001b[0mkey\u001b[0m\u001b[1;33m:\u001b[0m \u001b[0mTuple\u001b[0m\u001b[1;33m)\u001b[0m\u001b[1;33m:\u001b[0m\u001b[1;33m\u001b[0m\u001b[1;33m\u001b[0m\u001b[0m\n",
      "\u001b[1;32m~\\anaconda3\\envs\\py3-TF2.0\\lib\\site-packages\\pandas\\core\\indexing.py\u001b[0m in \u001b[0;36m_getitem_axis\u001b[1;34m(self, key, axis)\u001b[0m\n\u001b[0;32m   1490\u001b[0m         \u001b[1;31m# a list of integers\u001b[0m\u001b[1;33m\u001b[0m\u001b[1;33m\u001b[0m\u001b[1;33m\u001b[0m\u001b[0m\n\u001b[0;32m   1491\u001b[0m         \u001b[1;32melif\u001b[0m \u001b[0mis_list_like_indexer\u001b[0m\u001b[1;33m(\u001b[0m\u001b[0mkey\u001b[0m\u001b[1;33m)\u001b[0m\u001b[1;33m:\u001b[0m\u001b[1;33m\u001b[0m\u001b[1;33m\u001b[0m\u001b[0m\n\u001b[1;32m-> 1492\u001b[1;33m             \u001b[1;32mreturn\u001b[0m \u001b[0mself\u001b[0m\u001b[1;33m.\u001b[0m\u001b[0m_get_list_axis\u001b[0m\u001b[1;33m(\u001b[0m\u001b[0mkey\u001b[0m\u001b[1;33m,\u001b[0m \u001b[0maxis\u001b[0m\u001b[1;33m=\u001b[0m\u001b[0maxis\u001b[0m\u001b[1;33m)\u001b[0m\u001b[1;33m\u001b[0m\u001b[1;33m\u001b[0m\u001b[0m\n\u001b[0m\u001b[0;32m   1493\u001b[0m \u001b[1;33m\u001b[0m\u001b[0m\n\u001b[0;32m   1494\u001b[0m         \u001b[1;31m# a single integer\u001b[0m\u001b[1;33m\u001b[0m\u001b[1;33m\u001b[0m\u001b[1;33m\u001b[0m\u001b[0m\n",
      "\u001b[1;32m~\\anaconda3\\envs\\py3-TF2.0\\lib\\site-packages\\pandas\\core\\indexing.py\u001b[0m in \u001b[0;36m_get_list_axis\u001b[1;34m(self, key, axis)\u001b[0m\n\u001b[0;32m   1472\u001b[0m         \"\"\"\n\u001b[0;32m   1473\u001b[0m         \u001b[1;32mtry\u001b[0m\u001b[1;33m:\u001b[0m\u001b[1;33m\u001b[0m\u001b[1;33m\u001b[0m\u001b[0m\n\u001b[1;32m-> 1474\u001b[1;33m             \u001b[1;32mreturn\u001b[0m \u001b[0mself\u001b[0m\u001b[1;33m.\u001b[0m\u001b[0mobj\u001b[0m\u001b[1;33m.\u001b[0m\u001b[0m_take_with_is_copy\u001b[0m\u001b[1;33m(\u001b[0m\u001b[0mkey\u001b[0m\u001b[1;33m,\u001b[0m \u001b[0maxis\u001b[0m\u001b[1;33m=\u001b[0m\u001b[0maxis\u001b[0m\u001b[1;33m)\u001b[0m\u001b[1;33m\u001b[0m\u001b[1;33m\u001b[0m\u001b[0m\n\u001b[0m\u001b[0;32m   1475\u001b[0m         \u001b[1;32mexcept\u001b[0m \u001b[0mIndexError\u001b[0m \u001b[1;32mas\u001b[0m \u001b[0merr\u001b[0m\u001b[1;33m:\u001b[0m\u001b[1;33m\u001b[0m\u001b[1;33m\u001b[0m\u001b[0m\n\u001b[0;32m   1476\u001b[0m             \u001b[1;31m# re-raise with different error message\u001b[0m\u001b[1;33m\u001b[0m\u001b[1;33m\u001b[0m\u001b[1;33m\u001b[0m\u001b[0m\n",
      "\u001b[1;32m~\\anaconda3\\envs\\py3-TF2.0\\lib\\site-packages\\pandas\\core\\generic.py\u001b[0m in \u001b[0;36m_take_with_is_copy\u001b[1;34m(self, indices, axis)\u001b[0m\n\u001b[0;32m   3598\u001b[0m         \u001b[0mSee\u001b[0m \u001b[0mthe\u001b[0m \u001b[0mdocstring\u001b[0m \u001b[0mof\u001b[0m\u001b[0;31m \u001b[0m\u001b[0;31m`\u001b[0m\u001b[0mtake\u001b[0m\u001b[0;31m`\u001b[0m \u001b[1;32mfor\u001b[0m \u001b[0mfull\u001b[0m \u001b[0mexplanation\u001b[0m \u001b[0mof\u001b[0m \u001b[0mthe\u001b[0m \u001b[0mparameters\u001b[0m\u001b[1;33m.\u001b[0m\u001b[1;33m\u001b[0m\u001b[1;33m\u001b[0m\u001b[0m\n\u001b[0;32m   3599\u001b[0m         \"\"\"\n\u001b[1;32m-> 3600\u001b[1;33m         \u001b[0mresult\u001b[0m \u001b[1;33m=\u001b[0m \u001b[0mself\u001b[0m\u001b[1;33m.\u001b[0m\u001b[0mtake\u001b[0m\u001b[1;33m(\u001b[0m\u001b[0mindices\u001b[0m\u001b[1;33m=\u001b[0m\u001b[0mindices\u001b[0m\u001b[1;33m,\u001b[0m \u001b[0maxis\u001b[0m\u001b[1;33m=\u001b[0m\u001b[0maxis\u001b[0m\u001b[1;33m)\u001b[0m\u001b[1;33m\u001b[0m\u001b[1;33m\u001b[0m\u001b[0m\n\u001b[0m\u001b[0;32m   3601\u001b[0m         \u001b[1;31m# Maybe set copy if we didn't actually change the index.\u001b[0m\u001b[1;33m\u001b[0m\u001b[1;33m\u001b[0m\u001b[1;33m\u001b[0m\u001b[0m\n\u001b[0;32m   3602\u001b[0m         \u001b[1;32mif\u001b[0m \u001b[1;32mnot\u001b[0m \u001b[0mresult\u001b[0m\u001b[1;33m.\u001b[0m\u001b[0m_get_axis\u001b[0m\u001b[1;33m(\u001b[0m\u001b[0maxis\u001b[0m\u001b[1;33m)\u001b[0m\u001b[1;33m.\u001b[0m\u001b[0mequals\u001b[0m\u001b[1;33m(\u001b[0m\u001b[0mself\u001b[0m\u001b[1;33m.\u001b[0m\u001b[0m_get_axis\u001b[0m\u001b[1;33m(\u001b[0m\u001b[0maxis\u001b[0m\u001b[1;33m)\u001b[0m\u001b[1;33m)\u001b[0m\u001b[1;33m:\u001b[0m\u001b[1;33m\u001b[0m\u001b[1;33m\u001b[0m\u001b[0m\n",
      "\u001b[1;32m~\\anaconda3\\envs\\py3-TF2.0\\lib\\site-packages\\pandas\\core\\generic.py\u001b[0m in \u001b[0;36mtake\u001b[1;34m(self, indices, axis, is_copy, **kwargs)\u001b[0m\n\u001b[0;32m   3584\u001b[0m         \u001b[0mself\u001b[0m\u001b[1;33m.\u001b[0m\u001b[0m_consolidate_inplace\u001b[0m\u001b[1;33m(\u001b[0m\u001b[1;33m)\u001b[0m\u001b[1;33m\u001b[0m\u001b[1;33m\u001b[0m\u001b[0m\n\u001b[0;32m   3585\u001b[0m \u001b[1;33m\u001b[0m\u001b[0m\n\u001b[1;32m-> 3586\u001b[1;33m         new_data = self._mgr.take(\n\u001b[0m\u001b[0;32m   3587\u001b[0m             \u001b[0mindices\u001b[0m\u001b[1;33m,\u001b[0m \u001b[0maxis\u001b[0m\u001b[1;33m=\u001b[0m\u001b[0mself\u001b[0m\u001b[1;33m.\u001b[0m\u001b[0m_get_block_manager_axis\u001b[0m\u001b[1;33m(\u001b[0m\u001b[0maxis\u001b[0m\u001b[1;33m)\u001b[0m\u001b[1;33m,\u001b[0m \u001b[0mverify\u001b[0m\u001b[1;33m=\u001b[0m\u001b[1;32mTrue\u001b[0m\u001b[1;33m\u001b[0m\u001b[1;33m\u001b[0m\u001b[0m\n\u001b[0;32m   3588\u001b[0m         )\n",
      "\u001b[1;32m~\\anaconda3\\envs\\py3-TF2.0\\lib\\site-packages\\pandas\\core\\internals\\managers.py\u001b[0m in \u001b[0;36mtake\u001b[1;34m(self, indexer, axis, verify, convert)\u001b[0m\n\u001b[0;32m   1460\u001b[0m             \u001b[0mnp\u001b[0m\u001b[1;33m.\u001b[0m\u001b[0marange\u001b[0m\u001b[1;33m(\u001b[0m\u001b[0mindexer\u001b[0m\u001b[1;33m.\u001b[0m\u001b[0mstart\u001b[0m\u001b[1;33m,\u001b[0m \u001b[0mindexer\u001b[0m\u001b[1;33m.\u001b[0m\u001b[0mstop\u001b[0m\u001b[1;33m,\u001b[0m \u001b[0mindexer\u001b[0m\u001b[1;33m.\u001b[0m\u001b[0mstep\u001b[0m\u001b[1;33m,\u001b[0m \u001b[0mdtype\u001b[0m\u001b[1;33m=\u001b[0m\u001b[1;34m\"int64\"\u001b[0m\u001b[1;33m)\u001b[0m\u001b[1;33m\u001b[0m\u001b[1;33m\u001b[0m\u001b[0m\n\u001b[0;32m   1461\u001b[0m             \u001b[1;32mif\u001b[0m \u001b[0misinstance\u001b[0m\u001b[1;33m(\u001b[0m\u001b[0mindexer\u001b[0m\u001b[1;33m,\u001b[0m \u001b[0mslice\u001b[0m\u001b[1;33m)\u001b[0m\u001b[1;33m\u001b[0m\u001b[1;33m\u001b[0m\u001b[0m\n\u001b[1;32m-> 1462\u001b[1;33m             \u001b[1;32melse\u001b[0m \u001b[0mnp\u001b[0m\u001b[1;33m.\u001b[0m\u001b[0masanyarray\u001b[0m\u001b[1;33m(\u001b[0m\u001b[0mindexer\u001b[0m\u001b[1;33m,\u001b[0m \u001b[0mdtype\u001b[0m\u001b[1;33m=\u001b[0m\u001b[1;34m\"int64\"\u001b[0m\u001b[1;33m)\u001b[0m\u001b[1;33m\u001b[0m\u001b[1;33m\u001b[0m\u001b[0m\n\u001b[0m\u001b[0;32m   1463\u001b[0m         )\n\u001b[0;32m   1464\u001b[0m \u001b[1;33m\u001b[0m\u001b[0m\n",
      "\u001b[1;32m~\\anaconda3\\envs\\py3-TF2.0\\lib\\site-packages\\numpy\\core\\_asarray.py\u001b[0m in \u001b[0;36masanyarray\u001b[1;34m(a, dtype, order)\u001b[0m\n\u001b[0;32m    134\u001b[0m \u001b[1;33m\u001b[0m\u001b[0m\n\u001b[0;32m    135\u001b[0m     \"\"\"\n\u001b[1;32m--> 136\u001b[1;33m     \u001b[1;32mreturn\u001b[0m \u001b[0marray\u001b[0m\u001b[1;33m(\u001b[0m\u001b[0ma\u001b[0m\u001b[1;33m,\u001b[0m \u001b[0mdtype\u001b[0m\u001b[1;33m,\u001b[0m \u001b[0mcopy\u001b[0m\u001b[1;33m=\u001b[0m\u001b[1;32mFalse\u001b[0m\u001b[1;33m,\u001b[0m \u001b[0morder\u001b[0m\u001b[1;33m=\u001b[0m\u001b[0morder\u001b[0m\u001b[1;33m,\u001b[0m \u001b[0msubok\u001b[0m\u001b[1;33m=\u001b[0m\u001b[1;32mTrue\u001b[0m\u001b[1;33m)\u001b[0m\u001b[1;33m\u001b[0m\u001b[1;33m\u001b[0m\u001b[0m\n\u001b[0m\u001b[0;32m    137\u001b[0m \u001b[1;33m\u001b[0m\u001b[0m\n\u001b[0;32m    138\u001b[0m \u001b[1;33m\u001b[0m\u001b[0m\n",
      "\u001b[1;31mKeyboardInterrupt\u001b[0m: "
     ]
    }
   ],
   "source": [
    "# fit the model using the training data\n",
    "output_warnings = grid.fit(X_train, y_train);"
   ]
  },
  {
   "cell_type": "code",
   "execution_count": 21,
   "id": "annual-shopping",
   "metadata": {},
   "outputs": [
    {
     "data": {
      "text/plain": [
       "{'alpha': 16, 'l1_ratio': 1.0}"
      ]
     },
     "execution_count": 21,
     "metadata": {},
     "output_type": "execute_result"
    }
   ],
   "source": [
    "grid.best_params_"
   ]
  },
  {
   "cell_type": "markdown",
   "id": "prostate-jurisdiction",
   "metadata": {},
   "source": [
    "The best parameters found during the grid search using the mean squared error as our metric are the following (hyperparameters):\n",
    "\n",
    "$\\alpha = 16$\n",
    "\n",
    "$L_{ratio}^1 = 1.0$\n",
    "\n",
    "Since we explored alpha values of 8, 16, and 32, we can try to focus on this range of [8, 32] to see if there is a better alpha that we missed:"
   ]
  },
  {
   "cell_type": "code",
   "execution_count": 22,
   "id": "systematic-arnold",
   "metadata": {},
   "outputs": [],
   "source": [
    "new_l1_ratio_values = [.9, .95, .99, 1.0]\n",
    "new_alpha_values = np.arange(8, 33, 2)"
   ]
  },
  {
   "cell_type": "code",
   "execution_count": 23,
   "id": "frank-microphone",
   "metadata": {},
   "outputs": [],
   "source": [
    "new_param_grid = {'alpha': new_alpha_values,\n",
    "                  'l1_ratio': new_l1_ratio_values}"
   ]
  },
  {
   "cell_type": "code",
   "execution_count": 28,
   "id": "normal-brisbane",
   "metadata": {},
   "outputs": [],
   "source": [
    "new_base_model = ElasticNet()\n",
    "new_grid = GridSearchCV(estimator=new_base_model,\n",
    "                        param_grid=new_param_grid,\n",
    "                        scoring='neg_mean_squared_error',\n",
    "                        cv=5,\n",
    "                        verbose=2)"
   ]
  },
  {
   "cell_type": "code",
   "execution_count": 29,
   "id": "photographic-employee",
   "metadata": {},
   "outputs": [
    {
     "name": "stdout",
     "output_type": "stream",
     "text": [
      "Fitting 5 folds for each of 52 candidates, totalling 260 fits\n"
     ]
    },
    {
     "name": "stderr",
     "output_type": "stream",
     "text": [
      "C:\\Users\\pbeata\\anaconda3\\envs\\py3-TF2.0\\lib\\site-packages\\sklearn\\linear_model\\_coordinate_descent.py:530: ConvergenceWarning: Objective did not converge. You might want to increase the number of iterations. Duality gap: 664786187982.4379, tolerance: 1355206692.5276787\n",
      "  model = cd_fast.enet_coordinate_descent(\n"
     ]
    },
    {
     "name": "stdout",
     "output_type": "stream",
     "text": [
      "[CV] END ..............................alpha=8, l1_ratio=0.9; total time=   0.4s\n"
     ]
    },
    {
     "name": "stderr",
     "output_type": "stream",
     "text": [
      "C:\\Users\\pbeata\\anaconda3\\envs\\py3-TF2.0\\lib\\site-packages\\sklearn\\linear_model\\_coordinate_descent.py:530: ConvergenceWarning: Objective did not converge. You might want to increase the number of iterations. Duality gap: 634434587488.2823, tolerance: 1307913805.6588454\n",
      "  model = cd_fast.enet_coordinate_descent(\n"
     ]
    },
    {
     "name": "stdout",
     "output_type": "stream",
     "text": [
      "[CV] END ..............................alpha=8, l1_ratio=0.9; total time=   0.3s\n"
     ]
    },
    {
     "name": "stderr",
     "output_type": "stream",
     "text": [
      "C:\\Users\\pbeata\\anaconda3\\envs\\py3-TF2.0\\lib\\site-packages\\sklearn\\linear_model\\_coordinate_descent.py:530: ConvergenceWarning: Objective did not converge. You might want to increase the number of iterations. Duality gap: 735836732328.164, tolerance: 1415056940.006106\n",
      "  model = cd_fast.enet_coordinate_descent(\n"
     ]
    },
    {
     "name": "stdout",
     "output_type": "stream",
     "text": [
      "[CV] END ..............................alpha=8, l1_ratio=0.9; total time=   0.3s\n"
     ]
    },
    {
     "name": "stderr",
     "output_type": "stream",
     "text": [
      "C:\\Users\\pbeata\\anaconda3\\envs\\py3-TF2.0\\lib\\site-packages\\sklearn\\linear_model\\_coordinate_descent.py:530: ConvergenceWarning: Objective did not converge. You might want to increase the number of iterations. Duality gap: 717942371495.6206, tolerance: 1438198040.088288\n",
      "  model = cd_fast.enet_coordinate_descent(\n"
     ]
    },
    {
     "name": "stdout",
     "output_type": "stream",
     "text": [
      "[CV] END ..............................alpha=8, l1_ratio=0.9; total time=   0.5s\n"
     ]
    },
    {
     "name": "stderr",
     "output_type": "stream",
     "text": [
      "C:\\Users\\pbeata\\anaconda3\\envs\\py3-TF2.0\\lib\\site-packages\\sklearn\\linear_model\\_coordinate_descent.py:530: ConvergenceWarning: Objective did not converge. You might want to increase the number of iterations. Duality gap: 608136166911.5813, tolerance: 1345680018.2551236\n",
      "  model = cd_fast.enet_coordinate_descent(\n"
     ]
    },
    {
     "name": "stdout",
     "output_type": "stream",
     "text": [
      "[CV] END ..............................alpha=8, l1_ratio=0.9; total time=   0.4s\n"
     ]
    },
    {
     "name": "stderr",
     "output_type": "stream",
     "text": [
      "C:\\Users\\pbeata\\anaconda3\\envs\\py3-TF2.0\\lib\\site-packages\\sklearn\\linear_model\\_coordinate_descent.py:530: ConvergenceWarning: Objective did not converge. You might want to increase the number of iterations. Duality gap: 418621791410.65564, tolerance: 1355206692.5276787\n",
      "  model = cd_fast.enet_coordinate_descent(\n"
     ]
    },
    {
     "name": "stdout",
     "output_type": "stream",
     "text": [
      "[CV] END .............................alpha=8, l1_ratio=0.95; total time=   0.3s\n"
     ]
    },
    {
     "name": "stderr",
     "output_type": "stream",
     "text": [
      "C:\\Users\\pbeata\\anaconda3\\envs\\py3-TF2.0\\lib\\site-packages\\sklearn\\linear_model\\_coordinate_descent.py:530: ConvergenceWarning: Objective did not converge. You might want to increase the number of iterations. Duality gap: 342605489519.76843, tolerance: 1307913805.6588454\n",
      "  model = cd_fast.enet_coordinate_descent(\n"
     ]
    },
    {
     "name": "stdout",
     "output_type": "stream",
     "text": [
      "[CV] END .............................alpha=8, l1_ratio=0.95; total time=   0.3s\n"
     ]
    },
    {
     "name": "stderr",
     "output_type": "stream",
     "text": [
      "C:\\Users\\pbeata\\anaconda3\\envs\\py3-TF2.0\\lib\\site-packages\\sklearn\\linear_model\\_coordinate_descent.py:530: ConvergenceWarning: Objective did not converge. You might want to increase the number of iterations. Duality gap: 445442611924.799, tolerance: 1415056940.006106\n",
      "  model = cd_fast.enet_coordinate_descent(\n"
     ]
    },
    {
     "name": "stdout",
     "output_type": "stream",
     "text": [
      "[CV] END .............................alpha=8, l1_ratio=0.95; total time=   0.3s\n"
     ]
    },
    {
     "name": "stderr",
     "output_type": "stream",
     "text": [
      "C:\\Users\\pbeata\\anaconda3\\envs\\py3-TF2.0\\lib\\site-packages\\sklearn\\linear_model\\_coordinate_descent.py:530: ConvergenceWarning: Objective did not converge. You might want to increase the number of iterations. Duality gap: 433990313331.1874, tolerance: 1438198040.088288\n",
      "  model = cd_fast.enet_coordinate_descent(\n"
     ]
    },
    {
     "name": "stdout",
     "output_type": "stream",
     "text": [
      "[CV] END .............................alpha=8, l1_ratio=0.95; total time=   0.3s\n"
     ]
    },
    {
     "name": "stderr",
     "output_type": "stream",
     "text": [
      "C:\\Users\\pbeata\\anaconda3\\envs\\py3-TF2.0\\lib\\site-packages\\sklearn\\linear_model\\_coordinate_descent.py:530: ConvergenceWarning: Objective did not converge. You might want to increase the number of iterations. Duality gap: 321346097736.02155, tolerance: 1345680018.2551236\n",
      "  model = cd_fast.enet_coordinate_descent(\n"
     ]
    },
    {
     "name": "stdout",
     "output_type": "stream",
     "text": [
      "[CV] END .............................alpha=8, l1_ratio=0.95; total time=   0.3s\n",
      "[CV] END .............................alpha=8, l1_ratio=0.99; total time=   0.0s\n",
      "[CV] END .............................alpha=8, l1_ratio=0.99; total time=   0.0s\n",
      "[CV] END .............................alpha=8, l1_ratio=0.99; total time=   0.0s\n",
      "[CV] END .............................alpha=8, l1_ratio=0.99; total time=   0.0s\n",
      "[CV] END .............................alpha=8, l1_ratio=0.99; total time=   0.0s\n",
      "[CV] END ..............................alpha=8, l1_ratio=1.0; total time=   0.3s\n"
     ]
    },
    {
     "name": "stderr",
     "output_type": "stream",
     "text": [
      "C:\\Users\\pbeata\\anaconda3\\envs\\py3-TF2.0\\lib\\site-packages\\sklearn\\linear_model\\_coordinate_descent.py:530: ConvergenceWarning: Objective did not converge. You might want to increase the number of iterations. Duality gap: 278218755255.8526, tolerance: 1307913805.6588454\n",
      "  model = cd_fast.enet_coordinate_descent(\n"
     ]
    },
    {
     "name": "stdout",
     "output_type": "stream",
     "text": [
      "[CV] END ..............................alpha=8, l1_ratio=1.0; total time=   0.3s\n",
      "[CV] END ..............................alpha=8, l1_ratio=1.0; total time=   0.1s\n",
      "[CV] END ..............................alpha=8, l1_ratio=1.0; total time=   0.2s\n"
     ]
    },
    {
     "name": "stderr",
     "output_type": "stream",
     "text": [
      "C:\\Users\\pbeata\\anaconda3\\envs\\py3-TF2.0\\lib\\site-packages\\sklearn\\linear_model\\_coordinate_descent.py:530: ConvergenceWarning: Objective did not converge. You might want to increase the number of iterations. Duality gap: 337458205769.1549, tolerance: 1345680018.2551236\n",
      "  model = cd_fast.enet_coordinate_descent(\n"
     ]
    },
    {
     "name": "stdout",
     "output_type": "stream",
     "text": [
      "[CV] END ..............................alpha=8, l1_ratio=1.0; total time=   0.4s\n"
     ]
    },
    {
     "name": "stderr",
     "output_type": "stream",
     "text": [
      "C:\\Users\\pbeata\\anaconda3\\envs\\py3-TF2.0\\lib\\site-packages\\sklearn\\linear_model\\_coordinate_descent.py:530: ConvergenceWarning: Objective did not converge. You might want to increase the number of iterations. Duality gap: 685508995305.9323, tolerance: 1355206692.5276787\n",
      "  model = cd_fast.enet_coordinate_descent(\n"
     ]
    },
    {
     "name": "stdout",
     "output_type": "stream",
     "text": [
      "[CV] END .............................alpha=10, l1_ratio=0.9; total time=   0.3s\n"
     ]
    },
    {
     "name": "stderr",
     "output_type": "stream",
     "text": [
      "C:\\Users\\pbeata\\anaconda3\\envs\\py3-TF2.0\\lib\\site-packages\\sklearn\\linear_model\\_coordinate_descent.py:530: ConvergenceWarning: Objective did not converge. You might want to increase the number of iterations. Duality gap: 655521602207.718, tolerance: 1307913805.6588454\n",
      "  model = cd_fast.enet_coordinate_descent(\n"
     ]
    },
    {
     "name": "stdout",
     "output_type": "stream",
     "text": [
      "[CV] END .............................alpha=10, l1_ratio=0.9; total time=   0.3s\n"
     ]
    },
    {
     "name": "stderr",
     "output_type": "stream",
     "text": [
      "C:\\Users\\pbeata\\anaconda3\\envs\\py3-TF2.0\\lib\\site-packages\\sklearn\\linear_model\\_coordinate_descent.py:530: ConvergenceWarning: Objective did not converge. You might want to increase the number of iterations. Duality gap: 757727991905.2769, tolerance: 1415056940.006106\n",
      "  model = cd_fast.enet_coordinate_descent(\n"
     ]
    },
    {
     "name": "stdout",
     "output_type": "stream",
     "text": [
      "[CV] END .............................alpha=10, l1_ratio=0.9; total time=   0.3s\n"
     ]
    },
    {
     "name": "stderr",
     "output_type": "stream",
     "text": [
      "C:\\Users\\pbeata\\anaconda3\\envs\\py3-TF2.0\\lib\\site-packages\\sklearn\\linear_model\\_coordinate_descent.py:530: ConvergenceWarning: Objective did not converge. You might want to increase the number of iterations. Duality gap: 739111770260.2046, tolerance: 1438198040.088288\n",
      "  model = cd_fast.enet_coordinate_descent(\n"
     ]
    },
    {
     "name": "stdout",
     "output_type": "stream",
     "text": [
      "[CV] END .............................alpha=10, l1_ratio=0.9; total time=   0.4s\n"
     ]
    },
    {
     "name": "stderr",
     "output_type": "stream",
     "text": [
      "C:\\Users\\pbeata\\anaconda3\\envs\\py3-TF2.0\\lib\\site-packages\\sklearn\\linear_model\\_coordinate_descent.py:530: ConvergenceWarning: Objective did not converge. You might want to increase the number of iterations. Duality gap: 627015149314.0085, tolerance: 1345680018.2551236\n",
      "  model = cd_fast.enet_coordinate_descent(\n"
     ]
    },
    {
     "name": "stdout",
     "output_type": "stream",
     "text": [
      "[CV] END .............................alpha=10, l1_ratio=0.9; total time=   0.4s\n"
     ]
    },
    {
     "name": "stderr",
     "output_type": "stream",
     "text": [
      "C:\\Users\\pbeata\\anaconda3\\envs\\py3-TF2.0\\lib\\site-packages\\sklearn\\linear_model\\_coordinate_descent.py:530: ConvergenceWarning: Objective did not converge. You might want to increase the number of iterations. Duality gap: 433585299993.0091, tolerance: 1355206692.5276787\n",
      "  model = cd_fast.enet_coordinate_descent(\n"
     ]
    },
    {
     "name": "stdout",
     "output_type": "stream",
     "text": [
      "[CV] END ............................alpha=10, l1_ratio=0.95; total time=   0.4s\n"
     ]
    },
    {
     "name": "stderr",
     "output_type": "stream",
     "text": [
      "C:\\Users\\pbeata\\anaconda3\\envs\\py3-TF2.0\\lib\\site-packages\\sklearn\\linear_model\\_coordinate_descent.py:530: ConvergenceWarning: Objective did not converge. You might want to increase the number of iterations. Duality gap: 357542849702.2823, tolerance: 1307913805.6588454\n",
      "  model = cd_fast.enet_coordinate_descent(\n"
     ]
    },
    {
     "name": "stdout",
     "output_type": "stream",
     "text": [
      "[CV] END ............................alpha=10, l1_ratio=0.95; total time=   0.4s\n"
     ]
    },
    {
     "name": "stderr",
     "output_type": "stream",
     "text": [
      "C:\\Users\\pbeata\\anaconda3\\envs\\py3-TF2.0\\lib\\site-packages\\sklearn\\linear_model\\_coordinate_descent.py:530: ConvergenceWarning: Objective did not converge. You might want to increase the number of iterations. Duality gap: 460830441087.1433, tolerance: 1415056940.006106\n",
      "  model = cd_fast.enet_coordinate_descent(\n"
     ]
    },
    {
     "name": "stdout",
     "output_type": "stream",
     "text": [
      "[CV] END ............................alpha=10, l1_ratio=0.95; total time=   0.4s\n"
     ]
    },
    {
     "name": "stderr",
     "output_type": "stream",
     "text": [
      "C:\\Users\\pbeata\\anaconda3\\envs\\py3-TF2.0\\lib\\site-packages\\sklearn\\linear_model\\_coordinate_descent.py:530: ConvergenceWarning: Objective did not converge. You might want to increase the number of iterations. Duality gap: 448999414031.8262, tolerance: 1438198040.088288\n",
      "  model = cd_fast.enet_coordinate_descent(\n"
     ]
    },
    {
     "name": "stdout",
     "output_type": "stream",
     "text": [
      "[CV] END ............................alpha=10, l1_ratio=0.95; total time=   0.4s\n"
     ]
    },
    {
     "name": "stderr",
     "output_type": "stream",
     "text": [
      "C:\\Users\\pbeata\\anaconda3\\envs\\py3-TF2.0\\lib\\site-packages\\sklearn\\linear_model\\_coordinate_descent.py:530: ConvergenceWarning: Objective did not converge. You might want to increase the number of iterations. Duality gap: 332148272253.08765, tolerance: 1345680018.2551236\n",
      "  model = cd_fast.enet_coordinate_descent(\n"
     ]
    },
    {
     "name": "stdout",
     "output_type": "stream",
     "text": [
      "[CV] END ............................alpha=10, l1_ratio=0.95; total time=   0.4s\n",
      "[CV] END ............................alpha=10, l1_ratio=0.99; total time=   0.0s\n",
      "[CV] END ............................alpha=10, l1_ratio=0.99; total time=   0.0s\n",
      "[CV] END ............................alpha=10, l1_ratio=0.99; total time=   0.0s\n",
      "[CV] END ............................alpha=10, l1_ratio=0.99; total time=   0.0s\n",
      "[CV] END ............................alpha=10, l1_ratio=0.99; total time=   0.0s\n",
      "[CV] END .............................alpha=10, l1_ratio=1.0; total time=   0.3s\n"
     ]
    },
    {
     "name": "stderr",
     "output_type": "stream",
     "text": [
      "C:\\Users\\pbeata\\anaconda3\\envs\\py3-TF2.0\\lib\\site-packages\\sklearn\\linear_model\\_coordinate_descent.py:530: ConvergenceWarning: Objective did not converge. You might want to increase the number of iterations. Duality gap: 221532815556.47043, tolerance: 1307913805.6588454\n",
      "  model = cd_fast.enet_coordinate_descent(\n"
     ]
    },
    {
     "name": "stdout",
     "output_type": "stream",
     "text": [
      "[CV] END .............................alpha=10, l1_ratio=1.0; total time=   0.3s\n",
      "[CV] END .............................alpha=10, l1_ratio=1.0; total time=   0.1s\n",
      "[CV] END .............................alpha=10, l1_ratio=1.0; total time=   0.1s\n"
     ]
    },
    {
     "name": "stderr",
     "output_type": "stream",
     "text": [
      "C:\\Users\\pbeata\\anaconda3\\envs\\py3-TF2.0\\lib\\site-packages\\sklearn\\linear_model\\_coordinate_descent.py:530: ConvergenceWarning: Objective did not converge. You might want to increase the number of iterations. Duality gap: 175835884304.6772, tolerance: 1345680018.2551236\n",
      "  model = cd_fast.enet_coordinate_descent(\n"
     ]
    },
    {
     "name": "stdout",
     "output_type": "stream",
     "text": [
      "[CV] END .............................alpha=10, l1_ratio=1.0; total time=   0.3s\n"
     ]
    },
    {
     "name": "stderr",
     "output_type": "stream",
     "text": [
      "C:\\Users\\pbeata\\anaconda3\\envs\\py3-TF2.0\\lib\\site-packages\\sklearn\\linear_model\\_coordinate_descent.py:530: ConvergenceWarning: Objective did not converge. You might want to increase the number of iterations. Duality gap: 701681980816.9453, tolerance: 1355206692.5276787\n",
      "  model = cd_fast.enet_coordinate_descent(\n"
     ]
    },
    {
     "name": "stdout",
     "output_type": "stream",
     "text": [
      "[CV] END .............................alpha=12, l1_ratio=0.9; total time=   0.3s\n"
     ]
    },
    {
     "name": "stderr",
     "output_type": "stream",
     "text": [
      "C:\\Users\\pbeata\\anaconda3\\envs\\py3-TF2.0\\lib\\site-packages\\sklearn\\linear_model\\_coordinate_descent.py:530: ConvergenceWarning: Objective did not converge. You might want to increase the number of iterations. Duality gap: 671969181362.5261, tolerance: 1307913805.6588454\n",
      "  model = cd_fast.enet_coordinate_descent(\n"
     ]
    },
    {
     "name": "stdout",
     "output_type": "stream",
     "text": [
      "[CV] END .............................alpha=12, l1_ratio=0.9; total time=   0.6s\n"
     ]
    },
    {
     "name": "stderr",
     "output_type": "stream",
     "text": [
      "C:\\Users\\pbeata\\anaconda3\\envs\\py3-TF2.0\\lib\\site-packages\\sklearn\\linear_model\\_coordinate_descent.py:530: ConvergenceWarning: Objective did not converge. You might want to increase the number of iterations. Duality gap: 774674569782.0378, tolerance: 1415056940.006106\n",
      "  model = cd_fast.enet_coordinate_descent(\n"
     ]
    },
    {
     "name": "stdout",
     "output_type": "stream",
     "text": [
      "[CV] END .............................alpha=12, l1_ratio=0.9; total time=   0.6s\n"
     ]
    },
    {
     "name": "stderr",
     "output_type": "stream",
     "text": [
      "C:\\Users\\pbeata\\anaconda3\\envs\\py3-TF2.0\\lib\\site-packages\\sklearn\\linear_model\\_coordinate_descent.py:530: ConvergenceWarning: Objective did not converge. You might want to increase the number of iterations. Duality gap: 755516737697.8171, tolerance: 1438198040.088288\n",
      "  model = cd_fast.enet_coordinate_descent(\n"
     ]
    },
    {
     "name": "stdout",
     "output_type": "stream",
     "text": [
      "[CV] END .............................alpha=12, l1_ratio=0.9; total time=   0.4s\n"
     ]
    },
    {
     "name": "stderr",
     "output_type": "stream",
     "text": [
      "C:\\Users\\pbeata\\anaconda3\\envs\\py3-TF2.0\\lib\\site-packages\\sklearn\\linear_model\\_coordinate_descent.py:530: ConvergenceWarning: Objective did not converge. You might want to increase the number of iterations. Duality gap: 641904172645.9302, tolerance: 1345680018.2551236\n",
      "  model = cd_fast.enet_coordinate_descent(\n"
     ]
    },
    {
     "name": "stdout",
     "output_type": "stream",
     "text": [
      "[CV] END .............................alpha=12, l1_ratio=0.9; total time=   0.4s\n"
     ]
    },
    {
     "name": "stderr",
     "output_type": "stream",
     "text": [
      "C:\\Users\\pbeata\\anaconda3\\envs\\py3-TF2.0\\lib\\site-packages\\sklearn\\linear_model\\_coordinate_descent.py:530: ConvergenceWarning: Objective did not converge. You might want to increase the number of iterations. Duality gap: 445871893303.3675, tolerance: 1355206692.5276787\n",
      "  model = cd_fast.enet_coordinate_descent(\n"
     ]
    },
    {
     "name": "stdout",
     "output_type": "stream",
     "text": [
      "[CV] END ............................alpha=12, l1_ratio=0.95; total time=   0.3s\n"
     ]
    },
    {
     "name": "stderr",
     "output_type": "stream",
     "text": [
      "C:\\Users\\pbeata\\anaconda3\\envs\\py3-TF2.0\\lib\\site-packages\\sklearn\\linear_model\\_coordinate_descent.py:530: ConvergenceWarning: Objective did not converge. You might want to increase the number of iterations. Duality gap: 369949480222.30585, tolerance: 1307913805.6588454\n",
      "  model = cd_fast.enet_coordinate_descent(\n"
     ]
    },
    {
     "name": "stdout",
     "output_type": "stream",
     "text": [
      "[CV] END ............................alpha=12, l1_ratio=0.95; total time=   0.3s\n"
     ]
    },
    {
     "name": "stderr",
     "output_type": "stream",
     "text": [
      "C:\\Users\\pbeata\\anaconda3\\envs\\py3-TF2.0\\lib\\site-packages\\sklearn\\linear_model\\_coordinate_descent.py:530: ConvergenceWarning: Objective did not converge. You might want to increase the number of iterations. Duality gap: 473298392008.03357, tolerance: 1415056940.006106\n",
      "  model = cd_fast.enet_coordinate_descent(\n"
     ]
    },
    {
     "name": "stdout",
     "output_type": "stream",
     "text": [
      "[CV] END ............................alpha=12, l1_ratio=0.95; total time=   0.3s\n"
     ]
    },
    {
     "name": "stderr",
     "output_type": "stream",
     "text": [
      "C:\\Users\\pbeata\\anaconda3\\envs\\py3-TF2.0\\lib\\site-packages\\sklearn\\linear_model\\_coordinate_descent.py:530: ConvergenceWarning: Objective did not converge. You might want to increase the number of iterations. Duality gap: 461173618711.2193, tolerance: 1438198040.088288\n",
      "  model = cd_fast.enet_coordinate_descent(\n"
     ]
    },
    {
     "name": "stdout",
     "output_type": "stream",
     "text": [
      "[CV] END ............................alpha=12, l1_ratio=0.95; total time=   0.5s\n"
     ]
    },
    {
     "name": "stderr",
     "output_type": "stream",
     "text": [
      "C:\\Users\\pbeata\\anaconda3\\envs\\py3-TF2.0\\lib\\site-packages\\sklearn\\linear_model\\_coordinate_descent.py:530: ConvergenceWarning: Objective did not converge. You might want to increase the number of iterations. Duality gap: 341266728618.92316, tolerance: 1345680018.2551236\n",
      "  model = cd_fast.enet_coordinate_descent(\n"
     ]
    },
    {
     "name": "stdout",
     "output_type": "stream",
     "text": [
      "[CV] END ............................alpha=12, l1_ratio=0.95; total time=   0.4s\n",
      "[CV] END ............................alpha=12, l1_ratio=0.99; total time=   0.0s\n",
      "[CV] END ............................alpha=12, l1_ratio=0.99; total time=   0.0s\n",
      "[CV] END ............................alpha=12, l1_ratio=0.99; total time=   0.0s\n",
      "[CV] END ............................alpha=12, l1_ratio=0.99; total time=   0.0s\n",
      "[CV] END ............................alpha=12, l1_ratio=0.99; total time=   0.0s\n",
      "[CV] END .............................alpha=12, l1_ratio=1.0; total time=   0.0s\n",
      "[CV] END .............................alpha=12, l1_ratio=1.0; total time=   0.1s\n",
      "[CV] END .............................alpha=12, l1_ratio=1.0; total time=   0.1s\n",
      "[CV] END .............................alpha=12, l1_ratio=1.0; total time=   0.0s\n",
      "[CV] END .............................alpha=12, l1_ratio=1.0; total time=   0.2s\n"
     ]
    },
    {
     "name": "stderr",
     "output_type": "stream",
     "text": [
      "C:\\Users\\pbeata\\anaconda3\\envs\\py3-TF2.0\\lib\\site-packages\\sklearn\\linear_model\\_coordinate_descent.py:530: ConvergenceWarning: Objective did not converge. You might want to increase the number of iterations. Duality gap: 714655442984.484, tolerance: 1355206692.5276787\n",
      "  model = cd_fast.enet_coordinate_descent(\n"
     ]
    },
    {
     "name": "stdout",
     "output_type": "stream",
     "text": [
      "[CV] END .............................alpha=14, l1_ratio=0.9; total time=   0.3s\n"
     ]
    },
    {
     "name": "stderr",
     "output_type": "stream",
     "text": [
      "C:\\Users\\pbeata\\anaconda3\\envs\\py3-TF2.0\\lib\\site-packages\\sklearn\\linear_model\\_coordinate_descent.py:530: ConvergenceWarning: Objective did not converge. You might want to increase the number of iterations. Duality gap: 685143545979.979, tolerance: 1307913805.6588454\n",
      "  model = cd_fast.enet_coordinate_descent(\n"
     ]
    },
    {
     "name": "stdout",
     "output_type": "stream",
     "text": [
      "[CV] END .............................alpha=14, l1_ratio=0.9; total time=   0.4s\n"
     ]
    },
    {
     "name": "stderr",
     "output_type": "stream",
     "text": [
      "C:\\Users\\pbeata\\anaconda3\\envs\\py3-TF2.0\\lib\\site-packages\\sklearn\\linear_model\\_coordinate_descent.py:530: ConvergenceWarning: Objective did not converge. You might want to increase the number of iterations. Duality gap: 788165642345.505, tolerance: 1415056940.006106\n",
      "  model = cd_fast.enet_coordinate_descent(\n"
     ]
    },
    {
     "name": "stdout",
     "output_type": "stream",
     "text": [
      "[CV] END .............................alpha=14, l1_ratio=0.9; total time=   0.6s\n"
     ]
    },
    {
     "name": "stderr",
     "output_type": "stream",
     "text": [
      "C:\\Users\\pbeata\\anaconda3\\envs\\py3-TF2.0\\lib\\site-packages\\sklearn\\linear_model\\_coordinate_descent.py:530: ConvergenceWarning: Objective did not converge. You might want to increase the number of iterations. Duality gap: 768594000107.0034, tolerance: 1438198040.088288\n",
      "  model = cd_fast.enet_coordinate_descent(\n"
     ]
    },
    {
     "name": "stdout",
     "output_type": "stream",
     "text": [
      "[CV] END .............................alpha=14, l1_ratio=0.9; total time=   0.7s\n"
     ]
    },
    {
     "name": "stderr",
     "output_type": "stream",
     "text": [
      "C:\\Users\\pbeata\\anaconda3\\envs\\py3-TF2.0\\lib\\site-packages\\sklearn\\linear_model\\_coordinate_descent.py:530: ConvergenceWarning: Objective did not converge. You might want to increase the number of iterations. Duality gap: 653935388317.2412, tolerance: 1345680018.2551236\n",
      "  model = cd_fast.enet_coordinate_descent(\n"
     ]
    },
    {
     "name": "stdout",
     "output_type": "stream",
     "text": [
      "[CV] END .............................alpha=14, l1_ratio=0.9; total time=   0.5s\n"
     ]
    },
    {
     "name": "stderr",
     "output_type": "stream",
     "text": [
      "C:\\Users\\pbeata\\anaconda3\\envs\\py3-TF2.0\\lib\\site-packages\\sklearn\\linear_model\\_coordinate_descent.py:530: ConvergenceWarning: Objective did not converge. You might want to increase the number of iterations. Duality gap: 456161574490.229, tolerance: 1355206692.5276787\n",
      "  model = cd_fast.enet_coordinate_descent(\n"
     ]
    },
    {
     "name": "stdout",
     "output_type": "stream",
     "text": [
      "[CV] END ............................alpha=14, l1_ratio=0.95; total time=   0.5s\n"
     ]
    },
    {
     "name": "stderr",
     "output_type": "stream",
     "text": [
      "C:\\Users\\pbeata\\anaconda3\\envs\\py3-TF2.0\\lib\\site-packages\\sklearn\\linear_model\\_coordinate_descent.py:530: ConvergenceWarning: Objective did not converge. You might want to increase the number of iterations. Duality gap: 380434285764.02405, tolerance: 1307913805.6588454\n",
      "  model = cd_fast.enet_coordinate_descent(\n"
     ]
    },
    {
     "name": "stdout",
     "output_type": "stream",
     "text": [
      "[CV] END ............................alpha=14, l1_ratio=0.95; total time=   0.5s\n"
     ]
    },
    {
     "name": "stderr",
     "output_type": "stream",
     "text": [
      "C:\\Users\\pbeata\\anaconda3\\envs\\py3-TF2.0\\lib\\site-packages\\sklearn\\linear_model\\_coordinate_descent.py:530: ConvergenceWarning: Objective did not converge. You might want to increase the number of iterations. Duality gap: 483671911502.03925, tolerance: 1415056940.006106\n",
      "  model = cd_fast.enet_coordinate_descent(\n"
     ]
    },
    {
     "name": "stdout",
     "output_type": "stream",
     "text": [
      "[CV] END ............................alpha=14, l1_ratio=0.95; total time=   0.4s\n"
     ]
    },
    {
     "name": "stderr",
     "output_type": "stream",
     "text": [
      "C:\\Users\\pbeata\\anaconda3\\envs\\py3-TF2.0\\lib\\site-packages\\sklearn\\linear_model\\_coordinate_descent.py:530: ConvergenceWarning: Objective did not converge. You might want to increase the number of iterations. Duality gap: 471263981585.3823, tolerance: 1438198040.088288\n",
      "  model = cd_fast.enet_coordinate_descent(\n"
     ]
    },
    {
     "name": "stdout",
     "output_type": "stream",
     "text": [
      "[CV] END ............................alpha=14, l1_ratio=0.95; total time=   0.4s\n"
     ]
    },
    {
     "name": "stderr",
     "output_type": "stream",
     "text": [
      "C:\\Users\\pbeata\\anaconda3\\envs\\py3-TF2.0\\lib\\site-packages\\sklearn\\linear_model\\_coordinate_descent.py:530: ConvergenceWarning: Objective did not converge. You might want to increase the number of iterations. Duality gap: 349115404385.05994, tolerance: 1345680018.2551236\n",
      "  model = cd_fast.enet_coordinate_descent(\n"
     ]
    },
    {
     "name": "stdout",
     "output_type": "stream",
     "text": [
      "[CV] END ............................alpha=14, l1_ratio=0.95; total time=   0.4s\n",
      "[CV] END ............................alpha=14, l1_ratio=0.99; total time=   0.0s\n",
      "[CV] END ............................alpha=14, l1_ratio=0.99; total time=   0.0s\n",
      "[CV] END ............................alpha=14, l1_ratio=0.99; total time=   0.0s\n",
      "[CV] END ............................alpha=14, l1_ratio=0.99; total time=   0.0s\n",
      "[CV] END ............................alpha=14, l1_ratio=0.99; total time=   0.0s\n",
      "[CV] END .............................alpha=14, l1_ratio=1.0; total time=   0.1s\n",
      "[CV] END .............................alpha=14, l1_ratio=1.0; total time=   0.1s\n",
      "[CV] END .............................alpha=14, l1_ratio=1.0; total time=   0.1s\n",
      "[CV] END .............................alpha=14, l1_ratio=1.0; total time=   0.0s\n",
      "[CV] END .............................alpha=14, l1_ratio=1.0; total time=   0.2s\n"
     ]
    },
    {
     "name": "stderr",
     "output_type": "stream",
     "text": [
      "C:\\Users\\pbeata\\anaconda3\\envs\\py3-TF2.0\\lib\\site-packages\\sklearn\\linear_model\\_coordinate_descent.py:530: ConvergenceWarning: Objective did not converge. You might want to increase the number of iterations. Duality gap: 725279053175.1716, tolerance: 1355206692.5276787\n",
      "  model = cd_fast.enet_coordinate_descent(\n"
     ]
    },
    {
     "name": "stdout",
     "output_type": "stream",
     "text": [
      "[CV] END .............................alpha=16, l1_ratio=0.9; total time=   0.3s\n"
     ]
    },
    {
     "name": "stderr",
     "output_type": "stream",
     "text": [
      "C:\\Users\\pbeata\\anaconda3\\envs\\py3-TF2.0\\lib\\site-packages\\sklearn\\linear_model\\_coordinate_descent.py:530: ConvergenceWarning: Objective did not converge. You might want to increase the number of iterations. Duality gap: 695913038083.772, tolerance: 1307913805.6588454\n",
      "  model = cd_fast.enet_coordinate_descent(\n"
     ]
    },
    {
     "name": "stdout",
     "output_type": "stream",
     "text": [
      "[CV] END .............................alpha=16, l1_ratio=0.9; total time=   0.4s\n"
     ]
    },
    {
     "name": "stderr",
     "output_type": "stream",
     "text": [
      "C:\\Users\\pbeata\\anaconda3\\envs\\py3-TF2.0\\lib\\site-packages\\sklearn\\linear_model\\_coordinate_descent.py:530: ConvergenceWarning: Objective did not converge. You might want to increase the number of iterations. Duality gap: 799133855298.6394, tolerance: 1415056940.006106\n",
      "  model = cd_fast.enet_coordinate_descent(\n"
     ]
    },
    {
     "name": "stdout",
     "output_type": "stream",
     "text": [
      "[CV] END .............................alpha=16, l1_ratio=0.9; total time=   0.3s\n"
     ]
    },
    {
     "name": "stderr",
     "output_type": "stream",
     "text": [
      "C:\\Users\\pbeata\\anaconda3\\envs\\py3-TF2.0\\lib\\site-packages\\sklearn\\linear_model\\_coordinate_descent.py:530: ConvergenceWarning: Objective did not converge. You might want to increase the number of iterations. Duality gap: 779236495832.1782, tolerance: 1438198040.088288\n",
      "  model = cd_fast.enet_coordinate_descent(\n"
     ]
    },
    {
     "name": "stdout",
     "output_type": "stream",
     "text": [
      "[CV] END .............................alpha=16, l1_ratio=0.9; total time=   0.3s\n"
     ]
    },
    {
     "name": "stderr",
     "output_type": "stream",
     "text": [
      "C:\\Users\\pbeata\\anaconda3\\envs\\py3-TF2.0\\lib\\site-packages\\sklearn\\linear_model\\_coordinate_descent.py:530: ConvergenceWarning: Objective did not converge. You might want to increase the number of iterations. Duality gap: 663834662919.3665, tolerance: 1345680018.2551236\n",
      "  model = cd_fast.enet_coordinate_descent(\n"
     ]
    },
    {
     "name": "stdout",
     "output_type": "stream",
     "text": [
      "[CV] END .............................alpha=16, l1_ratio=0.9; total time=   0.3s\n"
     ]
    },
    {
     "name": "stderr",
     "output_type": "stream",
     "text": [
      "C:\\Users\\pbeata\\anaconda3\\envs\\py3-TF2.0\\lib\\site-packages\\sklearn\\linear_model\\_coordinate_descent.py:530: ConvergenceWarning: Objective did not converge. You might want to increase the number of iterations. Duality gap: 464914355976.277, tolerance: 1355206692.5276787\n",
      "  model = cd_fast.enet_coordinate_descent(\n"
     ]
    },
    {
     "name": "stdout",
     "output_type": "stream",
     "text": [
      "[CV] END ............................alpha=16, l1_ratio=0.95; total time=   0.3s\n"
     ]
    },
    {
     "name": "stderr",
     "output_type": "stream",
     "text": [
      "C:\\Users\\pbeata\\anaconda3\\envs\\py3-TF2.0\\lib\\site-packages\\sklearn\\linear_model\\_coordinate_descent.py:530: ConvergenceWarning: Objective did not converge. You might want to increase the number of iterations. Duality gap: 389407334136.71906, tolerance: 1307913805.6588454\n",
      "  model = cd_fast.enet_coordinate_descent(\n"
     ]
    },
    {
     "name": "stdout",
     "output_type": "stream",
     "text": [
      "[CV] END ............................alpha=16, l1_ratio=0.95; total time=   0.4s\n"
     ]
    },
    {
     "name": "stderr",
     "output_type": "stream",
     "text": [
      "C:\\Users\\pbeata\\anaconda3\\envs\\py3-TF2.0\\lib\\site-packages\\sklearn\\linear_model\\_coordinate_descent.py:530: ConvergenceWarning: Objective did not converge. You might want to increase the number of iterations. Duality gap: 492426074808.02637, tolerance: 1415056940.006106\n",
      "  model = cd_fast.enet_coordinate_descent(\n"
     ]
    },
    {
     "name": "stdout",
     "output_type": "stream",
     "text": [
      "[CV] END ............................alpha=16, l1_ratio=0.95; total time=   0.3s\n"
     ]
    },
    {
     "name": "stderr",
     "output_type": "stream",
     "text": [
      "C:\\Users\\pbeata\\anaconda3\\envs\\py3-TF2.0\\lib\\site-packages\\sklearn\\linear_model\\_coordinate_descent.py:530: ConvergenceWarning: Objective did not converge. You might want to increase the number of iterations. Duality gap: 479754607648.5721, tolerance: 1438198040.088288\n",
      "  model = cd_fast.enet_coordinate_descent(\n"
     ]
    },
    {
     "name": "stdout",
     "output_type": "stream",
     "text": [
      "[CV] END ............................alpha=16, l1_ratio=0.95; total time=   0.3s\n"
     ]
    },
    {
     "name": "stderr",
     "output_type": "stream",
     "text": [
      "C:\\Users\\pbeata\\anaconda3\\envs\\py3-TF2.0\\lib\\site-packages\\sklearn\\linear_model\\_coordinate_descent.py:530: ConvergenceWarning: Objective did not converge. You might want to increase the number of iterations. Duality gap: 355935284311.04553, tolerance: 1345680018.2551236\n",
      "  model = cd_fast.enet_coordinate_descent(\n"
     ]
    },
    {
     "name": "stdout",
     "output_type": "stream",
     "text": [
      "[CV] END ............................alpha=16, l1_ratio=0.95; total time=   0.3s\n",
      "[CV] END ............................alpha=16, l1_ratio=0.99; total time=   0.0s\n",
      "[CV] END ............................alpha=16, l1_ratio=0.99; total time=   0.0s\n",
      "[CV] END ............................alpha=16, l1_ratio=0.99; total time=   0.0s\n",
      "[CV] END ............................alpha=16, l1_ratio=0.99; total time=   0.0s\n",
      "[CV] END ............................alpha=16, l1_ratio=0.99; total time=   0.0s\n",
      "[CV] END .............................alpha=16, l1_ratio=1.0; total time=   0.2s\n",
      "[CV] END .............................alpha=16, l1_ratio=1.0; total time=   0.1s\n",
      "[CV] END .............................alpha=16, l1_ratio=1.0; total time=   0.1s\n",
      "[CV] END .............................alpha=16, l1_ratio=1.0; total time=   0.0s\n",
      "[CV] END .............................alpha=16, l1_ratio=1.0; total time=   0.1s\n"
     ]
    },
    {
     "name": "stderr",
     "output_type": "stream",
     "text": [
      "C:\\Users\\pbeata\\anaconda3\\envs\\py3-TF2.0\\lib\\site-packages\\sklearn\\linear_model\\_coordinate_descent.py:530: ConvergenceWarning: Objective did not converge. You might want to increase the number of iterations. Duality gap: 734112193045.8467, tolerance: 1355206692.5276787\n",
      "  model = cd_fast.enet_coordinate_descent(\n"
     ]
    },
    {
     "name": "stdout",
     "output_type": "stream",
     "text": [
      "[CV] END .............................alpha=18, l1_ratio=0.9; total time=   0.3s\n"
     ]
    },
    {
     "name": "stderr",
     "output_type": "stream",
     "text": [
      "C:\\Users\\pbeata\\anaconda3\\envs\\py3-TF2.0\\lib\\site-packages\\sklearn\\linear_model\\_coordinate_descent.py:530: ConvergenceWarning: Objective did not converge. You might want to increase the number of iterations. Duality gap: 704832346445.0581, tolerance: 1307913805.6588454\n",
      "  model = cd_fast.enet_coordinate_descent(\n"
     ]
    },
    {
     "name": "stdout",
     "output_type": "stream",
     "text": [
      "[CV] END .............................alpha=18, l1_ratio=0.9; total time=   0.3s\n"
     ]
    },
    {
     "name": "stderr",
     "output_type": "stream",
     "text": [
      "C:\\Users\\pbeata\\anaconda3\\envs\\py3-TF2.0\\lib\\site-packages\\sklearn\\linear_model\\_coordinate_descent.py:530: ConvergenceWarning: Objective did not converge. You might want to increase the number of iterations. Duality gap: 808201804472.9677, tolerance: 1415056940.006106\n",
      "  model = cd_fast.enet_coordinate_descent(\n"
     ]
    },
    {
     "name": "stdout",
     "output_type": "stream",
     "text": [
      "[CV] END .............................alpha=18, l1_ratio=0.9; total time=   0.4s\n"
     ]
    },
    {
     "name": "stderr",
     "output_type": "stream",
     "text": [
      "C:\\Users\\pbeata\\anaconda3\\envs\\py3-TF2.0\\lib\\site-packages\\sklearn\\linear_model\\_coordinate_descent.py:530: ConvergenceWarning: Objective did not converge. You might want to increase the number of iterations. Duality gap: 788046232364.6165, tolerance: 1438198040.088288\n",
      "  model = cd_fast.enet_coordinate_descent(\n"
     ]
    },
    {
     "name": "stdout",
     "output_type": "stream",
     "text": [
      "[CV] END .............................alpha=18, l1_ratio=0.9; total time=   0.5s\n"
     ]
    },
    {
     "name": "stderr",
     "output_type": "stream",
     "text": [
      "C:\\Users\\pbeata\\anaconda3\\envs\\py3-TF2.0\\lib\\site-packages\\sklearn\\linear_model\\_coordinate_descent.py:530: ConvergenceWarning: Objective did not converge. You might want to increase the number of iterations. Duality gap: 672094196229.7571, tolerance: 1345680018.2551236\n",
      "  model = cd_fast.enet_coordinate_descent(\n"
     ]
    },
    {
     "name": "stdout",
     "output_type": "stream",
     "text": [
      "[CV] END .............................alpha=18, l1_ratio=0.9; total time=   0.3s\n"
     ]
    },
    {
     "name": "stderr",
     "output_type": "stream",
     "text": [
      "C:\\Users\\pbeata\\anaconda3\\envs\\py3-TF2.0\\lib\\site-packages\\sklearn\\linear_model\\_coordinate_descent.py:530: ConvergenceWarning: Objective did not converge. You might want to increase the number of iterations. Duality gap: 472435221862.7893, tolerance: 1355206692.5276787\n",
      "  model = cd_fast.enet_coordinate_descent(\n"
     ]
    },
    {
     "name": "stdout",
     "output_type": "stream",
     "text": [
      "[CV] END ............................alpha=18, l1_ratio=0.95; total time=   0.3s\n"
     ]
    },
    {
     "name": "stderr",
     "output_type": "stream",
     "text": [
      "C:\\Users\\pbeata\\anaconda3\\envs\\py3-TF2.0\\lib\\site-packages\\sklearn\\linear_model\\_coordinate_descent.py:530: ConvergenceWarning: Objective did not converge. You might want to increase the number of iterations. Duality gap: 397156762272.2815, tolerance: 1307913805.6588454\n",
      "  model = cd_fast.enet_coordinate_descent(\n"
     ]
    },
    {
     "name": "stdout",
     "output_type": "stream",
     "text": [
      "[CV] END ............................alpha=18, l1_ratio=0.95; total time=   0.4s\n"
     ]
    },
    {
     "name": "stderr",
     "output_type": "stream",
     "text": [
      "C:\\Users\\pbeata\\anaconda3\\envs\\py3-TF2.0\\lib\\site-packages\\sklearn\\linear_model\\_coordinate_descent.py:530: ConvergenceWarning: Objective did not converge. You might want to increase the number of iterations. Duality gap: 499891310795.16785, tolerance: 1415056940.006106\n",
      "  model = cd_fast.enet_coordinate_descent(\n"
     ]
    },
    {
     "name": "stdout",
     "output_type": "stream",
     "text": [
      "[CV] END ............................alpha=18, l1_ratio=0.95; total time=   0.3s\n"
     ]
    },
    {
     "name": "stderr",
     "output_type": "stream",
     "text": [
      "C:\\Users\\pbeata\\anaconda3\\envs\\py3-TF2.0\\lib\\site-packages\\sklearn\\linear_model\\_coordinate_descent.py:530: ConvergenceWarning: Objective did not converge. You might want to increase the number of iterations. Duality gap: 486978570232.0341, tolerance: 1438198040.088288\n",
      "  model = cd_fast.enet_coordinate_descent(\n"
     ]
    },
    {
     "name": "stdout",
     "output_type": "stream",
     "text": [
      "[CV] END ............................alpha=18, l1_ratio=0.95; total time=   0.3s\n"
     ]
    },
    {
     "name": "stderr",
     "output_type": "stream",
     "text": [
      "C:\\Users\\pbeata\\anaconda3\\envs\\py3-TF2.0\\lib\\site-packages\\sklearn\\linear_model\\_coordinate_descent.py:530: ConvergenceWarning: Objective did not converge. You might want to increase the number of iterations. Duality gap: 361910048165.4874, tolerance: 1345680018.2551236\n",
      "  model = cd_fast.enet_coordinate_descent(\n"
     ]
    },
    {
     "name": "stdout",
     "output_type": "stream",
     "text": [
      "[CV] END ............................alpha=18, l1_ratio=0.95; total time=   0.4s\n",
      "[CV] END ............................alpha=18, l1_ratio=0.99; total time=   0.0s\n",
      "[CV] END ............................alpha=18, l1_ratio=0.99; total time=   0.0s\n",
      "[CV] END ............................alpha=18, l1_ratio=0.99; total time=   0.0s\n",
      "[CV] END ............................alpha=18, l1_ratio=0.99; total time=   0.0s\n",
      "[CV] END ............................alpha=18, l1_ratio=0.99; total time=   0.0s\n",
      "[CV] END .............................alpha=18, l1_ratio=1.0; total time=   0.2s\n",
      "[CV] END .............................alpha=18, l1_ratio=1.0; total time=   0.1s\n",
      "[CV] END .............................alpha=18, l1_ratio=1.0; total time=   0.1s\n",
      "[CV] END .............................alpha=18, l1_ratio=1.0; total time=   0.0s\n",
      "[CV] END .............................alpha=18, l1_ratio=1.0; total time=   0.2s\n"
     ]
    },
    {
     "name": "stderr",
     "output_type": "stream",
     "text": [
      "C:\\Users\\pbeata\\anaconda3\\envs\\py3-TF2.0\\lib\\site-packages\\sklearn\\linear_model\\_coordinate_descent.py:530: ConvergenceWarning: Objective did not converge. You might want to increase the number of iterations. Duality gap: 741552156464.3888, tolerance: 1355206692.5276787\n",
      "  model = cd_fast.enet_coordinate_descent(\n"
     ]
    },
    {
     "name": "stdout",
     "output_type": "stream",
     "text": [
      "[CV] END .............................alpha=20, l1_ratio=0.9; total time=   0.4s\n"
     ]
    },
    {
     "name": "stderr",
     "output_type": "stream",
     "text": [
      "C:\\Users\\pbeata\\anaconda3\\envs\\py3-TF2.0\\lib\\site-packages\\sklearn\\linear_model\\_coordinate_descent.py:530: ConvergenceWarning: Objective did not converge. You might want to increase the number of iterations. Duality gap: 712320177775.3374, tolerance: 1307913805.6588454\n",
      "  model = cd_fast.enet_coordinate_descent(\n"
     ]
    },
    {
     "name": "stdout",
     "output_type": "stream",
     "text": [
      "[CV] END .............................alpha=20, l1_ratio=0.9; total time=   0.4s\n"
     ]
    },
    {
     "name": "stderr",
     "output_type": "stream",
     "text": [
      "C:\\Users\\pbeata\\anaconda3\\envs\\py3-TF2.0\\lib\\site-packages\\sklearn\\linear_model\\_coordinate_descent.py:530: ConvergenceWarning: Objective did not converge. You might want to increase the number of iterations. Duality gap: 815800894875.3009, tolerance: 1415056940.006106\n",
      "  model = cd_fast.enet_coordinate_descent(\n"
     ]
    },
    {
     "name": "stdout",
     "output_type": "stream",
     "text": [
      "[CV] END .............................alpha=20, l1_ratio=0.9; total time=   0.4s\n"
     ]
    },
    {
     "name": "stderr",
     "output_type": "stream",
     "text": [
      "C:\\Users\\pbeata\\anaconda3\\envs\\py3-TF2.0\\lib\\site-packages\\sklearn\\linear_model\\_coordinate_descent.py:530: ConvergenceWarning: Objective did not converge. You might want to increase the number of iterations. Duality gap: 795435187772.602, tolerance: 1438198040.088288\n",
      "  model = cd_fast.enet_coordinate_descent(\n"
     ]
    },
    {
     "name": "stdout",
     "output_type": "stream",
     "text": [
      "[CV] END .............................alpha=20, l1_ratio=0.9; total time=   0.4s\n"
     ]
    },
    {
     "name": "stderr",
     "output_type": "stream",
     "text": [
      "C:\\Users\\pbeata\\anaconda3\\envs\\py3-TF2.0\\lib\\site-packages\\sklearn\\linear_model\\_coordinate_descent.py:530: ConvergenceWarning: Objective did not converge. You might want to increase the number of iterations. Duality gap: 679061937277.6241, tolerance: 1345680018.2551236\n",
      "  model = cd_fast.enet_coordinate_descent(\n"
     ]
    },
    {
     "name": "stdout",
     "output_type": "stream",
     "text": [
      "[CV] END .............................alpha=20, l1_ratio=0.9; total time=   0.4s\n"
     ]
    },
    {
     "name": "stderr",
     "output_type": "stream",
     "text": [
      "C:\\Users\\pbeata\\anaconda3\\envs\\py3-TF2.0\\lib\\site-packages\\sklearn\\linear_model\\_coordinate_descent.py:530: ConvergenceWarning: Objective did not converge. You might want to increase the number of iterations. Duality gap: 478966591746.9789, tolerance: 1355206692.5276787\n",
      "  model = cd_fast.enet_coordinate_descent(\n"
     ]
    },
    {
     "name": "stdout",
     "output_type": "stream",
     "text": [
      "[CV] END ............................alpha=20, l1_ratio=0.95; total time=   0.3s\n"
     ]
    },
    {
     "name": "stderr",
     "output_type": "stream",
     "text": [
      "C:\\Users\\pbeata\\anaconda3\\envs\\py3-TF2.0\\lib\\site-packages\\sklearn\\linear_model\\_coordinate_descent.py:530: ConvergenceWarning: Objective did not converge. You might want to increase the number of iterations. Duality gap: 403903240384.8687, tolerance: 1307913805.6588454\n",
      "  model = cd_fast.enet_coordinate_descent(\n"
     ]
    },
    {
     "name": "stdout",
     "output_type": "stream",
     "text": [
      "[CV] END ............................alpha=20, l1_ratio=0.95; total time=   0.4s\n"
     ]
    },
    {
     "name": "stderr",
     "output_type": "stream",
     "text": [
      "C:\\Users\\pbeata\\anaconda3\\envs\\py3-TF2.0\\lib\\site-packages\\sklearn\\linear_model\\_coordinate_descent.py:530: ConvergenceWarning: Objective did not converge. You might want to increase the number of iterations. Duality gap: 506313994605.3892, tolerance: 1415056940.006106\n",
      "  model = cd_fast.enet_coordinate_descent(\n"
     ]
    },
    {
     "name": "stdout",
     "output_type": "stream",
     "text": [
      "[CV] END ............................alpha=20, l1_ratio=0.95; total time=   0.3s\n"
     ]
    },
    {
     "name": "stderr",
     "output_type": "stream",
     "text": [
      "C:\\Users\\pbeata\\anaconda3\\envs\\py3-TF2.0\\lib\\site-packages\\sklearn\\linear_model\\_coordinate_descent.py:530: ConvergenceWarning: Objective did not converge. You might want to increase the number of iterations. Duality gap: 493188468724.5795, tolerance: 1438198040.088288\n",
      "  model = cd_fast.enet_coordinate_descent(\n"
     ]
    },
    {
     "name": "stdout",
     "output_type": "stream",
     "text": [
      "[CV] END ............................alpha=20, l1_ratio=0.95; total time=   0.4s\n"
     ]
    },
    {
     "name": "stderr",
     "output_type": "stream",
     "text": [
      "C:\\Users\\pbeata\\anaconda3\\envs\\py3-TF2.0\\lib\\site-packages\\sklearn\\linear_model\\_coordinate_descent.py:530: ConvergenceWarning: Objective did not converge. You might want to increase the number of iterations. Duality gap: 367177882021.0077, tolerance: 1345680018.2551236\n",
      "  model = cd_fast.enet_coordinate_descent(\n"
     ]
    },
    {
     "name": "stdout",
     "output_type": "stream",
     "text": [
      "[CV] END ............................alpha=20, l1_ratio=0.95; total time=   0.4s\n",
      "[CV] END ............................alpha=20, l1_ratio=0.99; total time=   0.0s\n",
      "[CV] END ............................alpha=20, l1_ratio=0.99; total time=   0.0s\n",
      "[CV] END ............................alpha=20, l1_ratio=0.99; total time=   0.0s\n",
      "[CV] END ............................alpha=20, l1_ratio=0.99; total time=   0.0s\n",
      "[CV] END ............................alpha=20, l1_ratio=0.99; total time=   0.0s\n",
      "[CV] END .............................alpha=20, l1_ratio=1.0; total time=   0.2s\n",
      "[CV] END .............................alpha=20, l1_ratio=1.0; total time=   0.1s\n",
      "[CV] END .............................alpha=20, l1_ratio=1.0; total time=   0.1s\n",
      "[CV] END .............................alpha=20, l1_ratio=1.0; total time=   0.1s\n",
      "[CV] END .............................alpha=20, l1_ratio=1.0; total time=   0.1s\n"
     ]
    },
    {
     "name": "stderr",
     "output_type": "stream",
     "text": [
      "C:\\Users\\pbeata\\anaconda3\\envs\\py3-TF2.0\\lib\\site-packages\\sklearn\\linear_model\\_coordinate_descent.py:530: ConvergenceWarning: Objective did not converge. You might want to increase the number of iterations. Duality gap: 747886039665.096, tolerance: 1355206692.5276787\n",
      "  model = cd_fast.enet_coordinate_descent(\n"
     ]
    },
    {
     "name": "stdout",
     "output_type": "stream",
     "text": [
      "[CV] END .............................alpha=22, l1_ratio=0.9; total time=   0.4s\n"
     ]
    },
    {
     "name": "stderr",
     "output_type": "stream",
     "text": [
      "C:\\Users\\pbeata\\anaconda3\\envs\\py3-TF2.0\\lib\\site-packages\\sklearn\\linear_model\\_coordinate_descent.py:530: ConvergenceWarning: Objective did not converge. You might want to increase the number of iterations. Duality gap: 718672184682.4326, tolerance: 1307913805.6588454\n",
      "  model = cd_fast.enet_coordinate_descent(\n"
     ]
    },
    {
     "name": "stdout",
     "output_type": "stream",
     "text": [
      "[CV] END .............................alpha=22, l1_ratio=0.9; total time=   0.4s\n"
     ]
    },
    {
     "name": "stderr",
     "output_type": "stream",
     "text": [
      "C:\\Users\\pbeata\\anaconda3\\envs\\py3-TF2.0\\lib\\site-packages\\sklearn\\linear_model\\_coordinate_descent.py:530: ConvergenceWarning: Objective did not converge. You might want to increase the number of iterations. Duality gap: 822220960124.4805, tolerance: 1415056940.006106\n",
      "  model = cd_fast.enet_coordinate_descent(\n"
     ]
    },
    {
     "name": "stdout",
     "output_type": "stream",
     "text": [
      "[CV] END .............................alpha=22, l1_ratio=0.9; total time=   0.4s\n"
     ]
    },
    {
     "name": "stderr",
     "output_type": "stream",
     "text": [
      "C:\\Users\\pbeata\\anaconda3\\envs\\py3-TF2.0\\lib\\site-packages\\sklearn\\linear_model\\_coordinate_descent.py:530: ConvergenceWarning: Objective did not converge. You might want to increase the number of iterations. Duality gap: 801683863527.4916, tolerance: 1438198040.088288\n",
      "  model = cd_fast.enet_coordinate_descent(\n"
     ]
    },
    {
     "name": "stdout",
     "output_type": "stream",
     "text": [
      "[CV] END .............................alpha=22, l1_ratio=0.9; total time=   0.4s\n"
     ]
    },
    {
     "name": "stderr",
     "output_type": "stream",
     "text": [
      "C:\\Users\\pbeata\\anaconda3\\envs\\py3-TF2.0\\lib\\site-packages\\sklearn\\linear_model\\_coordinate_descent.py:530: ConvergenceWarning: Objective did not converge. You might want to increase the number of iterations. Duality gap: 684991890261.4104, tolerance: 1345680018.2551236\n",
      "  model = cd_fast.enet_coordinate_descent(\n"
     ]
    },
    {
     "name": "stdout",
     "output_type": "stream",
     "text": [
      "[CV] END .............................alpha=22, l1_ratio=0.9; total time=   0.4s\n"
     ]
    },
    {
     "name": "stderr",
     "output_type": "stream",
     "text": [
      "C:\\Users\\pbeata\\anaconda3\\envs\\py3-TF2.0\\lib\\site-packages\\sklearn\\linear_model\\_coordinate_descent.py:530: ConvergenceWarning: Objective did not converge. You might want to increase the number of iterations. Duality gap: 484678318655.48047, tolerance: 1355206692.5276787\n",
      "  model = cd_fast.enet_coordinate_descent(\n"
     ]
    },
    {
     "name": "stdout",
     "output_type": "stream",
     "text": [
      "[CV] END ............................alpha=22, l1_ratio=0.95; total time=   0.3s\n"
     ]
    },
    {
     "name": "stderr",
     "output_type": "stream",
     "text": [
      "C:\\Users\\pbeata\\anaconda3\\envs\\py3-TF2.0\\lib\\site-packages\\sklearn\\linear_model\\_coordinate_descent.py:530: ConvergenceWarning: Objective did not converge. You might want to increase the number of iterations. Duality gap: 409814350144.9557, tolerance: 1307913805.6588454\n",
      "  model = cd_fast.enet_coordinate_descent(\n"
     ]
    },
    {
     "name": "stdout",
     "output_type": "stream",
     "text": [
      "[CV] END ............................alpha=22, l1_ratio=0.95; total time=   0.4s\n"
     ]
    },
    {
     "name": "stderr",
     "output_type": "stream",
     "text": [
      "C:\\Users\\pbeata\\anaconda3\\envs\\py3-TF2.0\\lib\\site-packages\\sklearn\\linear_model\\_coordinate_descent.py:530: ConvergenceWarning: Objective did not converge. You might want to increase the number of iterations. Duality gap: 511880407353.2757, tolerance: 1415056940.006106\n",
      "  model = cd_fast.enet_coordinate_descent(\n"
     ]
    },
    {
     "name": "stdout",
     "output_type": "stream",
     "text": [
      "[CV] END ............................alpha=22, l1_ratio=0.95; total time=   0.4s\n"
     ]
    },
    {
     "name": "stderr",
     "output_type": "stream",
     "text": [
      "C:\\Users\\pbeata\\anaconda3\\envs\\py3-TF2.0\\lib\\site-packages\\sklearn\\linear_model\\_coordinate_descent.py:530: ConvergenceWarning: Objective did not converge. You might want to increase the number of iterations. Duality gap: 498564929896.06616, tolerance: 1438198040.088288\n",
      "  model = cd_fast.enet_coordinate_descent(\n"
     ]
    },
    {
     "name": "stdout",
     "output_type": "stream",
     "text": [
      "[CV] END ............................alpha=22, l1_ratio=0.95; total time=   0.4s\n"
     ]
    },
    {
     "name": "stderr",
     "output_type": "stream",
     "text": [
      "C:\\Users\\pbeata\\anaconda3\\envs\\py3-TF2.0\\lib\\site-packages\\sklearn\\linear_model\\_coordinate_descent.py:530: ConvergenceWarning: Objective did not converge. You might want to increase the number of iterations. Duality gap: 371845782427.0448, tolerance: 1345680018.2551236\n",
      "  model = cd_fast.enet_coordinate_descent(\n"
     ]
    },
    {
     "name": "stdout",
     "output_type": "stream",
     "text": [
      "[CV] END ............................alpha=22, l1_ratio=0.95; total time=   0.4s\n",
      "[CV] END ............................alpha=22, l1_ratio=0.99; total time=   0.0s\n",
      "[CV] END ............................alpha=22, l1_ratio=0.99; total time=   0.0s\n",
      "[CV] END ............................alpha=22, l1_ratio=0.99; total time=   0.0s\n",
      "[CV] END ............................alpha=22, l1_ratio=0.99; total time=   0.0s\n",
      "[CV] END ............................alpha=22, l1_ratio=0.99; total time=   0.0s\n",
      "[CV] END .............................alpha=22, l1_ratio=1.0; total time=   0.2s\n",
      "[CV] END .............................alpha=22, l1_ratio=1.0; total time=   0.0s\n",
      "[CV] END .............................alpha=22, l1_ratio=1.0; total time=   0.2s\n",
      "[CV] END .............................alpha=22, l1_ratio=1.0; total time=   0.1s\n",
      "[CV] END .............................alpha=22, l1_ratio=1.0; total time=   0.1s\n"
     ]
    },
    {
     "name": "stderr",
     "output_type": "stream",
     "text": [
      "C:\\Users\\pbeata\\anaconda3\\envs\\py3-TF2.0\\lib\\site-packages\\sklearn\\linear_model\\_coordinate_descent.py:530: ConvergenceWarning: Objective did not converge. You might want to increase the number of iterations. Duality gap: 753324989961.1138, tolerance: 1355206692.5276787\n",
      "  model = cd_fast.enet_coordinate_descent(\n"
     ]
    },
    {
     "name": "stdout",
     "output_type": "stream",
     "text": [
      "[CV] END .............................alpha=24, l1_ratio=0.9; total time=   0.4s\n"
     ]
    },
    {
     "name": "stderr",
     "output_type": "stream",
     "text": [
      "C:\\Users\\pbeata\\anaconda3\\envs\\py3-TF2.0\\lib\\site-packages\\sklearn\\linear_model\\_coordinate_descent.py:530: ConvergenceWarning: Objective did not converge. You might want to increase the number of iterations. Duality gap: 724112150975.1445, tolerance: 1307913805.6588454\n",
      "  model = cd_fast.enet_coordinate_descent(\n"
     ]
    },
    {
     "name": "stdout",
     "output_type": "stream",
     "text": [
      "[CV] END .............................alpha=24, l1_ratio=0.9; total time=   0.4s\n"
     ]
    },
    {
     "name": "stderr",
     "output_type": "stream",
     "text": [
      "C:\\Users\\pbeata\\anaconda3\\envs\\py3-TF2.0\\lib\\site-packages\\sklearn\\linear_model\\_coordinate_descent.py:530: ConvergenceWarning: Objective did not converge. You might want to increase the number of iterations. Duality gap: 827697835556.8778, tolerance: 1415056940.006106\n",
      "  model = cd_fast.enet_coordinate_descent(\n"
     ]
    },
    {
     "name": "stdout",
     "output_type": "stream",
     "text": [
      "[CV] END .............................alpha=24, l1_ratio=0.9; total time=   0.4s\n"
     ]
    },
    {
     "name": "stderr",
     "output_type": "stream",
     "text": [
      "C:\\Users\\pbeata\\anaconda3\\envs\\py3-TF2.0\\lib\\site-packages\\sklearn\\linear_model\\_coordinate_descent.py:530: ConvergenceWarning: Objective did not converge. You might want to increase the number of iterations. Duality gap: 807019556720.6278, tolerance: 1438198040.088288\n",
      "  model = cd_fast.enet_coordinate_descent(\n"
     ]
    },
    {
     "name": "stdout",
     "output_type": "stream",
     "text": [
      "[CV] END .............................alpha=24, l1_ratio=0.9; total time=   0.3s\n"
     ]
    },
    {
     "name": "stderr",
     "output_type": "stream",
     "text": [
      "C:\\Users\\pbeata\\anaconda3\\envs\\py3-TF2.0\\lib\\site-packages\\sklearn\\linear_model\\_coordinate_descent.py:530: ConvergenceWarning: Objective did not converge. You might want to increase the number of iterations. Duality gap: 690074462979.8518, tolerance: 1345680018.2551236\n",
      "  model = cd_fast.enet_coordinate_descent(\n"
     ]
    },
    {
     "name": "stdout",
     "output_type": "stream",
     "text": [
      "[CV] END .............................alpha=24, l1_ratio=0.9; total time=   0.4s\n"
     ]
    },
    {
     "name": "stderr",
     "output_type": "stream",
     "text": [
      "C:\\Users\\pbeata\\anaconda3\\envs\\py3-TF2.0\\lib\\site-packages\\sklearn\\linear_model\\_coordinate_descent.py:530: ConvergenceWarning: Objective did not converge. You might want to increase the number of iterations. Duality gap: 489702686616.4783, tolerance: 1355206692.5276787\n",
      "  model = cd_fast.enet_coordinate_descent(\n"
     ]
    },
    {
     "name": "stdout",
     "output_type": "stream",
     "text": [
      "[CV] END ............................alpha=24, l1_ratio=0.95; total time=   0.4s\n"
     ]
    },
    {
     "name": "stderr",
     "output_type": "stream",
     "text": [
      "C:\\Users\\pbeata\\anaconda3\\envs\\py3-TF2.0\\lib\\site-packages\\sklearn\\linear_model\\_coordinate_descent.py:530: ConvergenceWarning: Objective did not converge. You might want to increase the number of iterations. Duality gap: 415016239322.28864, tolerance: 1307913805.6588454\n",
      "  model = cd_fast.enet_coordinate_descent(\n"
     ]
    },
    {
     "name": "stdout",
     "output_type": "stream",
     "text": [
      "[CV] END ............................alpha=24, l1_ratio=0.95; total time=   0.5s\n"
     ]
    },
    {
     "name": "stderr",
     "output_type": "stream",
     "text": [
      "C:\\Users\\pbeata\\anaconda3\\envs\\py3-TF2.0\\lib\\site-packages\\sklearn\\linear_model\\_coordinate_descent.py:530: ConvergenceWarning: Objective did not converge. You might want to increase the number of iterations. Duality gap: 516733633228.07837, tolerance: 1415056940.006106\n",
      "  model = cd_fast.enet_coordinate_descent(\n"
     ]
    },
    {
     "name": "stdout",
     "output_type": "stream",
     "text": [
      "[CV] END ............................alpha=24, l1_ratio=0.95; total time=   0.5s\n"
     ]
    },
    {
     "name": "stderr",
     "output_type": "stream",
     "text": [
      "C:\\Users\\pbeata\\anaconda3\\envs\\py3-TF2.0\\lib\\site-packages\\sklearn\\linear_model\\_coordinate_descent.py:530: ConvergenceWarning: Objective did not converge. You might want to increase the number of iterations. Duality gap: 503250332197.701, tolerance: 1438198040.088288\n",
      "  model = cd_fast.enet_coordinate_descent(\n"
     ]
    },
    {
     "name": "stdout",
     "output_type": "stream",
     "text": [
      "[CV] END ............................alpha=24, l1_ratio=0.95; total time=   0.4s\n"
     ]
    },
    {
     "name": "stderr",
     "output_type": "stream",
     "text": [
      "C:\\Users\\pbeata\\anaconda3\\envs\\py3-TF2.0\\lib\\site-packages\\sklearn\\linear_model\\_coordinate_descent.py:530: ConvergenceWarning: Objective did not converge. You might want to increase the number of iterations. Duality gap: 375998370252.06995, tolerance: 1345680018.2551236\n",
      "  model = cd_fast.enet_coordinate_descent(\n"
     ]
    },
    {
     "name": "stdout",
     "output_type": "stream",
     "text": [
      "[CV] END ............................alpha=24, l1_ratio=0.95; total time=   0.4s\n",
      "[CV] END ............................alpha=24, l1_ratio=0.99; total time=   0.0s\n",
      "[CV] END ............................alpha=24, l1_ratio=0.99; total time=   0.0s\n",
      "[CV] END ............................alpha=24, l1_ratio=0.99; total time=   0.0s\n",
      "[CV] END ............................alpha=24, l1_ratio=0.99; total time=   0.0s\n",
      "[CV] END ............................alpha=24, l1_ratio=0.99; total time=   0.0s\n",
      "[CV] END .............................alpha=24, l1_ratio=1.0; total time=   0.2s\n",
      "[CV] END .............................alpha=24, l1_ratio=1.0; total time=   0.1s\n",
      "[CV] END .............................alpha=24, l1_ratio=1.0; total time=   0.2s\n",
      "[CV] END .............................alpha=24, l1_ratio=1.0; total time=   0.2s\n",
      "[CV] END .............................alpha=24, l1_ratio=1.0; total time=   0.1s\n"
     ]
    },
    {
     "name": "stderr",
     "output_type": "stream",
     "text": [
      "C:\\Users\\pbeata\\anaconda3\\envs\\py3-TF2.0\\lib\\site-packages\\sklearn\\linear_model\\_coordinate_descent.py:530: ConvergenceWarning: Objective did not converge. You might want to increase the number of iterations. Duality gap: 758032845435.9791, tolerance: 1355206692.5276787\n",
      "  model = cd_fast.enet_coordinate_descent(\n"
     ]
    },
    {
     "name": "stdout",
     "output_type": "stream",
     "text": [
      "[CV] END .............................alpha=26, l1_ratio=0.9; total time=   0.6s\n"
     ]
    },
    {
     "name": "stderr",
     "output_type": "stream",
     "text": [
      "C:\\Users\\pbeata\\anaconda3\\envs\\py3-TF2.0\\lib\\site-packages\\sklearn\\linear_model\\_coordinate_descent.py:530: ConvergenceWarning: Objective did not converge. You might want to increase the number of iterations. Duality gap: 728793659557.6989, tolerance: 1307913805.6588454\n",
      "  model = cd_fast.enet_coordinate_descent(\n"
     ]
    },
    {
     "name": "stdout",
     "output_type": "stream",
     "text": [
      "[CV] END .............................alpha=26, l1_ratio=0.9; total time=   0.5s\n"
     ]
    },
    {
     "name": "stderr",
     "output_type": "stream",
     "text": [
      "C:\\Users\\pbeata\\anaconda3\\envs\\py3-TF2.0\\lib\\site-packages\\sklearn\\linear_model\\_coordinate_descent.py:530: ConvergenceWarning: Objective did not converge. You might want to increase the number of iterations. Duality gap: 832402823229.4955, tolerance: 1415056940.006106\n",
      "  model = cd_fast.enet_coordinate_descent(\n"
     ]
    },
    {
     "name": "stdout",
     "output_type": "stream",
     "text": [
      "[CV] END .............................alpha=26, l1_ratio=0.9; total time=   0.4s\n"
     ]
    },
    {
     "name": "stderr",
     "output_type": "stream",
     "text": [
      "C:\\Users\\pbeata\\anaconda3\\envs\\py3-TF2.0\\lib\\site-packages\\sklearn\\linear_model\\_coordinate_descent.py:530: ConvergenceWarning: Objective did not converge. You might want to increase the number of iterations. Duality gap: 811613048709.0248, tolerance: 1438198040.088288\n",
      "  model = cd_fast.enet_coordinate_descent(\n"
     ]
    },
    {
     "name": "stdout",
     "output_type": "stream",
     "text": [
      "[CV] END .............................alpha=26, l1_ratio=0.9; total time=   0.4s\n"
     ]
    },
    {
     "name": "stderr",
     "output_type": "stream",
     "text": [
      "C:\\Users\\pbeata\\anaconda3\\envs\\py3-TF2.0\\lib\\site-packages\\sklearn\\linear_model\\_coordinate_descent.py:530: ConvergenceWarning: Objective did not converge. You might want to increase the number of iterations. Duality gap: 694455696337.6937, tolerance: 1345680018.2551236\n",
      "  model = cd_fast.enet_coordinate_descent(\n"
     ]
    },
    {
     "name": "stdout",
     "output_type": "stream",
     "text": [
      "[CV] END .............................alpha=26, l1_ratio=0.9; total time=   0.4s\n"
     ]
    },
    {
     "name": "stderr",
     "output_type": "stream",
     "text": [
      "C:\\Users\\pbeata\\anaconda3\\envs\\py3-TF2.0\\lib\\site-packages\\sklearn\\linear_model\\_coordinate_descent.py:530: ConvergenceWarning: Objective did not converge. You might want to increase the number of iterations. Duality gap: 494151018154.2243, tolerance: 1355206692.5276787\n",
      "  model = cd_fast.enet_coordinate_descent(\n"
     ]
    },
    {
     "name": "stdout",
     "output_type": "stream",
     "text": [
      "[CV] END ............................alpha=26, l1_ratio=0.95; total time=   0.4s\n"
     ]
    },
    {
     "name": "stderr",
     "output_type": "stream",
     "text": [
      "C:\\Users\\pbeata\\anaconda3\\envs\\py3-TF2.0\\lib\\site-packages\\sklearn\\linear_model\\_coordinate_descent.py:530: ConvergenceWarning: Objective did not converge. You might want to increase the number of iterations. Duality gap: 419614266631.9477, tolerance: 1307913805.6588454\n",
      "  model = cd_fast.enet_coordinate_descent(\n"
     ]
    },
    {
     "name": "stdout",
     "output_type": "stream",
     "text": [
      "[CV] END ............................alpha=26, l1_ratio=0.95; total time=   0.4s\n"
     ]
    },
    {
     "name": "stderr",
     "output_type": "stream",
     "text": [
      "C:\\Users\\pbeata\\anaconda3\\envs\\py3-TF2.0\\lib\\site-packages\\sklearn\\linear_model\\_coordinate_descent.py:530: ConvergenceWarning: Objective did not converge. You might want to increase the number of iterations. Duality gap: 520985711191.05255, tolerance: 1415056940.006106\n",
      "  model = cd_fast.enet_coordinate_descent(\n"
     ]
    },
    {
     "name": "stdout",
     "output_type": "stream",
     "text": [
      "[CV] END ............................alpha=26, l1_ratio=0.95; total time=   0.4s\n"
     ]
    },
    {
     "name": "stderr",
     "output_type": "stream",
     "text": [
      "C:\\Users\\pbeata\\anaconda3\\envs\\py3-TF2.0\\lib\\site-packages\\sklearn\\linear_model\\_coordinate_descent.py:530: ConvergenceWarning: Objective did not converge. You might want to increase the number of iterations. Duality gap: 507358179876.87134, tolerance: 1438198040.088288\n",
      "  model = cd_fast.enet_coordinate_descent(\n"
     ]
    },
    {
     "name": "stdout",
     "output_type": "stream",
     "text": [
      "[CV] END ............................alpha=26, l1_ratio=0.95; total time=   0.4s\n"
     ]
    },
    {
     "name": "stderr",
     "output_type": "stream",
     "text": [
      "C:\\Users\\pbeata\\anaconda3\\envs\\py3-TF2.0\\lib\\site-packages\\sklearn\\linear_model\\_coordinate_descent.py:530: ConvergenceWarning: Objective did not converge. You might want to increase the number of iterations. Duality gap: 379704867650.79443, tolerance: 1345680018.2551236\n",
      "  model = cd_fast.enet_coordinate_descent(\n"
     ]
    },
    {
     "name": "stdout",
     "output_type": "stream",
     "text": [
      "[CV] END ............................alpha=26, l1_ratio=0.95; total time=   0.4s\n",
      "[CV] END ............................alpha=26, l1_ratio=0.99; total time=   0.0s\n",
      "[CV] END ............................alpha=26, l1_ratio=0.99; total time=   0.0s\n",
      "[CV] END ............................alpha=26, l1_ratio=0.99; total time=   0.0s\n",
      "[CV] END ............................alpha=26, l1_ratio=0.99; total time=   0.0s\n",
      "[CV] END ............................alpha=26, l1_ratio=0.99; total time=   0.0s\n",
      "[CV] END .............................alpha=26, l1_ratio=1.0; total time=   0.1s\n",
      "[CV] END .............................alpha=26, l1_ratio=1.0; total time=   0.0s\n",
      "[CV] END .............................alpha=26, l1_ratio=1.0; total time=   0.1s\n",
      "[CV] END .............................alpha=26, l1_ratio=1.0; total time=   0.1s\n",
      "[CV] END .............................alpha=26, l1_ratio=1.0; total time=   0.1s\n"
     ]
    },
    {
     "name": "stderr",
     "output_type": "stream",
     "text": [
      "C:\\Users\\pbeata\\anaconda3\\envs\\py3-TF2.0\\lib\\site-packages\\sklearn\\linear_model\\_coordinate_descent.py:530: ConvergenceWarning: Objective did not converge. You might want to increase the number of iterations. Duality gap: 762132569717.4592, tolerance: 1355206692.5276787\n",
      "  model = cd_fast.enet_coordinate_descent(\n"
     ]
    },
    {
     "name": "stdout",
     "output_type": "stream",
     "text": [
      "[CV] END .............................alpha=28, l1_ratio=0.9; total time=   0.3s\n"
     ]
    },
    {
     "name": "stderr",
     "output_type": "stream",
     "text": [
      "C:\\Users\\pbeata\\anaconda3\\envs\\py3-TF2.0\\lib\\site-packages\\sklearn\\linear_model\\_coordinate_descent.py:530: ConvergenceWarning: Objective did not converge. You might want to increase the number of iterations. Duality gap: 732844557981.0322, tolerance: 1307913805.6588454\n",
      "  model = cd_fast.enet_coordinate_descent(\n"
     ]
    },
    {
     "name": "stdout",
     "output_type": "stream",
     "text": [
      "[CV] END .............................alpha=28, l1_ratio=0.9; total time=   0.4s\n"
     ]
    },
    {
     "name": "stderr",
     "output_type": "stream",
     "text": [
      "C:\\Users\\pbeata\\anaconda3\\envs\\py3-TF2.0\\lib\\site-packages\\sklearn\\linear_model\\_coordinate_descent.py:530: ConvergenceWarning: Objective did not converge. You might want to increase the number of iterations. Duality gap: 836471759485.703, tolerance: 1415056940.006106\n",
      "  model = cd_fast.enet_coordinate_descent(\n"
     ]
    },
    {
     "name": "stdout",
     "output_type": "stream",
     "text": [
      "[CV] END .............................alpha=28, l1_ratio=0.9; total time=   0.3s\n"
     ]
    },
    {
     "name": "stderr",
     "output_type": "stream",
     "text": [
      "C:\\Users\\pbeata\\anaconda3\\envs\\py3-TF2.0\\lib\\site-packages\\sklearn\\linear_model\\_coordinate_descent.py:530: ConvergenceWarning: Objective did not converge. You might want to increase the number of iterations. Duality gap: 815577276185.4133, tolerance: 1438198040.088288\n",
      "  model = cd_fast.enet_coordinate_descent(\n"
     ]
    },
    {
     "name": "stdout",
     "output_type": "stream",
     "text": [
      "[CV] END .............................alpha=28, l1_ratio=0.9; total time=   0.3s\n"
     ]
    },
    {
     "name": "stderr",
     "output_type": "stream",
     "text": [
      "C:\\Users\\pbeata\\anaconda3\\envs\\py3-TF2.0\\lib\\site-packages\\sklearn\\linear_model\\_coordinate_descent.py:530: ConvergenceWarning: Objective did not converge. You might want to increase the number of iterations. Duality gap: 698249043828.739, tolerance: 1345680018.2551236\n",
      "  model = cd_fast.enet_coordinate_descent(\n"
     ]
    },
    {
     "name": "stdout",
     "output_type": "stream",
     "text": [
      "[CV] END .............................alpha=28, l1_ratio=0.9; total time=   0.4s\n"
     ]
    },
    {
     "name": "stderr",
     "output_type": "stream",
     "text": [
      "C:\\Users\\pbeata\\anaconda3\\envs\\py3-TF2.0\\lib\\site-packages\\sklearn\\linear_model\\_coordinate_descent.py:530: ConvergenceWarning: Objective did not converge. You might want to increase the number of iterations. Duality gap: 498102409117.4171, tolerance: 1355206692.5276787\n",
      "  model = cd_fast.enet_coordinate_descent(\n"
     ]
    },
    {
     "name": "stdout",
     "output_type": "stream",
     "text": [
      "[CV] END ............................alpha=28, l1_ratio=0.95; total time=   0.5s\n"
     ]
    },
    {
     "name": "stderr",
     "output_type": "stream",
     "text": [
      "C:\\Users\\pbeata\\anaconda3\\envs\\py3-TF2.0\\lib\\site-packages\\sklearn\\linear_model\\_coordinate_descent.py:530: ConvergenceWarning: Objective did not converge. You might want to increase the number of iterations. Duality gap: 423715287864.7682, tolerance: 1307913805.6588454\n",
      "  model = cd_fast.enet_coordinate_descent(\n"
     ]
    },
    {
     "name": "stdout",
     "output_type": "stream",
     "text": [
      "[CV] END ............................alpha=28, l1_ratio=0.95; total time=   0.5s\n"
     ]
    },
    {
     "name": "stderr",
     "output_type": "stream",
     "text": [
      "C:\\Users\\pbeata\\anaconda3\\envs\\py3-TF2.0\\lib\\site-packages\\sklearn\\linear_model\\_coordinate_descent.py:530: ConvergenceWarning: Objective did not converge. You might want to increase the number of iterations. Duality gap: 524725865902.90283, tolerance: 1415056940.006106\n",
      "  model = cd_fast.enet_coordinate_descent(\n"
     ]
    },
    {
     "name": "stdout",
     "output_type": "stream",
     "text": [
      "[CV] END ............................alpha=28, l1_ratio=0.95; total time=   0.6s\n"
     ]
    },
    {
     "name": "stderr",
     "output_type": "stream",
     "text": [
      "C:\\Users\\pbeata\\anaconda3\\envs\\py3-TF2.0\\lib\\site-packages\\sklearn\\linear_model\\_coordinate_descent.py:530: ConvergenceWarning: Objective did not converge. You might want to increase the number of iterations. Duality gap: 510970662679.35455, tolerance: 1438198040.088288\n",
      "  model = cd_fast.enet_coordinate_descent(\n"
     ]
    },
    {
     "name": "stdout",
     "output_type": "stream",
     "text": [
      "[CV] END ............................alpha=28, l1_ratio=0.95; total time=   0.5s\n"
     ]
    },
    {
     "name": "stderr",
     "output_type": "stream",
     "text": [
      "C:\\Users\\pbeata\\anaconda3\\envs\\py3-TF2.0\\lib\\site-packages\\sklearn\\linear_model\\_coordinate_descent.py:530: ConvergenceWarning: Objective did not converge. You might want to increase the number of iterations. Duality gap: 383022089270.1826, tolerance: 1345680018.2551236\n",
      "  model = cd_fast.enet_coordinate_descent(\n"
     ]
    },
    {
     "name": "stdout",
     "output_type": "stream",
     "text": [
      "[CV] END ............................alpha=28, l1_ratio=0.95; total time=   0.6s\n",
      "[CV] END ............................alpha=28, l1_ratio=0.99; total time=   0.0s\n",
      "[CV] END ............................alpha=28, l1_ratio=0.99; total time=   0.0s\n",
      "[CV] END ............................alpha=28, l1_ratio=0.99; total time=   0.0s\n",
      "[CV] END ............................alpha=28, l1_ratio=0.99; total time=   0.0s\n",
      "[CV] END ............................alpha=28, l1_ratio=0.99; total time=   0.0s\n",
      "[CV] END .............................alpha=28, l1_ratio=1.0; total time=   0.2s\n",
      "[CV] END .............................alpha=28, l1_ratio=1.0; total time=   0.1s\n",
      "[CV] END .............................alpha=28, l1_ratio=1.0; total time=   0.2s\n",
      "[CV] END .............................alpha=28, l1_ratio=1.0; total time=   0.2s\n",
      "[CV] END .............................alpha=28, l1_ratio=1.0; total time=   0.1s\n"
     ]
    },
    {
     "name": "stderr",
     "output_type": "stream",
     "text": [
      "C:\\Users\\pbeata\\anaconda3\\envs\\py3-TF2.0\\lib\\site-packages\\sklearn\\linear_model\\_coordinate_descent.py:530: ConvergenceWarning: Objective did not converge. You might want to increase the number of iterations. Duality gap: 765716788287.7736, tolerance: 1355206692.5276787\n",
      "  model = cd_fast.enet_coordinate_descent(\n"
     ]
    },
    {
     "name": "stdout",
     "output_type": "stream",
     "text": [
      "[CV] END .............................alpha=30, l1_ratio=0.9; total time=   0.5s\n"
     ]
    },
    {
     "name": "stderr",
     "output_type": "stream",
     "text": [
      "C:\\Users\\pbeata\\anaconda3\\envs\\py3-TF2.0\\lib\\site-packages\\sklearn\\linear_model\\_coordinate_descent.py:530: ConvergenceWarning: Objective did not converge. You might want to increase the number of iterations. Duality gap: 736360677539.6583, tolerance: 1307913805.6588454\n",
      "  model = cd_fast.enet_coordinate_descent(\n"
     ]
    },
    {
     "name": "stdout",
     "output_type": "stream",
     "text": [
      "[CV] END .............................alpha=30, l1_ratio=0.9; total time=   0.5s\n"
     ]
    },
    {
     "name": "stderr",
     "output_type": "stream",
     "text": [
      "C:\\Users\\pbeata\\anaconda3\\envs\\py3-TF2.0\\lib\\site-packages\\sklearn\\linear_model\\_coordinate_descent.py:530: ConvergenceWarning: Objective did not converge. You might want to increase the number of iterations. Duality gap: 840005730401.5388, tolerance: 1415056940.006106\n",
      "  model = cd_fast.enet_coordinate_descent(\n"
     ]
    },
    {
     "name": "stdout",
     "output_type": "stream",
     "text": [
      "[CV] END .............................alpha=30, l1_ratio=0.9; total time=   0.4s\n"
     ]
    },
    {
     "name": "stderr",
     "output_type": "stream",
     "text": [
      "C:\\Users\\pbeata\\anaconda3\\envs\\py3-TF2.0\\lib\\site-packages\\sklearn\\linear_model\\_coordinate_descent.py:530: ConvergenceWarning: Objective did not converge. You might want to increase the number of iterations. Duality gap: 819018153876.9548, tolerance: 1438198040.088288\n",
      "  model = cd_fast.enet_coordinate_descent(\n"
     ]
    },
    {
     "name": "stdout",
     "output_type": "stream",
     "text": [
      "[CV] END .............................alpha=30, l1_ratio=0.9; total time=   0.4s\n"
     ]
    },
    {
     "name": "stderr",
     "output_type": "stream",
     "text": [
      "C:\\Users\\pbeata\\anaconda3\\envs\\py3-TF2.0\\lib\\site-packages\\sklearn\\linear_model\\_coordinate_descent.py:530: ConvergenceWarning: Objective did not converge. You might want to increase the number of iterations. Duality gap: 701544475374.3324, tolerance: 1345680018.2551236\n",
      "  model = cd_fast.enet_coordinate_descent(\n"
     ]
    },
    {
     "name": "stdout",
     "output_type": "stream",
     "text": [
      "[CV] END .............................alpha=30, l1_ratio=0.9; total time=   0.6s\n"
     ]
    },
    {
     "name": "stderr",
     "output_type": "stream",
     "text": [
      "C:\\Users\\pbeata\\anaconda3\\envs\\py3-TF2.0\\lib\\site-packages\\sklearn\\linear_model\\_coordinate_descent.py:530: ConvergenceWarning: Objective did not converge. You might want to increase the number of iterations. Duality gap: 501628893397.226, tolerance: 1355206692.5276787\n",
      "  model = cd_fast.enet_coordinate_descent(\n"
     ]
    },
    {
     "name": "stdout",
     "output_type": "stream",
     "text": [
      "[CV] END ............................alpha=30, l1_ratio=0.95; total time=   0.7s\n"
     ]
    },
    {
     "name": "stderr",
     "output_type": "stream",
     "text": [
      "C:\\Users\\pbeata\\anaconda3\\envs\\py3-TF2.0\\lib\\site-packages\\sklearn\\linear_model\\_coordinate_descent.py:530: ConvergenceWarning: Objective did not converge. You might want to increase the number of iterations. Duality gap: 427368747181.8229, tolerance: 1307913805.6588454\n",
      "  model = cd_fast.enet_coordinate_descent(\n"
     ]
    },
    {
     "name": "stdout",
     "output_type": "stream",
     "text": [
      "[CV] END ............................alpha=30, l1_ratio=0.95; total time=   0.6s\n"
     ]
    },
    {
     "name": "stderr",
     "output_type": "stream",
     "text": [
      "C:\\Users\\pbeata\\anaconda3\\envs\\py3-TF2.0\\lib\\site-packages\\sklearn\\linear_model\\_coordinate_descent.py:530: ConvergenceWarning: Objective did not converge. You might want to increase the number of iterations. Duality gap: 528026534387.9383, tolerance: 1415056940.006106\n",
      "  model = cd_fast.enet_coordinate_descent(\n"
     ]
    },
    {
     "name": "stdout",
     "output_type": "stream",
     "text": [
      "[CV] END ............................alpha=30, l1_ratio=0.95; total time=   0.4s\n"
     ]
    },
    {
     "name": "stderr",
     "output_type": "stream",
     "text": [
      "C:\\Users\\pbeata\\anaconda3\\envs\\py3-TF2.0\\lib\\site-packages\\sklearn\\linear_model\\_coordinate_descent.py:530: ConvergenceWarning: Objective did not converge. You might want to increase the number of iterations. Duality gap: 514161535378.91626, tolerance: 1438198040.088288\n",
      "  model = cd_fast.enet_coordinate_descent(\n"
     ]
    },
    {
     "name": "stdout",
     "output_type": "stream",
     "text": [
      "[CV] END ............................alpha=30, l1_ratio=0.95; total time=   0.4s\n"
     ]
    },
    {
     "name": "stderr",
     "output_type": "stream",
     "text": [
      "C:\\Users\\pbeata\\anaconda3\\envs\\py3-TF2.0\\lib\\site-packages\\sklearn\\linear_model\\_coordinate_descent.py:530: ConvergenceWarning: Objective did not converge. You might want to increase the number of iterations. Duality gap: 385997007469.5862, tolerance: 1345680018.2551236\n",
      "  model = cd_fast.enet_coordinate_descent(\n"
     ]
    },
    {
     "name": "stdout",
     "output_type": "stream",
     "text": [
      "[CV] END ............................alpha=30, l1_ratio=0.95; total time=   0.4s\n",
      "[CV] END ............................alpha=30, l1_ratio=0.99; total time=   0.0s\n",
      "[CV] END ............................alpha=30, l1_ratio=0.99; total time=   0.0s\n",
      "[CV] END ............................alpha=30, l1_ratio=0.99; total time=   0.0s\n",
      "[CV] END ............................alpha=30, l1_ratio=0.99; total time=   0.0s\n",
      "[CV] END ............................alpha=30, l1_ratio=0.99; total time=   0.0s\n",
      "[CV] END .............................alpha=30, l1_ratio=1.0; total time=   0.1s\n",
      "[CV] END .............................alpha=30, l1_ratio=1.0; total time=   0.0s\n",
      "[CV] END .............................alpha=30, l1_ratio=1.0; total time=   0.1s\n",
      "[CV] END .............................alpha=30, l1_ratio=1.0; total time=   0.1s\n",
      "[CV] END .............................alpha=30, l1_ratio=1.0; total time=   0.1s\n"
     ]
    },
    {
     "name": "stderr",
     "output_type": "stream",
     "text": [
      "C:\\Users\\pbeata\\anaconda3\\envs\\py3-TF2.0\\lib\\site-packages\\sklearn\\linear_model\\_coordinate_descent.py:530: ConvergenceWarning: Objective did not converge. You might want to increase the number of iterations. Duality gap: 768863049012.2845, tolerance: 1355206692.5276787\n",
      "  model = cd_fast.enet_coordinate_descent(\n"
     ]
    },
    {
     "name": "stdout",
     "output_type": "stream",
     "text": [
      "[CV] END .............................alpha=32, l1_ratio=0.9; total time=   0.4s\n"
     ]
    },
    {
     "name": "stderr",
     "output_type": "stream",
     "text": [
      "C:\\Users\\pbeata\\anaconda3\\envs\\py3-TF2.0\\lib\\site-packages\\sklearn\\linear_model\\_coordinate_descent.py:530: ConvergenceWarning: Objective did not converge. You might want to increase the number of iterations. Duality gap: 739427666852.7379, tolerance: 1307913805.6588454\n",
      "  model = cd_fast.enet_coordinate_descent(\n"
     ]
    },
    {
     "name": "stdout",
     "output_type": "stream",
     "text": [
      "[CV] END .............................alpha=32, l1_ratio=0.9; total time=   0.5s\n"
     ]
    },
    {
     "name": "stderr",
     "output_type": "stream",
     "text": [
      "C:\\Users\\pbeata\\anaconda3\\envs\\py3-TF2.0\\lib\\site-packages\\sklearn\\linear_model\\_coordinate_descent.py:530: ConvergenceWarning: Objective did not converge. You might want to increase the number of iterations. Duality gap: 843083124938.6581, tolerance: 1415056940.006106\n",
      "  model = cd_fast.enet_coordinate_descent(\n"
     ]
    },
    {
     "name": "stdout",
     "output_type": "stream",
     "text": [
      "[CV] END .............................alpha=32, l1_ratio=0.9; total time=   0.4s\n"
     ]
    },
    {
     "name": "stderr",
     "output_type": "stream",
     "text": [
      "C:\\Users\\pbeata\\anaconda3\\envs\\py3-TF2.0\\lib\\site-packages\\sklearn\\linear_model\\_coordinate_descent.py:530: ConvergenceWarning: Objective did not converge. You might want to increase the number of iterations. Duality gap: 822016210067.9722, tolerance: 1438198040.088288\n",
      "  model = cd_fast.enet_coordinate_descent(\n"
     ]
    },
    {
     "name": "stdout",
     "output_type": "stream",
     "text": [
      "[CV] END .............................alpha=32, l1_ratio=0.9; total time=   0.4s\n"
     ]
    },
    {
     "name": "stderr",
     "output_type": "stream",
     "text": [
      "C:\\Users\\pbeata\\anaconda3\\envs\\py3-TF2.0\\lib\\site-packages\\sklearn\\linear_model\\_coordinate_descent.py:530: ConvergenceWarning: Objective did not converge. You might want to increase the number of iterations. Duality gap: 704414235881.3082, tolerance: 1345680018.2551236\n",
      "  model = cd_fast.enet_coordinate_descent(\n"
     ]
    },
    {
     "name": "stdout",
     "output_type": "stream",
     "text": [
      "[CV] END .............................alpha=32, l1_ratio=0.9; total time=   0.4s\n"
     ]
    },
    {
     "name": "stderr",
     "output_type": "stream",
     "text": [
      "C:\\Users\\pbeata\\anaconda3\\envs\\py3-TF2.0\\lib\\site-packages\\sklearn\\linear_model\\_coordinate_descent.py:530: ConvergenceWarning: Objective did not converge. You might want to increase the number of iterations. Duality gap: 504785893963.6347, tolerance: 1355206692.5276787\n",
      "  model = cd_fast.enet_coordinate_descent(\n"
     ]
    },
    {
     "name": "stdout",
     "output_type": "stream",
     "text": [
      "[CV] END ............................alpha=32, l1_ratio=0.95; total time=   0.4s\n"
     ]
    },
    {
     "name": "stderr",
     "output_type": "stream",
     "text": [
      "C:\\Users\\pbeata\\anaconda3\\envs\\py3-TF2.0\\lib\\site-packages\\sklearn\\linear_model\\_coordinate_descent.py:530: ConvergenceWarning: Objective did not converge. You might want to increase the number of iterations. Duality gap: 430621138104.3981, tolerance: 1307913805.6588454\n",
      "  model = cd_fast.enet_coordinate_descent(\n"
     ]
    },
    {
     "name": "stdout",
     "output_type": "stream",
     "text": [
      "[CV] END ............................alpha=32, l1_ratio=0.95; total time=   0.4s\n"
     ]
    },
    {
     "name": "stderr",
     "output_type": "stream",
     "text": [
      "C:\\Users\\pbeata\\anaconda3\\envs\\py3-TF2.0\\lib\\site-packages\\sklearn\\linear_model\\_coordinate_descent.py:530: ConvergenceWarning: Objective did not converge. You might want to increase the number of iterations. Duality gap: 530946074005.8925, tolerance: 1415056940.006106\n",
      "  model = cd_fast.enet_coordinate_descent(\n"
     ]
    },
    {
     "name": "stdout",
     "output_type": "stream",
     "text": [
      "[CV] END ............................alpha=32, l1_ratio=0.95; total time=   0.4s\n"
     ]
    },
    {
     "name": "stderr",
     "output_type": "stream",
     "text": [
      "C:\\Users\\pbeata\\anaconda3\\envs\\py3-TF2.0\\lib\\site-packages\\sklearn\\linear_model\\_coordinate_descent.py:530: ConvergenceWarning: Objective did not converge. You might want to increase the number of iterations. Duality gap: 516983312776.9459, tolerance: 1438198040.088288\n",
      "  model = cd_fast.enet_coordinate_descent(\n"
     ]
    },
    {
     "name": "stdout",
     "output_type": "stream",
     "text": [
      "[CV] END ............................alpha=32, l1_ratio=0.95; total time=   0.6s\n"
     ]
    },
    {
     "name": "stderr",
     "output_type": "stream",
     "text": [
      "C:\\Users\\pbeata\\anaconda3\\envs\\py3-TF2.0\\lib\\site-packages\\sklearn\\linear_model\\_coordinate_descent.py:530: ConvergenceWarning: Objective did not converge. You might want to increase the number of iterations. Duality gap: 388669248588.2582, tolerance: 1345680018.2551236\n",
      "  model = cd_fast.enet_coordinate_descent(\n"
     ]
    },
    {
     "name": "stdout",
     "output_type": "stream",
     "text": [
      "[CV] END ............................alpha=32, l1_ratio=0.95; total time=   0.7s\n",
      "[CV] END ............................alpha=32, l1_ratio=0.99; total time=   0.0s\n",
      "[CV] END ............................alpha=32, l1_ratio=0.99; total time=   0.0s\n",
      "[CV] END ............................alpha=32, l1_ratio=0.99; total time=   0.0s\n",
      "[CV] END ............................alpha=32, l1_ratio=0.99; total time=   0.0s\n",
      "[CV] END ............................alpha=32, l1_ratio=0.99; total time=   0.0s\n",
      "[CV] END .............................alpha=32, l1_ratio=1.0; total time=   0.1s\n",
      "[CV] END .............................alpha=32, l1_ratio=1.0; total time=   0.0s\n",
      "[CV] END .............................alpha=32, l1_ratio=1.0; total time=   0.1s\n",
      "[CV] END .............................alpha=32, l1_ratio=1.0; total time=   0.1s\n",
      "[CV] END .............................alpha=32, l1_ratio=1.0; total time=   0.1s\n"
     ]
    },
    {
     "data": {
      "text/plain": [
       "GridSearchCV(cv=5, estimator=ElasticNet(),\n",
       "             param_grid={'alpha': array([ 8, 10, 12, 14, 16, 18, 20, 22, 24, 26, 28, 30, 32]),\n",
       "                         'l1_ratio': [0.9, 0.95, 0.99, 1.0]},\n",
       "             scoring='neg_mean_squared_error', verbose=2)"
      ]
     },
     "execution_count": 29,
     "metadata": {},
     "output_type": "execute_result"
    }
   ],
   "source": [
    "new_grid.fit(X_train, y_train)"
   ]
  },
  {
   "cell_type": "code",
   "execution_count": 30,
   "id": "hybrid-schema",
   "metadata": {},
   "outputs": [
    {
     "data": {
      "text/plain": [
       "{'alpha': 14, 'l1_ratio': 1.0}"
      ]
     },
     "execution_count": 30,
     "metadata": {},
     "output_type": "execute_result"
    }
   ],
   "source": [
    "new_grid.best_params_"
   ]
  },
  {
   "cell_type": "markdown",
   "id": "ethical-cincinnati",
   "metadata": {},
   "source": [
    "Therefore, we will use an alpha value of either 14 or 16 in the elastic net regression model. The alpha is simply a constant that multiplies the penalty terms. If we use an alpha of 0, this is equal to normal linear regression.\n",
    "\n",
    "For reference, the scikit-learn documentation says that the l1_ratio is the \"the ElasticNet mixing parameter, with 0 <= l1_ratio <= 1. For l1_ratio = 0 the penalty is an L2 penalty. For l1_ratio = 1 it is an L1 penalty. For 0 < l1_ratio < 1, the penalty is a combination of L1 and L2.\" Therefore, with an l1_ratio of 1.0, we are using the pure L1 penalty method (Lasso)."
   ]
  },
  {
   "cell_type": "markdown",
   "id": "guilty-credit",
   "metadata": {},
   "source": [
    "#### Elastic Net Model Predictions"
   ]
  },
  {
   "cell_type": "code",
   "execution_count": 62,
   "id": "actual-wrestling",
   "metadata": {},
   "outputs": [],
   "source": [
    "from sklearn.metrics import mean_squared_error, mean_absolute_error"
   ]
  },
  {
   "cell_type": "code",
   "execution_count": 26,
   "id": "corrected-merchandise",
   "metadata": {},
   "outputs": [
    {
     "name": "stdout",
     "output_type": "stream",
     "text": [
      "MAE:  $14197.05\n",
      "RMSE: $20172.62\n"
     ]
    }
   ],
   "source": [
    "# alpha = 16\n",
    "y_pred = grid.predict(X_test)\n",
    "mae = mean_absolute_error(y_test, y_pred)\n",
    "rmse = np.sqrt(mean_squared_error(y_test, y_pred))\n",
    "\n",
    "print(f'MAE:  ${round(mae, 2)}')\n",
    "print(f'RMSE: ${round(rmse, 2)}')"
   ]
  },
  {
   "cell_type": "code",
   "execution_count": 31,
   "id": "qualified-parker",
   "metadata": {},
   "outputs": [
    {
     "name": "stdout",
     "output_type": "stream",
     "text": [
      "MAE:  $14216.35\n",
      "RMSE: $20225.65\n"
     ]
    }
   ],
   "source": [
    "# alpha = 14\n",
    "new_pred = new_grid.predict(X_test)\n",
    "new_mae = mean_absolute_error(y_test, new_pred)\n",
    "new_rmse = np.sqrt(mean_squared_error(y_test, new_pred))\n",
    "\n",
    "print(f'MAE:  ${round(new_mae, 2)}')\n",
    "print(f'RMSE: ${round(new_rmse, 2)}')"
   ]
  },
  {
   "cell_type": "code",
   "execution_count": 27,
   "id": "broadband-season",
   "metadata": {},
   "outputs": [
    {
     "name": "stdout",
     "output_type": "stream",
     "text": [
      "Mean Sale Price: $ 180815.54\n"
     ]
    }
   ],
   "source": [
    "# what was the mean sale price in our dataset?\n",
    "mean_price = np.mean(df['SalePrice'])\n",
    "print( \"Mean Sale Price: $\", round(mean_price, 2) )"
   ]
  },
  {
   "cell_type": "code",
   "execution_count": 32,
   "id": "central-oliver",
   "metadata": {},
   "outputs": [
    {
     "name": "stdout",
     "output_type": "stream",
     "text": [
      "Elastic Net Percent Error: \n",
      "MAE: 7.85 %\n",
      "RMSE: 11.16 %\n"
     ]
    }
   ],
   "source": [
    "# percent error\n",
    "print(\"Elastic Net Percent Error: \")\n",
    "print(\"MAE:\", round( 100 * (mae / mean_price), 2), \"%\" )\n",
    "print(\"RMSE:\", round( 100 * (rmse / mean_price), 2), \"%\" )"
   ]
  },
  {
   "cell_type": "markdown",
   "id": "central-consent",
   "metadata": {},
   "source": [
    "Plot the predicted values versus the actual known values for the target prices (y_test):"
   ]
  },
  {
   "cell_type": "markdown",
   "id": "recorded-recommendation",
   "metadata": {},
   "source": [
    "In order to test various models, I created this function so that we can produce the same plot as the one above and automatically compute the mean absolute error and mean squared error:"
   ]
  },
  {
   "cell_type": "code",
   "execution_count": 96,
   "id": "intellectual-dollar",
   "metadata": {},
   "outputs": [],
   "source": [
    "def run_model(model, X_train, y_train, X_test, y_test):\n",
    "    \n",
    "    # FIT MODEL TRAINING\n",
    "    model.fit(X_train, y_train)\n",
    "    \n",
    "    # GET METRICS\n",
    "    y_pred = model.predict(X_test)\n",
    "    rmse = np.sqrt(mean_squared_error(y_test, y_pred))\n",
    "    mae = mean_absolute_error(y_test, y_pred)\n",
    "    print(f'MAE:  ${round(mae, 2)}')\n",
    "    print(f'RMSE: ${round(rmse, 2)}')\n",
    "    \n",
    "    # PLOT PREDICTIONS VS TARGET\n",
    "    plt.figure(figsize=(4,4), dpi=100)\n",
    "    sns.scatterplot(x=y_test, y=y_pred, alpha=0.5, color='black')\n",
    "    plt.xticks(rotation=45)\n",
    "    plt.xlabel('Actual Sale Price (Target)')\n",
    "    plt.ylabel('Predicted House Value')\n",
    "#     plt.title('Predicted House Price VS Actual Sale Price', fontsize=12)\n",
    "    \n",
    "    # PLOT THE PERFECT RELATIONSHIP LINE\n",
    "    x_line = [np.min(y_test), np.max(y_test)]\n",
    "    y_line = [np.min(y_test), np.max(y_test)]\n",
    "    plt.plot(x_line, y_line, 'r-', label='Ideal Fit')\n",
    "    plt.legend()\n",
    "    \n",
    "    # SAVE THE FIGURE\n",
    "    plt.tight_layout()\n",
    "    plt.savefig('linear_house_model_results.png', dpi=200)\n",
    "    plt.show()"
   ]
  },
  {
   "cell_type": "code",
   "execution_count": 99,
   "id": "nuclear-cooler",
   "metadata": {},
   "outputs": [
    {
     "name": "stdout",
     "output_type": "stream",
     "text": [
      "MAE:  $14197.05\n",
      "RMSE: $20172.62\n"
     ]
    },
    {
     "data": {
      "image/png": "[encoded data removed]",
      "text/plain": [
       "<Figure size 400x400 with 1 Axes>"
      ]
     },
     "metadata": {
      "needs_background": "light"
     },
     "output_type": "display_data"
    }
   ],
   "source": [
    "net_model = ElasticNet(alpha=16, l1_ratio=1, max_iter=100000)\n",
    "run_model(net_model, X_train, y_train, X_test, y_test)"
   ]
  },
  {
   "cell_type": "markdown",
   "id": "common-collector",
   "metadata": {},
   "source": [
    "### Model 2: Ordinary Linear Regression"
   ]
  },
  {
   "cell_type": "code",
   "execution_count": 82,
   "id": "offensive-remedy",
   "metadata": {},
   "outputs": [],
   "source": [
    "from sklearn.linear_model import LinearRegression"
   ]
  },
  {
   "cell_type": "code",
   "execution_count": 98,
   "id": "wireless-assembly",
   "metadata": {},
   "outputs": [
    {
     "name": "stdout",
     "output_type": "stream",
     "text": [
      "MAE:  $14576.7\n",
      "RMSE: $20849.78\n"
     ]
    },
    {
     "data": {
      "image/png": "[encoded data removed]",
      "text/plain": [
       "<Figure size 400x400 with 1 Axes>"
      ]
     },
     "metadata": {
      "needs_background": "light"
     },
     "output_type": "display_data"
    }
   ],
   "source": [
    "lin_model = LinearRegression()\n",
    "run_model(lin_model, X_train_scaled, y_train, X_test_scaled, y_test)"
   ]
  },
  {
   "cell_type": "markdown",
   "id": "intimate-albany",
   "metadata": {},
   "source": [
    "### Model 3: Lasso Regression Only"
   ]
  },
  {
   "cell_type": "markdown",
   "id": "spatial-combat",
   "metadata": {},
   "source": [
    "Lasso regularization allows for a sort of \"automatic\" feature selection as some of the model coefficients could become exactly zero when using Lasso for regression."
   ]
  },
  {
   "cell_type": "code",
   "execution_count": 41,
   "id": "blind-asbestos",
   "metadata": {},
   "outputs": [],
   "source": [
    "from sklearn.linear_model import LassoCV"
   ]
  },
  {
   "cell_type": "code",
   "execution_count": 42,
   "id": "rocky-fellow",
   "metadata": {},
   "outputs": [
    {
     "data": {
      "text/plain": [
       "LassoCV(cv=10, eps=0.0001, max_iter=1000000, n_alphas=256)"
      ]
     },
     "execution_count": 42,
     "metadata": {},
     "output_type": "execute_result"
    }
   ],
   "source": [
    "# use Lasso cross-validation for regression on 10 folds (testing several alpha values)\n",
    "lasso_model = LassoCV(eps=0.0001, n_alphas=256, cv=10, max_iter=1000000)\n",
    "lasso_model.fit(X_train_scaled, y_train)"
   ]
  },
  {
   "cell_type": "code",
   "execution_count": 43,
   "id": "cardiac-hearing",
   "metadata": {},
   "outputs": [
    {
     "data": {
      "text/plain": [
       "108.25071540394585"
      ]
     },
     "execution_count": 43,
     "metadata": {},
     "output_type": "execute_result"
    }
   ],
   "source": [
    "# the best alpha hyperparameter:\n",
    "lasso_model.alpha_"
   ]
  },
  {
   "cell_type": "code",
   "execution_count": 44,
   "id": "postal-eleven",
   "metadata": {},
   "outputs": [
    {
     "data": {
      "text/html": [
       "<div>\n",
       "<style scoped>\n",
       "    .dataframe tbody tr th:only-of-type {\n",
       "        vertical-align: middle;\n",
       "    }\n",
       "\n",
       "    .dataframe tbody tr th {\n",
       "        vertical-align: top;\n",
       "    }\n",
       "\n",
       "    .dataframe thead th {\n",
       "        text-align: right;\n",
       "    }\n",
       "</style>\n",
       "<table border=\"1\" class=\"dataframe\">\n",
       "  <thead>\n",
       "    <tr style=\"text-align: right;\">\n",
       "      <th></th>\n",
       "      <th>Coefficient</th>\n",
       "    </tr>\n",
       "  </thead>\n",
       "  <tbody>\n",
       "    <tr>\n",
       "      <th>count</th>\n",
       "      <td>273.000000</td>\n",
       "    </tr>\n",
       "    <tr>\n",
       "      <th>mean</th>\n",
       "      <td>313.295164</td>\n",
       "    </tr>\n",
       "    <tr>\n",
       "      <th>std</th>\n",
       "      <td>2778.847641</td>\n",
       "    </tr>\n",
       "    <tr>\n",
       "      <th>min</th>\n",
       "      <td>-10623.600355</td>\n",
       "    </tr>\n",
       "    <tr>\n",
       "      <th>25%</th>\n",
       "      <td>-346.885720</td>\n",
       "    </tr>\n",
       "    <tr>\n",
       "      <th>50%</th>\n",
       "      <td>0.000000</td>\n",
       "    </tr>\n",
       "    <tr>\n",
       "      <th>75%</th>\n",
       "      <td>605.984548</td>\n",
       "    </tr>\n",
       "    <tr>\n",
       "      <th>max</th>\n",
       "      <td>28127.643257</td>\n",
       "    </tr>\n",
       "  </tbody>\n",
       "</table>\n",
       "</div>"
      ],
      "text/plain": [
       "        Coefficient\n",
       "count    273.000000\n",
       "mean     313.295164\n",
       "std     2778.847641\n",
       "min   -10623.600355\n",
       "25%     -346.885720\n",
       "50%        0.000000\n",
       "75%      605.984548\n",
       "max    28127.643257"
      ]
     },
     "execution_count": 44,
     "metadata": {},
     "output_type": "execute_result"
    }
   ],
   "source": [
    "# here we can clearly see how some of the model coefficients were determined to be zero\n",
    "lasso_coefs = pd.DataFrame(data=lasso_model.coef_,\n",
    "                           index=X.columns,\n",
    "                           columns=['Coefficient'])\n",
    "lasso_coefs.describe()"
   ]
  },
  {
   "cell_type": "code",
   "execution_count": 45,
   "id": "charged-third",
   "metadata": {},
   "outputs": [
    {
     "data": {
      "text/html": [
       "<div>\n",
       "<style scoped>\n",
       "    .dataframe tbody tr th:only-of-type {\n",
       "        vertical-align: middle;\n",
       "    }\n",
       "\n",
       "    .dataframe tbody tr th {\n",
       "        vertical-align: top;\n",
       "    }\n",
       "\n",
       "    .dataframe thead th {\n",
       "        text-align: right;\n",
       "    }\n",
       "</style>\n",
       "<table border=\"1\" class=\"dataframe\">\n",
       "  <thead>\n",
       "    <tr style=\"text-align: right;\">\n",
       "      <th></th>\n",
       "      <th>Coefficient</th>\n",
       "    </tr>\n",
       "  </thead>\n",
       "  <tbody>\n",
       "    <tr>\n",
       "      <th>Bsmt Unf SF</th>\n",
       "      <td>-0.0</td>\n",
       "    </tr>\n",
       "    <tr>\n",
       "      <th>1st Flr SF</th>\n",
       "      <td>0.0</td>\n",
       "    </tr>\n",
       "    <tr>\n",
       "      <th>TotRms AbvGrd</th>\n",
       "      <td>0.0</td>\n",
       "    </tr>\n",
       "    <tr>\n",
       "      <th>Garage Yr Blt</th>\n",
       "      <td>-0.0</td>\n",
       "    </tr>\n",
       "    <tr>\n",
       "      <th>3Ssn Porch</th>\n",
       "      <td>-0.0</td>\n",
       "    </tr>\n",
       "    <tr>\n",
       "      <th>...</th>\n",
       "      <td>...</td>\n",
       "    </tr>\n",
       "    <tr>\n",
       "      <th>Garage Cond_None</th>\n",
       "      <td>0.0</td>\n",
       "    </tr>\n",
       "    <tr>\n",
       "      <th>Garage Cond_TA</th>\n",
       "      <td>0.0</td>\n",
       "    </tr>\n",
       "    <tr>\n",
       "      <th>Paved Drive_Y</th>\n",
       "      <td>0.0</td>\n",
       "    </tr>\n",
       "    <tr>\n",
       "      <th>Sale Type_VWD</th>\n",
       "      <td>-0.0</td>\n",
       "    </tr>\n",
       "    <tr>\n",
       "      <th>Sale Condition_Family</th>\n",
       "      <td>0.0</td>\n",
       "    </tr>\n",
       "  </tbody>\n",
       "</table>\n",
       "<p>68 rows × 1 columns</p>\n",
       "</div>"
      ],
      "text/plain": [
       "                       Coefficient\n",
       "Bsmt Unf SF                   -0.0\n",
       "1st Flr SF                     0.0\n",
       "TotRms AbvGrd                  0.0\n",
       "Garage Yr Blt                 -0.0\n",
       "3Ssn Porch                    -0.0\n",
       "...                            ...\n",
       "Garage Cond_None               0.0\n",
       "Garage Cond_TA                 0.0\n",
       "Paved Drive_Y                  0.0\n",
       "Sale Type_VWD                 -0.0\n",
       "Sale Condition_Family          0.0\n",
       "\n",
       "[68 rows x 1 columns]"
      ]
     },
     "execution_count": 45,
     "metadata": {},
     "output_type": "execute_result"
    }
   ],
   "source": [
    "# display the coefficients equal to zero only\n",
    "lasso_coefs[ lasso_coefs['Coefficient'] == 0.0 ]"
   ]
  },
  {
   "cell_type": "markdown",
   "id": "underlying-heart",
   "metadata": {},
   "source": [
    "**We can see here from the table above that there are 68 coefficients that are equal to zero.** This implies that 68 of the 273 features (which includes the dummy variables created during preprocessing) will not be used in the model predictions."
   ]
  },
  {
   "cell_type": "code",
   "execution_count": 46,
   "id": "elder-possible",
   "metadata": {},
   "outputs": [
    {
     "name": "stdout",
     "output_type": "stream",
     "text": [
      "MAE:  $13443.1\n",
      "RMSE: $19768.42\n"
     ]
    }
   ],
   "source": [
    "# check the accuracy of predictions on the TRAINING data\n",
    "y_pred = lasso_model.predict(X_train_scaled)\n",
    "rmse = np.sqrt(mean_squared_error(y_train, y_pred))\n",
    "mae = mean_absolute_error(y_train, y_pred)\n",
    "\n",
    "print(f'MAE:  ${round(mae, 2)}')\n",
    "print(f'RMSE: ${round(rmse, 2)}')"
   ]
  },
  {
   "cell_type": "code",
   "execution_count": 47,
   "id": "german-apparel",
   "metadata": {},
   "outputs": [
    {
     "name": "stdout",
     "output_type": "stream",
     "text": [
      "MAE:  $14191.32\n",
      "RMSE: $20554.11\n"
     ]
    }
   ],
   "source": [
    "# check the accuracy of predictions on the TESTING data\n",
    "y_pred = lasso_model.predict(X_test_scaled)\n",
    "rmse = np.sqrt(mean_squared_error(y_test, y_pred))\n",
    "mae = mean_absolute_error(y_test, y_pred)\n",
    "\n",
    "print(f'MAE:  ${round(mae, 2)}')\n",
    "print(f'RMSE: ${round(rmse, 2)}')"
   ]
  },
  {
   "cell_type": "markdown",
   "id": "cathedral-filter",
   "metadata": {},
   "source": [
    "### Model 4: Ridge Regression Only"
   ]
  },
  {
   "cell_type": "code",
   "execution_count": 48,
   "id": "least-roller",
   "metadata": {},
   "outputs": [],
   "source": [
    "from sklearn.linear_model import RidgeCV"
   ]
  },
  {
   "cell_type": "code",
   "execution_count": 49,
   "id": "extreme-aerospace",
   "metadata": {},
   "outputs": [
    {
     "data": {
      "text/plain": [
       "RidgeCV(alphas=array([  1,   2,   4,   8,  16,  32,  64, 128, 256]), cv=10)"
      ]
     },
     "execution_count": 49,
     "metadata": {},
     "output_type": "execute_result"
    }
   ],
   "source": [
    "ridge_model = RidgeCV(alphas=[1, 2, 4, 8, 16, 32, 64, 128, 256], cv=10)\n",
    "ridge_model.fit(X_train_scaled, y_train)"
   ]
  },
  {
   "cell_type": "code",
   "execution_count": 50,
   "id": "christian-alabama",
   "metadata": {},
   "outputs": [
    {
     "data": {
      "text/plain": [
       "64"
      ]
     },
     "execution_count": 50,
     "metadata": {},
     "output_type": "execute_result"
    }
   ],
   "source": [
    "ridge_model.alpha_"
   ]
  },
  {
   "cell_type": "code",
   "execution_count": 51,
   "id": "empirical-tragedy",
   "metadata": {},
   "outputs": [
    {
     "name": "stdout",
     "output_type": "stream",
     "text": [
      "MAE:  $14275.03\n",
      "RMSE: $20866.82\n"
     ]
    }
   ],
   "source": [
    "y_pred = ridge_model.predict(X_test_scaled)\n",
    "rmse = np.sqrt(mean_squared_error(y_test, y_pred))\n",
    "mae = mean_absolute_error(y_test, y_pred)\n",
    "\n",
    "print(f'MAE:  ${round(mae, 2)}')\n",
    "print(f'RMSE: ${round(rmse, 2)}')"
   ]
  },
  {
   "cell_type": "markdown",
   "id": "confident-neighbor",
   "metadata": {},
   "source": [
    "### Model 5: Random Forest Regressor"
   ]
  },
  {
   "cell_type": "code",
   "execution_count": 101,
   "id": "surrounded-canada",
   "metadata": {},
   "outputs": [],
   "source": [
    "from sklearn.ensemble import RandomForestRegressor"
   ]
  },
  {
   "cell_type": "code",
   "execution_count": 102,
   "id": "pointed-steam",
   "metadata": {},
   "outputs": [
    {
     "name": "stdout",
     "output_type": "stream",
     "text": [
      "MAE:  $15366.47\n",
      "RMSE: $21807.27\n"
     ]
    }
   ],
   "source": [
    "# random forest regressor model with scikit-learn default values: \n",
    "rfr_model = RandomForestRegressor()\n",
    "rfr_model.fit(X_train_scaled, y_train)\n",
    "rfr_pred = rfr_model.predict(X_test_scaled)\n",
    "\n",
    "rmse = np.sqrt(mean_squared_error(y_test, rfr_pred))\n",
    "mae = mean_absolute_error(y_test, rfr_pred)\n",
    "\n",
    "print(f'MAE:  ${round(mae, 2)}')\n",
    "print(f'RMSE: ${round(rmse, 2)}')"
   ]
  },
  {
   "cell_type": "code",
   "execution_count": 55,
   "id": "disturbed-enzyme",
   "metadata": {},
   "outputs": [],
   "source": [
    "# CREATE A PARAMETER GRID TO SEARCH FOR THE BEST HYPERPARAMETERS\n",
    "# Note: this could take a long time depending on your machine's hardware\n",
    "\n",
    "n_estimators = [50, 100, 200]\n",
    "max_features = ['auto', 'sqrt', 'log2', 16, 32]\n",
    "# criterion = ['mse', 'mae']\n",
    "max_depth = [2, 4, 6, 8, 10, 'None']\n",
    "\n",
    "param_grid = {'n_estimators': n_estimators,\n",
    "              'max_features': max_features,\n",
    "#               'criterion': criterion,\n",
    "              'max_depth': max_depth}"
   ]
  },
  {
   "cell_type": "code",
   "execution_count": 57,
   "id": "unable-excuse",
   "metadata": {},
   "outputs": [],
   "source": [
    "rfr_grid = GridSearchCV(rfr_model, param_grid, verbose=2, cv=5)"
   ]
  },
  {
   "cell_type": "code",
   "execution_count": 58,
   "id": "offensive-specific",
   "metadata": {},
   "outputs": [
    {
     "name": "stdout",
     "output_type": "stream",
     "text": [
      "Fitting 5 folds for each of 90 candidates, totalling 450 fits\n",
      "[CV] END ....max_depth=2, max_features=auto, n_estimators=50; total time=   0.2s\n",
      "[CV] END ....max_depth=2, max_features=auto, n_estimators=50; total time=   0.2s\n",
      "[CV] END ....max_depth=2, max_features=auto, n_estimators=50; total time=   0.2s\n",
      "[CV] END ....max_depth=2, max_features=auto, n_estimators=50; total time=   0.2s\n",
      "[CV] END ....max_depth=2, max_features=auto, n_estimators=50; total time=   0.2s\n",
      "[CV] END ...max_depth=2, max_features=auto, n_estimators=100; total time=   0.6s\n",
      "[CV] END ...max_depth=2, max_features=auto, n_estimators=100; total time=   0.6s\n",
      "[CV] END ...max_depth=2, max_features=auto, n_estimators=100; total time=   0.6s\n",
      "[CV] END ...max_depth=2, max_features=auto, n_estimators=100; total time=   0.6s\n",
      "[CV] END ...max_depth=2, max_features=auto, n_estimators=100; total time=   0.6s\n",
      "[CV] END ...max_depth=2, max_features=auto, n_estimators=200; total time=   1.2s\n",
      "[CV] END ...max_depth=2, max_features=auto, n_estimators=200; total time=   1.2s\n",
      "[CV] END ...max_depth=2, max_features=auto, n_estimators=200; total time=   1.2s\n",
      "[CV] END ...max_depth=2, max_features=auto, n_estimators=200; total time=   1.4s\n",
      "[CV] END ...max_depth=2, max_features=auto, n_estimators=200; total time=   1.5s\n",
      "[CV] END ....max_depth=2, max_features=sqrt, n_estimators=50; total time=   0.0s\n",
      "[CV] END ....max_depth=2, max_features=sqrt, n_estimators=50; total time=   0.0s\n",
      "[CV] END ....max_depth=2, max_features=sqrt, n_estimators=50; total time=   0.0s\n",
      "[CV] END ....max_depth=2, max_features=sqrt, n_estimators=50; total time=   0.0s\n",
      "[CV] END ....max_depth=2, max_features=sqrt, n_estimators=50; total time=   0.0s\n",
      "[CV] END ...max_depth=2, max_features=sqrt, n_estimators=100; total time=   0.1s\n",
      "[CV] END ...max_depth=2, max_features=sqrt, n_estimators=100; total time=   0.1s\n",
      "[CV] END ...max_depth=2, max_features=sqrt, n_estimators=100; total time=   0.1s\n",
      "[CV] END ...max_depth=2, max_features=sqrt, n_estimators=100; total time=   0.0s\n",
      "[CV] END ...max_depth=2, max_features=sqrt, n_estimators=100; total time=   0.0s\n",
      "[CV] END ...max_depth=2, max_features=sqrt, n_estimators=200; total time=   0.2s\n",
      "[CV] END ...max_depth=2, max_features=sqrt, n_estimators=200; total time=   0.2s\n",
      "[CV] END ...max_depth=2, max_features=sqrt, n_estimators=200; total time=   0.2s\n",
      "[CV] END ...max_depth=2, max_features=sqrt, n_estimators=200; total time=   0.2s\n",
      "[CV] END ...max_depth=2, max_features=sqrt, n_estimators=200; total time=   0.2s\n",
      "[CV] END ....max_depth=2, max_features=log2, n_estimators=50; total time=   0.0s\n",
      "[CV] END ....max_depth=2, max_features=log2, n_estimators=50; total time=   0.0s\n",
      "[CV] END ....max_depth=2, max_features=log2, n_estimators=50; total time=   0.0s\n",
      "[CV] END ....max_depth=2, max_features=log2, n_estimators=50; total time=   0.0s\n",
      "[CV] END ....max_depth=2, max_features=log2, n_estimators=50; total time=   0.0s\n",
      "[CV] END ...max_depth=2, max_features=log2, n_estimators=100; total time=   0.0s\n",
      "[CV] END ...max_depth=2, max_features=log2, n_estimators=100; total time=   0.0s\n",
      "[CV] END ...max_depth=2, max_features=log2, n_estimators=100; total time=   0.0s\n",
      "[CV] END ...max_depth=2, max_features=log2, n_estimators=100; total time=   0.0s\n",
      "[CV] END ...max_depth=2, max_features=log2, n_estimators=100; total time=   0.0s\n",
      "[CV] END ...max_depth=2, max_features=log2, n_estimators=200; total time=   0.2s\n",
      "[CV] END ...max_depth=2, max_features=log2, n_estimators=200; total time=   0.2s\n",
      "[CV] END ...max_depth=2, max_features=log2, n_estimators=200; total time=   0.2s\n",
      "[CV] END ...max_depth=2, max_features=log2, n_estimators=200; total time=   0.1s\n",
      "[CV] END ...max_depth=2, max_features=log2, n_estimators=200; total time=   0.1s\n",
      "[CV] END ......max_depth=2, max_features=16, n_estimators=50; total time=   0.0s\n",
      "[CV] END ......max_depth=2, max_features=16, n_estimators=50; total time=   0.0s\n",
      "[CV] END ......max_depth=2, max_features=16, n_estimators=50; total time=   0.0s\n",
      "[CV] END ......max_depth=2, max_features=16, n_estimators=50; total time=   0.0s\n",
      "[CV] END ......max_depth=2, max_features=16, n_estimators=50; total time=   0.0s\n",
      "[CV] END .....max_depth=2, max_features=16, n_estimators=100; total time=   0.1s\n",
      "[CV] END .....max_depth=2, max_features=16, n_estimators=100; total time=   0.1s\n",
      "[CV] END .....max_depth=2, max_features=16, n_estimators=100; total time=   0.1s\n",
      "[CV] END .....max_depth=2, max_features=16, n_estimators=100; total time=   0.1s\n",
      "[CV] END .....max_depth=2, max_features=16, n_estimators=100; total time=   0.1s\n",
      "[CV] END .....max_depth=2, max_features=16, n_estimators=200; total time=   0.2s\n",
      "[CV] END .....max_depth=2, max_features=16, n_estimators=200; total time=   0.3s\n",
      "[CV] END .....max_depth=2, max_features=16, n_estimators=200; total time=   0.2s\n",
      "[CV] END .....max_depth=2, max_features=16, n_estimators=200; total time=   0.2s\n",
      "[CV] END .....max_depth=2, max_features=16, n_estimators=200; total time=   0.2s\n",
      "[CV] END ......max_depth=2, max_features=32, n_estimators=50; total time=   0.0s\n",
      "[CV] END ......max_depth=2, max_features=32, n_estimators=50; total time=   0.0s\n",
      "[CV] END ......max_depth=2, max_features=32, n_estimators=50; total time=   0.0s\n",
      "[CV] END ......max_depth=2, max_features=32, n_estimators=50; total time=   0.0s\n",
      "[CV] END ......max_depth=2, max_features=32, n_estimators=50; total time=   0.0s\n",
      "[CV] END .....max_depth=2, max_features=32, n_estimators=100; total time=   0.1s\n",
      "[CV] END .....max_depth=2, max_features=32, n_estimators=100; total time=   0.1s\n",
      "[CV] END .....max_depth=2, max_features=32, n_estimators=100; total time=   0.1s\n",
      "[CV] END .....max_depth=2, max_features=32, n_estimators=100; total time=   0.1s\n",
      "[CV] END .....max_depth=2, max_features=32, n_estimators=100; total time=   0.1s\n",
      "[CV] END .....max_depth=2, max_features=32, n_estimators=200; total time=   0.2s\n",
      "[CV] END .....max_depth=2, max_features=32, n_estimators=200; total time=   0.2s\n",
      "[CV] END .....max_depth=2, max_features=32, n_estimators=200; total time=   0.2s\n",
      "[CV] END .....max_depth=2, max_features=32, n_estimators=200; total time=   0.3s\n",
      "[CV] END .....max_depth=2, max_features=32, n_estimators=200; total time=   0.4s\n",
      "[CV] END ....max_depth=4, max_features=auto, n_estimators=50; total time=   0.6s\n",
      "[CV] END ....max_depth=4, max_features=auto, n_estimators=50; total time=   0.6s\n",
      "[CV] END ....max_depth=4, max_features=auto, n_estimators=50; total time=   0.5s\n",
      "[CV] END ....max_depth=4, max_features=auto, n_estimators=50; total time=   0.5s\n",
      "[CV] END ....max_depth=4, max_features=auto, n_estimators=50; total time=   0.6s\n",
      "[CV] END ...max_depth=4, max_features=auto, n_estimators=100; total time=   1.4s\n",
      "[CV] END ...max_depth=4, max_features=auto, n_estimators=100; total time=   1.3s\n",
      "[CV] END ...max_depth=4, max_features=auto, n_estimators=100; total time=   1.5s\n",
      "[CV] END ...max_depth=4, max_features=auto, n_estimators=100; total time=   1.4s\n",
      "[CV] END ...max_depth=4, max_features=auto, n_estimators=100; total time=   1.5s\n",
      "[CV] END ...max_depth=4, max_features=auto, n_estimators=200; total time=   2.5s\n",
      "[CV] END ...max_depth=4, max_features=auto, n_estimators=200; total time=   2.4s\n",
      "[CV] END ...max_depth=4, max_features=auto, n_estimators=200; total time=   2.5s\n",
      "[CV] END ...max_depth=4, max_features=auto, n_estimators=200; total time=   2.6s\n",
      "[CV] END ...max_depth=4, max_features=auto, n_estimators=200; total time=   2.5s\n",
      "[CV] END ....max_depth=4, max_features=sqrt, n_estimators=50; total time=   0.0s\n",
      "[CV] END ....max_depth=4, max_features=sqrt, n_estimators=50; total time=   0.0s\n",
      "[CV] END ....max_depth=4, max_features=sqrt, n_estimators=50; total time=   0.0s\n",
      "[CV] END ....max_depth=4, max_features=sqrt, n_estimators=50; total time=   0.0s\n",
      "[CV] END ....max_depth=4, max_features=sqrt, n_estimators=50; total time=   0.0s\n",
      "[CV] END ...max_depth=4, max_features=sqrt, n_estimators=100; total time=   0.1s\n",
      "[CV] END ...max_depth=4, max_features=sqrt, n_estimators=100; total time=   0.1s\n",
      "[CV] END ...max_depth=4, max_features=sqrt, n_estimators=100; total time=   0.1s\n",
      "[CV] END ...max_depth=4, max_features=sqrt, n_estimators=100; total time=   0.1s\n",
      "[CV] END ...max_depth=4, max_features=sqrt, n_estimators=100; total time=   0.1s\n",
      "[CV] END ...max_depth=4, max_features=sqrt, n_estimators=200; total time=   0.2s\n"
     ]
    },
    {
     "name": "stdout",
     "output_type": "stream",
     "text": [
      "[CV] END ...max_depth=4, max_features=sqrt, n_estimators=200; total time=   0.3s\n",
      "[CV] END ...max_depth=4, max_features=sqrt, n_estimators=200; total time=   0.3s\n",
      "[CV] END ...max_depth=4, max_features=sqrt, n_estimators=200; total time=   0.3s\n",
      "[CV] END ...max_depth=4, max_features=sqrt, n_estimators=200; total time=   0.3s\n",
      "[CV] END ....max_depth=4, max_features=log2, n_estimators=50; total time=   0.0s\n",
      "[CV] END ....max_depth=4, max_features=log2, n_estimators=50; total time=   0.0s\n",
      "[CV] END ....max_depth=4, max_features=log2, n_estimators=50; total time=   0.0s\n",
      "[CV] END ....max_depth=4, max_features=log2, n_estimators=50; total time=   0.0s\n",
      "[CV] END ....max_depth=4, max_features=log2, n_estimators=50; total time=   0.0s\n",
      "[CV] END ...max_depth=4, max_features=log2, n_estimators=100; total time=   0.1s\n",
      "[CV] END ...max_depth=4, max_features=log2, n_estimators=100; total time=   0.1s\n",
      "[CV] END ...max_depth=4, max_features=log2, n_estimators=100; total time=   0.1s\n",
      "[CV] END ...max_depth=4, max_features=log2, n_estimators=100; total time=   0.1s\n",
      "[CV] END ...max_depth=4, max_features=log2, n_estimators=100; total time=   0.1s\n",
      "[CV] END ...max_depth=4, max_features=log2, n_estimators=200; total time=   0.3s\n",
      "[CV] END ...max_depth=4, max_features=log2, n_estimators=200; total time=   0.3s\n",
      "[CV] END ...max_depth=4, max_features=log2, n_estimators=200; total time=   0.3s\n",
      "[CV] END ...max_depth=4, max_features=log2, n_estimators=200; total time=   0.3s\n",
      "[CV] END ...max_depth=4, max_features=log2, n_estimators=200; total time=   0.3s\n",
      "[CV] END ......max_depth=4, max_features=16, n_estimators=50; total time=   0.0s\n",
      "[CV] END ......max_depth=4, max_features=16, n_estimators=50; total time=   0.0s\n",
      "[CV] END ......max_depth=4, max_features=16, n_estimators=50; total time=   0.0s\n",
      "[CV] END ......max_depth=4, max_features=16, n_estimators=50; total time=   0.0s\n",
      "[CV] END ......max_depth=4, max_features=16, n_estimators=50; total time=   0.0s\n",
      "[CV] END .....max_depth=4, max_features=16, n_estimators=100; total time=   0.1s\n",
      "[CV] END .....max_depth=4, max_features=16, n_estimators=100; total time=   0.1s\n",
      "[CV] END .....max_depth=4, max_features=16, n_estimators=100; total time=   0.2s\n",
      "[CV] END .....max_depth=4, max_features=16, n_estimators=100; total time=   0.2s\n",
      "[CV] END .....max_depth=4, max_features=16, n_estimators=100; total time=   0.2s\n",
      "[CV] END .....max_depth=4, max_features=16, n_estimators=200; total time=   0.5s\n",
      "[CV] END .....max_depth=4, max_features=16, n_estimators=200; total time=   0.5s\n",
      "[CV] END .....max_depth=4, max_features=16, n_estimators=200; total time=   0.5s\n",
      "[CV] END .....max_depth=4, max_features=16, n_estimators=200; total time=   0.5s\n",
      "[CV] END .....max_depth=4, max_features=16, n_estimators=200; total time=   0.5s\n",
      "[CV] END ......max_depth=4, max_features=32, n_estimators=50; total time=   0.1s\n",
      "[CV] END ......max_depth=4, max_features=32, n_estimators=50; total time=   0.1s\n",
      "[CV] END ......max_depth=4, max_features=32, n_estimators=50; total time=   0.1s\n",
      "[CV] END ......max_depth=4, max_features=32, n_estimators=50; total time=   0.1s\n",
      "[CV] END ......max_depth=4, max_features=32, n_estimators=50; total time=   0.2s\n",
      "[CV] END .....max_depth=4, max_features=32, n_estimators=100; total time=   0.4s\n",
      "[CV] END .....max_depth=4, max_features=32, n_estimators=100; total time=   0.3s\n",
      "[CV] END .....max_depth=4, max_features=32, n_estimators=100; total time=   0.3s\n",
      "[CV] END .....max_depth=4, max_features=32, n_estimators=100; total time=   0.2s\n",
      "[CV] END .....max_depth=4, max_features=32, n_estimators=100; total time=   0.3s\n",
      "[CV] END .....max_depth=4, max_features=32, n_estimators=200; total time=   0.8s\n",
      "[CV] END .....max_depth=4, max_features=32, n_estimators=200; total time=   0.6s\n",
      "[CV] END .....max_depth=4, max_features=32, n_estimators=200; total time=   0.5s\n",
      "[CV] END .....max_depth=4, max_features=32, n_estimators=200; total time=   0.5s\n",
      "[CV] END .....max_depth=4, max_features=32, n_estimators=200; total time=   0.5s\n",
      "[CV] END ....max_depth=6, max_features=auto, n_estimators=50; total time=   1.0s\n",
      "[CV] END ....max_depth=6, max_features=auto, n_estimators=50; total time=   1.1s\n",
      "[CV] END ....max_depth=6, max_features=auto, n_estimators=50; total time=   1.1s\n",
      "[CV] END ....max_depth=6, max_features=auto, n_estimators=50; total time=   1.0s\n",
      "[CV] END ....max_depth=6, max_features=auto, n_estimators=50; total time=   0.9s\n",
      "[CV] END ...max_depth=6, max_features=auto, n_estimators=100; total time=   1.9s\n",
      "[CV] END ...max_depth=6, max_features=auto, n_estimators=100; total time=   2.0s\n",
      "[CV] END ...max_depth=6, max_features=auto, n_estimators=100; total time=   1.9s\n",
      "[CV] END ...max_depth=6, max_features=auto, n_estimators=100; total time=   1.9s\n",
      "[CV] END ...max_depth=6, max_features=auto, n_estimators=100; total time=   2.1s\n",
      "[CV] END ...max_depth=6, max_features=auto, n_estimators=200; total time=   4.6s\n",
      "[CV] END ...max_depth=6, max_features=auto, n_estimators=200; total time=   3.9s\n",
      "[CV] END ...max_depth=6, max_features=auto, n_estimators=200; total time=   4.1s\n",
      "[CV] END ...max_depth=6, max_features=auto, n_estimators=200; total time=   3.8s\n",
      "[CV] END ...max_depth=6, max_features=auto, n_estimators=200; total time=   4.0s\n",
      "[CV] END ....max_depth=6, max_features=sqrt, n_estimators=50; total time=   0.0s\n",
      "[CV] END ....max_depth=6, max_features=sqrt, n_estimators=50; total time=   0.0s\n",
      "[CV] END ....max_depth=6, max_features=sqrt, n_estimators=50; total time=   0.0s\n",
      "[CV] END ....max_depth=6, max_features=sqrt, n_estimators=50; total time=   0.0s\n",
      "[CV] END ....max_depth=6, max_features=sqrt, n_estimators=50; total time=   0.0s\n",
      "[CV] END ...max_depth=6, max_features=sqrt, n_estimators=100; total time=   0.2s\n",
      "[CV] END ...max_depth=6, max_features=sqrt, n_estimators=100; total time=   0.1s\n",
      "[CV] END ...max_depth=6, max_features=sqrt, n_estimators=100; total time=   0.2s\n",
      "[CV] END ...max_depth=6, max_features=sqrt, n_estimators=100; total time=   0.2s\n",
      "[CV] END ...max_depth=6, max_features=sqrt, n_estimators=100; total time=   0.2s\n",
      "[CV] END ...max_depth=6, max_features=sqrt, n_estimators=200; total time=   0.4s\n",
      "[CV] END ...max_depth=6, max_features=sqrt, n_estimators=200; total time=   0.4s\n",
      "[CV] END ...max_depth=6, max_features=sqrt, n_estimators=200; total time=   0.5s\n",
      "[CV] END ...max_depth=6, max_features=sqrt, n_estimators=200; total time=   0.4s\n",
      "[CV] END ...max_depth=6, max_features=sqrt, n_estimators=200; total time=   0.4s\n",
      "[CV] END ....max_depth=6, max_features=log2, n_estimators=50; total time=   0.0s\n",
      "[CV] END ....max_depth=6, max_features=log2, n_estimators=50; total time=   0.0s\n",
      "[CV] END ....max_depth=6, max_features=log2, n_estimators=50; total time=   0.0s\n",
      "[CV] END ....max_depth=6, max_features=log2, n_estimators=50; total time=   0.0s\n",
      "[CV] END ....max_depth=6, max_features=log2, n_estimators=50; total time=   0.0s\n",
      "[CV] END ...max_depth=6, max_features=log2, n_estimators=100; total time=   0.1s\n",
      "[CV] END ...max_depth=6, max_features=log2, n_estimators=100; total time=   0.1s\n",
      "[CV] END ...max_depth=6, max_features=log2, n_estimators=100; total time=   0.1s\n",
      "[CV] END ...max_depth=6, max_features=log2, n_estimators=100; total time=   0.1s\n",
      "[CV] END ...max_depth=6, max_features=log2, n_estimators=100; total time=   0.1s\n",
      "[CV] END ...max_depth=6, max_features=log2, n_estimators=200; total time=   0.3s\n",
      "[CV] END ...max_depth=6, max_features=log2, n_estimators=200; total time=   0.3s\n",
      "[CV] END ...max_depth=6, max_features=log2, n_estimators=200; total time=   0.3s\n",
      "[CV] END ...max_depth=6, max_features=log2, n_estimators=200; total time=   0.3s\n",
      "[CV] END ...max_depth=6, max_features=log2, n_estimators=200; total time=   0.3s\n",
      "[CV] END ......max_depth=6, max_features=16, n_estimators=50; total time=   0.0s\n",
      "[CV] END ......max_depth=6, max_features=16, n_estimators=50; total time=   0.0s\n",
      "[CV] END ......max_depth=6, max_features=16, n_estimators=50; total time=   0.0s\n",
      "[CV] END ......max_depth=6, max_features=16, n_estimators=50; total time=   0.0s\n",
      "[CV] END ......max_depth=6, max_features=16, n_estimators=50; total time=   0.0s\n",
      "[CV] END .....max_depth=6, max_features=16, n_estimators=100; total time=   0.1s\n",
      "[CV] END .....max_depth=6, max_features=16, n_estimators=100; total time=   0.2s\n",
      "[CV] END .....max_depth=6, max_features=16, n_estimators=100; total time=   0.2s\n"
     ]
    },
    {
     "name": "stdout",
     "output_type": "stream",
     "text": [
      "[CV] END .....max_depth=6, max_features=16, n_estimators=100; total time=   0.2s\n",
      "[CV] END .....max_depth=6, max_features=16, n_estimators=100; total time=   0.2s\n",
      "[CV] END .....max_depth=6, max_features=16, n_estimators=200; total time=   0.4s\n",
      "[CV] END .....max_depth=6, max_features=16, n_estimators=200; total time=   0.4s\n",
      "[CV] END .....max_depth=6, max_features=16, n_estimators=200; total time=   0.4s\n",
      "[CV] END .....max_depth=6, max_features=16, n_estimators=200; total time=   0.4s\n",
      "[CV] END .....max_depth=6, max_features=16, n_estimators=200; total time=   0.4s\n",
      "[CV] END ......max_depth=6, max_features=32, n_estimators=50; total time=   0.1s\n",
      "[CV] END ......max_depth=6, max_features=32, n_estimators=50; total time=   0.1s\n",
      "[CV] END ......max_depth=6, max_features=32, n_estimators=50; total time=   0.1s\n",
      "[CV] END ......max_depth=6, max_features=32, n_estimators=50; total time=   0.1s\n",
      "[CV] END ......max_depth=6, max_features=32, n_estimators=50; total time=   0.1s\n",
      "[CV] END .....max_depth=6, max_features=32, n_estimators=100; total time=   0.3s\n",
      "[CV] END .....max_depth=6, max_features=32, n_estimators=100; total time=   0.3s\n",
      "[CV] END .....max_depth=6, max_features=32, n_estimators=100; total time=   0.3s\n",
      "[CV] END .....max_depth=6, max_features=32, n_estimators=100; total time=   0.3s\n",
      "[CV] END .....max_depth=6, max_features=32, n_estimators=100; total time=   0.3s\n",
      "[CV] END .....max_depth=6, max_features=32, n_estimators=200; total time=   0.6s\n",
      "[CV] END .....max_depth=6, max_features=32, n_estimators=200; total time=   0.6s\n",
      "[CV] END .....max_depth=6, max_features=32, n_estimators=200; total time=   0.6s\n",
      "[CV] END .....max_depth=6, max_features=32, n_estimators=200; total time=   0.7s\n",
      "[CV] END .....max_depth=6, max_features=32, n_estimators=200; total time=   0.6s\n",
      "[CV] END ....max_depth=8, max_features=auto, n_estimators=50; total time=   1.2s\n",
      "[CV] END ....max_depth=8, max_features=auto, n_estimators=50; total time=   1.2s\n",
      "[CV] END ....max_depth=8, max_features=auto, n_estimators=50; total time=   1.2s\n",
      "[CV] END ....max_depth=8, max_features=auto, n_estimators=50; total time=   1.2s\n",
      "[CV] END ....max_depth=8, max_features=auto, n_estimators=50; total time=   1.2s\n",
      "[CV] END ...max_depth=8, max_features=auto, n_estimators=100; total time=   2.5s\n",
      "[CV] END ...max_depth=8, max_features=auto, n_estimators=100; total time=   2.7s\n",
      "[CV] END ...max_depth=8, max_features=auto, n_estimators=100; total time=   2.6s\n",
      "[CV] END ...max_depth=8, max_features=auto, n_estimators=100; total time=   2.8s\n",
      "[CV] END ...max_depth=8, max_features=auto, n_estimators=100; total time=   2.7s\n",
      "[CV] END ...max_depth=8, max_features=auto, n_estimators=200; total time=   5.7s\n",
      "[CV] END ...max_depth=8, max_features=auto, n_estimators=200; total time=   6.0s\n",
      "[CV] END ...max_depth=8, max_features=auto, n_estimators=200; total time=   6.1s\n",
      "[CV] END ...max_depth=8, max_features=auto, n_estimators=200; total time=   6.2s\n",
      "[CV] END ...max_depth=8, max_features=auto, n_estimators=200; total time=   5.9s\n",
      "[CV] END ....max_depth=8, max_features=sqrt, n_estimators=50; total time=   0.1s\n",
      "[CV] END ....max_depth=8, max_features=sqrt, n_estimators=50; total time=   0.1s\n",
      "[CV] END ....max_depth=8, max_features=sqrt, n_estimators=50; total time=   0.1s\n",
      "[CV] END ....max_depth=8, max_features=sqrt, n_estimators=50; total time=   0.1s\n",
      "[CV] END ....max_depth=8, max_features=sqrt, n_estimators=50; total time=   0.1s\n",
      "[CV] END ...max_depth=8, max_features=sqrt, n_estimators=100; total time=   0.3s\n",
      "[CV] END ...max_depth=8, max_features=sqrt, n_estimators=100; total time=   0.3s\n",
      "[CV] END ...max_depth=8, max_features=sqrt, n_estimators=100; total time=   0.3s\n",
      "[CV] END ...max_depth=8, max_features=sqrt, n_estimators=100; total time=   0.3s\n",
      "[CV] END ...max_depth=8, max_features=sqrt, n_estimators=100; total time=   0.3s\n",
      "[CV] END ...max_depth=8, max_features=sqrt, n_estimators=200; total time=   0.6s\n",
      "[CV] END ...max_depth=8, max_features=sqrt, n_estimators=200; total time=   0.6s\n",
      "[CV] END ...max_depth=8, max_features=sqrt, n_estimators=200; total time=   0.6s\n",
      "[CV] END ...max_depth=8, max_features=sqrt, n_estimators=200; total time=   0.6s\n",
      "[CV] END ...max_depth=8, max_features=sqrt, n_estimators=200; total time=   0.6s\n",
      "[CV] END ....max_depth=8, max_features=log2, n_estimators=50; total time=   0.0s\n",
      "[CV] END ....max_depth=8, max_features=log2, n_estimators=50; total time=   0.0s\n",
      "[CV] END ....max_depth=8, max_features=log2, n_estimators=50; total time=   0.0s\n",
      "[CV] END ....max_depth=8, max_features=log2, n_estimators=50; total time=   0.0s\n",
      "[CV] END ....max_depth=8, max_features=log2, n_estimators=50; total time=   0.0s\n",
      "[CV] END ...max_depth=8, max_features=log2, n_estimators=100; total time=   0.2s\n",
      "[CV] END ...max_depth=8, max_features=log2, n_estimators=100; total time=   0.2s\n",
      "[CV] END ...max_depth=8, max_features=log2, n_estimators=100; total time=   0.2s\n",
      "[CV] END ...max_depth=8, max_features=log2, n_estimators=100; total time=   0.2s\n",
      "[CV] END ...max_depth=8, max_features=log2, n_estimators=100; total time=   0.2s\n",
      "[CV] END ...max_depth=8, max_features=log2, n_estimators=200; total time=   0.4s\n",
      "[CV] END ...max_depth=8, max_features=log2, n_estimators=200; total time=   0.4s\n",
      "[CV] END ...max_depth=8, max_features=log2, n_estimators=200; total time=   0.4s\n",
      "[CV] END ...max_depth=8, max_features=log2, n_estimators=200; total time=   0.4s\n",
      "[CV] END ...max_depth=8, max_features=log2, n_estimators=200; total time=   0.4s\n",
      "[CV] END ......max_depth=8, max_features=16, n_estimators=50; total time=   0.1s\n",
      "[CV] END ......max_depth=8, max_features=16, n_estimators=50; total time=   0.1s\n",
      "[CV] END ......max_depth=8, max_features=16, n_estimators=50; total time=   0.1s\n",
      "[CV] END ......max_depth=8, max_features=16, n_estimators=50; total time=   0.1s\n",
      "[CV] END ......max_depth=8, max_features=16, n_estimators=50; total time=   0.1s\n",
      "[CV] END .....max_depth=8, max_features=16, n_estimators=100; total time=   0.3s\n",
      "[CV] END .....max_depth=8, max_features=16, n_estimators=100; total time=   0.3s\n",
      "[CV] END .....max_depth=8, max_features=16, n_estimators=100; total time=   0.3s\n",
      "[CV] END .....max_depth=8, max_features=16, n_estimators=100; total time=   0.3s\n",
      "[CV] END .....max_depth=8, max_features=16, n_estimators=100; total time=   0.3s\n",
      "[CV] END .....max_depth=8, max_features=16, n_estimators=200; total time=   0.6s\n",
      "[CV] END .....max_depth=8, max_features=16, n_estimators=200; total time=   0.6s\n",
      "[CV] END .....max_depth=8, max_features=16, n_estimators=200; total time=   0.6s\n",
      "[CV] END .....max_depth=8, max_features=16, n_estimators=200; total time=   0.6s\n",
      "[CV] END .....max_depth=8, max_features=16, n_estimators=200; total time=   0.7s\n",
      "[CV] END ......max_depth=8, max_features=32, n_estimators=50; total time=   0.2s\n",
      "[CV] END ......max_depth=8, max_features=32, n_estimators=50; total time=   0.2s\n",
      "[CV] END ......max_depth=8, max_features=32, n_estimators=50; total time=   0.2s\n",
      "[CV] END ......max_depth=8, max_features=32, n_estimators=50; total time=   0.2s\n",
      "[CV] END ......max_depth=8, max_features=32, n_estimators=50; total time=   0.2s\n",
      "[CV] END .....max_depth=8, max_features=32, n_estimators=100; total time=   0.5s\n",
      "[CV] END .....max_depth=8, max_features=32, n_estimators=100; total time=   0.5s\n",
      "[CV] END .....max_depth=8, max_features=32, n_estimators=100; total time=   0.4s\n",
      "[CV] END .....max_depth=8, max_features=32, n_estimators=100; total time=   0.4s\n",
      "[CV] END .....max_depth=8, max_features=32, n_estimators=100; total time=   0.4s\n",
      "[CV] END .....max_depth=8, max_features=32, n_estimators=200; total time=   1.0s\n",
      "[CV] END .....max_depth=8, max_features=32, n_estimators=200; total time=   1.6s\n",
      "[CV] END .....max_depth=8, max_features=32, n_estimators=200; total time=   1.5s\n",
      "[CV] END .....max_depth=8, max_features=32, n_estimators=200; total time=   1.2s\n",
      "[CV] END .....max_depth=8, max_features=32, n_estimators=200; total time=   1.2s\n",
      "[CV] END ...max_depth=10, max_features=auto, n_estimators=50; total time=   1.8s\n",
      "[CV] END ...max_depth=10, max_features=auto, n_estimators=50; total time=   1.8s\n",
      "[CV] END ...max_depth=10, max_features=auto, n_estimators=50; total time=   1.8s\n",
      "[CV] END ...max_depth=10, max_features=auto, n_estimators=50; total time=   1.8s\n",
      "[CV] END ...max_depth=10, max_features=auto, n_estimators=50; total time=   1.9s\n"
     ]
    },
    {
     "name": "stdout",
     "output_type": "stream",
     "text": [
      "[CV] END ..max_depth=10, max_features=auto, n_estimators=100; total time=   4.2s\n",
      "[CV] END ..max_depth=10, max_features=auto, n_estimators=100; total time=   3.7s\n",
      "[CV] END ..max_depth=10, max_features=auto, n_estimators=100; total time=   3.6s\n",
      "[CV] END ..max_depth=10, max_features=auto, n_estimators=100; total time=   3.7s\n",
      "[CV] END ..max_depth=10, max_features=auto, n_estimators=100; total time=   3.8s\n",
      "[CV] END ..max_depth=10, max_features=auto, n_estimators=200; total time=   7.1s\n",
      "[CV] END ..max_depth=10, max_features=auto, n_estimators=200; total time=   6.9s\n",
      "[CV] END ..max_depth=10, max_features=auto, n_estimators=200; total time=   6.6s\n",
      "[CV] END ..max_depth=10, max_features=auto, n_estimators=200; total time=   6.4s\n",
      "[CV] END ..max_depth=10, max_features=auto, n_estimators=200; total time=   7.3s\n",
      "[CV] END ...max_depth=10, max_features=sqrt, n_estimators=50; total time=   0.1s\n",
      "[CV] END ...max_depth=10, max_features=sqrt, n_estimators=50; total time=   0.1s\n",
      "[CV] END ...max_depth=10, max_features=sqrt, n_estimators=50; total time=   0.1s\n",
      "[CV] END ...max_depth=10, max_features=sqrt, n_estimators=50; total time=   0.1s\n",
      "[CV] END ...max_depth=10, max_features=sqrt, n_estimators=50; total time=   0.1s\n",
      "[CV] END ..max_depth=10, max_features=sqrt, n_estimators=100; total time=   0.3s\n",
      "[CV] END ..max_depth=10, max_features=sqrt, n_estimators=100; total time=   0.3s\n",
      "[CV] END ..max_depth=10, max_features=sqrt, n_estimators=100; total time=   0.4s\n",
      "[CV] END ..max_depth=10, max_features=sqrt, n_estimators=100; total time=   0.4s\n",
      "[CV] END ..max_depth=10, max_features=sqrt, n_estimators=100; total time=   0.4s\n",
      "[CV] END ..max_depth=10, max_features=sqrt, n_estimators=200; total time=   0.7s\n",
      "[CV] END ..max_depth=10, max_features=sqrt, n_estimators=200; total time=   0.7s\n",
      "[CV] END ..max_depth=10, max_features=sqrt, n_estimators=200; total time=   0.7s\n",
      "[CV] END ..max_depth=10, max_features=sqrt, n_estimators=200; total time=   0.7s\n",
      "[CV] END ..max_depth=10, max_features=sqrt, n_estimators=200; total time=   0.7s\n",
      "[CV] END ...max_depth=10, max_features=log2, n_estimators=50; total time=   0.0s\n",
      "[CV] END ...max_depth=10, max_features=log2, n_estimators=50; total time=   0.0s\n",
      "[CV] END ...max_depth=10, max_features=log2, n_estimators=50; total time=   0.0s\n",
      "[CV] END ...max_depth=10, max_features=log2, n_estimators=50; total time=   0.0s\n",
      "[CV] END ...max_depth=10, max_features=log2, n_estimators=50; total time=   0.0s\n",
      "[CV] END ..max_depth=10, max_features=log2, n_estimators=100; total time=   0.2s\n",
      "[CV] END ..max_depth=10, max_features=log2, n_estimators=100; total time=   0.2s\n",
      "[CV] END ..max_depth=10, max_features=log2, n_estimators=100; total time=   0.2s\n",
      "[CV] END ..max_depth=10, max_features=log2, n_estimators=100; total time=   0.2s\n",
      "[CV] END ..max_depth=10, max_features=log2, n_estimators=100; total time=   0.2s\n",
      "[CV] END ..max_depth=10, max_features=log2, n_estimators=200; total time=   0.4s\n",
      "[CV] END ..max_depth=10, max_features=log2, n_estimators=200; total time=   0.4s\n",
      "[CV] END ..max_depth=10, max_features=log2, n_estimators=200; total time=   0.6s\n",
      "[CV] END ..max_depth=10, max_features=log2, n_estimators=200; total time=   0.5s\n",
      "[CV] END ..max_depth=10, max_features=log2, n_estimators=200; total time=   0.4s\n",
      "[CV] END .....max_depth=10, max_features=16, n_estimators=50; total time=   0.1s\n",
      "[CV] END .....max_depth=10, max_features=16, n_estimators=50; total time=   0.4s\n",
      "[CV] END .....max_depth=10, max_features=16, n_estimators=50; total time=   0.2s\n",
      "[CV] END .....max_depth=10, max_features=16, n_estimators=50; total time=   0.1s\n",
      "[CV] END .....max_depth=10, max_features=16, n_estimators=50; total time=   0.1s\n",
      "[CV] END ....max_depth=10, max_features=16, n_estimators=100; total time=   0.3s\n",
      "[CV] END ....max_depth=10, max_features=16, n_estimators=100; total time=   0.3s\n",
      "[CV] END ....max_depth=10, max_features=16, n_estimators=100; total time=   0.2s\n",
      "[CV] END ....max_depth=10, max_features=16, n_estimators=100; total time=   0.2s\n",
      "[CV] END ....max_depth=10, max_features=16, n_estimators=100; total time=   0.3s\n",
      "[CV] END ....max_depth=10, max_features=16, n_estimators=200; total time=   0.6s\n",
      "[CV] END ....max_depth=10, max_features=16, n_estimators=200; total time=   0.6s\n",
      "[CV] END ....max_depth=10, max_features=16, n_estimators=200; total time=   0.6s\n",
      "[CV] END ....max_depth=10, max_features=16, n_estimators=200; total time=   0.9s\n",
      "[CV] END ....max_depth=10, max_features=16, n_estimators=200; total time=   0.8s\n",
      "[CV] END .....max_depth=10, max_features=32, n_estimators=50; total time=   0.2s\n",
      "[CV] END .....max_depth=10, max_features=32, n_estimators=50; total time=   0.2s\n",
      "[CV] END .....max_depth=10, max_features=32, n_estimators=50; total time=   0.2s\n",
      "[CV] END .....max_depth=10, max_features=32, n_estimators=50; total time=   0.2s\n",
      "[CV] END .....max_depth=10, max_features=32, n_estimators=50; total time=   0.2s\n",
      "[CV] END ....max_depth=10, max_features=32, n_estimators=100; total time=   0.5s\n",
      "[CV] END ....max_depth=10, max_features=32, n_estimators=100; total time=   0.4s\n",
      "[CV] END ....max_depth=10, max_features=32, n_estimators=100; total time=   0.5s\n",
      "[CV] END ....max_depth=10, max_features=32, n_estimators=100; total time=   0.6s\n",
      "[CV] END ....max_depth=10, max_features=32, n_estimators=100; total time=   0.6s\n",
      "[CV] END ....max_depth=10, max_features=32, n_estimators=200; total time=   1.0s\n",
      "[CV] END ....max_depth=10, max_features=32, n_estimators=200; total time=   1.1s\n",
      "[CV] END ....max_depth=10, max_features=32, n_estimators=200; total time=   1.3s\n",
      "[CV] END ....max_depth=10, max_features=32, n_estimators=200; total time=   1.3s\n",
      "[CV] END ....max_depth=10, max_features=32, n_estimators=200; total time=   1.0s\n",
      "[CV] END .max_depth=None, max_features=auto, n_estimators=50; total time=   0.0s\n",
      "[CV] END .max_depth=None, max_features=auto, n_estimators=50; total time=   0.0s\n",
      "[CV] END .max_depth=None, max_features=auto, n_estimators=50; total time=   0.0s\n",
      "[CV] END .max_depth=None, max_features=auto, n_estimators=50; total time=   0.0s\n",
      "[CV] END .max_depth=None, max_features=auto, n_estimators=50; total time=   0.0s\n",
      "[CV] END max_depth=None, max_features=auto, n_estimators=100; total time=   0.0s\n",
      "[CV] END max_depth=None, max_features=auto, n_estimators=100; total time=   0.0s\n"
     ]
    },
    {
     "name": "stderr",
     "output_type": "stream",
     "text": [
      "C:\\Users\\pbeata\\anaconda3\\envs\\py3-TF2.0\\lib\\site-packages\\sklearn\\model_selection\\_validation.py:610: FitFailedWarning: Estimator fit failed. The score on this train-test partition for these parameters will be set to nan. Details: \n",
      "Traceback (most recent call last):\n",
      "  File \"C:\\Users\\pbeata\\anaconda3\\envs\\py3-TF2.0\\lib\\site-packages\\sklearn\\model_selection\\_validation.py\", line 593, in _fit_and_score\n",
      "    estimator.fit(X_train, y_train, **fit_params)\n",
      "  File \"C:\\Users\\pbeata\\anaconda3\\envs\\py3-TF2.0\\lib\\site-packages\\sklearn\\ensemble\\_forest.py\", line 387, in fit\n",
      "    trees = Parallel(n_jobs=self.n_jobs, verbose=self.verbose,\n",
      "  File \"C:\\Users\\pbeata\\anaconda3\\envs\\py3-TF2.0\\lib\\site-packages\\joblib\\parallel.py\", line 1041, in __call__\n",
      "    if self.dispatch_one_batch(iterator):\n",
      "  File \"C:\\Users\\pbeata\\anaconda3\\envs\\py3-TF2.0\\lib\\site-packages\\joblib\\parallel.py\", line 859, in dispatch_one_batch\n",
      "    self._dispatch(tasks)\n",
      "  File \"C:\\Users\\pbeata\\anaconda3\\envs\\py3-TF2.0\\lib\\site-packages\\joblib\\parallel.py\", line 777, in _dispatch\n",
      "    job = self._backend.apply_async(batch, callback=cb)\n",
      "  File \"C:\\Users\\pbeata\\anaconda3\\envs\\py3-TF2.0\\lib\\site-packages\\joblib\\_parallel_backends.py\", line 208, in apply_async\n",
      "    result = ImmediateResult(func)\n",
      "  File \"C:\\Users\\pbeata\\anaconda3\\envs\\py3-TF2.0\\lib\\site-packages\\joblib\\_parallel_backends.py\", line 572, in __init__\n",
      "    self.results = batch()\n",
      "  File \"C:\\Users\\pbeata\\anaconda3\\envs\\py3-TF2.0\\lib\\site-packages\\joblib\\parallel.py\", line 262, in __call__\n",
      "    return [func(*args, **kwargs)\n",
      "  File \"C:\\Users\\pbeata\\anaconda3\\envs\\py3-TF2.0\\lib\\site-packages\\joblib\\parallel.py\", line 262, in <listcomp>\n",
      "    return [func(*args, **kwargs)\n",
      "  File \"C:\\Users\\pbeata\\anaconda3\\envs\\py3-TF2.0\\lib\\site-packages\\sklearn\\utils\\fixes.py\", line 222, in __call__\n",
      "    return self.function(*args, **kwargs)\n",
      "  File \"C:\\Users\\pbeata\\anaconda3\\envs\\py3-TF2.0\\lib\\site-packages\\sklearn\\ensemble\\_forest.py\", line 169, in _parallel_build_trees\n",
      "    tree.fit(X, y, sample_weight=curr_sample_weight, check_input=False)\n",
      "  File \"C:\\Users\\pbeata\\anaconda3\\envs\\py3-TF2.0\\lib\\site-packages\\sklearn\\tree\\_classes.py\", line 1247, in fit\n",
      "    super().fit(\n",
      "  File \"C:\\Users\\pbeata\\anaconda3\\envs\\py3-TF2.0\\lib\\site-packages\\sklearn\\tree\\_classes.py\", line 285, in fit\n",
      "    if max_depth <= 0:\n",
      "TypeError: '<=' not supported between instances of 'str' and 'int'\n",
      "\n",
      "  warnings.warn(\"Estimator fit failed. The score on this train-test\"\n",
      "C:\\Users\\pbeata\\anaconda3\\envs\\py3-TF2.0\\lib\\site-packages\\sklearn\\model_selection\\_validation.py:610: FitFailedWarning: Estimator fit failed. The score on this train-test partition for these parameters will be set to nan. Details: \n",
      "Traceback (most recent call last):\n",
      "  File \"C:\\Users\\pbeata\\anaconda3\\envs\\py3-TF2.0\\lib\\site-packages\\sklearn\\model_selection\\_validation.py\", line 593, in _fit_and_score\n",
      "    estimator.fit(X_train, y_train, **fit_params)\n",
      "  File \"C:\\Users\\pbeata\\anaconda3\\envs\\py3-TF2.0\\lib\\site-packages\\sklearn\\ensemble\\_forest.py\", line 387, in fit\n",
      "    trees = Parallel(n_jobs=self.n_jobs, verbose=self.verbose,\n",
      "  File \"C:\\Users\\pbeata\\anaconda3\\envs\\py3-TF2.0\\lib\\site-packages\\joblib\\parallel.py\", line 1041, in __call__\n",
      "    if self.dispatch_one_batch(iterator):\n",
      "  File \"C:\\Users\\pbeata\\anaconda3\\envs\\py3-TF2.0\\lib\\site-packages\\joblib\\parallel.py\", line 859, in dispatch_one_batch\n",
      "    self._dispatch(tasks)\n",
      "  File \"C:\\Users\\pbeata\\anaconda3\\envs\\py3-TF2.0\\lib\\site-packages\\joblib\\parallel.py\", line 777, in _dispatch\n",
      "    job = self._backend.apply_async(batch, callback=cb)\n",
      "  File \"C:\\Users\\pbeata\\anaconda3\\envs\\py3-TF2.0\\lib\\site-packages\\joblib\\_parallel_backends.py\", line 208, in apply_async\n",
      "    result = ImmediateResult(func)\n",
      "  File \"C:\\Users\\pbeata\\anaconda3\\envs\\py3-TF2.0\\lib\\site-packages\\joblib\\_parallel_backends.py\", line 572, in __init__\n",
      "    self.results = batch()\n",
      "  File \"C:\\Users\\pbeata\\anaconda3\\envs\\py3-TF2.0\\lib\\site-packages\\joblib\\parallel.py\", line 262, in __call__\n",
      "    return [func(*args, **kwargs)\n",
      "  File \"C:\\Users\\pbeata\\anaconda3\\envs\\py3-TF2.0\\lib\\site-packages\\joblib\\parallel.py\", line 262, in <listcomp>\n",
      "    return [func(*args, **kwargs)\n",
      "  File \"C:\\Users\\pbeata\\anaconda3\\envs\\py3-TF2.0\\lib\\site-packages\\sklearn\\utils\\fixes.py\", line 222, in __call__\n",
      "    return self.function(*args, **kwargs)\n",
      "  File \"C:\\Users\\pbeata\\anaconda3\\envs\\py3-TF2.0\\lib\\site-packages\\sklearn\\ensemble\\_forest.py\", line 169, in _parallel_build_trees\n",
      "    tree.fit(X, y, sample_weight=curr_sample_weight, check_input=False)\n",
      "  File \"C:\\Users\\pbeata\\anaconda3\\envs\\py3-TF2.0\\lib\\site-packages\\sklearn\\tree\\_classes.py\", line 1247, in fit\n",
      "    super().fit(\n",
      "  File \"C:\\Users\\pbeata\\anaconda3\\envs\\py3-TF2.0\\lib\\site-packages\\sklearn\\tree\\_classes.py\", line 285, in fit\n",
      "    if max_depth <= 0:\n",
      "TypeError: '<=' not supported between instances of 'str' and 'int'\n",
      "\n",
      "  warnings.warn(\"Estimator fit failed. The score on this train-test\"\n",
      "C:\\Users\\pbeata\\anaconda3\\envs\\py3-TF2.0\\lib\\site-packages\\sklearn\\model_selection\\_validation.py:610: FitFailedWarning: Estimator fit failed. The score on this train-test partition for these parameters will be set to nan. Details: \n",
      "Traceback (most recent call last):\n",
      "  File \"C:\\Users\\pbeata\\anaconda3\\envs\\py3-TF2.0\\lib\\site-packages\\sklearn\\model_selection\\_validation.py\", line 593, in _fit_and_score\n",
      "    estimator.fit(X_train, y_train, **fit_params)\n",
      "  File \"C:\\Users\\pbeata\\anaconda3\\envs\\py3-TF2.0\\lib\\site-packages\\sklearn\\ensemble\\_forest.py\", line 387, in fit\n",
      "    trees = Parallel(n_jobs=self.n_jobs, verbose=self.verbose,\n",
      "  File \"C:\\Users\\pbeata\\anaconda3\\envs\\py3-TF2.0\\lib\\site-packages\\joblib\\parallel.py\", line 1041, in __call__\n",
      "    if self.dispatch_one_batch(iterator):\n",
      "  File \"C:\\Users\\pbeata\\anaconda3\\envs\\py3-TF2.0\\lib\\site-packages\\joblib\\parallel.py\", line 859, in dispatch_one_batch\n",
      "    self._dispatch(tasks)\n",
      "  File \"C:\\Users\\pbeata\\anaconda3\\envs\\py3-TF2.0\\lib\\site-packages\\joblib\\parallel.py\", line 777, in _dispatch\n",
      "    job = self._backend.apply_async(batch, callback=cb)\n",
      "  File \"C:\\Users\\pbeata\\anaconda3\\envs\\py3-TF2.0\\lib\\site-packages\\joblib\\_parallel_backends.py\", line 208, in apply_async\n",
      "    result = ImmediateResult(func)\n",
      "  File \"C:\\Users\\pbeata\\anaconda3\\envs\\py3-TF2.0\\lib\\site-packages\\joblib\\_parallel_backends.py\", line 572, in __init__\n",
      "    self.results = batch()\n",
      "  File \"C:\\Users\\pbeata\\anaconda3\\envs\\py3-TF2.0\\lib\\site-packages\\joblib\\parallel.py\", line 262, in __call__\n",
      "    return [func(*args, **kwargs)\n",
      "  File \"C:\\Users\\pbeata\\anaconda3\\envs\\py3-TF2.0\\lib\\site-packages\\joblib\\parallel.py\", line 262, in <listcomp>\n",
      "    return [func(*args, **kwargs)\n",
      "  File \"C:\\Users\\pbeata\\anaconda3\\envs\\py3-TF2.0\\lib\\site-packages\\sklearn\\utils\\fixes.py\", line 222, in __call__\n",
      "    return self.function(*args, **kwargs)\n",
      "  File \"C:\\Users\\pbeata\\anaconda3\\envs\\py3-TF2.0\\lib\\site-packages\\sklearn\\ensemble\\_forest.py\", line 169, in _parallel_build_trees\n",
      "    tree.fit(X, y, sample_weight=curr_sample_weight, check_input=False)\n",
      "  File \"C:\\Users\\pbeata\\anaconda3\\envs\\py3-TF2.0\\lib\\site-packages\\sklearn\\tree\\_classes.py\", line 1247, in fit\n",
      "    super().fit(\n",
      "  File \"C:\\Users\\pbeata\\anaconda3\\envs\\py3-TF2.0\\lib\\site-packages\\sklearn\\tree\\_classes.py\", line 285, in fit\n",
      "    if max_depth <= 0:\n",
      "TypeError: '<=' not supported between instances of 'str' and 'int'\n",
      "\n",
      "  warnings.warn(\"Estimator fit failed. The score on this train-test\"\n",
      "C:\\Users\\pbeata\\anaconda3\\envs\\py3-TF2.0\\lib\\site-packages\\sklearn\\model_selection\\_validation.py:610: FitFailedWarning: Estimator fit failed. The score on this train-test partition for these parameters will be set to nan. Details: \n",
      "Traceback (most recent call last):\n",
      "  File \"C:\\Users\\pbeata\\anaconda3\\envs\\py3-TF2.0\\lib\\site-packages\\sklearn\\model_selection\\_validation.py\", line 593, in _fit_and_score\n",
      "    estimator.fit(X_train, y_train, **fit_params)\n",
      "  File \"C:\\Users\\pbeata\\anaconda3\\envs\\py3-TF2.0\\lib\\site-packages\\sklearn\\ensemble\\_forest.py\", line 387, in fit\n",
      "    trees = Parallel(n_jobs=self.n_jobs, verbose=self.verbose,\n",
      "  File \"C:\\Users\\pbeata\\anaconda3\\envs\\py3-TF2.0\\lib\\site-packages\\joblib\\parallel.py\", line 1041, in __call__\n",
      "    if self.dispatch_one_batch(iterator):\n",
      "  File \"C:\\Users\\pbeata\\anaconda3\\envs\\py3-TF2.0\\lib\\site-packages\\joblib\\parallel.py\", line 859, in dispatch_one_batch\n",
      "    self._dispatch(tasks)\n",
      "  File \"C:\\Users\\pbeata\\anaconda3\\envs\\py3-TF2.0\\lib\\site-packages\\joblib\\parallel.py\", line 777, in _dispatch\n",
      "    job = self._backend.apply_async(batch, callback=cb)\n",
      "  File \"C:\\Users\\pbeata\\anaconda3\\envs\\py3-TF2.0\\lib\\site-packages\\joblib\\_parallel_backends.py\", line 208, in apply_async\n",
      "    result = ImmediateResult(func)\n",
      "  File \"C:\\Users\\pbeata\\anaconda3\\envs\\py3-TF2.0\\lib\\site-packages\\joblib\\_parallel_backends.py\", line 572, in __init__\n",
      "    self.results = batch()\n",
      "  File \"C:\\Users\\pbeata\\anaconda3\\envs\\py3-TF2.0\\lib\\site-packages\\joblib\\parallel.py\", line 262, in __call__\n",
      "    return [func(*args, **kwargs)\n",
      "  File \"C:\\Users\\pbeata\\anaconda3\\envs\\py3-TF2.0\\lib\\site-packages\\joblib\\parallel.py\", line 262, in <listcomp>\n",
      "    return [func(*args, **kwargs)\n",
      "  File \"C:\\Users\\pbeata\\anaconda3\\envs\\py3-TF2.0\\lib\\site-packages\\sklearn\\utils\\fixes.py\", line 222, in __call__\n",
      "    return self.function(*args, **kwargs)\n",
      "  File \"C:\\Users\\pbeata\\anaconda3\\envs\\py3-TF2.0\\lib\\site-packages\\sklearn\\ensemble\\_forest.py\", line 169, in _parallel_build_trees\n",
      "    tree.fit(X, y, sample_weight=curr_sample_weight, check_input=False)\n",
      "  File \"C:\\Users\\pbeata\\anaconda3\\envs\\py3-TF2.0\\lib\\site-packages\\sklearn\\tree\\_classes.py\", line 1247, in fit\n",
      "    super().fit(\n",
      "  File \"C:\\Users\\pbeata\\anaconda3\\envs\\py3-TF2.0\\lib\\site-packages\\sklearn\\tree\\_classes.py\", line 285, in fit\n",
      "    if max_depth <= 0:\n",
      "TypeError: '<=' not supported between instances of 'str' and 'int'\n",
      "\n",
      "  warnings.warn(\"Estimator fit failed. The score on this train-test\"\n",
      "C:\\Users\\pbeata\\anaconda3\\envs\\py3-TF2.0\\lib\\site-packages\\sklearn\\model_selection\\_validation.py:610: FitFailedWarning: Estimator fit failed. The score on this train-test partition for these parameters will be set to nan. Details: \n",
      "Traceback (most recent call last):\n",
      "  File \"C:\\Users\\pbeata\\anaconda3\\envs\\py3-TF2.0\\lib\\site-packages\\sklearn\\model_selection\\_validation.py\", line 593, in _fit_and_score\n",
      "    estimator.fit(X_train, y_train, **fit_params)\n",
      "  File \"C:\\Users\\pbeata\\anaconda3\\envs\\py3-TF2.0\\lib\\site-packages\\sklearn\\ensemble\\_forest.py\", line 387, in fit\n",
      "    trees = Parallel(n_jobs=self.n_jobs, verbose=self.verbose,\n",
      "  File \"C:\\Users\\pbeata\\anaconda3\\envs\\py3-TF2.0\\lib\\site-packages\\joblib\\parallel.py\", line 1041, in __call__\n",
      "    if self.dispatch_one_batch(iterator):\n",
      "  File \"C:\\Users\\pbeata\\anaconda3\\envs\\py3-TF2.0\\lib\\site-packages\\joblib\\parallel.py\", line 859, in dispatch_one_batch\n",
      "    self._dispatch(tasks)\n",
      "  File \"C:\\Users\\pbeata\\anaconda3\\envs\\py3-TF2.0\\lib\\site-packages\\joblib\\parallel.py\", line 777, in _dispatch\n",
      "    job = self._backend.apply_async(batch, callback=cb)\n",
      "  File \"C:\\Users\\pbeata\\anaconda3\\envs\\py3-TF2.0\\lib\\site-packages\\joblib\\_parallel_backends.py\", line 208, in apply_async\n",
      "    result = ImmediateResult(func)\n",
      "  File \"C:\\Users\\pbeata\\anaconda3\\envs\\py3-TF2.0\\lib\\site-packages\\joblib\\_parallel_backends.py\", line 572, in __init__\n",
      "    self.results = batch()\n",
      "  File \"C:\\Users\\pbeata\\anaconda3\\envs\\py3-TF2.0\\lib\\site-packages\\joblib\\parallel.py\", line 262, in __call__\n",
      "    return [func(*args, **kwargs)\n",
      "  File \"C:\\Users\\pbeata\\anaconda3\\envs\\py3-TF2.0\\lib\\site-packages\\joblib\\parallel.py\", line 262, in <listcomp>\n",
      "    return [func(*args, **kwargs)\n",
      "  File \"C:\\Users\\pbeata\\anaconda3\\envs\\py3-TF2.0\\lib\\site-packages\\sklearn\\utils\\fixes.py\", line 222, in __call__\n",
      "    return self.function(*args, **kwargs)\n",
      "  File \"C:\\Users\\pbeata\\anaconda3\\envs\\py3-TF2.0\\lib\\site-packages\\sklearn\\ensemble\\_forest.py\", line 169, in _parallel_build_trees\n",
      "    tree.fit(X, y, sample_weight=curr_sample_weight, check_input=False)\n",
      "  File \"C:\\Users\\pbeata\\anaconda3\\envs\\py3-TF2.0\\lib\\site-packages\\sklearn\\tree\\_classes.py\", line 1247, in fit\n",
      "    super().fit(\n",
      "  File \"C:\\Users\\pbeata\\anaconda3\\envs\\py3-TF2.0\\lib\\site-packages\\sklearn\\tree\\_classes.py\", line 285, in fit\n",
      "    if max_depth <= 0:\n",
      "TypeError: '<=' not supported between instances of 'str' and 'int'\n",
      "\n",
      "  warnings.warn(\"Estimator fit failed. The score on this train-test\"\n",
      "C:\\Users\\pbeata\\anaconda3\\envs\\py3-TF2.0\\lib\\site-packages\\sklearn\\model_selection\\_validation.py:610: FitFailedWarning: Estimator fit failed. The score on this train-test partition for these parameters will be set to nan. Details: \n",
      "Traceback (most recent call last):\n",
      "  File \"C:\\Users\\pbeata\\anaconda3\\envs\\py3-TF2.0\\lib\\site-packages\\sklearn\\model_selection\\_validation.py\", line 593, in _fit_and_score\n",
      "    estimator.fit(X_train, y_train, **fit_params)\n",
      "  File \"C:\\Users\\pbeata\\anaconda3\\envs\\py3-TF2.0\\lib\\site-packages\\sklearn\\ensemble\\_forest.py\", line 387, in fit\n",
      "    trees = Parallel(n_jobs=self.n_jobs, verbose=self.verbose,\n",
      "  File \"C:\\Users\\pbeata\\anaconda3\\envs\\py3-TF2.0\\lib\\site-packages\\joblib\\parallel.py\", line 1041, in __call__\n",
      "    if self.dispatch_one_batch(iterator):\n",
      "  File \"C:\\Users\\pbeata\\anaconda3\\envs\\py3-TF2.0\\lib\\site-packages\\joblib\\parallel.py\", line 859, in dispatch_one_batch\n",
      "    self._dispatch(tasks)\n",
      "  File \"C:\\Users\\pbeata\\anaconda3\\envs\\py3-TF2.0\\lib\\site-packages\\joblib\\parallel.py\", line 777, in _dispatch\n",
      "    job = self._backend.apply_async(batch, callback=cb)\n",
      "  File \"C:\\Users\\pbeata\\anaconda3\\envs\\py3-TF2.0\\lib\\site-packages\\joblib\\_parallel_backends.py\", line 208, in apply_async\n",
      "    result = ImmediateResult(func)\n",
      "  File \"C:\\Users\\pbeata\\anaconda3\\envs\\py3-TF2.0\\lib\\site-packages\\joblib\\_parallel_backends.py\", line 572, in __init__\n",
      "    self.results = batch()\n",
      "  File \"C:\\Users\\pbeata\\anaconda3\\envs\\py3-TF2.0\\lib\\site-packages\\joblib\\parallel.py\", line 262, in __call__\n",
      "    return [func(*args, **kwargs)\n",
      "  File \"C:\\Users\\pbeata\\anaconda3\\envs\\py3-TF2.0\\lib\\site-packages\\joblib\\parallel.py\", line 262, in <listcomp>\n",
      "    return [func(*args, **kwargs)\n",
      "  File \"C:\\Users\\pbeata\\anaconda3\\envs\\py3-TF2.0\\lib\\site-packages\\sklearn\\utils\\fixes.py\", line 222, in __call__\n",
      "    return self.function(*args, **kwargs)\n",
      "  File \"C:\\Users\\pbeata\\anaconda3\\envs\\py3-TF2.0\\lib\\site-packages\\sklearn\\ensemble\\_forest.py\", line 169, in _parallel_build_trees\n",
      "    tree.fit(X, y, sample_weight=curr_sample_weight, check_input=False)\n",
      "  File \"C:\\Users\\pbeata\\anaconda3\\envs\\py3-TF2.0\\lib\\site-packages\\sklearn\\tree\\_classes.py\", line 1247, in fit\n",
      "    super().fit(\n",
      "  File \"C:\\Users\\pbeata\\anaconda3\\envs\\py3-TF2.0\\lib\\site-packages\\sklearn\\tree\\_classes.py\", line 285, in fit\n",
      "    if max_depth <= 0:\n",
      "TypeError: '<=' not supported between instances of 'str' and 'int'\n",
      "\n",
      "  warnings.warn(\"Estimator fit failed. The score on this train-test\"\n",
      "C:\\Users\\pbeata\\anaconda3\\envs\\py3-TF2.0\\lib\\site-packages\\sklearn\\model_selection\\_validation.py:610: FitFailedWarning: Estimator fit failed. The score on this train-test partition for these parameters will be set to nan. Details: \n",
      "Traceback (most recent call last):\n",
      "  File \"C:\\Users\\pbeata\\anaconda3\\envs\\py3-TF2.0\\lib\\site-packages\\sklearn\\model_selection\\_validation.py\", line 593, in _fit_and_score\n",
      "    estimator.fit(X_train, y_train, **fit_params)\n",
      "  File \"C:\\Users\\pbeata\\anaconda3\\envs\\py3-TF2.0\\lib\\site-packages\\sklearn\\ensemble\\_forest.py\", line 387, in fit\n",
      "    trees = Parallel(n_jobs=self.n_jobs, verbose=self.verbose,\n",
      "  File \"C:\\Users\\pbeata\\anaconda3\\envs\\py3-TF2.0\\lib\\site-packages\\joblib\\parallel.py\", line 1041, in __call__\n",
      "    if self.dispatch_one_batch(iterator):\n",
      "  File \"C:\\Users\\pbeata\\anaconda3\\envs\\py3-TF2.0\\lib\\site-packages\\joblib\\parallel.py\", line 859, in dispatch_one_batch\n",
      "    self._dispatch(tasks)\n",
      "  File \"C:\\Users\\pbeata\\anaconda3\\envs\\py3-TF2.0\\lib\\site-packages\\joblib\\parallel.py\", line 777, in _dispatch\n",
      "    job = self._backend.apply_async(batch, callback=cb)\n",
      "  File \"C:\\Users\\pbeata\\anaconda3\\envs\\py3-TF2.0\\lib\\site-packages\\joblib\\_parallel_backends.py\", line 208, in apply_async\n",
      "    result = ImmediateResult(func)\n",
      "  File \"C:\\Users\\pbeata\\anaconda3\\envs\\py3-TF2.0\\lib\\site-packages\\joblib\\_parallel_backends.py\", line 572, in __init__\n",
      "    self.results = batch()\n",
      "  File \"C:\\Users\\pbeata\\anaconda3\\envs\\py3-TF2.0\\lib\\site-packages\\joblib\\parallel.py\", line 262, in __call__\n",
      "    return [func(*args, **kwargs)\n",
      "  File \"C:\\Users\\pbeata\\anaconda3\\envs\\py3-TF2.0\\lib\\site-packages\\joblib\\parallel.py\", line 262, in <listcomp>\n",
      "    return [func(*args, **kwargs)\n",
      "  File \"C:\\Users\\pbeata\\anaconda3\\envs\\py3-TF2.0\\lib\\site-packages\\sklearn\\utils\\fixes.py\", line 222, in __call__\n",
      "    return self.function(*args, **kwargs)\n",
      "  File \"C:\\Users\\pbeata\\anaconda3\\envs\\py3-TF2.0\\lib\\site-packages\\sklearn\\ensemble\\_forest.py\", line 169, in _parallel_build_trees\n",
      "    tree.fit(X, y, sample_weight=curr_sample_weight, check_input=False)\n",
      "  File \"C:\\Users\\pbeata\\anaconda3\\envs\\py3-TF2.0\\lib\\site-packages\\sklearn\\tree\\_classes.py\", line 1247, in fit\n",
      "    super().fit(\n",
      "  File \"C:\\Users\\pbeata\\anaconda3\\envs\\py3-TF2.0\\lib\\site-packages\\sklearn\\tree\\_classes.py\", line 285, in fit\n",
      "    if max_depth <= 0:\n",
      "TypeError: '<=' not supported between instances of 'str' and 'int'\n",
      "\n",
      "  warnings.warn(\"Estimator fit failed. The score on this train-test\"\n",
      "C:\\Users\\pbeata\\anaconda3\\envs\\py3-TF2.0\\lib\\site-packages\\sklearn\\model_selection\\_validation.py:610: FitFailedWarning: Estimator fit failed. The score on this train-test partition for these parameters will be set to nan. Details: \n",
      "Traceback (most recent call last):\n",
      "  File \"C:\\Users\\pbeata\\anaconda3\\envs\\py3-TF2.0\\lib\\site-packages\\sklearn\\model_selection\\_validation.py\", line 593, in _fit_and_score\n",
      "    estimator.fit(X_train, y_train, **fit_params)\n",
      "  File \"C:\\Users\\pbeata\\anaconda3\\envs\\py3-TF2.0\\lib\\site-packages\\sklearn\\ensemble\\_forest.py\", line 387, in fit\n",
      "    trees = Parallel(n_jobs=self.n_jobs, verbose=self.verbose,\n",
      "  File \"C:\\Users\\pbeata\\anaconda3\\envs\\py3-TF2.0\\lib\\site-packages\\joblib\\parallel.py\", line 1041, in __call__\n",
      "    if self.dispatch_one_batch(iterator):\n",
      "  File \"C:\\Users\\pbeata\\anaconda3\\envs\\py3-TF2.0\\lib\\site-packages\\joblib\\parallel.py\", line 859, in dispatch_one_batch\n",
      "    self._dispatch(tasks)\n",
      "  File \"C:\\Users\\pbeata\\anaconda3\\envs\\py3-TF2.0\\lib\\site-packages\\joblib\\parallel.py\", line 777, in _dispatch\n",
      "    job = self._backend.apply_async(batch, callback=cb)\n",
      "  File \"C:\\Users\\pbeata\\anaconda3\\envs\\py3-TF2.0\\lib\\site-packages\\joblib\\_parallel_backends.py\", line 208, in apply_async\n",
      "    result = ImmediateResult(func)\n",
      "  File \"C:\\Users\\pbeata\\anaconda3\\envs\\py3-TF2.0\\lib\\site-packages\\joblib\\_parallel_backends.py\", line 572, in __init__\n",
      "    self.results = batch()\n",
      "  File \"C:\\Users\\pbeata\\anaconda3\\envs\\py3-TF2.0\\lib\\site-packages\\joblib\\parallel.py\", line 262, in __call__\n",
      "    return [func(*args, **kwargs)\n",
      "  File \"C:\\Users\\pbeata\\anaconda3\\envs\\py3-TF2.0\\lib\\site-packages\\joblib\\parallel.py\", line 262, in <listcomp>\n",
      "    return [func(*args, **kwargs)\n",
      "  File \"C:\\Users\\pbeata\\anaconda3\\envs\\py3-TF2.0\\lib\\site-packages\\sklearn\\utils\\fixes.py\", line 222, in __call__\n",
      "    return self.function(*args, **kwargs)\n",
      "  File \"C:\\Users\\pbeata\\anaconda3\\envs\\py3-TF2.0\\lib\\site-packages\\sklearn\\ensemble\\_forest.py\", line 169, in _parallel_build_trees\n",
      "    tree.fit(X, y, sample_weight=curr_sample_weight, check_input=False)\n",
      "  File \"C:\\Users\\pbeata\\anaconda3\\envs\\py3-TF2.0\\lib\\site-packages\\sklearn\\tree\\_classes.py\", line 1247, in fit\n",
      "    super().fit(\n",
      "  File \"C:\\Users\\pbeata\\anaconda3\\envs\\py3-TF2.0\\lib\\site-packages\\sklearn\\tree\\_classes.py\", line 285, in fit\n",
      "    if max_depth <= 0:\n",
      "TypeError: '<=' not supported between instances of 'str' and 'int'\n",
      "\n",
      "  warnings.warn(\"Estimator fit failed. The score on this train-test\"\n"
     ]
    },
    {
     "name": "stdout",
     "output_type": "stream",
     "text": [
      "[CV] END max_depth=None, max_features=auto, n_estimators=100; total time=   0.0s\n",
      "[CV] END max_depth=None, max_features=auto, n_estimators=100; total time=   0.0s\n",
      "[CV] END max_depth=None, max_features=auto, n_estimators=100; total time=   0.0s\n",
      "[CV] END max_depth=None, max_features=auto, n_estimators=200; total time=   0.0s\n",
      "[CV] END max_depth=None, max_features=auto, n_estimators=200; total time=   0.0s\n"
     ]
    },
    {
     "name": "stderr",
     "output_type": "stream",
     "text": [
      "C:\\Users\\pbeata\\anaconda3\\envs\\py3-TF2.0\\lib\\site-packages\\sklearn\\model_selection\\_validation.py:610: FitFailedWarning: Estimator fit failed. The score on this train-test partition for these parameters will be set to nan. Details: \n",
      "Traceback (most recent call last):\n",
      "  File \"C:\\Users\\pbeata\\anaconda3\\envs\\py3-TF2.0\\lib\\site-packages\\sklearn\\model_selection\\_validation.py\", line 593, in _fit_and_score\n",
      "    estimator.fit(X_train, y_train, **fit_params)\n",
      "  File \"C:\\Users\\pbeata\\anaconda3\\envs\\py3-TF2.0\\lib\\site-packages\\sklearn\\ensemble\\_forest.py\", line 387, in fit\n",
      "    trees = Parallel(n_jobs=self.n_jobs, verbose=self.verbose,\n",
      "  File \"C:\\Users\\pbeata\\anaconda3\\envs\\py3-TF2.0\\lib\\site-packages\\joblib\\parallel.py\", line 1041, in __call__\n",
      "    if self.dispatch_one_batch(iterator):\n",
      "  File \"C:\\Users\\pbeata\\anaconda3\\envs\\py3-TF2.0\\lib\\site-packages\\joblib\\parallel.py\", line 859, in dispatch_one_batch\n",
      "    self._dispatch(tasks)\n",
      "  File \"C:\\Users\\pbeata\\anaconda3\\envs\\py3-TF2.0\\lib\\site-packages\\joblib\\parallel.py\", line 777, in _dispatch\n",
      "    job = self._backend.apply_async(batch, callback=cb)\n",
      "  File \"C:\\Users\\pbeata\\anaconda3\\envs\\py3-TF2.0\\lib\\site-packages\\joblib\\_parallel_backends.py\", line 208, in apply_async\n",
      "    result = ImmediateResult(func)\n",
      "  File \"C:\\Users\\pbeata\\anaconda3\\envs\\py3-TF2.0\\lib\\site-packages\\joblib\\_parallel_backends.py\", line 572, in __init__\n",
      "    self.results = batch()\n",
      "  File \"C:\\Users\\pbeata\\anaconda3\\envs\\py3-TF2.0\\lib\\site-packages\\joblib\\parallel.py\", line 262, in __call__\n",
      "    return [func(*args, **kwargs)\n",
      "  File \"C:\\Users\\pbeata\\anaconda3\\envs\\py3-TF2.0\\lib\\site-packages\\joblib\\parallel.py\", line 262, in <listcomp>\n",
      "    return [func(*args, **kwargs)\n",
      "  File \"C:\\Users\\pbeata\\anaconda3\\envs\\py3-TF2.0\\lib\\site-packages\\sklearn\\utils\\fixes.py\", line 222, in __call__\n",
      "    return self.function(*args, **kwargs)\n",
      "  File \"C:\\Users\\pbeata\\anaconda3\\envs\\py3-TF2.0\\lib\\site-packages\\sklearn\\ensemble\\_forest.py\", line 169, in _parallel_build_trees\n",
      "    tree.fit(X, y, sample_weight=curr_sample_weight, check_input=False)\n",
      "  File \"C:\\Users\\pbeata\\anaconda3\\envs\\py3-TF2.0\\lib\\site-packages\\sklearn\\tree\\_classes.py\", line 1247, in fit\n",
      "    super().fit(\n",
      "  File \"C:\\Users\\pbeata\\anaconda3\\envs\\py3-TF2.0\\lib\\site-packages\\sklearn\\tree\\_classes.py\", line 285, in fit\n",
      "    if max_depth <= 0:\n",
      "TypeError: '<=' not supported between instances of 'str' and 'int'\n",
      "\n",
      "  warnings.warn(\"Estimator fit failed. The score on this train-test\"\n",
      "C:\\Users\\pbeata\\anaconda3\\envs\\py3-TF2.0\\lib\\site-packages\\sklearn\\model_selection\\_validation.py:610: FitFailedWarning: Estimator fit failed. The score on this train-test partition for these parameters will be set to nan. Details: \n",
      "Traceback (most recent call last):\n",
      "  File \"C:\\Users\\pbeata\\anaconda3\\envs\\py3-TF2.0\\lib\\site-packages\\sklearn\\model_selection\\_validation.py\", line 593, in _fit_and_score\n",
      "    estimator.fit(X_train, y_train, **fit_params)\n",
      "  File \"C:\\Users\\pbeata\\anaconda3\\envs\\py3-TF2.0\\lib\\site-packages\\sklearn\\ensemble\\_forest.py\", line 387, in fit\n",
      "    trees = Parallel(n_jobs=self.n_jobs, verbose=self.verbose,\n",
      "  File \"C:\\Users\\pbeata\\anaconda3\\envs\\py3-TF2.0\\lib\\site-packages\\joblib\\parallel.py\", line 1041, in __call__\n",
      "    if self.dispatch_one_batch(iterator):\n",
      "  File \"C:\\Users\\pbeata\\anaconda3\\envs\\py3-TF2.0\\lib\\site-packages\\joblib\\parallel.py\", line 859, in dispatch_one_batch\n",
      "    self._dispatch(tasks)\n",
      "  File \"C:\\Users\\pbeata\\anaconda3\\envs\\py3-TF2.0\\lib\\site-packages\\joblib\\parallel.py\", line 777, in _dispatch\n",
      "    job = self._backend.apply_async(batch, callback=cb)\n",
      "  File \"C:\\Users\\pbeata\\anaconda3\\envs\\py3-TF2.0\\lib\\site-packages\\joblib\\_parallel_backends.py\", line 208, in apply_async\n",
      "    result = ImmediateResult(func)\n",
      "  File \"C:\\Users\\pbeata\\anaconda3\\envs\\py3-TF2.0\\lib\\site-packages\\joblib\\_parallel_backends.py\", line 572, in __init__\n",
      "    self.results = batch()\n",
      "  File \"C:\\Users\\pbeata\\anaconda3\\envs\\py3-TF2.0\\lib\\site-packages\\joblib\\parallel.py\", line 262, in __call__\n",
      "    return [func(*args, **kwargs)\n",
      "  File \"C:\\Users\\pbeata\\anaconda3\\envs\\py3-TF2.0\\lib\\site-packages\\joblib\\parallel.py\", line 262, in <listcomp>\n",
      "    return [func(*args, **kwargs)\n",
      "  File \"C:\\Users\\pbeata\\anaconda3\\envs\\py3-TF2.0\\lib\\site-packages\\sklearn\\utils\\fixes.py\", line 222, in __call__\n",
      "    return self.function(*args, **kwargs)\n",
      "  File \"C:\\Users\\pbeata\\anaconda3\\envs\\py3-TF2.0\\lib\\site-packages\\sklearn\\ensemble\\_forest.py\", line 169, in _parallel_build_trees\n",
      "    tree.fit(X, y, sample_weight=curr_sample_weight, check_input=False)\n",
      "  File \"C:\\Users\\pbeata\\anaconda3\\envs\\py3-TF2.0\\lib\\site-packages\\sklearn\\tree\\_classes.py\", line 1247, in fit\n",
      "    super().fit(\n",
      "  File \"C:\\Users\\pbeata\\anaconda3\\envs\\py3-TF2.0\\lib\\site-packages\\sklearn\\tree\\_classes.py\", line 285, in fit\n",
      "    if max_depth <= 0:\n",
      "TypeError: '<=' not supported between instances of 'str' and 'int'\n",
      "\n",
      "  warnings.warn(\"Estimator fit failed. The score on this train-test\"\n",
      "C:\\Users\\pbeata\\anaconda3\\envs\\py3-TF2.0\\lib\\site-packages\\sklearn\\model_selection\\_validation.py:610: FitFailedWarning: Estimator fit failed. The score on this train-test partition for these parameters will be set to nan. Details: \n",
      "Traceback (most recent call last):\n",
      "  File \"C:\\Users\\pbeata\\anaconda3\\envs\\py3-TF2.0\\lib\\site-packages\\sklearn\\model_selection\\_validation.py\", line 593, in _fit_and_score\n",
      "    estimator.fit(X_train, y_train, **fit_params)\n",
      "  File \"C:\\Users\\pbeata\\anaconda3\\envs\\py3-TF2.0\\lib\\site-packages\\sklearn\\ensemble\\_forest.py\", line 387, in fit\n",
      "    trees = Parallel(n_jobs=self.n_jobs, verbose=self.verbose,\n",
      "  File \"C:\\Users\\pbeata\\anaconda3\\envs\\py3-TF2.0\\lib\\site-packages\\joblib\\parallel.py\", line 1041, in __call__\n",
      "    if self.dispatch_one_batch(iterator):\n",
      "  File \"C:\\Users\\pbeata\\anaconda3\\envs\\py3-TF2.0\\lib\\site-packages\\joblib\\parallel.py\", line 859, in dispatch_one_batch\n",
      "    self._dispatch(tasks)\n",
      "  File \"C:\\Users\\pbeata\\anaconda3\\envs\\py3-TF2.0\\lib\\site-packages\\joblib\\parallel.py\", line 777, in _dispatch\n",
      "    job = self._backend.apply_async(batch, callback=cb)\n",
      "  File \"C:\\Users\\pbeata\\anaconda3\\envs\\py3-TF2.0\\lib\\site-packages\\joblib\\_parallel_backends.py\", line 208, in apply_async\n",
      "    result = ImmediateResult(func)\n",
      "  File \"C:\\Users\\pbeata\\anaconda3\\envs\\py3-TF2.0\\lib\\site-packages\\joblib\\_parallel_backends.py\", line 572, in __init__\n",
      "    self.results = batch()\n",
      "  File \"C:\\Users\\pbeata\\anaconda3\\envs\\py3-TF2.0\\lib\\site-packages\\joblib\\parallel.py\", line 262, in __call__\n",
      "    return [func(*args, **kwargs)\n",
      "  File \"C:\\Users\\pbeata\\anaconda3\\envs\\py3-TF2.0\\lib\\site-packages\\joblib\\parallel.py\", line 262, in <listcomp>\n",
      "    return [func(*args, **kwargs)\n",
      "  File \"C:\\Users\\pbeata\\anaconda3\\envs\\py3-TF2.0\\lib\\site-packages\\sklearn\\utils\\fixes.py\", line 222, in __call__\n",
      "    return self.function(*args, **kwargs)\n",
      "  File \"C:\\Users\\pbeata\\anaconda3\\envs\\py3-TF2.0\\lib\\site-packages\\sklearn\\ensemble\\_forest.py\", line 169, in _parallel_build_trees\n",
      "    tree.fit(X, y, sample_weight=curr_sample_weight, check_input=False)\n",
      "  File \"C:\\Users\\pbeata\\anaconda3\\envs\\py3-TF2.0\\lib\\site-packages\\sklearn\\tree\\_classes.py\", line 1247, in fit\n",
      "    super().fit(\n",
      "  File \"C:\\Users\\pbeata\\anaconda3\\envs\\py3-TF2.0\\lib\\site-packages\\sklearn\\tree\\_classes.py\", line 285, in fit\n",
      "    if max_depth <= 0:\n",
      "TypeError: '<=' not supported between instances of 'str' and 'int'\n",
      "\n",
      "  warnings.warn(\"Estimator fit failed. The score on this train-test\"\n",
      "C:\\Users\\pbeata\\anaconda3\\envs\\py3-TF2.0\\lib\\site-packages\\sklearn\\model_selection\\_validation.py:610: FitFailedWarning: Estimator fit failed. The score on this train-test partition for these parameters will be set to nan. Details: \n",
      "Traceback (most recent call last):\n",
      "  File \"C:\\Users\\pbeata\\anaconda3\\envs\\py3-TF2.0\\lib\\site-packages\\sklearn\\model_selection\\_validation.py\", line 593, in _fit_and_score\n",
      "    estimator.fit(X_train, y_train, **fit_params)\n",
      "  File \"C:\\Users\\pbeata\\anaconda3\\envs\\py3-TF2.0\\lib\\site-packages\\sklearn\\ensemble\\_forest.py\", line 387, in fit\n",
      "    trees = Parallel(n_jobs=self.n_jobs, verbose=self.verbose,\n",
      "  File \"C:\\Users\\pbeata\\anaconda3\\envs\\py3-TF2.0\\lib\\site-packages\\joblib\\parallel.py\", line 1041, in __call__\n",
      "    if self.dispatch_one_batch(iterator):\n",
      "  File \"C:\\Users\\pbeata\\anaconda3\\envs\\py3-TF2.0\\lib\\site-packages\\joblib\\parallel.py\", line 859, in dispatch_one_batch\n",
      "    self._dispatch(tasks)\n",
      "  File \"C:\\Users\\pbeata\\anaconda3\\envs\\py3-TF2.0\\lib\\site-packages\\joblib\\parallel.py\", line 777, in _dispatch\n",
      "    job = self._backend.apply_async(batch, callback=cb)\n",
      "  File \"C:\\Users\\pbeata\\anaconda3\\envs\\py3-TF2.0\\lib\\site-packages\\joblib\\_parallel_backends.py\", line 208, in apply_async\n",
      "    result = ImmediateResult(func)\n",
      "  File \"C:\\Users\\pbeata\\anaconda3\\envs\\py3-TF2.0\\lib\\site-packages\\joblib\\_parallel_backends.py\", line 572, in __init__\n",
      "    self.results = batch()\n",
      "  File \"C:\\Users\\pbeata\\anaconda3\\envs\\py3-TF2.0\\lib\\site-packages\\joblib\\parallel.py\", line 262, in __call__\n",
      "    return [func(*args, **kwargs)\n",
      "  File \"C:\\Users\\pbeata\\anaconda3\\envs\\py3-TF2.0\\lib\\site-packages\\joblib\\parallel.py\", line 262, in <listcomp>\n",
      "    return [func(*args, **kwargs)\n",
      "  File \"C:\\Users\\pbeata\\anaconda3\\envs\\py3-TF2.0\\lib\\site-packages\\sklearn\\utils\\fixes.py\", line 222, in __call__\n",
      "    return self.function(*args, **kwargs)\n",
      "  File \"C:\\Users\\pbeata\\anaconda3\\envs\\py3-TF2.0\\lib\\site-packages\\sklearn\\ensemble\\_forest.py\", line 169, in _parallel_build_trees\n",
      "    tree.fit(X, y, sample_weight=curr_sample_weight, check_input=False)\n",
      "  File \"C:\\Users\\pbeata\\anaconda3\\envs\\py3-TF2.0\\lib\\site-packages\\sklearn\\tree\\_classes.py\", line 1247, in fit\n",
      "    super().fit(\n",
      "  File \"C:\\Users\\pbeata\\anaconda3\\envs\\py3-TF2.0\\lib\\site-packages\\sklearn\\tree\\_classes.py\", line 285, in fit\n",
      "    if max_depth <= 0:\n",
      "TypeError: '<=' not supported between instances of 'str' and 'int'\n",
      "\n",
      "  warnings.warn(\"Estimator fit failed. The score on this train-test\"\n"
     ]
    },
    {
     "name": "stderr",
     "output_type": "stream",
     "text": [
      "C:\\Users\\pbeata\\anaconda3\\envs\\py3-TF2.0\\lib\\site-packages\\sklearn\\model_selection\\_validation.py:610: FitFailedWarning: Estimator fit failed. The score on this train-test partition for these parameters will be set to nan. Details: \n",
      "Traceback (most recent call last):\n",
      "  File \"C:\\Users\\pbeata\\anaconda3\\envs\\py3-TF2.0\\lib\\site-packages\\sklearn\\model_selection\\_validation.py\", line 593, in _fit_and_score\n",
      "    estimator.fit(X_train, y_train, **fit_params)\n",
      "  File \"C:\\Users\\pbeata\\anaconda3\\envs\\py3-TF2.0\\lib\\site-packages\\sklearn\\ensemble\\_forest.py\", line 387, in fit\n",
      "    trees = Parallel(n_jobs=self.n_jobs, verbose=self.verbose,\n",
      "  File \"C:\\Users\\pbeata\\anaconda3\\envs\\py3-TF2.0\\lib\\site-packages\\joblib\\parallel.py\", line 1041, in __call__\n",
      "    if self.dispatch_one_batch(iterator):\n",
      "  File \"C:\\Users\\pbeata\\anaconda3\\envs\\py3-TF2.0\\lib\\site-packages\\joblib\\parallel.py\", line 859, in dispatch_one_batch\n",
      "    self._dispatch(tasks)\n",
      "  File \"C:\\Users\\pbeata\\anaconda3\\envs\\py3-TF2.0\\lib\\site-packages\\joblib\\parallel.py\", line 777, in _dispatch\n",
      "    job = self._backend.apply_async(batch, callback=cb)\n",
      "  File \"C:\\Users\\pbeata\\anaconda3\\envs\\py3-TF2.0\\lib\\site-packages\\joblib\\_parallel_backends.py\", line 208, in apply_async\n",
      "    result = ImmediateResult(func)\n",
      "  File \"C:\\Users\\pbeata\\anaconda3\\envs\\py3-TF2.0\\lib\\site-packages\\joblib\\_parallel_backends.py\", line 572, in __init__\n",
      "    self.results = batch()\n",
      "  File \"C:\\Users\\pbeata\\anaconda3\\envs\\py3-TF2.0\\lib\\site-packages\\joblib\\parallel.py\", line 262, in __call__\n",
      "    return [func(*args, **kwargs)\n",
      "  File \"C:\\Users\\pbeata\\anaconda3\\envs\\py3-TF2.0\\lib\\site-packages\\joblib\\parallel.py\", line 262, in <listcomp>\n",
      "    return [func(*args, **kwargs)\n",
      "  File \"C:\\Users\\pbeata\\anaconda3\\envs\\py3-TF2.0\\lib\\site-packages\\sklearn\\utils\\fixes.py\", line 222, in __call__\n",
      "    return self.function(*args, **kwargs)\n",
      "  File \"C:\\Users\\pbeata\\anaconda3\\envs\\py3-TF2.0\\lib\\site-packages\\sklearn\\ensemble\\_forest.py\", line 169, in _parallel_build_trees\n",
      "    tree.fit(X, y, sample_weight=curr_sample_weight, check_input=False)\n",
      "  File \"C:\\Users\\pbeata\\anaconda3\\envs\\py3-TF2.0\\lib\\site-packages\\sklearn\\tree\\_classes.py\", line 1247, in fit\n",
      "    super().fit(\n",
      "  File \"C:\\Users\\pbeata\\anaconda3\\envs\\py3-TF2.0\\lib\\site-packages\\sklearn\\tree\\_classes.py\", line 285, in fit\n",
      "    if max_depth <= 0:\n",
      "TypeError: '<=' not supported between instances of 'str' and 'int'\n",
      "\n",
      "  warnings.warn(\"Estimator fit failed. The score on this train-test\"\n",
      "C:\\Users\\pbeata\\anaconda3\\envs\\py3-TF2.0\\lib\\site-packages\\sklearn\\model_selection\\_validation.py:610: FitFailedWarning: Estimator fit failed. The score on this train-test partition for these parameters will be set to nan. Details: \n",
      "Traceback (most recent call last):\n",
      "  File \"C:\\Users\\pbeata\\anaconda3\\envs\\py3-TF2.0\\lib\\site-packages\\sklearn\\model_selection\\_validation.py\", line 593, in _fit_and_score\n",
      "    estimator.fit(X_train, y_train, **fit_params)\n",
      "  File \"C:\\Users\\pbeata\\anaconda3\\envs\\py3-TF2.0\\lib\\site-packages\\sklearn\\ensemble\\_forest.py\", line 387, in fit\n",
      "    trees = Parallel(n_jobs=self.n_jobs, verbose=self.verbose,\n",
      "  File \"C:\\Users\\pbeata\\anaconda3\\envs\\py3-TF2.0\\lib\\site-packages\\joblib\\parallel.py\", line 1041, in __call__\n",
      "    if self.dispatch_one_batch(iterator):\n",
      "  File \"C:\\Users\\pbeata\\anaconda3\\envs\\py3-TF2.0\\lib\\site-packages\\joblib\\parallel.py\", line 859, in dispatch_one_batch\n",
      "    self._dispatch(tasks)\n",
      "  File \"C:\\Users\\pbeata\\anaconda3\\envs\\py3-TF2.0\\lib\\site-packages\\joblib\\parallel.py\", line 777, in _dispatch\n",
      "    job = self._backend.apply_async(batch, callback=cb)\n",
      "  File \"C:\\Users\\pbeata\\anaconda3\\envs\\py3-TF2.0\\lib\\site-packages\\joblib\\_parallel_backends.py\", line 208, in apply_async\n",
      "    result = ImmediateResult(func)\n",
      "  File \"C:\\Users\\pbeata\\anaconda3\\envs\\py3-TF2.0\\lib\\site-packages\\joblib\\_parallel_backends.py\", line 572, in __init__\n",
      "    self.results = batch()\n",
      "  File \"C:\\Users\\pbeata\\anaconda3\\envs\\py3-TF2.0\\lib\\site-packages\\joblib\\parallel.py\", line 262, in __call__\n",
      "    return [func(*args, **kwargs)\n",
      "  File \"C:\\Users\\pbeata\\anaconda3\\envs\\py3-TF2.0\\lib\\site-packages\\joblib\\parallel.py\", line 262, in <listcomp>\n",
      "    return [func(*args, **kwargs)\n",
      "  File \"C:\\Users\\pbeata\\anaconda3\\envs\\py3-TF2.0\\lib\\site-packages\\sklearn\\utils\\fixes.py\", line 222, in __call__\n",
      "    return self.function(*args, **kwargs)\n",
      "  File \"C:\\Users\\pbeata\\anaconda3\\envs\\py3-TF2.0\\lib\\site-packages\\sklearn\\ensemble\\_forest.py\", line 169, in _parallel_build_trees\n",
      "    tree.fit(X, y, sample_weight=curr_sample_weight, check_input=False)\n",
      "  File \"C:\\Users\\pbeata\\anaconda3\\envs\\py3-TF2.0\\lib\\site-packages\\sklearn\\tree\\_classes.py\", line 1247, in fit\n",
      "    super().fit(\n",
      "  File \"C:\\Users\\pbeata\\anaconda3\\envs\\py3-TF2.0\\lib\\site-packages\\sklearn\\tree\\_classes.py\", line 285, in fit\n",
      "    if max_depth <= 0:\n",
      "TypeError: '<=' not supported between instances of 'str' and 'int'\n",
      "\n",
      "  warnings.warn(\"Estimator fit failed. The score on this train-test\"\n",
      "C:\\Users\\pbeata\\anaconda3\\envs\\py3-TF2.0\\lib\\site-packages\\sklearn\\model_selection\\_validation.py:610: FitFailedWarning: Estimator fit failed. The score on this train-test partition for these parameters will be set to nan. Details: \n",
      "Traceback (most recent call last):\n",
      "  File \"C:\\Users\\pbeata\\anaconda3\\envs\\py3-TF2.0\\lib\\site-packages\\sklearn\\model_selection\\_validation.py\", line 593, in _fit_and_score\n",
      "    estimator.fit(X_train, y_train, **fit_params)\n",
      "  File \"C:\\Users\\pbeata\\anaconda3\\envs\\py3-TF2.0\\lib\\site-packages\\sklearn\\ensemble\\_forest.py\", line 387, in fit\n",
      "    trees = Parallel(n_jobs=self.n_jobs, verbose=self.verbose,\n",
      "  File \"C:\\Users\\pbeata\\anaconda3\\envs\\py3-TF2.0\\lib\\site-packages\\joblib\\parallel.py\", line 1041, in __call__\n",
      "    if self.dispatch_one_batch(iterator):\n",
      "  File \"C:\\Users\\pbeata\\anaconda3\\envs\\py3-TF2.0\\lib\\site-packages\\joblib\\parallel.py\", line 859, in dispatch_one_batch\n",
      "    self._dispatch(tasks)\n",
      "  File \"C:\\Users\\pbeata\\anaconda3\\envs\\py3-TF2.0\\lib\\site-packages\\joblib\\parallel.py\", line 777, in _dispatch\n",
      "    job = self._backend.apply_async(batch, callback=cb)\n",
      "  File \"C:\\Users\\pbeata\\anaconda3\\envs\\py3-TF2.0\\lib\\site-packages\\joblib\\_parallel_backends.py\", line 208, in apply_async\n",
      "    result = ImmediateResult(func)\n",
      "  File \"C:\\Users\\pbeata\\anaconda3\\envs\\py3-TF2.0\\lib\\site-packages\\joblib\\_parallel_backends.py\", line 572, in __init__\n",
      "    self.results = batch()\n",
      "  File \"C:\\Users\\pbeata\\anaconda3\\envs\\py3-TF2.0\\lib\\site-packages\\joblib\\parallel.py\", line 262, in __call__\n",
      "    return [func(*args, **kwargs)\n",
      "  File \"C:\\Users\\pbeata\\anaconda3\\envs\\py3-TF2.0\\lib\\site-packages\\joblib\\parallel.py\", line 262, in <listcomp>\n",
      "    return [func(*args, **kwargs)\n",
      "  File \"C:\\Users\\pbeata\\anaconda3\\envs\\py3-TF2.0\\lib\\site-packages\\sklearn\\utils\\fixes.py\", line 222, in __call__\n",
      "    return self.function(*args, **kwargs)\n",
      "  File \"C:\\Users\\pbeata\\anaconda3\\envs\\py3-TF2.0\\lib\\site-packages\\sklearn\\ensemble\\_forest.py\", line 169, in _parallel_build_trees\n",
      "    tree.fit(X, y, sample_weight=curr_sample_weight, check_input=False)\n",
      "  File \"C:\\Users\\pbeata\\anaconda3\\envs\\py3-TF2.0\\lib\\site-packages\\sklearn\\tree\\_classes.py\", line 1247, in fit\n",
      "    super().fit(\n",
      "  File \"C:\\Users\\pbeata\\anaconda3\\envs\\py3-TF2.0\\lib\\site-packages\\sklearn\\tree\\_classes.py\", line 285, in fit\n",
      "    if max_depth <= 0:\n",
      "TypeError: '<=' not supported between instances of 'str' and 'int'\n",
      "\n",
      "  warnings.warn(\"Estimator fit failed. The score on this train-test\"\n",
      "C:\\Users\\pbeata\\anaconda3\\envs\\py3-TF2.0\\lib\\site-packages\\sklearn\\model_selection\\_validation.py:610: FitFailedWarning: Estimator fit failed. The score on this train-test partition for these parameters will be set to nan. Details: \n",
      "Traceback (most recent call last):\n",
      "  File \"C:\\Users\\pbeata\\anaconda3\\envs\\py3-TF2.0\\lib\\site-packages\\sklearn\\model_selection\\_validation.py\", line 593, in _fit_and_score\n",
      "    estimator.fit(X_train, y_train, **fit_params)\n",
      "  File \"C:\\Users\\pbeata\\anaconda3\\envs\\py3-TF2.0\\lib\\site-packages\\sklearn\\ensemble\\_forest.py\", line 387, in fit\n",
      "    trees = Parallel(n_jobs=self.n_jobs, verbose=self.verbose,\n",
      "  File \"C:\\Users\\pbeata\\anaconda3\\envs\\py3-TF2.0\\lib\\site-packages\\joblib\\parallel.py\", line 1041, in __call__\n",
      "    if self.dispatch_one_batch(iterator):\n",
      "  File \"C:\\Users\\pbeata\\anaconda3\\envs\\py3-TF2.0\\lib\\site-packages\\joblib\\parallel.py\", line 859, in dispatch_one_batch\n",
      "    self._dispatch(tasks)\n",
      "  File \"C:\\Users\\pbeata\\anaconda3\\envs\\py3-TF2.0\\lib\\site-packages\\joblib\\parallel.py\", line 777, in _dispatch\n",
      "    job = self._backend.apply_async(batch, callback=cb)\n",
      "  File \"C:\\Users\\pbeata\\anaconda3\\envs\\py3-TF2.0\\lib\\site-packages\\joblib\\_parallel_backends.py\", line 208, in apply_async\n",
      "    result = ImmediateResult(func)\n",
      "  File \"C:\\Users\\pbeata\\anaconda3\\envs\\py3-TF2.0\\lib\\site-packages\\joblib\\_parallel_backends.py\", line 572, in __init__\n",
      "    self.results = batch()\n",
      "  File \"C:\\Users\\pbeata\\anaconda3\\envs\\py3-TF2.0\\lib\\site-packages\\joblib\\parallel.py\", line 262, in __call__\n",
      "    return [func(*args, **kwargs)\n",
      "  File \"C:\\Users\\pbeata\\anaconda3\\envs\\py3-TF2.0\\lib\\site-packages\\joblib\\parallel.py\", line 262, in <listcomp>\n",
      "    return [func(*args, **kwargs)\n",
      "  File \"C:\\Users\\pbeata\\anaconda3\\envs\\py3-TF2.0\\lib\\site-packages\\sklearn\\utils\\fixes.py\", line 222, in __call__\n",
      "    return self.function(*args, **kwargs)\n",
      "  File \"C:\\Users\\pbeata\\anaconda3\\envs\\py3-TF2.0\\lib\\site-packages\\sklearn\\ensemble\\_forest.py\", line 169, in _parallel_build_trees\n",
      "    tree.fit(X, y, sample_weight=curr_sample_weight, check_input=False)\n",
      "  File \"C:\\Users\\pbeata\\anaconda3\\envs\\py3-TF2.0\\lib\\site-packages\\sklearn\\tree\\_classes.py\", line 1247, in fit\n",
      "    super().fit(\n",
      "  File \"C:\\Users\\pbeata\\anaconda3\\envs\\py3-TF2.0\\lib\\site-packages\\sklearn\\tree\\_classes.py\", line 285, in fit\n",
      "    if max_depth <= 0:\n",
      "TypeError: '<=' not supported between instances of 'str' and 'int'\n",
      "\n",
      "  warnings.warn(\"Estimator fit failed. The score on this train-test\"\n",
      "C:\\Users\\pbeata\\anaconda3\\envs\\py3-TF2.0\\lib\\site-packages\\sklearn\\model_selection\\_validation.py:610: FitFailedWarning: Estimator fit failed. The score on this train-test partition for these parameters will be set to nan. Details: \n",
      "Traceback (most recent call last):\n",
      "  File \"C:\\Users\\pbeata\\anaconda3\\envs\\py3-TF2.0\\lib\\site-packages\\sklearn\\model_selection\\_validation.py\", line 593, in _fit_and_score\n",
      "    estimator.fit(X_train, y_train, **fit_params)\n",
      "  File \"C:\\Users\\pbeata\\anaconda3\\envs\\py3-TF2.0\\lib\\site-packages\\sklearn\\ensemble\\_forest.py\", line 387, in fit\n",
      "    trees = Parallel(n_jobs=self.n_jobs, verbose=self.verbose,\n",
      "  File \"C:\\Users\\pbeata\\anaconda3\\envs\\py3-TF2.0\\lib\\site-packages\\joblib\\parallel.py\", line 1041, in __call__\n",
      "    if self.dispatch_one_batch(iterator):\n",
      "  File \"C:\\Users\\pbeata\\anaconda3\\envs\\py3-TF2.0\\lib\\site-packages\\joblib\\parallel.py\", line 859, in dispatch_one_batch\n",
      "    self._dispatch(tasks)\n",
      "  File \"C:\\Users\\pbeata\\anaconda3\\envs\\py3-TF2.0\\lib\\site-packages\\joblib\\parallel.py\", line 777, in _dispatch\n",
      "    job = self._backend.apply_async(batch, callback=cb)\n",
      "  File \"C:\\Users\\pbeata\\anaconda3\\envs\\py3-TF2.0\\lib\\site-packages\\joblib\\_parallel_backends.py\", line 208, in apply_async\n",
      "    result = ImmediateResult(func)\n",
      "  File \"C:\\Users\\pbeata\\anaconda3\\envs\\py3-TF2.0\\lib\\site-packages\\joblib\\_parallel_backends.py\", line 572, in __init__\n",
      "    self.results = batch()\n",
      "  File \"C:\\Users\\pbeata\\anaconda3\\envs\\py3-TF2.0\\lib\\site-packages\\joblib\\parallel.py\", line 262, in __call__\n",
      "    return [func(*args, **kwargs)\n",
      "  File \"C:\\Users\\pbeata\\anaconda3\\envs\\py3-TF2.0\\lib\\site-packages\\joblib\\parallel.py\", line 262, in <listcomp>\n",
      "    return [func(*args, **kwargs)\n",
      "  File \"C:\\Users\\pbeata\\anaconda3\\envs\\py3-TF2.0\\lib\\site-packages\\sklearn\\utils\\fixes.py\", line 222, in __call__\n",
      "    return self.function(*args, **kwargs)\n",
      "  File \"C:\\Users\\pbeata\\anaconda3\\envs\\py3-TF2.0\\lib\\site-packages\\sklearn\\ensemble\\_forest.py\", line 169, in _parallel_build_trees\n",
      "    tree.fit(X, y, sample_weight=curr_sample_weight, check_input=False)\n",
      "  File \"C:\\Users\\pbeata\\anaconda3\\envs\\py3-TF2.0\\lib\\site-packages\\sklearn\\tree\\_classes.py\", line 1247, in fit\n",
      "    super().fit(\n",
      "  File \"C:\\Users\\pbeata\\anaconda3\\envs\\py3-TF2.0\\lib\\site-packages\\sklearn\\tree\\_classes.py\", line 285, in fit\n",
      "    if max_depth <= 0:\n",
      "TypeError: '<=' not supported between instances of 'str' and 'int'\n",
      "\n",
      "  warnings.warn(\"Estimator fit failed. The score on this train-test\"\n",
      "C:\\Users\\pbeata\\anaconda3\\envs\\py3-TF2.0\\lib\\site-packages\\sklearn\\model_selection\\_validation.py:610: FitFailedWarning: Estimator fit failed. The score on this train-test partition for these parameters will be set to nan. Details: \n",
      "Traceback (most recent call last):\n",
      "  File \"C:\\Users\\pbeata\\anaconda3\\envs\\py3-TF2.0\\lib\\site-packages\\sklearn\\model_selection\\_validation.py\", line 593, in _fit_and_score\n",
      "    estimator.fit(X_train, y_train, **fit_params)\n",
      "  File \"C:\\Users\\pbeata\\anaconda3\\envs\\py3-TF2.0\\lib\\site-packages\\sklearn\\ensemble\\_forest.py\", line 387, in fit\n",
      "    trees = Parallel(n_jobs=self.n_jobs, verbose=self.verbose,\n",
      "  File \"C:\\Users\\pbeata\\anaconda3\\envs\\py3-TF2.0\\lib\\site-packages\\joblib\\parallel.py\", line 1041, in __call__\n",
      "    if self.dispatch_one_batch(iterator):\n",
      "  File \"C:\\Users\\pbeata\\anaconda3\\envs\\py3-TF2.0\\lib\\site-packages\\joblib\\parallel.py\", line 859, in dispatch_one_batch\n",
      "    self._dispatch(tasks)\n",
      "  File \"C:\\Users\\pbeata\\anaconda3\\envs\\py3-TF2.0\\lib\\site-packages\\joblib\\parallel.py\", line 777, in _dispatch\n",
      "    job = self._backend.apply_async(batch, callback=cb)\n",
      "  File \"C:\\Users\\pbeata\\anaconda3\\envs\\py3-TF2.0\\lib\\site-packages\\joblib\\_parallel_backends.py\", line 208, in apply_async\n",
      "    result = ImmediateResult(func)\n",
      "  File \"C:\\Users\\pbeata\\anaconda3\\envs\\py3-TF2.0\\lib\\site-packages\\joblib\\_parallel_backends.py\", line 572, in __init__\n",
      "    self.results = batch()\n",
      "  File \"C:\\Users\\pbeata\\anaconda3\\envs\\py3-TF2.0\\lib\\site-packages\\joblib\\parallel.py\", line 262, in __call__\n",
      "    return [func(*args, **kwargs)\n",
      "  File \"C:\\Users\\pbeata\\anaconda3\\envs\\py3-TF2.0\\lib\\site-packages\\joblib\\parallel.py\", line 262, in <listcomp>\n",
      "    return [func(*args, **kwargs)\n",
      "  File \"C:\\Users\\pbeata\\anaconda3\\envs\\py3-TF2.0\\lib\\site-packages\\sklearn\\utils\\fixes.py\", line 222, in __call__\n",
      "    return self.function(*args, **kwargs)\n",
      "  File \"C:\\Users\\pbeata\\anaconda3\\envs\\py3-TF2.0\\lib\\site-packages\\sklearn\\ensemble\\_forest.py\", line 169, in _parallel_build_trees\n",
      "    tree.fit(X, y, sample_weight=curr_sample_weight, check_input=False)\n",
      "  File \"C:\\Users\\pbeata\\anaconda3\\envs\\py3-TF2.0\\lib\\site-packages\\sklearn\\tree\\_classes.py\", line 1247, in fit\n",
      "    super().fit(\n",
      "  File \"C:\\Users\\pbeata\\anaconda3\\envs\\py3-TF2.0\\lib\\site-packages\\sklearn\\tree\\_classes.py\", line 285, in fit\n",
      "    if max_depth <= 0:\n",
      "TypeError: '<=' not supported between instances of 'str' and 'int'\n",
      "\n",
      "  warnings.warn(\"Estimator fit failed. The score on this train-test\"\n"
     ]
    },
    {
     "name": "stdout",
     "output_type": "stream",
     "text": [
      "[CV] END max_depth=None, max_features=auto, n_estimators=200; total time=   0.0s\n",
      "[CV] END max_depth=None, max_features=auto, n_estimators=200; total time=   0.0s\n",
      "[CV] END max_depth=None, max_features=auto, n_estimators=200; total time=   0.0s\n",
      "[CV] END .max_depth=None, max_features=sqrt, n_estimators=50; total time=   0.0s\n",
      "[CV] END .max_depth=None, max_features=sqrt, n_estimators=50; total time=   0.0s\n",
      "[CV] END .max_depth=None, max_features=sqrt, n_estimators=50; total time=   0.0s\n"
     ]
    },
    {
     "name": "stderr",
     "output_type": "stream",
     "text": [
      "C:\\Users\\pbeata\\anaconda3\\envs\\py3-TF2.0\\lib\\site-packages\\sklearn\\model_selection\\_validation.py:610: FitFailedWarning: Estimator fit failed. The score on this train-test partition for these parameters will be set to nan. Details: \n",
      "Traceback (most recent call last):\n",
      "  File \"C:\\Users\\pbeata\\anaconda3\\envs\\py3-TF2.0\\lib\\site-packages\\sklearn\\model_selection\\_validation.py\", line 593, in _fit_and_score\n",
      "    estimator.fit(X_train, y_train, **fit_params)\n",
      "  File \"C:\\Users\\pbeata\\anaconda3\\envs\\py3-TF2.0\\lib\\site-packages\\sklearn\\ensemble\\_forest.py\", line 387, in fit\n",
      "    trees = Parallel(n_jobs=self.n_jobs, verbose=self.verbose,\n",
      "  File \"C:\\Users\\pbeata\\anaconda3\\envs\\py3-TF2.0\\lib\\site-packages\\joblib\\parallel.py\", line 1041, in __call__\n",
      "    if self.dispatch_one_batch(iterator):\n",
      "  File \"C:\\Users\\pbeata\\anaconda3\\envs\\py3-TF2.0\\lib\\site-packages\\joblib\\parallel.py\", line 859, in dispatch_one_batch\n",
      "    self._dispatch(tasks)\n",
      "  File \"C:\\Users\\pbeata\\anaconda3\\envs\\py3-TF2.0\\lib\\site-packages\\joblib\\parallel.py\", line 777, in _dispatch\n",
      "    job = self._backend.apply_async(batch, callback=cb)\n",
      "  File \"C:\\Users\\pbeata\\anaconda3\\envs\\py3-TF2.0\\lib\\site-packages\\joblib\\_parallel_backends.py\", line 208, in apply_async\n",
      "    result = ImmediateResult(func)\n",
      "  File \"C:\\Users\\pbeata\\anaconda3\\envs\\py3-TF2.0\\lib\\site-packages\\joblib\\_parallel_backends.py\", line 572, in __init__\n",
      "    self.results = batch()\n",
      "  File \"C:\\Users\\pbeata\\anaconda3\\envs\\py3-TF2.0\\lib\\site-packages\\joblib\\parallel.py\", line 262, in __call__\n",
      "    return [func(*args, **kwargs)\n",
      "  File \"C:\\Users\\pbeata\\anaconda3\\envs\\py3-TF2.0\\lib\\site-packages\\joblib\\parallel.py\", line 262, in <listcomp>\n",
      "    return [func(*args, **kwargs)\n",
      "  File \"C:\\Users\\pbeata\\anaconda3\\envs\\py3-TF2.0\\lib\\site-packages\\sklearn\\utils\\fixes.py\", line 222, in __call__\n",
      "    return self.function(*args, **kwargs)\n",
      "  File \"C:\\Users\\pbeata\\anaconda3\\envs\\py3-TF2.0\\lib\\site-packages\\sklearn\\ensemble\\_forest.py\", line 169, in _parallel_build_trees\n",
      "    tree.fit(X, y, sample_weight=curr_sample_weight, check_input=False)\n",
      "  File \"C:\\Users\\pbeata\\anaconda3\\envs\\py3-TF2.0\\lib\\site-packages\\sklearn\\tree\\_classes.py\", line 1247, in fit\n",
      "    super().fit(\n",
      "  File \"C:\\Users\\pbeata\\anaconda3\\envs\\py3-TF2.0\\lib\\site-packages\\sklearn\\tree\\_classes.py\", line 285, in fit\n",
      "    if max_depth <= 0:\n",
      "TypeError: '<=' not supported between instances of 'str' and 'int'\n",
      "\n",
      "  warnings.warn(\"Estimator fit failed. The score on this train-test\"\n",
      "C:\\Users\\pbeata\\anaconda3\\envs\\py3-TF2.0\\lib\\site-packages\\sklearn\\model_selection\\_validation.py:610: FitFailedWarning: Estimator fit failed. The score on this train-test partition for these parameters will be set to nan. Details: \n",
      "Traceback (most recent call last):\n",
      "  File \"C:\\Users\\pbeata\\anaconda3\\envs\\py3-TF2.0\\lib\\site-packages\\sklearn\\model_selection\\_validation.py\", line 593, in _fit_and_score\n",
      "    estimator.fit(X_train, y_train, **fit_params)\n",
      "  File \"C:\\Users\\pbeata\\anaconda3\\envs\\py3-TF2.0\\lib\\site-packages\\sklearn\\ensemble\\_forest.py\", line 387, in fit\n",
      "    trees = Parallel(n_jobs=self.n_jobs, verbose=self.verbose,\n",
      "  File \"C:\\Users\\pbeata\\anaconda3\\envs\\py3-TF2.0\\lib\\site-packages\\joblib\\parallel.py\", line 1041, in __call__\n",
      "    if self.dispatch_one_batch(iterator):\n",
      "  File \"C:\\Users\\pbeata\\anaconda3\\envs\\py3-TF2.0\\lib\\site-packages\\joblib\\parallel.py\", line 859, in dispatch_one_batch\n",
      "    self._dispatch(tasks)\n",
      "  File \"C:\\Users\\pbeata\\anaconda3\\envs\\py3-TF2.0\\lib\\site-packages\\joblib\\parallel.py\", line 777, in _dispatch\n",
      "    job = self._backend.apply_async(batch, callback=cb)\n",
      "  File \"C:\\Users\\pbeata\\anaconda3\\envs\\py3-TF2.0\\lib\\site-packages\\joblib\\_parallel_backends.py\", line 208, in apply_async\n",
      "    result = ImmediateResult(func)\n",
      "  File \"C:\\Users\\pbeata\\anaconda3\\envs\\py3-TF2.0\\lib\\site-packages\\joblib\\_parallel_backends.py\", line 572, in __init__\n",
      "    self.results = batch()\n",
      "  File \"C:\\Users\\pbeata\\anaconda3\\envs\\py3-TF2.0\\lib\\site-packages\\joblib\\parallel.py\", line 262, in __call__\n",
      "    return [func(*args, **kwargs)\n",
      "  File \"C:\\Users\\pbeata\\anaconda3\\envs\\py3-TF2.0\\lib\\site-packages\\joblib\\parallel.py\", line 262, in <listcomp>\n",
      "    return [func(*args, **kwargs)\n",
      "  File \"C:\\Users\\pbeata\\anaconda3\\envs\\py3-TF2.0\\lib\\site-packages\\sklearn\\utils\\fixes.py\", line 222, in __call__\n",
      "    return self.function(*args, **kwargs)\n",
      "  File \"C:\\Users\\pbeata\\anaconda3\\envs\\py3-TF2.0\\lib\\site-packages\\sklearn\\ensemble\\_forest.py\", line 169, in _parallel_build_trees\n",
      "    tree.fit(X, y, sample_weight=curr_sample_weight, check_input=False)\n",
      "  File \"C:\\Users\\pbeata\\anaconda3\\envs\\py3-TF2.0\\lib\\site-packages\\sklearn\\tree\\_classes.py\", line 1247, in fit\n",
      "    super().fit(\n",
      "  File \"C:\\Users\\pbeata\\anaconda3\\envs\\py3-TF2.0\\lib\\site-packages\\sklearn\\tree\\_classes.py\", line 285, in fit\n",
      "    if max_depth <= 0:\n",
      "TypeError: '<=' not supported between instances of 'str' and 'int'\n",
      "\n",
      "  warnings.warn(\"Estimator fit failed. The score on this train-test\"\n",
      "C:\\Users\\pbeata\\anaconda3\\envs\\py3-TF2.0\\lib\\site-packages\\sklearn\\model_selection\\_validation.py:610: FitFailedWarning: Estimator fit failed. The score on this train-test partition for these parameters will be set to nan. Details: \n",
      "Traceback (most recent call last):\n",
      "  File \"C:\\Users\\pbeata\\anaconda3\\envs\\py3-TF2.0\\lib\\site-packages\\sklearn\\model_selection\\_validation.py\", line 593, in _fit_and_score\n",
      "    estimator.fit(X_train, y_train, **fit_params)\n",
      "  File \"C:\\Users\\pbeata\\anaconda3\\envs\\py3-TF2.0\\lib\\site-packages\\sklearn\\ensemble\\_forest.py\", line 387, in fit\n",
      "    trees = Parallel(n_jobs=self.n_jobs, verbose=self.verbose,\n",
      "  File \"C:\\Users\\pbeata\\anaconda3\\envs\\py3-TF2.0\\lib\\site-packages\\joblib\\parallel.py\", line 1041, in __call__\n",
      "    if self.dispatch_one_batch(iterator):\n",
      "  File \"C:\\Users\\pbeata\\anaconda3\\envs\\py3-TF2.0\\lib\\site-packages\\joblib\\parallel.py\", line 859, in dispatch_one_batch\n",
      "    self._dispatch(tasks)\n",
      "  File \"C:\\Users\\pbeata\\anaconda3\\envs\\py3-TF2.0\\lib\\site-packages\\joblib\\parallel.py\", line 777, in _dispatch\n",
      "    job = self._backend.apply_async(batch, callback=cb)\n",
      "  File \"C:\\Users\\pbeata\\anaconda3\\envs\\py3-TF2.0\\lib\\site-packages\\joblib\\_parallel_backends.py\", line 208, in apply_async\n",
      "    result = ImmediateResult(func)\n",
      "  File \"C:\\Users\\pbeata\\anaconda3\\envs\\py3-TF2.0\\lib\\site-packages\\joblib\\_parallel_backends.py\", line 572, in __init__\n",
      "    self.results = batch()\n",
      "  File \"C:\\Users\\pbeata\\anaconda3\\envs\\py3-TF2.0\\lib\\site-packages\\joblib\\parallel.py\", line 262, in __call__\n",
      "    return [func(*args, **kwargs)\n",
      "  File \"C:\\Users\\pbeata\\anaconda3\\envs\\py3-TF2.0\\lib\\site-packages\\joblib\\parallel.py\", line 262, in <listcomp>\n",
      "    return [func(*args, **kwargs)\n",
      "  File \"C:\\Users\\pbeata\\anaconda3\\envs\\py3-TF2.0\\lib\\site-packages\\sklearn\\utils\\fixes.py\", line 222, in __call__\n",
      "    return self.function(*args, **kwargs)\n",
      "  File \"C:\\Users\\pbeata\\anaconda3\\envs\\py3-TF2.0\\lib\\site-packages\\sklearn\\ensemble\\_forest.py\", line 169, in _parallel_build_trees\n",
      "    tree.fit(X, y, sample_weight=curr_sample_weight, check_input=False)\n",
      "  File \"C:\\Users\\pbeata\\anaconda3\\envs\\py3-TF2.0\\lib\\site-packages\\sklearn\\tree\\_classes.py\", line 1247, in fit\n",
      "    super().fit(\n",
      "  File \"C:\\Users\\pbeata\\anaconda3\\envs\\py3-TF2.0\\lib\\site-packages\\sklearn\\tree\\_classes.py\", line 285, in fit\n",
      "    if max_depth <= 0:\n",
      "TypeError: '<=' not supported between instances of 'str' and 'int'\n",
      "\n",
      "  warnings.warn(\"Estimator fit failed. The score on this train-test\"\n",
      "C:\\Users\\pbeata\\anaconda3\\envs\\py3-TF2.0\\lib\\site-packages\\sklearn\\model_selection\\_validation.py:610: FitFailedWarning: Estimator fit failed. The score on this train-test partition for these parameters will be set to nan. Details: \n",
      "Traceback (most recent call last):\n",
      "  File \"C:\\Users\\pbeata\\anaconda3\\envs\\py3-TF2.0\\lib\\site-packages\\sklearn\\model_selection\\_validation.py\", line 593, in _fit_and_score\n",
      "    estimator.fit(X_train, y_train, **fit_params)\n",
      "  File \"C:\\Users\\pbeata\\anaconda3\\envs\\py3-TF2.0\\lib\\site-packages\\sklearn\\ensemble\\_forest.py\", line 387, in fit\n",
      "    trees = Parallel(n_jobs=self.n_jobs, verbose=self.verbose,\n",
      "  File \"C:\\Users\\pbeata\\anaconda3\\envs\\py3-TF2.0\\lib\\site-packages\\joblib\\parallel.py\", line 1041, in __call__\n",
      "    if self.dispatch_one_batch(iterator):\n",
      "  File \"C:\\Users\\pbeata\\anaconda3\\envs\\py3-TF2.0\\lib\\site-packages\\joblib\\parallel.py\", line 859, in dispatch_one_batch\n",
      "    self._dispatch(tasks)\n",
      "  File \"C:\\Users\\pbeata\\anaconda3\\envs\\py3-TF2.0\\lib\\site-packages\\joblib\\parallel.py\", line 777, in _dispatch\n",
      "    job = self._backend.apply_async(batch, callback=cb)\n",
      "  File \"C:\\Users\\pbeata\\anaconda3\\envs\\py3-TF2.0\\lib\\site-packages\\joblib\\_parallel_backends.py\", line 208, in apply_async\n",
      "    result = ImmediateResult(func)\n",
      "  File \"C:\\Users\\pbeata\\anaconda3\\envs\\py3-TF2.0\\lib\\site-packages\\joblib\\_parallel_backends.py\", line 572, in __init__\n",
      "    self.results = batch()\n",
      "  File \"C:\\Users\\pbeata\\anaconda3\\envs\\py3-TF2.0\\lib\\site-packages\\joblib\\parallel.py\", line 262, in __call__\n",
      "    return [func(*args, **kwargs)\n",
      "  File \"C:\\Users\\pbeata\\anaconda3\\envs\\py3-TF2.0\\lib\\site-packages\\joblib\\parallel.py\", line 262, in <listcomp>\n",
      "    return [func(*args, **kwargs)\n",
      "  File \"C:\\Users\\pbeata\\anaconda3\\envs\\py3-TF2.0\\lib\\site-packages\\sklearn\\utils\\fixes.py\", line 222, in __call__\n",
      "    return self.function(*args, **kwargs)\n",
      "  File \"C:\\Users\\pbeata\\anaconda3\\envs\\py3-TF2.0\\lib\\site-packages\\sklearn\\ensemble\\_forest.py\", line 169, in _parallel_build_trees\n",
      "    tree.fit(X, y, sample_weight=curr_sample_weight, check_input=False)\n",
      "  File \"C:\\Users\\pbeata\\anaconda3\\envs\\py3-TF2.0\\lib\\site-packages\\sklearn\\tree\\_classes.py\", line 1247, in fit\n",
      "    super().fit(\n",
      "  File \"C:\\Users\\pbeata\\anaconda3\\envs\\py3-TF2.0\\lib\\site-packages\\sklearn\\tree\\_classes.py\", line 285, in fit\n",
      "    if max_depth <= 0:\n",
      "TypeError: '<=' not supported between instances of 'str' and 'int'\n",
      "\n",
      "  warnings.warn(\"Estimator fit failed. The score on this train-test\"\n",
      "C:\\Users\\pbeata\\anaconda3\\envs\\py3-TF2.0\\lib\\site-packages\\sklearn\\model_selection\\_validation.py:610: FitFailedWarning: Estimator fit failed. The score on this train-test partition for these parameters will be set to nan. Details: \n",
      "Traceback (most recent call last):\n",
      "  File \"C:\\Users\\pbeata\\anaconda3\\envs\\py3-TF2.0\\lib\\site-packages\\sklearn\\model_selection\\_validation.py\", line 593, in _fit_and_score\n",
      "    estimator.fit(X_train, y_train, **fit_params)\n",
      "  File \"C:\\Users\\pbeata\\anaconda3\\envs\\py3-TF2.0\\lib\\site-packages\\sklearn\\ensemble\\_forest.py\", line 387, in fit\n",
      "    trees = Parallel(n_jobs=self.n_jobs, verbose=self.verbose,\n",
      "  File \"C:\\Users\\pbeata\\anaconda3\\envs\\py3-TF2.0\\lib\\site-packages\\joblib\\parallel.py\", line 1041, in __call__\n",
      "    if self.dispatch_one_batch(iterator):\n",
      "  File \"C:\\Users\\pbeata\\anaconda3\\envs\\py3-TF2.0\\lib\\site-packages\\joblib\\parallel.py\", line 859, in dispatch_one_batch\n",
      "    self._dispatch(tasks)\n",
      "  File \"C:\\Users\\pbeata\\anaconda3\\envs\\py3-TF2.0\\lib\\site-packages\\joblib\\parallel.py\", line 777, in _dispatch\n",
      "    job = self._backend.apply_async(batch, callback=cb)\n",
      "  File \"C:\\Users\\pbeata\\anaconda3\\envs\\py3-TF2.0\\lib\\site-packages\\joblib\\_parallel_backends.py\", line 208, in apply_async\n",
      "    result = ImmediateResult(func)\n",
      "  File \"C:\\Users\\pbeata\\anaconda3\\envs\\py3-TF2.0\\lib\\site-packages\\joblib\\_parallel_backends.py\", line 572, in __init__\n",
      "    self.results = batch()\n",
      "  File \"C:\\Users\\pbeata\\anaconda3\\envs\\py3-TF2.0\\lib\\site-packages\\joblib\\parallel.py\", line 262, in __call__\n",
      "    return [func(*args, **kwargs)\n",
      "  File \"C:\\Users\\pbeata\\anaconda3\\envs\\py3-TF2.0\\lib\\site-packages\\joblib\\parallel.py\", line 262, in <listcomp>\n",
      "    return [func(*args, **kwargs)\n",
      "  File \"C:\\Users\\pbeata\\anaconda3\\envs\\py3-TF2.0\\lib\\site-packages\\sklearn\\utils\\fixes.py\", line 222, in __call__\n",
      "    return self.function(*args, **kwargs)\n",
      "  File \"C:\\Users\\pbeata\\anaconda3\\envs\\py3-TF2.0\\lib\\site-packages\\sklearn\\ensemble\\_forest.py\", line 169, in _parallel_build_trees\n",
      "    tree.fit(X, y, sample_weight=curr_sample_weight, check_input=False)\n",
      "  File \"C:\\Users\\pbeata\\anaconda3\\envs\\py3-TF2.0\\lib\\site-packages\\sklearn\\tree\\_classes.py\", line 1247, in fit\n",
      "    super().fit(\n",
      "  File \"C:\\Users\\pbeata\\anaconda3\\envs\\py3-TF2.0\\lib\\site-packages\\sklearn\\tree\\_classes.py\", line 285, in fit\n",
      "    if max_depth <= 0:\n",
      "TypeError: '<=' not supported between instances of 'str' and 'int'\n",
      "\n",
      "  warnings.warn(\"Estimator fit failed. The score on this train-test\"\n",
      "C:\\Users\\pbeata\\anaconda3\\envs\\py3-TF2.0\\lib\\site-packages\\sklearn\\model_selection\\_validation.py:610: FitFailedWarning: Estimator fit failed. The score on this train-test partition for these parameters will be set to nan. Details: \n",
      "Traceback (most recent call last):\n",
      "  File \"C:\\Users\\pbeata\\anaconda3\\envs\\py3-TF2.0\\lib\\site-packages\\sklearn\\model_selection\\_validation.py\", line 593, in _fit_and_score\n",
      "    estimator.fit(X_train, y_train, **fit_params)\n",
      "  File \"C:\\Users\\pbeata\\anaconda3\\envs\\py3-TF2.0\\lib\\site-packages\\sklearn\\ensemble\\_forest.py\", line 387, in fit\n",
      "    trees = Parallel(n_jobs=self.n_jobs, verbose=self.verbose,\n",
      "  File \"C:\\Users\\pbeata\\anaconda3\\envs\\py3-TF2.0\\lib\\site-packages\\joblib\\parallel.py\", line 1041, in __call__\n",
      "    if self.dispatch_one_batch(iterator):\n",
      "  File \"C:\\Users\\pbeata\\anaconda3\\envs\\py3-TF2.0\\lib\\site-packages\\joblib\\parallel.py\", line 859, in dispatch_one_batch\n",
      "    self._dispatch(tasks)\n",
      "  File \"C:\\Users\\pbeata\\anaconda3\\envs\\py3-TF2.0\\lib\\site-packages\\joblib\\parallel.py\", line 777, in _dispatch\n",
      "    job = self._backend.apply_async(batch, callback=cb)\n",
      "  File \"C:\\Users\\pbeata\\anaconda3\\envs\\py3-TF2.0\\lib\\site-packages\\joblib\\_parallel_backends.py\", line 208, in apply_async\n",
      "    result = ImmediateResult(func)\n",
      "  File \"C:\\Users\\pbeata\\anaconda3\\envs\\py3-TF2.0\\lib\\site-packages\\joblib\\_parallel_backends.py\", line 572, in __init__\n",
      "    self.results = batch()\n",
      "  File \"C:\\Users\\pbeata\\anaconda3\\envs\\py3-TF2.0\\lib\\site-packages\\joblib\\parallel.py\", line 262, in __call__\n",
      "    return [func(*args, **kwargs)\n",
      "  File \"C:\\Users\\pbeata\\anaconda3\\envs\\py3-TF2.0\\lib\\site-packages\\joblib\\parallel.py\", line 262, in <listcomp>\n",
      "    return [func(*args, **kwargs)\n",
      "  File \"C:\\Users\\pbeata\\anaconda3\\envs\\py3-TF2.0\\lib\\site-packages\\sklearn\\utils\\fixes.py\", line 222, in __call__\n",
      "    return self.function(*args, **kwargs)\n",
      "  File \"C:\\Users\\pbeata\\anaconda3\\envs\\py3-TF2.0\\lib\\site-packages\\sklearn\\ensemble\\_forest.py\", line 169, in _parallel_build_trees\n",
      "    tree.fit(X, y, sample_weight=curr_sample_weight, check_input=False)\n",
      "  File \"C:\\Users\\pbeata\\anaconda3\\envs\\py3-TF2.0\\lib\\site-packages\\sklearn\\tree\\_classes.py\", line 1247, in fit\n",
      "    super().fit(\n",
      "  File \"C:\\Users\\pbeata\\anaconda3\\envs\\py3-TF2.0\\lib\\site-packages\\sklearn\\tree\\_classes.py\", line 285, in fit\n",
      "    if max_depth <= 0:\n",
      "TypeError: '<=' not supported between instances of 'str' and 'int'\n",
      "\n",
      "  warnings.warn(\"Estimator fit failed. The score on this train-test\"\n",
      "C:\\Users\\pbeata\\anaconda3\\envs\\py3-TF2.0\\lib\\site-packages\\sklearn\\model_selection\\_validation.py:610: FitFailedWarning: Estimator fit failed. The score on this train-test partition for these parameters will be set to nan. Details: \n",
      "Traceback (most recent call last):\n",
      "  File \"C:\\Users\\pbeata\\anaconda3\\envs\\py3-TF2.0\\lib\\site-packages\\sklearn\\model_selection\\_validation.py\", line 593, in _fit_and_score\n",
      "    estimator.fit(X_train, y_train, **fit_params)\n",
      "  File \"C:\\Users\\pbeata\\anaconda3\\envs\\py3-TF2.0\\lib\\site-packages\\sklearn\\ensemble\\_forest.py\", line 387, in fit\n",
      "    trees = Parallel(n_jobs=self.n_jobs, verbose=self.verbose,\n",
      "  File \"C:\\Users\\pbeata\\anaconda3\\envs\\py3-TF2.0\\lib\\site-packages\\joblib\\parallel.py\", line 1041, in __call__\n",
      "    if self.dispatch_one_batch(iterator):\n",
      "  File \"C:\\Users\\pbeata\\anaconda3\\envs\\py3-TF2.0\\lib\\site-packages\\joblib\\parallel.py\", line 859, in dispatch_one_batch\n",
      "    self._dispatch(tasks)\n",
      "  File \"C:\\Users\\pbeata\\anaconda3\\envs\\py3-TF2.0\\lib\\site-packages\\joblib\\parallel.py\", line 777, in _dispatch\n",
      "    job = self._backend.apply_async(batch, callback=cb)\n",
      "  File \"C:\\Users\\pbeata\\anaconda3\\envs\\py3-TF2.0\\lib\\site-packages\\joblib\\_parallel_backends.py\", line 208, in apply_async\n",
      "    result = ImmediateResult(func)\n",
      "  File \"C:\\Users\\pbeata\\anaconda3\\envs\\py3-TF2.0\\lib\\site-packages\\joblib\\_parallel_backends.py\", line 572, in __init__\n",
      "    self.results = batch()\n",
      "  File \"C:\\Users\\pbeata\\anaconda3\\envs\\py3-TF2.0\\lib\\site-packages\\joblib\\parallel.py\", line 262, in __call__\n",
      "    return [func(*args, **kwargs)\n",
      "  File \"C:\\Users\\pbeata\\anaconda3\\envs\\py3-TF2.0\\lib\\site-packages\\joblib\\parallel.py\", line 262, in <listcomp>\n",
      "    return [func(*args, **kwargs)\n",
      "  File \"C:\\Users\\pbeata\\anaconda3\\envs\\py3-TF2.0\\lib\\site-packages\\sklearn\\utils\\fixes.py\", line 222, in __call__\n",
      "    return self.function(*args, **kwargs)\n",
      "  File \"C:\\Users\\pbeata\\anaconda3\\envs\\py3-TF2.0\\lib\\site-packages\\sklearn\\ensemble\\_forest.py\", line 169, in _parallel_build_trees\n",
      "    tree.fit(X, y, sample_weight=curr_sample_weight, check_input=False)\n",
      "  File \"C:\\Users\\pbeata\\anaconda3\\envs\\py3-TF2.0\\lib\\site-packages\\sklearn\\tree\\_classes.py\", line 1247, in fit\n",
      "    super().fit(\n",
      "  File \"C:\\Users\\pbeata\\anaconda3\\envs\\py3-TF2.0\\lib\\site-packages\\sklearn\\tree\\_classes.py\", line 285, in fit\n",
      "    if max_depth <= 0:\n",
      "TypeError: '<=' not supported between instances of 'str' and 'int'\n",
      "\n",
      "  warnings.warn(\"Estimator fit failed. The score on this train-test\"\n"
     ]
    },
    {
     "name": "stdout",
     "output_type": "stream",
     "text": [
      "[CV] END .max_depth=None, max_features=sqrt, n_estimators=50; total time=   0.0s\n",
      "[CV] END .max_depth=None, max_features=sqrt, n_estimators=50; total time=   0.0s\n",
      "[CV] END max_depth=None, max_features=sqrt, n_estimators=100; total time=   0.0s\n",
      "[CV] END max_depth=None, max_features=sqrt, n_estimators=100; total time=   0.0s\n",
      "[CV] END max_depth=None, max_features=sqrt, n_estimators=100; total time=   0.0s\n",
      "[CV] END max_depth=None, max_features=sqrt, n_estimators=100; total time=   0.0s\n",
      "[CV] END max_depth=None, max_features=sqrt, n_estimators=100; total time=   0.0s\n"
     ]
    },
    {
     "name": "stderr",
     "output_type": "stream",
     "text": [
      "C:\\Users\\pbeata\\anaconda3\\envs\\py3-TF2.0\\lib\\site-packages\\sklearn\\model_selection\\_validation.py:610: FitFailedWarning: Estimator fit failed. The score on this train-test partition for these parameters will be set to nan. Details: \n",
      "Traceback (most recent call last):\n",
      "  File \"C:\\Users\\pbeata\\anaconda3\\envs\\py3-TF2.0\\lib\\site-packages\\sklearn\\model_selection\\_validation.py\", line 593, in _fit_and_score\n",
      "    estimator.fit(X_train, y_train, **fit_params)\n",
      "  File \"C:\\Users\\pbeata\\anaconda3\\envs\\py3-TF2.0\\lib\\site-packages\\sklearn\\ensemble\\_forest.py\", line 387, in fit\n",
      "    trees = Parallel(n_jobs=self.n_jobs, verbose=self.verbose,\n",
      "  File \"C:\\Users\\pbeata\\anaconda3\\envs\\py3-TF2.0\\lib\\site-packages\\joblib\\parallel.py\", line 1041, in __call__\n",
      "    if self.dispatch_one_batch(iterator):\n",
      "  File \"C:\\Users\\pbeata\\anaconda3\\envs\\py3-TF2.0\\lib\\site-packages\\joblib\\parallel.py\", line 859, in dispatch_one_batch\n",
      "    self._dispatch(tasks)\n",
      "  File \"C:\\Users\\pbeata\\anaconda3\\envs\\py3-TF2.0\\lib\\site-packages\\joblib\\parallel.py\", line 777, in _dispatch\n",
      "    job = self._backend.apply_async(batch, callback=cb)\n",
      "  File \"C:\\Users\\pbeata\\anaconda3\\envs\\py3-TF2.0\\lib\\site-packages\\joblib\\_parallel_backends.py\", line 208, in apply_async\n",
      "    result = ImmediateResult(func)\n",
      "  File \"C:\\Users\\pbeata\\anaconda3\\envs\\py3-TF2.0\\lib\\site-packages\\joblib\\_parallel_backends.py\", line 572, in __init__\n",
      "    self.results = batch()\n",
      "  File \"C:\\Users\\pbeata\\anaconda3\\envs\\py3-TF2.0\\lib\\site-packages\\joblib\\parallel.py\", line 262, in __call__\n",
      "    return [func(*args, **kwargs)\n",
      "  File \"C:\\Users\\pbeata\\anaconda3\\envs\\py3-TF2.0\\lib\\site-packages\\joblib\\parallel.py\", line 262, in <listcomp>\n",
      "    return [func(*args, **kwargs)\n",
      "  File \"C:\\Users\\pbeata\\anaconda3\\envs\\py3-TF2.0\\lib\\site-packages\\sklearn\\utils\\fixes.py\", line 222, in __call__\n",
      "    return self.function(*args, **kwargs)\n",
      "  File \"C:\\Users\\pbeata\\anaconda3\\envs\\py3-TF2.0\\lib\\site-packages\\sklearn\\ensemble\\_forest.py\", line 169, in _parallel_build_trees\n",
      "    tree.fit(X, y, sample_weight=curr_sample_weight, check_input=False)\n",
      "  File \"C:\\Users\\pbeata\\anaconda3\\envs\\py3-TF2.0\\lib\\site-packages\\sklearn\\tree\\_classes.py\", line 1247, in fit\n",
      "    super().fit(\n",
      "  File \"C:\\Users\\pbeata\\anaconda3\\envs\\py3-TF2.0\\lib\\site-packages\\sklearn\\tree\\_classes.py\", line 285, in fit\n",
      "    if max_depth <= 0:\n",
      "TypeError: '<=' not supported between instances of 'str' and 'int'\n",
      "\n",
      "  warnings.warn(\"Estimator fit failed. The score on this train-test\"\n",
      "C:\\Users\\pbeata\\anaconda3\\envs\\py3-TF2.0\\lib\\site-packages\\sklearn\\model_selection\\_validation.py:610: FitFailedWarning: Estimator fit failed. The score on this train-test partition for these parameters will be set to nan. Details: \n",
      "Traceback (most recent call last):\n",
      "  File \"C:\\Users\\pbeata\\anaconda3\\envs\\py3-TF2.0\\lib\\site-packages\\sklearn\\model_selection\\_validation.py\", line 593, in _fit_and_score\n",
      "    estimator.fit(X_train, y_train, **fit_params)\n",
      "  File \"C:\\Users\\pbeata\\anaconda3\\envs\\py3-TF2.0\\lib\\site-packages\\sklearn\\ensemble\\_forest.py\", line 387, in fit\n",
      "    trees = Parallel(n_jobs=self.n_jobs, verbose=self.verbose,\n",
      "  File \"C:\\Users\\pbeata\\anaconda3\\envs\\py3-TF2.0\\lib\\site-packages\\joblib\\parallel.py\", line 1041, in __call__\n",
      "    if self.dispatch_one_batch(iterator):\n",
      "  File \"C:\\Users\\pbeata\\anaconda3\\envs\\py3-TF2.0\\lib\\site-packages\\joblib\\parallel.py\", line 859, in dispatch_one_batch\n",
      "    self._dispatch(tasks)\n",
      "  File \"C:\\Users\\pbeata\\anaconda3\\envs\\py3-TF2.0\\lib\\site-packages\\joblib\\parallel.py\", line 777, in _dispatch\n",
      "    job = self._backend.apply_async(batch, callback=cb)\n",
      "  File \"C:\\Users\\pbeata\\anaconda3\\envs\\py3-TF2.0\\lib\\site-packages\\joblib\\_parallel_backends.py\", line 208, in apply_async\n",
      "    result = ImmediateResult(func)\n",
      "  File \"C:\\Users\\pbeata\\anaconda3\\envs\\py3-TF2.0\\lib\\site-packages\\joblib\\_parallel_backends.py\", line 572, in __init__\n",
      "    self.results = batch()\n",
      "  File \"C:\\Users\\pbeata\\anaconda3\\envs\\py3-TF2.0\\lib\\site-packages\\joblib\\parallel.py\", line 262, in __call__\n",
      "    return [func(*args, **kwargs)\n",
      "  File \"C:\\Users\\pbeata\\anaconda3\\envs\\py3-TF2.0\\lib\\site-packages\\joblib\\parallel.py\", line 262, in <listcomp>\n",
      "    return [func(*args, **kwargs)\n",
      "  File \"C:\\Users\\pbeata\\anaconda3\\envs\\py3-TF2.0\\lib\\site-packages\\sklearn\\utils\\fixes.py\", line 222, in __call__\n",
      "    return self.function(*args, **kwargs)\n",
      "  File \"C:\\Users\\pbeata\\anaconda3\\envs\\py3-TF2.0\\lib\\site-packages\\sklearn\\ensemble\\_forest.py\", line 169, in _parallel_build_trees\n",
      "    tree.fit(X, y, sample_weight=curr_sample_weight, check_input=False)\n",
      "  File \"C:\\Users\\pbeata\\anaconda3\\envs\\py3-TF2.0\\lib\\site-packages\\sklearn\\tree\\_classes.py\", line 1247, in fit\n",
      "    super().fit(\n",
      "  File \"C:\\Users\\pbeata\\anaconda3\\envs\\py3-TF2.0\\lib\\site-packages\\sklearn\\tree\\_classes.py\", line 285, in fit\n",
      "    if max_depth <= 0:\n",
      "TypeError: '<=' not supported between instances of 'str' and 'int'\n",
      "\n",
      "  warnings.warn(\"Estimator fit failed. The score on this train-test\"\n",
      "C:\\Users\\pbeata\\anaconda3\\envs\\py3-TF2.0\\lib\\site-packages\\sklearn\\model_selection\\_validation.py:610: FitFailedWarning: Estimator fit failed. The score on this train-test partition for these parameters will be set to nan. Details: \n",
      "Traceback (most recent call last):\n",
      "  File \"C:\\Users\\pbeata\\anaconda3\\envs\\py3-TF2.0\\lib\\site-packages\\sklearn\\model_selection\\_validation.py\", line 593, in _fit_and_score\n",
      "    estimator.fit(X_train, y_train, **fit_params)\n",
      "  File \"C:\\Users\\pbeata\\anaconda3\\envs\\py3-TF2.0\\lib\\site-packages\\sklearn\\ensemble\\_forest.py\", line 387, in fit\n",
      "    trees = Parallel(n_jobs=self.n_jobs, verbose=self.verbose,\n",
      "  File \"C:\\Users\\pbeata\\anaconda3\\envs\\py3-TF2.0\\lib\\site-packages\\joblib\\parallel.py\", line 1041, in __call__\n",
      "    if self.dispatch_one_batch(iterator):\n",
      "  File \"C:\\Users\\pbeata\\anaconda3\\envs\\py3-TF2.0\\lib\\site-packages\\joblib\\parallel.py\", line 859, in dispatch_one_batch\n",
      "    self._dispatch(tasks)\n",
      "  File \"C:\\Users\\pbeata\\anaconda3\\envs\\py3-TF2.0\\lib\\site-packages\\joblib\\parallel.py\", line 777, in _dispatch\n",
      "    job = self._backend.apply_async(batch, callback=cb)\n",
      "  File \"C:\\Users\\pbeata\\anaconda3\\envs\\py3-TF2.0\\lib\\site-packages\\joblib\\_parallel_backends.py\", line 208, in apply_async\n",
      "    result = ImmediateResult(func)\n",
      "  File \"C:\\Users\\pbeata\\anaconda3\\envs\\py3-TF2.0\\lib\\site-packages\\joblib\\_parallel_backends.py\", line 572, in __init__\n",
      "    self.results = batch()\n",
      "  File \"C:\\Users\\pbeata\\anaconda3\\envs\\py3-TF2.0\\lib\\site-packages\\joblib\\parallel.py\", line 262, in __call__\n",
      "    return [func(*args, **kwargs)\n",
      "  File \"C:\\Users\\pbeata\\anaconda3\\envs\\py3-TF2.0\\lib\\site-packages\\joblib\\parallel.py\", line 262, in <listcomp>\n",
      "    return [func(*args, **kwargs)\n",
      "  File \"C:\\Users\\pbeata\\anaconda3\\envs\\py3-TF2.0\\lib\\site-packages\\sklearn\\utils\\fixes.py\", line 222, in __call__\n",
      "    return self.function(*args, **kwargs)\n",
      "  File \"C:\\Users\\pbeata\\anaconda3\\envs\\py3-TF2.0\\lib\\site-packages\\sklearn\\ensemble\\_forest.py\", line 169, in _parallel_build_trees\n",
      "    tree.fit(X, y, sample_weight=curr_sample_weight, check_input=False)\n",
      "  File \"C:\\Users\\pbeata\\anaconda3\\envs\\py3-TF2.0\\lib\\site-packages\\sklearn\\tree\\_classes.py\", line 1247, in fit\n",
      "    super().fit(\n",
      "  File \"C:\\Users\\pbeata\\anaconda3\\envs\\py3-TF2.0\\lib\\site-packages\\sklearn\\tree\\_classes.py\", line 285, in fit\n",
      "    if max_depth <= 0:\n",
      "TypeError: '<=' not supported between instances of 'str' and 'int'\n",
      "\n",
      "  warnings.warn(\"Estimator fit failed. The score on this train-test\"\n",
      "C:\\Users\\pbeata\\anaconda3\\envs\\py3-TF2.0\\lib\\site-packages\\sklearn\\model_selection\\_validation.py:610: FitFailedWarning: Estimator fit failed. The score on this train-test partition for these parameters will be set to nan. Details: \n",
      "Traceback (most recent call last):\n",
      "  File \"C:\\Users\\pbeata\\anaconda3\\envs\\py3-TF2.0\\lib\\site-packages\\sklearn\\model_selection\\_validation.py\", line 593, in _fit_and_score\n",
      "    estimator.fit(X_train, y_train, **fit_params)\n",
      "  File \"C:\\Users\\pbeata\\anaconda3\\envs\\py3-TF2.0\\lib\\site-packages\\sklearn\\ensemble\\_forest.py\", line 387, in fit\n",
      "    trees = Parallel(n_jobs=self.n_jobs, verbose=self.verbose,\n",
      "  File \"C:\\Users\\pbeata\\anaconda3\\envs\\py3-TF2.0\\lib\\site-packages\\joblib\\parallel.py\", line 1041, in __call__\n",
      "    if self.dispatch_one_batch(iterator):\n",
      "  File \"C:\\Users\\pbeata\\anaconda3\\envs\\py3-TF2.0\\lib\\site-packages\\joblib\\parallel.py\", line 859, in dispatch_one_batch\n",
      "    self._dispatch(tasks)\n",
      "  File \"C:\\Users\\pbeata\\anaconda3\\envs\\py3-TF2.0\\lib\\site-packages\\joblib\\parallel.py\", line 777, in _dispatch\n",
      "    job = self._backend.apply_async(batch, callback=cb)\n",
      "  File \"C:\\Users\\pbeata\\anaconda3\\envs\\py3-TF2.0\\lib\\site-packages\\joblib\\_parallel_backends.py\", line 208, in apply_async\n",
      "    result = ImmediateResult(func)\n",
      "  File \"C:\\Users\\pbeata\\anaconda3\\envs\\py3-TF2.0\\lib\\site-packages\\joblib\\_parallel_backends.py\", line 572, in __init__\n",
      "    self.results = batch()\n",
      "  File \"C:\\Users\\pbeata\\anaconda3\\envs\\py3-TF2.0\\lib\\site-packages\\joblib\\parallel.py\", line 262, in __call__\n",
      "    return [func(*args, **kwargs)\n",
      "  File \"C:\\Users\\pbeata\\anaconda3\\envs\\py3-TF2.0\\lib\\site-packages\\joblib\\parallel.py\", line 262, in <listcomp>\n",
      "    return [func(*args, **kwargs)\n",
      "  File \"C:\\Users\\pbeata\\anaconda3\\envs\\py3-TF2.0\\lib\\site-packages\\sklearn\\utils\\fixes.py\", line 222, in __call__\n",
      "    return self.function(*args, **kwargs)\n",
      "  File \"C:\\Users\\pbeata\\anaconda3\\envs\\py3-TF2.0\\lib\\site-packages\\sklearn\\ensemble\\_forest.py\", line 169, in _parallel_build_trees\n",
      "    tree.fit(X, y, sample_weight=curr_sample_weight, check_input=False)\n",
      "  File \"C:\\Users\\pbeata\\anaconda3\\envs\\py3-TF2.0\\lib\\site-packages\\sklearn\\tree\\_classes.py\", line 1247, in fit\n",
      "    super().fit(\n",
      "  File \"C:\\Users\\pbeata\\anaconda3\\envs\\py3-TF2.0\\lib\\site-packages\\sklearn\\tree\\_classes.py\", line 285, in fit\n",
      "    if max_depth <= 0:\n",
      "TypeError: '<=' not supported between instances of 'str' and 'int'\n",
      "\n",
      "  warnings.warn(\"Estimator fit failed. The score on this train-test\"\n"
     ]
    },
    {
     "name": "stdout",
     "output_type": "stream",
     "text": [
      "[CV] END max_depth=None, max_features=sqrt, n_estimators=200; total time=   0.0s\n",
      "[CV] END max_depth=None, max_features=sqrt, n_estimators=200; total time=   0.0s\n",
      "[CV] END max_depth=None, max_features=sqrt, n_estimators=200; total time=   0.0s\n",
      "[CV] END max_depth=None, max_features=sqrt, n_estimators=200; total time=   0.0s\n"
     ]
    },
    {
     "name": "stderr",
     "output_type": "stream",
     "text": [
      "C:\\Users\\pbeata\\anaconda3\\envs\\py3-TF2.0\\lib\\site-packages\\sklearn\\model_selection\\_validation.py:610: FitFailedWarning: Estimator fit failed. The score on this train-test partition for these parameters will be set to nan. Details: \n",
      "Traceback (most recent call last):\n",
      "  File \"C:\\Users\\pbeata\\anaconda3\\envs\\py3-TF2.0\\lib\\site-packages\\sklearn\\model_selection\\_validation.py\", line 593, in _fit_and_score\n",
      "    estimator.fit(X_train, y_train, **fit_params)\n",
      "  File \"C:\\Users\\pbeata\\anaconda3\\envs\\py3-TF2.0\\lib\\site-packages\\sklearn\\ensemble\\_forest.py\", line 387, in fit\n",
      "    trees = Parallel(n_jobs=self.n_jobs, verbose=self.verbose,\n",
      "  File \"C:\\Users\\pbeata\\anaconda3\\envs\\py3-TF2.0\\lib\\site-packages\\joblib\\parallel.py\", line 1041, in __call__\n",
      "    if self.dispatch_one_batch(iterator):\n",
      "  File \"C:\\Users\\pbeata\\anaconda3\\envs\\py3-TF2.0\\lib\\site-packages\\joblib\\parallel.py\", line 859, in dispatch_one_batch\n",
      "    self._dispatch(tasks)\n",
      "  File \"C:\\Users\\pbeata\\anaconda3\\envs\\py3-TF2.0\\lib\\site-packages\\joblib\\parallel.py\", line 777, in _dispatch\n",
      "    job = self._backend.apply_async(batch, callback=cb)\n",
      "  File \"C:\\Users\\pbeata\\anaconda3\\envs\\py3-TF2.0\\lib\\site-packages\\joblib\\_parallel_backends.py\", line 208, in apply_async\n",
      "    result = ImmediateResult(func)\n",
      "  File \"C:\\Users\\pbeata\\anaconda3\\envs\\py3-TF2.0\\lib\\site-packages\\joblib\\_parallel_backends.py\", line 572, in __init__\n",
      "    self.results = batch()\n",
      "  File \"C:\\Users\\pbeata\\anaconda3\\envs\\py3-TF2.0\\lib\\site-packages\\joblib\\parallel.py\", line 262, in __call__\n",
      "    return [func(*args, **kwargs)\n",
      "  File \"C:\\Users\\pbeata\\anaconda3\\envs\\py3-TF2.0\\lib\\site-packages\\joblib\\parallel.py\", line 262, in <listcomp>\n",
      "    return [func(*args, **kwargs)\n",
      "  File \"C:\\Users\\pbeata\\anaconda3\\envs\\py3-TF2.0\\lib\\site-packages\\sklearn\\utils\\fixes.py\", line 222, in __call__\n",
      "    return self.function(*args, **kwargs)\n",
      "  File \"C:\\Users\\pbeata\\anaconda3\\envs\\py3-TF2.0\\lib\\site-packages\\sklearn\\ensemble\\_forest.py\", line 169, in _parallel_build_trees\n",
      "    tree.fit(X, y, sample_weight=curr_sample_weight, check_input=False)\n",
      "  File \"C:\\Users\\pbeata\\anaconda3\\envs\\py3-TF2.0\\lib\\site-packages\\sklearn\\tree\\_classes.py\", line 1247, in fit\n",
      "    super().fit(\n",
      "  File \"C:\\Users\\pbeata\\anaconda3\\envs\\py3-TF2.0\\lib\\site-packages\\sklearn\\tree\\_classes.py\", line 285, in fit\n",
      "    if max_depth <= 0:\n",
      "TypeError: '<=' not supported between instances of 'str' and 'int'\n",
      "\n",
      "  warnings.warn(\"Estimator fit failed. The score on this train-test\"\n",
      "C:\\Users\\pbeata\\anaconda3\\envs\\py3-TF2.0\\lib\\site-packages\\sklearn\\model_selection\\_validation.py:610: FitFailedWarning: Estimator fit failed. The score on this train-test partition for these parameters will be set to nan. Details: \n",
      "Traceback (most recent call last):\n",
      "  File \"C:\\Users\\pbeata\\anaconda3\\envs\\py3-TF2.0\\lib\\site-packages\\sklearn\\model_selection\\_validation.py\", line 593, in _fit_and_score\n",
      "    estimator.fit(X_train, y_train, **fit_params)\n",
      "  File \"C:\\Users\\pbeata\\anaconda3\\envs\\py3-TF2.0\\lib\\site-packages\\sklearn\\ensemble\\_forest.py\", line 387, in fit\n",
      "    trees = Parallel(n_jobs=self.n_jobs, verbose=self.verbose,\n",
      "  File \"C:\\Users\\pbeata\\anaconda3\\envs\\py3-TF2.0\\lib\\site-packages\\joblib\\parallel.py\", line 1041, in __call__\n",
      "    if self.dispatch_one_batch(iterator):\n",
      "  File \"C:\\Users\\pbeata\\anaconda3\\envs\\py3-TF2.0\\lib\\site-packages\\joblib\\parallel.py\", line 859, in dispatch_one_batch\n",
      "    self._dispatch(tasks)\n",
      "  File \"C:\\Users\\pbeata\\anaconda3\\envs\\py3-TF2.0\\lib\\site-packages\\joblib\\parallel.py\", line 777, in _dispatch\n",
      "    job = self._backend.apply_async(batch, callback=cb)\n",
      "  File \"C:\\Users\\pbeata\\anaconda3\\envs\\py3-TF2.0\\lib\\site-packages\\joblib\\_parallel_backends.py\", line 208, in apply_async\n",
      "    result = ImmediateResult(func)\n",
      "  File \"C:\\Users\\pbeata\\anaconda3\\envs\\py3-TF2.0\\lib\\site-packages\\joblib\\_parallel_backends.py\", line 572, in __init__\n",
      "    self.results = batch()\n",
      "  File \"C:\\Users\\pbeata\\anaconda3\\envs\\py3-TF2.0\\lib\\site-packages\\joblib\\parallel.py\", line 262, in __call__\n",
      "    return [func(*args, **kwargs)\n",
      "  File \"C:\\Users\\pbeata\\anaconda3\\envs\\py3-TF2.0\\lib\\site-packages\\joblib\\parallel.py\", line 262, in <listcomp>\n",
      "    return [func(*args, **kwargs)\n",
      "  File \"C:\\Users\\pbeata\\anaconda3\\envs\\py3-TF2.0\\lib\\site-packages\\sklearn\\utils\\fixes.py\", line 222, in __call__\n",
      "    return self.function(*args, **kwargs)\n",
      "  File \"C:\\Users\\pbeata\\anaconda3\\envs\\py3-TF2.0\\lib\\site-packages\\sklearn\\ensemble\\_forest.py\", line 169, in _parallel_build_trees\n",
      "    tree.fit(X, y, sample_weight=curr_sample_weight, check_input=False)\n",
      "  File \"C:\\Users\\pbeata\\anaconda3\\envs\\py3-TF2.0\\lib\\site-packages\\sklearn\\tree\\_classes.py\", line 1247, in fit\n",
      "    super().fit(\n",
      "  File \"C:\\Users\\pbeata\\anaconda3\\envs\\py3-TF2.0\\lib\\site-packages\\sklearn\\tree\\_classes.py\", line 285, in fit\n",
      "    if max_depth <= 0:\n",
      "TypeError: '<=' not supported between instances of 'str' and 'int'\n",
      "\n",
      "  warnings.warn(\"Estimator fit failed. The score on this train-test\"\n",
      "C:\\Users\\pbeata\\anaconda3\\envs\\py3-TF2.0\\lib\\site-packages\\sklearn\\model_selection\\_validation.py:610: FitFailedWarning: Estimator fit failed. The score on this train-test partition for these parameters will be set to nan. Details: \n",
      "Traceback (most recent call last):\n",
      "  File \"C:\\Users\\pbeata\\anaconda3\\envs\\py3-TF2.0\\lib\\site-packages\\sklearn\\model_selection\\_validation.py\", line 593, in _fit_and_score\n",
      "    estimator.fit(X_train, y_train, **fit_params)\n",
      "  File \"C:\\Users\\pbeata\\anaconda3\\envs\\py3-TF2.0\\lib\\site-packages\\sklearn\\ensemble\\_forest.py\", line 387, in fit\n",
      "    trees = Parallel(n_jobs=self.n_jobs, verbose=self.verbose,\n",
      "  File \"C:\\Users\\pbeata\\anaconda3\\envs\\py3-TF2.0\\lib\\site-packages\\joblib\\parallel.py\", line 1041, in __call__\n",
      "    if self.dispatch_one_batch(iterator):\n",
      "  File \"C:\\Users\\pbeata\\anaconda3\\envs\\py3-TF2.0\\lib\\site-packages\\joblib\\parallel.py\", line 859, in dispatch_one_batch\n",
      "    self._dispatch(tasks)\n",
      "  File \"C:\\Users\\pbeata\\anaconda3\\envs\\py3-TF2.0\\lib\\site-packages\\joblib\\parallel.py\", line 777, in _dispatch\n",
      "    job = self._backend.apply_async(batch, callback=cb)\n",
      "  File \"C:\\Users\\pbeata\\anaconda3\\envs\\py3-TF2.0\\lib\\site-packages\\joblib\\_parallel_backends.py\", line 208, in apply_async\n",
      "    result = ImmediateResult(func)\n",
      "  File \"C:\\Users\\pbeata\\anaconda3\\envs\\py3-TF2.0\\lib\\site-packages\\joblib\\_parallel_backends.py\", line 572, in __init__\n",
      "    self.results = batch()\n",
      "  File \"C:\\Users\\pbeata\\anaconda3\\envs\\py3-TF2.0\\lib\\site-packages\\joblib\\parallel.py\", line 262, in __call__\n",
      "    return [func(*args, **kwargs)\n",
      "  File \"C:\\Users\\pbeata\\anaconda3\\envs\\py3-TF2.0\\lib\\site-packages\\joblib\\parallel.py\", line 262, in <listcomp>\n",
      "    return [func(*args, **kwargs)\n",
      "  File \"C:\\Users\\pbeata\\anaconda3\\envs\\py3-TF2.0\\lib\\site-packages\\sklearn\\utils\\fixes.py\", line 222, in __call__\n",
      "    return self.function(*args, **kwargs)\n",
      "  File \"C:\\Users\\pbeata\\anaconda3\\envs\\py3-TF2.0\\lib\\site-packages\\sklearn\\ensemble\\_forest.py\", line 169, in _parallel_build_trees\n",
      "    tree.fit(X, y, sample_weight=curr_sample_weight, check_input=False)\n",
      "  File \"C:\\Users\\pbeata\\anaconda3\\envs\\py3-TF2.0\\lib\\site-packages\\sklearn\\tree\\_classes.py\", line 1247, in fit\n",
      "    super().fit(\n",
      "  File \"C:\\Users\\pbeata\\anaconda3\\envs\\py3-TF2.0\\lib\\site-packages\\sklearn\\tree\\_classes.py\", line 285, in fit\n",
      "    if max_depth <= 0:\n",
      "TypeError: '<=' not supported between instances of 'str' and 'int'\n",
      "\n",
      "  warnings.warn(\"Estimator fit failed. The score on this train-test\"\n",
      "C:\\Users\\pbeata\\anaconda3\\envs\\py3-TF2.0\\lib\\site-packages\\sklearn\\model_selection\\_validation.py:610: FitFailedWarning: Estimator fit failed. The score on this train-test partition for these parameters will be set to nan. Details: \n",
      "Traceback (most recent call last):\n",
      "  File \"C:\\Users\\pbeata\\anaconda3\\envs\\py3-TF2.0\\lib\\site-packages\\sklearn\\model_selection\\_validation.py\", line 593, in _fit_and_score\n",
      "    estimator.fit(X_train, y_train, **fit_params)\n",
      "  File \"C:\\Users\\pbeata\\anaconda3\\envs\\py3-TF2.0\\lib\\site-packages\\sklearn\\ensemble\\_forest.py\", line 387, in fit\n",
      "    trees = Parallel(n_jobs=self.n_jobs, verbose=self.verbose,\n",
      "  File \"C:\\Users\\pbeata\\anaconda3\\envs\\py3-TF2.0\\lib\\site-packages\\joblib\\parallel.py\", line 1041, in __call__\n",
      "    if self.dispatch_one_batch(iterator):\n",
      "  File \"C:\\Users\\pbeata\\anaconda3\\envs\\py3-TF2.0\\lib\\site-packages\\joblib\\parallel.py\", line 859, in dispatch_one_batch\n",
      "    self._dispatch(tasks)\n",
      "  File \"C:\\Users\\pbeata\\anaconda3\\envs\\py3-TF2.0\\lib\\site-packages\\joblib\\parallel.py\", line 777, in _dispatch\n",
      "    job = self._backend.apply_async(batch, callback=cb)\n",
      "  File \"C:\\Users\\pbeata\\anaconda3\\envs\\py3-TF2.0\\lib\\site-packages\\joblib\\_parallel_backends.py\", line 208, in apply_async\n",
      "    result = ImmediateResult(func)\n",
      "  File \"C:\\Users\\pbeata\\anaconda3\\envs\\py3-TF2.0\\lib\\site-packages\\joblib\\_parallel_backends.py\", line 572, in __init__\n",
      "    self.results = batch()\n",
      "  File \"C:\\Users\\pbeata\\anaconda3\\envs\\py3-TF2.0\\lib\\site-packages\\joblib\\parallel.py\", line 262, in __call__\n",
      "    return [func(*args, **kwargs)\n",
      "  File \"C:\\Users\\pbeata\\anaconda3\\envs\\py3-TF2.0\\lib\\site-packages\\joblib\\parallel.py\", line 262, in <listcomp>\n",
      "    return [func(*args, **kwargs)\n",
      "  File \"C:\\Users\\pbeata\\anaconda3\\envs\\py3-TF2.0\\lib\\site-packages\\sklearn\\utils\\fixes.py\", line 222, in __call__\n",
      "    return self.function(*args, **kwargs)\n",
      "  File \"C:\\Users\\pbeata\\anaconda3\\envs\\py3-TF2.0\\lib\\site-packages\\sklearn\\ensemble\\_forest.py\", line 169, in _parallel_build_trees\n",
      "    tree.fit(X, y, sample_weight=curr_sample_weight, check_input=False)\n",
      "  File \"C:\\Users\\pbeata\\anaconda3\\envs\\py3-TF2.0\\lib\\site-packages\\sklearn\\tree\\_classes.py\", line 1247, in fit\n",
      "    super().fit(\n",
      "  File \"C:\\Users\\pbeata\\anaconda3\\envs\\py3-TF2.0\\lib\\site-packages\\sklearn\\tree\\_classes.py\", line 285, in fit\n",
      "    if max_depth <= 0:\n",
      "TypeError: '<=' not supported between instances of 'str' and 'int'\n",
      "\n",
      "  warnings.warn(\"Estimator fit failed. The score on this train-test\"\n",
      "C:\\Users\\pbeata\\anaconda3\\envs\\py3-TF2.0\\lib\\site-packages\\sklearn\\model_selection\\_validation.py:610: FitFailedWarning: Estimator fit failed. The score on this train-test partition for these parameters will be set to nan. Details: \n",
      "Traceback (most recent call last):\n",
      "  File \"C:\\Users\\pbeata\\anaconda3\\envs\\py3-TF2.0\\lib\\site-packages\\sklearn\\model_selection\\_validation.py\", line 593, in _fit_and_score\n",
      "    estimator.fit(X_train, y_train, **fit_params)\n",
      "  File \"C:\\Users\\pbeata\\anaconda3\\envs\\py3-TF2.0\\lib\\site-packages\\sklearn\\ensemble\\_forest.py\", line 387, in fit\n",
      "    trees = Parallel(n_jobs=self.n_jobs, verbose=self.verbose,\n",
      "  File \"C:\\Users\\pbeata\\anaconda3\\envs\\py3-TF2.0\\lib\\site-packages\\joblib\\parallel.py\", line 1041, in __call__\n",
      "    if self.dispatch_one_batch(iterator):\n",
      "  File \"C:\\Users\\pbeata\\anaconda3\\envs\\py3-TF2.0\\lib\\site-packages\\joblib\\parallel.py\", line 859, in dispatch_one_batch\n",
      "    self._dispatch(tasks)\n",
      "  File \"C:\\Users\\pbeata\\anaconda3\\envs\\py3-TF2.0\\lib\\site-packages\\joblib\\parallel.py\", line 777, in _dispatch\n",
      "    job = self._backend.apply_async(batch, callback=cb)\n",
      "  File \"C:\\Users\\pbeata\\anaconda3\\envs\\py3-TF2.0\\lib\\site-packages\\joblib\\_parallel_backends.py\", line 208, in apply_async\n",
      "    result = ImmediateResult(func)\n",
      "  File \"C:\\Users\\pbeata\\anaconda3\\envs\\py3-TF2.0\\lib\\site-packages\\joblib\\_parallel_backends.py\", line 572, in __init__\n",
      "    self.results = batch()\n",
      "  File \"C:\\Users\\pbeata\\anaconda3\\envs\\py3-TF2.0\\lib\\site-packages\\joblib\\parallel.py\", line 262, in __call__\n",
      "    return [func(*args, **kwargs)\n",
      "  File \"C:\\Users\\pbeata\\anaconda3\\envs\\py3-TF2.0\\lib\\site-packages\\joblib\\parallel.py\", line 262, in <listcomp>\n",
      "    return [func(*args, **kwargs)\n",
      "  File \"C:\\Users\\pbeata\\anaconda3\\envs\\py3-TF2.0\\lib\\site-packages\\sklearn\\utils\\fixes.py\", line 222, in __call__\n",
      "    return self.function(*args, **kwargs)\n",
      "  File \"C:\\Users\\pbeata\\anaconda3\\envs\\py3-TF2.0\\lib\\site-packages\\sklearn\\ensemble\\_forest.py\", line 169, in _parallel_build_trees\n",
      "    tree.fit(X, y, sample_weight=curr_sample_weight, check_input=False)\n",
      "  File \"C:\\Users\\pbeata\\anaconda3\\envs\\py3-TF2.0\\lib\\site-packages\\sklearn\\tree\\_classes.py\", line 1247, in fit\n",
      "    super().fit(\n",
      "  File \"C:\\Users\\pbeata\\anaconda3\\envs\\py3-TF2.0\\lib\\site-packages\\sklearn\\tree\\_classes.py\", line 285, in fit\n",
      "    if max_depth <= 0:\n",
      "TypeError: '<=' not supported between instances of 'str' and 'int'\n",
      "\n",
      "  warnings.warn(\"Estimator fit failed. The score on this train-test\"\n",
      "C:\\Users\\pbeata\\anaconda3\\envs\\py3-TF2.0\\lib\\site-packages\\sklearn\\model_selection\\_validation.py:610: FitFailedWarning: Estimator fit failed. The score on this train-test partition for these parameters will be set to nan. Details: \n",
      "Traceback (most recent call last):\n",
      "  File \"C:\\Users\\pbeata\\anaconda3\\envs\\py3-TF2.0\\lib\\site-packages\\sklearn\\model_selection\\_validation.py\", line 593, in _fit_and_score\n",
      "    estimator.fit(X_train, y_train, **fit_params)\n",
      "  File \"C:\\Users\\pbeata\\anaconda3\\envs\\py3-TF2.0\\lib\\site-packages\\sklearn\\ensemble\\_forest.py\", line 387, in fit\n",
      "    trees = Parallel(n_jobs=self.n_jobs, verbose=self.verbose,\n",
      "  File \"C:\\Users\\pbeata\\anaconda3\\envs\\py3-TF2.0\\lib\\site-packages\\joblib\\parallel.py\", line 1041, in __call__\n",
      "    if self.dispatch_one_batch(iterator):\n",
      "  File \"C:\\Users\\pbeata\\anaconda3\\envs\\py3-TF2.0\\lib\\site-packages\\joblib\\parallel.py\", line 859, in dispatch_one_batch\n",
      "    self._dispatch(tasks)\n",
      "  File \"C:\\Users\\pbeata\\anaconda3\\envs\\py3-TF2.0\\lib\\site-packages\\joblib\\parallel.py\", line 777, in _dispatch\n",
      "    job = self._backend.apply_async(batch, callback=cb)\n",
      "  File \"C:\\Users\\pbeata\\anaconda3\\envs\\py3-TF2.0\\lib\\site-packages\\joblib\\_parallel_backends.py\", line 208, in apply_async\n",
      "    result = ImmediateResult(func)\n",
      "  File \"C:\\Users\\pbeata\\anaconda3\\envs\\py3-TF2.0\\lib\\site-packages\\joblib\\_parallel_backends.py\", line 572, in __init__\n",
      "    self.results = batch()\n",
      "  File \"C:\\Users\\pbeata\\anaconda3\\envs\\py3-TF2.0\\lib\\site-packages\\joblib\\parallel.py\", line 262, in __call__\n",
      "    return [func(*args, **kwargs)\n",
      "  File \"C:\\Users\\pbeata\\anaconda3\\envs\\py3-TF2.0\\lib\\site-packages\\joblib\\parallel.py\", line 262, in <listcomp>\n",
      "    return [func(*args, **kwargs)\n",
      "  File \"C:\\Users\\pbeata\\anaconda3\\envs\\py3-TF2.0\\lib\\site-packages\\sklearn\\utils\\fixes.py\", line 222, in __call__\n",
      "    return self.function(*args, **kwargs)\n",
      "  File \"C:\\Users\\pbeata\\anaconda3\\envs\\py3-TF2.0\\lib\\site-packages\\sklearn\\ensemble\\_forest.py\", line 169, in _parallel_build_trees\n",
      "    tree.fit(X, y, sample_weight=curr_sample_weight, check_input=False)\n",
      "  File \"C:\\Users\\pbeata\\anaconda3\\envs\\py3-TF2.0\\lib\\site-packages\\sklearn\\tree\\_classes.py\", line 1247, in fit\n",
      "    super().fit(\n",
      "  File \"C:\\Users\\pbeata\\anaconda3\\envs\\py3-TF2.0\\lib\\site-packages\\sklearn\\tree\\_classes.py\", line 285, in fit\n",
      "    if max_depth <= 0:\n",
      "TypeError: '<=' not supported between instances of 'str' and 'int'\n",
      "\n",
      "  warnings.warn(\"Estimator fit failed. The score on this train-test\"\n",
      "C:\\Users\\pbeata\\anaconda3\\envs\\py3-TF2.0\\lib\\site-packages\\sklearn\\model_selection\\_validation.py:610: FitFailedWarning: Estimator fit failed. The score on this train-test partition for these parameters will be set to nan. Details: \n",
      "Traceback (most recent call last):\n",
      "  File \"C:\\Users\\pbeata\\anaconda3\\envs\\py3-TF2.0\\lib\\site-packages\\sklearn\\model_selection\\_validation.py\", line 593, in _fit_and_score\n",
      "    estimator.fit(X_train, y_train, **fit_params)\n",
      "  File \"C:\\Users\\pbeata\\anaconda3\\envs\\py3-TF2.0\\lib\\site-packages\\sklearn\\ensemble\\_forest.py\", line 387, in fit\n",
      "    trees = Parallel(n_jobs=self.n_jobs, verbose=self.verbose,\n",
      "  File \"C:\\Users\\pbeata\\anaconda3\\envs\\py3-TF2.0\\lib\\site-packages\\joblib\\parallel.py\", line 1041, in __call__\n",
      "    if self.dispatch_one_batch(iterator):\n",
      "  File \"C:\\Users\\pbeata\\anaconda3\\envs\\py3-TF2.0\\lib\\site-packages\\joblib\\parallel.py\", line 859, in dispatch_one_batch\n",
      "    self._dispatch(tasks)\n",
      "  File \"C:\\Users\\pbeata\\anaconda3\\envs\\py3-TF2.0\\lib\\site-packages\\joblib\\parallel.py\", line 777, in _dispatch\n",
      "    job = self._backend.apply_async(batch, callback=cb)\n",
      "  File \"C:\\Users\\pbeata\\anaconda3\\envs\\py3-TF2.0\\lib\\site-packages\\joblib\\_parallel_backends.py\", line 208, in apply_async\n",
      "    result = ImmediateResult(func)\n",
      "  File \"C:\\Users\\pbeata\\anaconda3\\envs\\py3-TF2.0\\lib\\site-packages\\joblib\\_parallel_backends.py\", line 572, in __init__\n",
      "    self.results = batch()\n",
      "  File \"C:\\Users\\pbeata\\anaconda3\\envs\\py3-TF2.0\\lib\\site-packages\\joblib\\parallel.py\", line 262, in __call__\n",
      "    return [func(*args, **kwargs)\n",
      "  File \"C:\\Users\\pbeata\\anaconda3\\envs\\py3-TF2.0\\lib\\site-packages\\joblib\\parallel.py\", line 262, in <listcomp>\n",
      "    return [func(*args, **kwargs)\n",
      "  File \"C:\\Users\\pbeata\\anaconda3\\envs\\py3-TF2.0\\lib\\site-packages\\sklearn\\utils\\fixes.py\", line 222, in __call__\n",
      "    return self.function(*args, **kwargs)\n",
      "  File \"C:\\Users\\pbeata\\anaconda3\\envs\\py3-TF2.0\\lib\\site-packages\\sklearn\\ensemble\\_forest.py\", line 169, in _parallel_build_trees\n",
      "    tree.fit(X, y, sample_weight=curr_sample_weight, check_input=False)\n",
      "  File \"C:\\Users\\pbeata\\anaconda3\\envs\\py3-TF2.0\\lib\\site-packages\\sklearn\\tree\\_classes.py\", line 1247, in fit\n",
      "    super().fit(\n",
      "  File \"C:\\Users\\pbeata\\anaconda3\\envs\\py3-TF2.0\\lib\\site-packages\\sklearn\\tree\\_classes.py\", line 285, in fit\n",
      "    if max_depth <= 0:\n",
      "TypeError: '<=' not supported between instances of 'str' and 'int'\n",
      "\n",
      "  warnings.warn(\"Estimator fit failed. The score on this train-test\"\n",
      "C:\\Users\\pbeata\\anaconda3\\envs\\py3-TF2.0\\lib\\site-packages\\sklearn\\model_selection\\_validation.py:610: FitFailedWarning: Estimator fit failed. The score on this train-test partition for these parameters will be set to nan. Details: \n",
      "Traceback (most recent call last):\n",
      "  File \"C:\\Users\\pbeata\\anaconda3\\envs\\py3-TF2.0\\lib\\site-packages\\sklearn\\model_selection\\_validation.py\", line 593, in _fit_and_score\n",
      "    estimator.fit(X_train, y_train, **fit_params)\n",
      "  File \"C:\\Users\\pbeata\\anaconda3\\envs\\py3-TF2.0\\lib\\site-packages\\sklearn\\ensemble\\_forest.py\", line 387, in fit\n",
      "    trees = Parallel(n_jobs=self.n_jobs, verbose=self.verbose,\n",
      "  File \"C:\\Users\\pbeata\\anaconda3\\envs\\py3-TF2.0\\lib\\site-packages\\joblib\\parallel.py\", line 1041, in __call__\n",
      "    if self.dispatch_one_batch(iterator):\n",
      "  File \"C:\\Users\\pbeata\\anaconda3\\envs\\py3-TF2.0\\lib\\site-packages\\joblib\\parallel.py\", line 859, in dispatch_one_batch\n",
      "    self._dispatch(tasks)\n",
      "  File \"C:\\Users\\pbeata\\anaconda3\\envs\\py3-TF2.0\\lib\\site-packages\\joblib\\parallel.py\", line 777, in _dispatch\n",
      "    job = self._backend.apply_async(batch, callback=cb)\n",
      "  File \"C:\\Users\\pbeata\\anaconda3\\envs\\py3-TF2.0\\lib\\site-packages\\joblib\\_parallel_backends.py\", line 208, in apply_async\n",
      "    result = ImmediateResult(func)\n",
      "  File \"C:\\Users\\pbeata\\anaconda3\\envs\\py3-TF2.0\\lib\\site-packages\\joblib\\_parallel_backends.py\", line 572, in __init__\n",
      "    self.results = batch()\n",
      "  File \"C:\\Users\\pbeata\\anaconda3\\envs\\py3-TF2.0\\lib\\site-packages\\joblib\\parallel.py\", line 262, in __call__\n",
      "    return [func(*args, **kwargs)\n",
      "  File \"C:\\Users\\pbeata\\anaconda3\\envs\\py3-TF2.0\\lib\\site-packages\\joblib\\parallel.py\", line 262, in <listcomp>\n",
      "    return [func(*args, **kwargs)\n",
      "  File \"C:\\Users\\pbeata\\anaconda3\\envs\\py3-TF2.0\\lib\\site-packages\\sklearn\\utils\\fixes.py\", line 222, in __call__\n",
      "    return self.function(*args, **kwargs)\n",
      "  File \"C:\\Users\\pbeata\\anaconda3\\envs\\py3-TF2.0\\lib\\site-packages\\sklearn\\ensemble\\_forest.py\", line 169, in _parallel_build_trees\n",
      "    tree.fit(X, y, sample_weight=curr_sample_weight, check_input=False)\n",
      "  File \"C:\\Users\\pbeata\\anaconda3\\envs\\py3-TF2.0\\lib\\site-packages\\sklearn\\tree\\_classes.py\", line 1247, in fit\n",
      "    super().fit(\n",
      "  File \"C:\\Users\\pbeata\\anaconda3\\envs\\py3-TF2.0\\lib\\site-packages\\sklearn\\tree\\_classes.py\", line 285, in fit\n",
      "    if max_depth <= 0:\n",
      "TypeError: '<=' not supported between instances of 'str' and 'int'\n",
      "\n",
      "  warnings.warn(\"Estimator fit failed. The score on this train-test\"\n",
      "C:\\Users\\pbeata\\anaconda3\\envs\\py3-TF2.0\\lib\\site-packages\\sklearn\\model_selection\\_validation.py:610: FitFailedWarning: Estimator fit failed. The score on this train-test partition for these parameters will be set to nan. Details: \n",
      "Traceback (most recent call last):\n",
      "  File \"C:\\Users\\pbeata\\anaconda3\\envs\\py3-TF2.0\\lib\\site-packages\\sklearn\\model_selection\\_validation.py\", line 593, in _fit_and_score\n",
      "    estimator.fit(X_train, y_train, **fit_params)\n",
      "  File \"C:\\Users\\pbeata\\anaconda3\\envs\\py3-TF2.0\\lib\\site-packages\\sklearn\\ensemble\\_forest.py\", line 387, in fit\n",
      "    trees = Parallel(n_jobs=self.n_jobs, verbose=self.verbose,\n",
      "  File \"C:\\Users\\pbeata\\anaconda3\\envs\\py3-TF2.0\\lib\\site-packages\\joblib\\parallel.py\", line 1041, in __call__\n",
      "    if self.dispatch_one_batch(iterator):\n",
      "  File \"C:\\Users\\pbeata\\anaconda3\\envs\\py3-TF2.0\\lib\\site-packages\\joblib\\parallel.py\", line 859, in dispatch_one_batch\n",
      "    self._dispatch(tasks)\n",
      "  File \"C:\\Users\\pbeata\\anaconda3\\envs\\py3-TF2.0\\lib\\site-packages\\joblib\\parallel.py\", line 777, in _dispatch\n",
      "    job = self._backend.apply_async(batch, callback=cb)\n",
      "  File \"C:\\Users\\pbeata\\anaconda3\\envs\\py3-TF2.0\\lib\\site-packages\\joblib\\_parallel_backends.py\", line 208, in apply_async\n",
      "    result = ImmediateResult(func)\n",
      "  File \"C:\\Users\\pbeata\\anaconda3\\envs\\py3-TF2.0\\lib\\site-packages\\joblib\\_parallel_backends.py\", line 572, in __init__\n",
      "    self.results = batch()\n",
      "  File \"C:\\Users\\pbeata\\anaconda3\\envs\\py3-TF2.0\\lib\\site-packages\\joblib\\parallel.py\", line 262, in __call__\n",
      "    return [func(*args, **kwargs)\n",
      "  File \"C:\\Users\\pbeata\\anaconda3\\envs\\py3-TF2.0\\lib\\site-packages\\joblib\\parallel.py\", line 262, in <listcomp>\n",
      "    return [func(*args, **kwargs)\n",
      "  File \"C:\\Users\\pbeata\\anaconda3\\envs\\py3-TF2.0\\lib\\site-packages\\sklearn\\utils\\fixes.py\", line 222, in __call__\n",
      "    return self.function(*args, **kwargs)\n",
      "  File \"C:\\Users\\pbeata\\anaconda3\\envs\\py3-TF2.0\\lib\\site-packages\\sklearn\\ensemble\\_forest.py\", line 169, in _parallel_build_trees\n",
      "    tree.fit(X, y, sample_weight=curr_sample_weight, check_input=False)\n",
      "  File \"C:\\Users\\pbeata\\anaconda3\\envs\\py3-TF2.0\\lib\\site-packages\\sklearn\\tree\\_classes.py\", line 1247, in fit\n",
      "    super().fit(\n",
      "  File \"C:\\Users\\pbeata\\anaconda3\\envs\\py3-TF2.0\\lib\\site-packages\\sklearn\\tree\\_classes.py\", line 285, in fit\n",
      "    if max_depth <= 0:\n",
      "TypeError: '<=' not supported between instances of 'str' and 'int'\n",
      "\n",
      "  warnings.warn(\"Estimator fit failed. The score on this train-test\"\n"
     ]
    },
    {
     "name": "stdout",
     "output_type": "stream",
     "text": [
      "[CV] END max_depth=None, max_features=sqrt, n_estimators=200; total time=   0.0s\n",
      "[CV] END .max_depth=None, max_features=log2, n_estimators=50; total time=   0.0s\n",
      "[CV] END .max_depth=None, max_features=log2, n_estimators=50; total time=   0.0s\n",
      "[CV] END .max_depth=None, max_features=log2, n_estimators=50; total time=   0.0s\n",
      "[CV] END .max_depth=None, max_features=log2, n_estimators=50; total time=   0.0s\n",
      "[CV] END .max_depth=None, max_features=log2, n_estimators=50; total time=   0.0s\n",
      "[CV] END max_depth=None, max_features=log2, n_estimators=100; total time=   0.0s\n",
      "[CV] END max_depth=None, max_features=log2, n_estimators=100; total time=   0.0s\n",
      "[CV] END max_depth=None, max_features=log2, n_estimators=100; total time=   0.0s\n"
     ]
    },
    {
     "name": "stderr",
     "output_type": "stream",
     "text": [
      "C:\\Users\\pbeata\\anaconda3\\envs\\py3-TF2.0\\lib\\site-packages\\sklearn\\model_selection\\_validation.py:610: FitFailedWarning: Estimator fit failed. The score on this train-test partition for these parameters will be set to nan. Details: \n",
      "Traceback (most recent call last):\n",
      "  File \"C:\\Users\\pbeata\\anaconda3\\envs\\py3-TF2.0\\lib\\site-packages\\sklearn\\model_selection\\_validation.py\", line 593, in _fit_and_score\n",
      "    estimator.fit(X_train, y_train, **fit_params)\n",
      "  File \"C:\\Users\\pbeata\\anaconda3\\envs\\py3-TF2.0\\lib\\site-packages\\sklearn\\ensemble\\_forest.py\", line 387, in fit\n",
      "    trees = Parallel(n_jobs=self.n_jobs, verbose=self.verbose,\n",
      "  File \"C:\\Users\\pbeata\\anaconda3\\envs\\py3-TF2.0\\lib\\site-packages\\joblib\\parallel.py\", line 1041, in __call__\n",
      "    if self.dispatch_one_batch(iterator):\n",
      "  File \"C:\\Users\\pbeata\\anaconda3\\envs\\py3-TF2.0\\lib\\site-packages\\joblib\\parallel.py\", line 859, in dispatch_one_batch\n",
      "    self._dispatch(tasks)\n",
      "  File \"C:\\Users\\pbeata\\anaconda3\\envs\\py3-TF2.0\\lib\\site-packages\\joblib\\parallel.py\", line 777, in _dispatch\n",
      "    job = self._backend.apply_async(batch, callback=cb)\n",
      "  File \"C:\\Users\\pbeata\\anaconda3\\envs\\py3-TF2.0\\lib\\site-packages\\joblib\\_parallel_backends.py\", line 208, in apply_async\n",
      "    result = ImmediateResult(func)\n",
      "  File \"C:\\Users\\pbeata\\anaconda3\\envs\\py3-TF2.0\\lib\\site-packages\\joblib\\_parallel_backends.py\", line 572, in __init__\n",
      "    self.results = batch()\n",
      "  File \"C:\\Users\\pbeata\\anaconda3\\envs\\py3-TF2.0\\lib\\site-packages\\joblib\\parallel.py\", line 262, in __call__\n",
      "    return [func(*args, **kwargs)\n",
      "  File \"C:\\Users\\pbeata\\anaconda3\\envs\\py3-TF2.0\\lib\\site-packages\\joblib\\parallel.py\", line 262, in <listcomp>\n",
      "    return [func(*args, **kwargs)\n",
      "  File \"C:\\Users\\pbeata\\anaconda3\\envs\\py3-TF2.0\\lib\\site-packages\\sklearn\\utils\\fixes.py\", line 222, in __call__\n",
      "    return self.function(*args, **kwargs)\n",
      "  File \"C:\\Users\\pbeata\\anaconda3\\envs\\py3-TF2.0\\lib\\site-packages\\sklearn\\ensemble\\_forest.py\", line 169, in _parallel_build_trees\n",
      "    tree.fit(X, y, sample_weight=curr_sample_weight, check_input=False)\n",
      "  File \"C:\\Users\\pbeata\\anaconda3\\envs\\py3-TF2.0\\lib\\site-packages\\sklearn\\tree\\_classes.py\", line 1247, in fit\n",
      "    super().fit(\n",
      "  File \"C:\\Users\\pbeata\\anaconda3\\envs\\py3-TF2.0\\lib\\site-packages\\sklearn\\tree\\_classes.py\", line 285, in fit\n",
      "    if max_depth <= 0:\n",
      "TypeError: '<=' not supported between instances of 'str' and 'int'\n",
      "\n",
      "  warnings.warn(\"Estimator fit failed. The score on this train-test\"\n",
      "C:\\Users\\pbeata\\anaconda3\\envs\\py3-TF2.0\\lib\\site-packages\\sklearn\\model_selection\\_validation.py:610: FitFailedWarning: Estimator fit failed. The score on this train-test partition for these parameters will be set to nan. Details: \n",
      "Traceback (most recent call last):\n",
      "  File \"C:\\Users\\pbeata\\anaconda3\\envs\\py3-TF2.0\\lib\\site-packages\\sklearn\\model_selection\\_validation.py\", line 593, in _fit_and_score\n",
      "    estimator.fit(X_train, y_train, **fit_params)\n",
      "  File \"C:\\Users\\pbeata\\anaconda3\\envs\\py3-TF2.0\\lib\\site-packages\\sklearn\\ensemble\\_forest.py\", line 387, in fit\n",
      "    trees = Parallel(n_jobs=self.n_jobs, verbose=self.verbose,\n",
      "  File \"C:\\Users\\pbeata\\anaconda3\\envs\\py3-TF2.0\\lib\\site-packages\\joblib\\parallel.py\", line 1041, in __call__\n",
      "    if self.dispatch_one_batch(iterator):\n",
      "  File \"C:\\Users\\pbeata\\anaconda3\\envs\\py3-TF2.0\\lib\\site-packages\\joblib\\parallel.py\", line 859, in dispatch_one_batch\n",
      "    self._dispatch(tasks)\n",
      "  File \"C:\\Users\\pbeata\\anaconda3\\envs\\py3-TF2.0\\lib\\site-packages\\joblib\\parallel.py\", line 777, in _dispatch\n",
      "    job = self._backend.apply_async(batch, callback=cb)\n",
      "  File \"C:\\Users\\pbeata\\anaconda3\\envs\\py3-TF2.0\\lib\\site-packages\\joblib\\_parallel_backends.py\", line 208, in apply_async\n",
      "    result = ImmediateResult(func)\n",
      "  File \"C:\\Users\\pbeata\\anaconda3\\envs\\py3-TF2.0\\lib\\site-packages\\joblib\\_parallel_backends.py\", line 572, in __init__\n",
      "    self.results = batch()\n",
      "  File \"C:\\Users\\pbeata\\anaconda3\\envs\\py3-TF2.0\\lib\\site-packages\\joblib\\parallel.py\", line 262, in __call__\n",
      "    return [func(*args, **kwargs)\n",
      "  File \"C:\\Users\\pbeata\\anaconda3\\envs\\py3-TF2.0\\lib\\site-packages\\joblib\\parallel.py\", line 262, in <listcomp>\n",
      "    return [func(*args, **kwargs)\n",
      "  File \"C:\\Users\\pbeata\\anaconda3\\envs\\py3-TF2.0\\lib\\site-packages\\sklearn\\utils\\fixes.py\", line 222, in __call__\n",
      "    return self.function(*args, **kwargs)\n",
      "  File \"C:\\Users\\pbeata\\anaconda3\\envs\\py3-TF2.0\\lib\\site-packages\\sklearn\\ensemble\\_forest.py\", line 169, in _parallel_build_trees\n",
      "    tree.fit(X, y, sample_weight=curr_sample_weight, check_input=False)\n",
      "  File \"C:\\Users\\pbeata\\anaconda3\\envs\\py3-TF2.0\\lib\\site-packages\\sklearn\\tree\\_classes.py\", line 1247, in fit\n",
      "    super().fit(\n",
      "  File \"C:\\Users\\pbeata\\anaconda3\\envs\\py3-TF2.0\\lib\\site-packages\\sklearn\\tree\\_classes.py\", line 285, in fit\n",
      "    if max_depth <= 0:\n",
      "TypeError: '<=' not supported between instances of 'str' and 'int'\n",
      "\n",
      "  warnings.warn(\"Estimator fit failed. The score on this train-test\"\n",
      "C:\\Users\\pbeata\\anaconda3\\envs\\py3-TF2.0\\lib\\site-packages\\sklearn\\model_selection\\_validation.py:610: FitFailedWarning: Estimator fit failed. The score on this train-test partition for these parameters will be set to nan. Details: \n",
      "Traceback (most recent call last):\n",
      "  File \"C:\\Users\\pbeata\\anaconda3\\envs\\py3-TF2.0\\lib\\site-packages\\sklearn\\model_selection\\_validation.py\", line 593, in _fit_and_score\n",
      "    estimator.fit(X_train, y_train, **fit_params)\n",
      "  File \"C:\\Users\\pbeata\\anaconda3\\envs\\py3-TF2.0\\lib\\site-packages\\sklearn\\ensemble\\_forest.py\", line 387, in fit\n",
      "    trees = Parallel(n_jobs=self.n_jobs, verbose=self.verbose,\n",
      "  File \"C:\\Users\\pbeata\\anaconda3\\envs\\py3-TF2.0\\lib\\site-packages\\joblib\\parallel.py\", line 1041, in __call__\n",
      "    if self.dispatch_one_batch(iterator):\n",
      "  File \"C:\\Users\\pbeata\\anaconda3\\envs\\py3-TF2.0\\lib\\site-packages\\joblib\\parallel.py\", line 859, in dispatch_one_batch\n",
      "    self._dispatch(tasks)\n",
      "  File \"C:\\Users\\pbeata\\anaconda3\\envs\\py3-TF2.0\\lib\\site-packages\\joblib\\parallel.py\", line 777, in _dispatch\n",
      "    job = self._backend.apply_async(batch, callback=cb)\n",
      "  File \"C:\\Users\\pbeata\\anaconda3\\envs\\py3-TF2.0\\lib\\site-packages\\joblib\\_parallel_backends.py\", line 208, in apply_async\n",
      "    result = ImmediateResult(func)\n",
      "  File \"C:\\Users\\pbeata\\anaconda3\\envs\\py3-TF2.0\\lib\\site-packages\\joblib\\_parallel_backends.py\", line 572, in __init__\n",
      "    self.results = batch()\n",
      "  File \"C:\\Users\\pbeata\\anaconda3\\envs\\py3-TF2.0\\lib\\site-packages\\joblib\\parallel.py\", line 262, in __call__\n",
      "    return [func(*args, **kwargs)\n",
      "  File \"C:\\Users\\pbeata\\anaconda3\\envs\\py3-TF2.0\\lib\\site-packages\\joblib\\parallel.py\", line 262, in <listcomp>\n",
      "    return [func(*args, **kwargs)\n",
      "  File \"C:\\Users\\pbeata\\anaconda3\\envs\\py3-TF2.0\\lib\\site-packages\\sklearn\\utils\\fixes.py\", line 222, in __call__\n",
      "    return self.function(*args, **kwargs)\n",
      "  File \"C:\\Users\\pbeata\\anaconda3\\envs\\py3-TF2.0\\lib\\site-packages\\sklearn\\ensemble\\_forest.py\", line 169, in _parallel_build_trees\n",
      "    tree.fit(X, y, sample_weight=curr_sample_weight, check_input=False)\n",
      "  File \"C:\\Users\\pbeata\\anaconda3\\envs\\py3-TF2.0\\lib\\site-packages\\sklearn\\tree\\_classes.py\", line 1247, in fit\n",
      "    super().fit(\n",
      "  File \"C:\\Users\\pbeata\\anaconda3\\envs\\py3-TF2.0\\lib\\site-packages\\sklearn\\tree\\_classes.py\", line 285, in fit\n",
      "    if max_depth <= 0:\n",
      "TypeError: '<=' not supported between instances of 'str' and 'int'\n",
      "\n",
      "  warnings.warn(\"Estimator fit failed. The score on this train-test\"\n",
      "C:\\Users\\pbeata\\anaconda3\\envs\\py3-TF2.0\\lib\\site-packages\\sklearn\\model_selection\\_validation.py:610: FitFailedWarning: Estimator fit failed. The score on this train-test partition for these parameters will be set to nan. Details: \n",
      "Traceback (most recent call last):\n",
      "  File \"C:\\Users\\pbeata\\anaconda3\\envs\\py3-TF2.0\\lib\\site-packages\\sklearn\\model_selection\\_validation.py\", line 593, in _fit_and_score\n",
      "    estimator.fit(X_train, y_train, **fit_params)\n",
      "  File \"C:\\Users\\pbeata\\anaconda3\\envs\\py3-TF2.0\\lib\\site-packages\\sklearn\\ensemble\\_forest.py\", line 387, in fit\n",
      "    trees = Parallel(n_jobs=self.n_jobs, verbose=self.verbose,\n",
      "  File \"C:\\Users\\pbeata\\anaconda3\\envs\\py3-TF2.0\\lib\\site-packages\\joblib\\parallel.py\", line 1041, in __call__\n",
      "    if self.dispatch_one_batch(iterator):\n",
      "  File \"C:\\Users\\pbeata\\anaconda3\\envs\\py3-TF2.0\\lib\\site-packages\\joblib\\parallel.py\", line 859, in dispatch_one_batch\n",
      "    self._dispatch(tasks)\n",
      "  File \"C:\\Users\\pbeata\\anaconda3\\envs\\py3-TF2.0\\lib\\site-packages\\joblib\\parallel.py\", line 777, in _dispatch\n",
      "    job = self._backend.apply_async(batch, callback=cb)\n",
      "  File \"C:\\Users\\pbeata\\anaconda3\\envs\\py3-TF2.0\\lib\\site-packages\\joblib\\_parallel_backends.py\", line 208, in apply_async\n",
      "    result = ImmediateResult(func)\n",
      "  File \"C:\\Users\\pbeata\\anaconda3\\envs\\py3-TF2.0\\lib\\site-packages\\joblib\\_parallel_backends.py\", line 572, in __init__\n",
      "    self.results = batch()\n",
      "  File \"C:\\Users\\pbeata\\anaconda3\\envs\\py3-TF2.0\\lib\\site-packages\\joblib\\parallel.py\", line 262, in __call__\n",
      "    return [func(*args, **kwargs)\n",
      "  File \"C:\\Users\\pbeata\\anaconda3\\envs\\py3-TF2.0\\lib\\site-packages\\joblib\\parallel.py\", line 262, in <listcomp>\n",
      "    return [func(*args, **kwargs)\n",
      "  File \"C:\\Users\\pbeata\\anaconda3\\envs\\py3-TF2.0\\lib\\site-packages\\sklearn\\utils\\fixes.py\", line 222, in __call__\n",
      "    return self.function(*args, **kwargs)\n",
      "  File \"C:\\Users\\pbeata\\anaconda3\\envs\\py3-TF2.0\\lib\\site-packages\\sklearn\\ensemble\\_forest.py\", line 169, in _parallel_build_trees\n",
      "    tree.fit(X, y, sample_weight=curr_sample_weight, check_input=False)\n",
      "  File \"C:\\Users\\pbeata\\anaconda3\\envs\\py3-TF2.0\\lib\\site-packages\\sklearn\\tree\\_classes.py\", line 1247, in fit\n",
      "    super().fit(\n",
      "  File \"C:\\Users\\pbeata\\anaconda3\\envs\\py3-TF2.0\\lib\\site-packages\\sklearn\\tree\\_classes.py\", line 285, in fit\n",
      "    if max_depth <= 0:\n",
      "TypeError: '<=' not supported between instances of 'str' and 'int'\n",
      "\n",
      "  warnings.warn(\"Estimator fit failed. The score on this train-test\"\n"
     ]
    },
    {
     "name": "stdout",
     "output_type": "stream",
     "text": [
      "[CV] END max_depth=None, max_features=log2, n_estimators=100; total time=   0.0s\n",
      "[CV] END max_depth=None, max_features=log2, n_estimators=100; total time=   0.0s\n",
      "[CV] END max_depth=None, max_features=log2, n_estimators=200; total time=   0.0s\n",
      "[CV] END max_depth=None, max_features=log2, n_estimators=200; total time=   0.0s\n"
     ]
    },
    {
     "name": "stderr",
     "output_type": "stream",
     "text": [
      "C:\\Users\\pbeata\\anaconda3\\envs\\py3-TF2.0\\lib\\site-packages\\sklearn\\model_selection\\_validation.py:610: FitFailedWarning: Estimator fit failed. The score on this train-test partition for these parameters will be set to nan. Details: \n",
      "Traceback (most recent call last):\n",
      "  File \"C:\\Users\\pbeata\\anaconda3\\envs\\py3-TF2.0\\lib\\site-packages\\sklearn\\model_selection\\_validation.py\", line 593, in _fit_and_score\n",
      "    estimator.fit(X_train, y_train, **fit_params)\n",
      "  File \"C:\\Users\\pbeata\\anaconda3\\envs\\py3-TF2.0\\lib\\site-packages\\sklearn\\ensemble\\_forest.py\", line 387, in fit\n",
      "    trees = Parallel(n_jobs=self.n_jobs, verbose=self.verbose,\n",
      "  File \"C:\\Users\\pbeata\\anaconda3\\envs\\py3-TF2.0\\lib\\site-packages\\joblib\\parallel.py\", line 1041, in __call__\n",
      "    if self.dispatch_one_batch(iterator):\n",
      "  File \"C:\\Users\\pbeata\\anaconda3\\envs\\py3-TF2.0\\lib\\site-packages\\joblib\\parallel.py\", line 859, in dispatch_one_batch\n",
      "    self._dispatch(tasks)\n",
      "  File \"C:\\Users\\pbeata\\anaconda3\\envs\\py3-TF2.0\\lib\\site-packages\\joblib\\parallel.py\", line 777, in _dispatch\n",
      "    job = self._backend.apply_async(batch, callback=cb)\n",
      "  File \"C:\\Users\\pbeata\\anaconda3\\envs\\py3-TF2.0\\lib\\site-packages\\joblib\\_parallel_backends.py\", line 208, in apply_async\n",
      "    result = ImmediateResult(func)\n",
      "  File \"C:\\Users\\pbeata\\anaconda3\\envs\\py3-TF2.0\\lib\\site-packages\\joblib\\_parallel_backends.py\", line 572, in __init__\n",
      "    self.results = batch()\n",
      "  File \"C:\\Users\\pbeata\\anaconda3\\envs\\py3-TF2.0\\lib\\site-packages\\joblib\\parallel.py\", line 262, in __call__\n",
      "    return [func(*args, **kwargs)\n",
      "  File \"C:\\Users\\pbeata\\anaconda3\\envs\\py3-TF2.0\\lib\\site-packages\\joblib\\parallel.py\", line 262, in <listcomp>\n",
      "    return [func(*args, **kwargs)\n",
      "  File \"C:\\Users\\pbeata\\anaconda3\\envs\\py3-TF2.0\\lib\\site-packages\\sklearn\\utils\\fixes.py\", line 222, in __call__\n",
      "    return self.function(*args, **kwargs)\n",
      "  File \"C:\\Users\\pbeata\\anaconda3\\envs\\py3-TF2.0\\lib\\site-packages\\sklearn\\ensemble\\_forest.py\", line 169, in _parallel_build_trees\n",
      "    tree.fit(X, y, sample_weight=curr_sample_weight, check_input=False)\n",
      "  File \"C:\\Users\\pbeata\\anaconda3\\envs\\py3-TF2.0\\lib\\site-packages\\sklearn\\tree\\_classes.py\", line 1247, in fit\n",
      "    super().fit(\n",
      "  File \"C:\\Users\\pbeata\\anaconda3\\envs\\py3-TF2.0\\lib\\site-packages\\sklearn\\tree\\_classes.py\", line 285, in fit\n",
      "    if max_depth <= 0:\n",
      "TypeError: '<=' not supported between instances of 'str' and 'int'\n",
      "\n",
      "  warnings.warn(\"Estimator fit failed. The score on this train-test\"\n",
      "C:\\Users\\pbeata\\anaconda3\\envs\\py3-TF2.0\\lib\\site-packages\\sklearn\\model_selection\\_validation.py:610: FitFailedWarning: Estimator fit failed. The score on this train-test partition for these parameters will be set to nan. Details: \n",
      "Traceback (most recent call last):\n",
      "  File \"C:\\Users\\pbeata\\anaconda3\\envs\\py3-TF2.0\\lib\\site-packages\\sklearn\\model_selection\\_validation.py\", line 593, in _fit_and_score\n",
      "    estimator.fit(X_train, y_train, **fit_params)\n",
      "  File \"C:\\Users\\pbeata\\anaconda3\\envs\\py3-TF2.0\\lib\\site-packages\\sklearn\\ensemble\\_forest.py\", line 387, in fit\n",
      "    trees = Parallel(n_jobs=self.n_jobs, verbose=self.verbose,\n",
      "  File \"C:\\Users\\pbeata\\anaconda3\\envs\\py3-TF2.0\\lib\\site-packages\\joblib\\parallel.py\", line 1041, in __call__\n",
      "    if self.dispatch_one_batch(iterator):\n",
      "  File \"C:\\Users\\pbeata\\anaconda3\\envs\\py3-TF2.0\\lib\\site-packages\\joblib\\parallel.py\", line 859, in dispatch_one_batch\n",
      "    self._dispatch(tasks)\n",
      "  File \"C:\\Users\\pbeata\\anaconda3\\envs\\py3-TF2.0\\lib\\site-packages\\joblib\\parallel.py\", line 777, in _dispatch\n",
      "    job = self._backend.apply_async(batch, callback=cb)\n",
      "  File \"C:\\Users\\pbeata\\anaconda3\\envs\\py3-TF2.0\\lib\\site-packages\\joblib\\_parallel_backends.py\", line 208, in apply_async\n",
      "    result = ImmediateResult(func)\n",
      "  File \"C:\\Users\\pbeata\\anaconda3\\envs\\py3-TF2.0\\lib\\site-packages\\joblib\\_parallel_backends.py\", line 572, in __init__\n",
      "    self.results = batch()\n",
      "  File \"C:\\Users\\pbeata\\anaconda3\\envs\\py3-TF2.0\\lib\\site-packages\\joblib\\parallel.py\", line 262, in __call__\n",
      "    return [func(*args, **kwargs)\n",
      "  File \"C:\\Users\\pbeata\\anaconda3\\envs\\py3-TF2.0\\lib\\site-packages\\joblib\\parallel.py\", line 262, in <listcomp>\n",
      "    return [func(*args, **kwargs)\n",
      "  File \"C:\\Users\\pbeata\\anaconda3\\envs\\py3-TF2.0\\lib\\site-packages\\sklearn\\utils\\fixes.py\", line 222, in __call__\n",
      "    return self.function(*args, **kwargs)\n",
      "  File \"C:\\Users\\pbeata\\anaconda3\\envs\\py3-TF2.0\\lib\\site-packages\\sklearn\\ensemble\\_forest.py\", line 169, in _parallel_build_trees\n",
      "    tree.fit(X, y, sample_weight=curr_sample_weight, check_input=False)\n",
      "  File \"C:\\Users\\pbeata\\anaconda3\\envs\\py3-TF2.0\\lib\\site-packages\\sklearn\\tree\\_classes.py\", line 1247, in fit\n",
      "    super().fit(\n",
      "  File \"C:\\Users\\pbeata\\anaconda3\\envs\\py3-TF2.0\\lib\\site-packages\\sklearn\\tree\\_classes.py\", line 285, in fit\n",
      "    if max_depth <= 0:\n",
      "TypeError: '<=' not supported between instances of 'str' and 'int'\n",
      "\n",
      "  warnings.warn(\"Estimator fit failed. The score on this train-test\"\n",
      "C:\\Users\\pbeata\\anaconda3\\envs\\py3-TF2.0\\lib\\site-packages\\sklearn\\model_selection\\_validation.py:610: FitFailedWarning: Estimator fit failed. The score on this train-test partition for these parameters will be set to nan. Details: \n",
      "Traceback (most recent call last):\n",
      "  File \"C:\\Users\\pbeata\\anaconda3\\envs\\py3-TF2.0\\lib\\site-packages\\sklearn\\model_selection\\_validation.py\", line 593, in _fit_and_score\n",
      "    estimator.fit(X_train, y_train, **fit_params)\n",
      "  File \"C:\\Users\\pbeata\\anaconda3\\envs\\py3-TF2.0\\lib\\site-packages\\sklearn\\ensemble\\_forest.py\", line 387, in fit\n",
      "    trees = Parallel(n_jobs=self.n_jobs, verbose=self.verbose,\n",
      "  File \"C:\\Users\\pbeata\\anaconda3\\envs\\py3-TF2.0\\lib\\site-packages\\joblib\\parallel.py\", line 1041, in __call__\n",
      "    if self.dispatch_one_batch(iterator):\n",
      "  File \"C:\\Users\\pbeata\\anaconda3\\envs\\py3-TF2.0\\lib\\site-packages\\joblib\\parallel.py\", line 859, in dispatch_one_batch\n",
      "    self._dispatch(tasks)\n",
      "  File \"C:\\Users\\pbeata\\anaconda3\\envs\\py3-TF2.0\\lib\\site-packages\\joblib\\parallel.py\", line 777, in _dispatch\n",
      "    job = self._backend.apply_async(batch, callback=cb)\n",
      "  File \"C:\\Users\\pbeata\\anaconda3\\envs\\py3-TF2.0\\lib\\site-packages\\joblib\\_parallel_backends.py\", line 208, in apply_async\n",
      "    result = ImmediateResult(func)\n",
      "  File \"C:\\Users\\pbeata\\anaconda3\\envs\\py3-TF2.0\\lib\\site-packages\\joblib\\_parallel_backends.py\", line 572, in __init__\n",
      "    self.results = batch()\n",
      "  File \"C:\\Users\\pbeata\\anaconda3\\envs\\py3-TF2.0\\lib\\site-packages\\joblib\\parallel.py\", line 262, in __call__\n",
      "    return [func(*args, **kwargs)\n",
      "  File \"C:\\Users\\pbeata\\anaconda3\\envs\\py3-TF2.0\\lib\\site-packages\\joblib\\parallel.py\", line 262, in <listcomp>\n",
      "    return [func(*args, **kwargs)\n",
      "  File \"C:\\Users\\pbeata\\anaconda3\\envs\\py3-TF2.0\\lib\\site-packages\\sklearn\\utils\\fixes.py\", line 222, in __call__\n",
      "    return self.function(*args, **kwargs)\n",
      "  File \"C:\\Users\\pbeata\\anaconda3\\envs\\py3-TF2.0\\lib\\site-packages\\sklearn\\ensemble\\_forest.py\", line 169, in _parallel_build_trees\n",
      "    tree.fit(X, y, sample_weight=curr_sample_weight, check_input=False)\n",
      "  File \"C:\\Users\\pbeata\\anaconda3\\envs\\py3-TF2.0\\lib\\site-packages\\sklearn\\tree\\_classes.py\", line 1247, in fit\n",
      "    super().fit(\n",
      "  File \"C:\\Users\\pbeata\\anaconda3\\envs\\py3-TF2.0\\lib\\site-packages\\sklearn\\tree\\_classes.py\", line 285, in fit\n",
      "    if max_depth <= 0:\n",
      "TypeError: '<=' not supported between instances of 'str' and 'int'\n",
      "\n",
      "  warnings.warn(\"Estimator fit failed. The score on this train-test\"\n",
      "C:\\Users\\pbeata\\anaconda3\\envs\\py3-TF2.0\\lib\\site-packages\\sklearn\\model_selection\\_validation.py:610: FitFailedWarning: Estimator fit failed. The score on this train-test partition for these parameters will be set to nan. Details: \n",
      "Traceback (most recent call last):\n",
      "  File \"C:\\Users\\pbeata\\anaconda3\\envs\\py3-TF2.0\\lib\\site-packages\\sklearn\\model_selection\\_validation.py\", line 593, in _fit_and_score\n",
      "    estimator.fit(X_train, y_train, **fit_params)\n",
      "  File \"C:\\Users\\pbeata\\anaconda3\\envs\\py3-TF2.0\\lib\\site-packages\\sklearn\\ensemble\\_forest.py\", line 387, in fit\n",
      "    trees = Parallel(n_jobs=self.n_jobs, verbose=self.verbose,\n",
      "  File \"C:\\Users\\pbeata\\anaconda3\\envs\\py3-TF2.0\\lib\\site-packages\\joblib\\parallel.py\", line 1041, in __call__\n",
      "    if self.dispatch_one_batch(iterator):\n",
      "  File \"C:\\Users\\pbeata\\anaconda3\\envs\\py3-TF2.0\\lib\\site-packages\\joblib\\parallel.py\", line 859, in dispatch_one_batch\n",
      "    self._dispatch(tasks)\n",
      "  File \"C:\\Users\\pbeata\\anaconda3\\envs\\py3-TF2.0\\lib\\site-packages\\joblib\\parallel.py\", line 777, in _dispatch\n",
      "    job = self._backend.apply_async(batch, callback=cb)\n",
      "  File \"C:\\Users\\pbeata\\anaconda3\\envs\\py3-TF2.0\\lib\\site-packages\\joblib\\_parallel_backends.py\", line 208, in apply_async\n",
      "    result = ImmediateResult(func)\n",
      "  File \"C:\\Users\\pbeata\\anaconda3\\envs\\py3-TF2.0\\lib\\site-packages\\joblib\\_parallel_backends.py\", line 572, in __init__\n",
      "    self.results = batch()\n",
      "  File \"C:\\Users\\pbeata\\anaconda3\\envs\\py3-TF2.0\\lib\\site-packages\\joblib\\parallel.py\", line 262, in __call__\n",
      "    return [func(*args, **kwargs)\n",
      "  File \"C:\\Users\\pbeata\\anaconda3\\envs\\py3-TF2.0\\lib\\site-packages\\joblib\\parallel.py\", line 262, in <listcomp>\n",
      "    return [func(*args, **kwargs)\n",
      "  File \"C:\\Users\\pbeata\\anaconda3\\envs\\py3-TF2.0\\lib\\site-packages\\sklearn\\utils\\fixes.py\", line 222, in __call__\n",
      "    return self.function(*args, **kwargs)\n",
      "  File \"C:\\Users\\pbeata\\anaconda3\\envs\\py3-TF2.0\\lib\\site-packages\\sklearn\\ensemble\\_forest.py\", line 169, in _parallel_build_trees\n",
      "    tree.fit(X, y, sample_weight=curr_sample_weight, check_input=False)\n",
      "  File \"C:\\Users\\pbeata\\anaconda3\\envs\\py3-TF2.0\\lib\\site-packages\\sklearn\\tree\\_classes.py\", line 1247, in fit\n",
      "    super().fit(\n",
      "  File \"C:\\Users\\pbeata\\anaconda3\\envs\\py3-TF2.0\\lib\\site-packages\\sklearn\\tree\\_classes.py\", line 285, in fit\n",
      "    if max_depth <= 0:\n",
      "TypeError: '<=' not supported between instances of 'str' and 'int'\n",
      "\n",
      "  warnings.warn(\"Estimator fit failed. The score on this train-test\"\n",
      "C:\\Users\\pbeata\\anaconda3\\envs\\py3-TF2.0\\lib\\site-packages\\sklearn\\model_selection\\_validation.py:610: FitFailedWarning: Estimator fit failed. The score on this train-test partition for these parameters will be set to nan. Details: \n",
      "Traceback (most recent call last):\n",
      "  File \"C:\\Users\\pbeata\\anaconda3\\envs\\py3-TF2.0\\lib\\site-packages\\sklearn\\model_selection\\_validation.py\", line 593, in _fit_and_score\n",
      "    estimator.fit(X_train, y_train, **fit_params)\n",
      "  File \"C:\\Users\\pbeata\\anaconda3\\envs\\py3-TF2.0\\lib\\site-packages\\sklearn\\ensemble\\_forest.py\", line 387, in fit\n",
      "    trees = Parallel(n_jobs=self.n_jobs, verbose=self.verbose,\n",
      "  File \"C:\\Users\\pbeata\\anaconda3\\envs\\py3-TF2.0\\lib\\site-packages\\joblib\\parallel.py\", line 1041, in __call__\n",
      "    if self.dispatch_one_batch(iterator):\n",
      "  File \"C:\\Users\\pbeata\\anaconda3\\envs\\py3-TF2.0\\lib\\site-packages\\joblib\\parallel.py\", line 859, in dispatch_one_batch\n",
      "    self._dispatch(tasks)\n",
      "  File \"C:\\Users\\pbeata\\anaconda3\\envs\\py3-TF2.0\\lib\\site-packages\\joblib\\parallel.py\", line 777, in _dispatch\n",
      "    job = self._backend.apply_async(batch, callback=cb)\n",
      "  File \"C:\\Users\\pbeata\\anaconda3\\envs\\py3-TF2.0\\lib\\site-packages\\joblib\\_parallel_backends.py\", line 208, in apply_async\n",
      "    result = ImmediateResult(func)\n",
      "  File \"C:\\Users\\pbeata\\anaconda3\\envs\\py3-TF2.0\\lib\\site-packages\\joblib\\_parallel_backends.py\", line 572, in __init__\n",
      "    self.results = batch()\n",
      "  File \"C:\\Users\\pbeata\\anaconda3\\envs\\py3-TF2.0\\lib\\site-packages\\joblib\\parallel.py\", line 262, in __call__\n",
      "    return [func(*args, **kwargs)\n",
      "  File \"C:\\Users\\pbeata\\anaconda3\\envs\\py3-TF2.0\\lib\\site-packages\\joblib\\parallel.py\", line 262, in <listcomp>\n",
      "    return [func(*args, **kwargs)\n",
      "  File \"C:\\Users\\pbeata\\anaconda3\\envs\\py3-TF2.0\\lib\\site-packages\\sklearn\\utils\\fixes.py\", line 222, in __call__\n",
      "    return self.function(*args, **kwargs)\n",
      "  File \"C:\\Users\\pbeata\\anaconda3\\envs\\py3-TF2.0\\lib\\site-packages\\sklearn\\ensemble\\_forest.py\", line 169, in _parallel_build_trees\n",
      "    tree.fit(X, y, sample_weight=curr_sample_weight, check_input=False)\n",
      "  File \"C:\\Users\\pbeata\\anaconda3\\envs\\py3-TF2.0\\lib\\site-packages\\sklearn\\tree\\_classes.py\", line 1247, in fit\n",
      "    super().fit(\n",
      "  File \"C:\\Users\\pbeata\\anaconda3\\envs\\py3-TF2.0\\lib\\site-packages\\sklearn\\tree\\_classes.py\", line 285, in fit\n",
      "    if max_depth <= 0:\n",
      "TypeError: '<=' not supported between instances of 'str' and 'int'\n",
      "\n",
      "  warnings.warn(\"Estimator fit failed. The score on this train-test\"\n",
      "C:\\Users\\pbeata\\anaconda3\\envs\\py3-TF2.0\\lib\\site-packages\\sklearn\\model_selection\\_validation.py:610: FitFailedWarning: Estimator fit failed. The score on this train-test partition for these parameters will be set to nan. Details: \n",
      "Traceback (most recent call last):\n",
      "  File \"C:\\Users\\pbeata\\anaconda3\\envs\\py3-TF2.0\\lib\\site-packages\\sklearn\\model_selection\\_validation.py\", line 593, in _fit_and_score\n",
      "    estimator.fit(X_train, y_train, **fit_params)\n",
      "  File \"C:\\Users\\pbeata\\anaconda3\\envs\\py3-TF2.0\\lib\\site-packages\\sklearn\\ensemble\\_forest.py\", line 387, in fit\n",
      "    trees = Parallel(n_jobs=self.n_jobs, verbose=self.verbose,\n",
      "  File \"C:\\Users\\pbeata\\anaconda3\\envs\\py3-TF2.0\\lib\\site-packages\\joblib\\parallel.py\", line 1041, in __call__\n",
      "    if self.dispatch_one_batch(iterator):\n",
      "  File \"C:\\Users\\pbeata\\anaconda3\\envs\\py3-TF2.0\\lib\\site-packages\\joblib\\parallel.py\", line 859, in dispatch_one_batch\n",
      "    self._dispatch(tasks)\n",
      "  File \"C:\\Users\\pbeata\\anaconda3\\envs\\py3-TF2.0\\lib\\site-packages\\joblib\\parallel.py\", line 777, in _dispatch\n",
      "    job = self._backend.apply_async(batch, callback=cb)\n",
      "  File \"C:\\Users\\pbeata\\anaconda3\\envs\\py3-TF2.0\\lib\\site-packages\\joblib\\_parallel_backends.py\", line 208, in apply_async\n",
      "    result = ImmediateResult(func)\n",
      "  File \"C:\\Users\\pbeata\\anaconda3\\envs\\py3-TF2.0\\lib\\site-packages\\joblib\\_parallel_backends.py\", line 572, in __init__\n",
      "    self.results = batch()\n",
      "  File \"C:\\Users\\pbeata\\anaconda3\\envs\\py3-TF2.0\\lib\\site-packages\\joblib\\parallel.py\", line 262, in __call__\n",
      "    return [func(*args, **kwargs)\n",
      "  File \"C:\\Users\\pbeata\\anaconda3\\envs\\py3-TF2.0\\lib\\site-packages\\joblib\\parallel.py\", line 262, in <listcomp>\n",
      "    return [func(*args, **kwargs)\n",
      "  File \"C:\\Users\\pbeata\\anaconda3\\envs\\py3-TF2.0\\lib\\site-packages\\sklearn\\utils\\fixes.py\", line 222, in __call__\n",
      "    return self.function(*args, **kwargs)\n",
      "  File \"C:\\Users\\pbeata\\anaconda3\\envs\\py3-TF2.0\\lib\\site-packages\\sklearn\\ensemble\\_forest.py\", line 169, in _parallel_build_trees\n",
      "    tree.fit(X, y, sample_weight=curr_sample_weight, check_input=False)\n",
      "  File \"C:\\Users\\pbeata\\anaconda3\\envs\\py3-TF2.0\\lib\\site-packages\\sklearn\\tree\\_classes.py\", line 1247, in fit\n",
      "    super().fit(\n",
      "  File \"C:\\Users\\pbeata\\anaconda3\\envs\\py3-TF2.0\\lib\\site-packages\\sklearn\\tree\\_classes.py\", line 285, in fit\n",
      "    if max_depth <= 0:\n",
      "TypeError: '<=' not supported between instances of 'str' and 'int'\n",
      "\n",
      "  warnings.warn(\"Estimator fit failed. The score on this train-test\"\n",
      "C:\\Users\\pbeata\\anaconda3\\envs\\py3-TF2.0\\lib\\site-packages\\sklearn\\model_selection\\_validation.py:610: FitFailedWarning: Estimator fit failed. The score on this train-test partition for these parameters will be set to nan. Details: \n",
      "Traceback (most recent call last):\n",
      "  File \"C:\\Users\\pbeata\\anaconda3\\envs\\py3-TF2.0\\lib\\site-packages\\sklearn\\model_selection\\_validation.py\", line 593, in _fit_and_score\n",
      "    estimator.fit(X_train, y_train, **fit_params)\n",
      "  File \"C:\\Users\\pbeata\\anaconda3\\envs\\py3-TF2.0\\lib\\site-packages\\sklearn\\ensemble\\_forest.py\", line 387, in fit\n",
      "    trees = Parallel(n_jobs=self.n_jobs, verbose=self.verbose,\n",
      "  File \"C:\\Users\\pbeata\\anaconda3\\envs\\py3-TF2.0\\lib\\site-packages\\joblib\\parallel.py\", line 1041, in __call__\n",
      "    if self.dispatch_one_batch(iterator):\n",
      "  File \"C:\\Users\\pbeata\\anaconda3\\envs\\py3-TF2.0\\lib\\site-packages\\joblib\\parallel.py\", line 859, in dispatch_one_batch\n",
      "    self._dispatch(tasks)\n",
      "  File \"C:\\Users\\pbeata\\anaconda3\\envs\\py3-TF2.0\\lib\\site-packages\\joblib\\parallel.py\", line 777, in _dispatch\n",
      "    job = self._backend.apply_async(batch, callback=cb)\n",
      "  File \"C:\\Users\\pbeata\\anaconda3\\envs\\py3-TF2.0\\lib\\site-packages\\joblib\\_parallel_backends.py\", line 208, in apply_async\n",
      "    result = ImmediateResult(func)\n",
      "  File \"C:\\Users\\pbeata\\anaconda3\\envs\\py3-TF2.0\\lib\\site-packages\\joblib\\_parallel_backends.py\", line 572, in __init__\n",
      "    self.results = batch()\n",
      "  File \"C:\\Users\\pbeata\\anaconda3\\envs\\py3-TF2.0\\lib\\site-packages\\joblib\\parallel.py\", line 262, in __call__\n",
      "    return [func(*args, **kwargs)\n",
      "  File \"C:\\Users\\pbeata\\anaconda3\\envs\\py3-TF2.0\\lib\\site-packages\\joblib\\parallel.py\", line 262, in <listcomp>\n",
      "    return [func(*args, **kwargs)\n",
      "  File \"C:\\Users\\pbeata\\anaconda3\\envs\\py3-TF2.0\\lib\\site-packages\\sklearn\\utils\\fixes.py\", line 222, in __call__\n",
      "    return self.function(*args, **kwargs)\n",
      "  File \"C:\\Users\\pbeata\\anaconda3\\envs\\py3-TF2.0\\lib\\site-packages\\sklearn\\ensemble\\_forest.py\", line 169, in _parallel_build_trees\n",
      "    tree.fit(X, y, sample_weight=curr_sample_weight, check_input=False)\n",
      "  File \"C:\\Users\\pbeata\\anaconda3\\envs\\py3-TF2.0\\lib\\site-packages\\sklearn\\tree\\_classes.py\", line 1247, in fit\n",
      "    super().fit(\n",
      "  File \"C:\\Users\\pbeata\\anaconda3\\envs\\py3-TF2.0\\lib\\site-packages\\sklearn\\tree\\_classes.py\", line 285, in fit\n",
      "    if max_depth <= 0:\n",
      "TypeError: '<=' not supported between instances of 'str' and 'int'\n",
      "\n",
      "  warnings.warn(\"Estimator fit failed. The score on this train-test\"\n"
     ]
    },
    {
     "name": "stdout",
     "output_type": "stream",
     "text": [
      "[CV] END max_depth=None, max_features=log2, n_estimators=200; total time=   0.0s\n",
      "[CV] END max_depth=None, max_features=log2, n_estimators=200; total time=   0.0s\n",
      "[CV] END max_depth=None, max_features=log2, n_estimators=200; total time=   0.0s\n",
      "[CV] END ...max_depth=None, max_features=16, n_estimators=50; total time=   0.0s\n",
      "[CV] END ...max_depth=None, max_features=16, n_estimators=50; total time=   0.0s\n",
      "[CV] END ...max_depth=None, max_features=16, n_estimators=50; total time=   0.0s\n",
      "[CV] END ...max_depth=None, max_features=16, n_estimators=50; total time=   0.0s\n"
     ]
    },
    {
     "name": "stderr",
     "output_type": "stream",
     "text": [
      "C:\\Users\\pbeata\\anaconda3\\envs\\py3-TF2.0\\lib\\site-packages\\sklearn\\model_selection\\_validation.py:610: FitFailedWarning: Estimator fit failed. The score on this train-test partition for these parameters will be set to nan. Details: \n",
      "Traceback (most recent call last):\n",
      "  File \"C:\\Users\\pbeata\\anaconda3\\envs\\py3-TF2.0\\lib\\site-packages\\sklearn\\model_selection\\_validation.py\", line 593, in _fit_and_score\n",
      "    estimator.fit(X_train, y_train, **fit_params)\n",
      "  File \"C:\\Users\\pbeata\\anaconda3\\envs\\py3-TF2.0\\lib\\site-packages\\sklearn\\ensemble\\_forest.py\", line 387, in fit\n",
      "    trees = Parallel(n_jobs=self.n_jobs, verbose=self.verbose,\n",
      "  File \"C:\\Users\\pbeata\\anaconda3\\envs\\py3-TF2.0\\lib\\site-packages\\joblib\\parallel.py\", line 1041, in __call__\n",
      "    if self.dispatch_one_batch(iterator):\n",
      "  File \"C:\\Users\\pbeata\\anaconda3\\envs\\py3-TF2.0\\lib\\site-packages\\joblib\\parallel.py\", line 859, in dispatch_one_batch\n",
      "    self._dispatch(tasks)\n",
      "  File \"C:\\Users\\pbeata\\anaconda3\\envs\\py3-TF2.0\\lib\\site-packages\\joblib\\parallel.py\", line 777, in _dispatch\n",
      "    job = self._backend.apply_async(batch, callback=cb)\n",
      "  File \"C:\\Users\\pbeata\\anaconda3\\envs\\py3-TF2.0\\lib\\site-packages\\joblib\\_parallel_backends.py\", line 208, in apply_async\n",
      "    result = ImmediateResult(func)\n",
      "  File \"C:\\Users\\pbeata\\anaconda3\\envs\\py3-TF2.0\\lib\\site-packages\\joblib\\_parallel_backends.py\", line 572, in __init__\n",
      "    self.results = batch()\n",
      "  File \"C:\\Users\\pbeata\\anaconda3\\envs\\py3-TF2.0\\lib\\site-packages\\joblib\\parallel.py\", line 262, in __call__\n",
      "    return [func(*args, **kwargs)\n",
      "  File \"C:\\Users\\pbeata\\anaconda3\\envs\\py3-TF2.0\\lib\\site-packages\\joblib\\parallel.py\", line 262, in <listcomp>\n",
      "    return [func(*args, **kwargs)\n",
      "  File \"C:\\Users\\pbeata\\anaconda3\\envs\\py3-TF2.0\\lib\\site-packages\\sklearn\\utils\\fixes.py\", line 222, in __call__\n",
      "    return self.function(*args, **kwargs)\n",
      "  File \"C:\\Users\\pbeata\\anaconda3\\envs\\py3-TF2.0\\lib\\site-packages\\sklearn\\ensemble\\_forest.py\", line 169, in _parallel_build_trees\n",
      "    tree.fit(X, y, sample_weight=curr_sample_weight, check_input=False)\n",
      "  File \"C:\\Users\\pbeata\\anaconda3\\envs\\py3-TF2.0\\lib\\site-packages\\sklearn\\tree\\_classes.py\", line 1247, in fit\n",
      "    super().fit(\n",
      "  File \"C:\\Users\\pbeata\\anaconda3\\envs\\py3-TF2.0\\lib\\site-packages\\sklearn\\tree\\_classes.py\", line 285, in fit\n",
      "    if max_depth <= 0:\n",
      "TypeError: '<=' not supported between instances of 'str' and 'int'\n",
      "\n",
      "  warnings.warn(\"Estimator fit failed. The score on this train-test\"\n",
      "C:\\Users\\pbeata\\anaconda3\\envs\\py3-TF2.0\\lib\\site-packages\\sklearn\\model_selection\\_validation.py:610: FitFailedWarning: Estimator fit failed. The score on this train-test partition for these parameters will be set to nan. Details: \n",
      "Traceback (most recent call last):\n",
      "  File \"C:\\Users\\pbeata\\anaconda3\\envs\\py3-TF2.0\\lib\\site-packages\\sklearn\\model_selection\\_validation.py\", line 593, in _fit_and_score\n",
      "    estimator.fit(X_train, y_train, **fit_params)\n",
      "  File \"C:\\Users\\pbeata\\anaconda3\\envs\\py3-TF2.0\\lib\\site-packages\\sklearn\\ensemble\\_forest.py\", line 387, in fit\n",
      "    trees = Parallel(n_jobs=self.n_jobs, verbose=self.verbose,\n",
      "  File \"C:\\Users\\pbeata\\anaconda3\\envs\\py3-TF2.0\\lib\\site-packages\\joblib\\parallel.py\", line 1041, in __call__\n",
      "    if self.dispatch_one_batch(iterator):\n",
      "  File \"C:\\Users\\pbeata\\anaconda3\\envs\\py3-TF2.0\\lib\\site-packages\\joblib\\parallel.py\", line 859, in dispatch_one_batch\n",
      "    self._dispatch(tasks)\n",
      "  File \"C:\\Users\\pbeata\\anaconda3\\envs\\py3-TF2.0\\lib\\site-packages\\joblib\\parallel.py\", line 777, in _dispatch\n",
      "    job = self._backend.apply_async(batch, callback=cb)\n",
      "  File \"C:\\Users\\pbeata\\anaconda3\\envs\\py3-TF2.0\\lib\\site-packages\\joblib\\_parallel_backends.py\", line 208, in apply_async\n",
      "    result = ImmediateResult(func)\n",
      "  File \"C:\\Users\\pbeata\\anaconda3\\envs\\py3-TF2.0\\lib\\site-packages\\joblib\\_parallel_backends.py\", line 572, in __init__\n",
      "    self.results = batch()\n",
      "  File \"C:\\Users\\pbeata\\anaconda3\\envs\\py3-TF2.0\\lib\\site-packages\\joblib\\parallel.py\", line 262, in __call__\n",
      "    return [func(*args, **kwargs)\n",
      "  File \"C:\\Users\\pbeata\\anaconda3\\envs\\py3-TF2.0\\lib\\site-packages\\joblib\\parallel.py\", line 262, in <listcomp>\n",
      "    return [func(*args, **kwargs)\n",
      "  File \"C:\\Users\\pbeata\\anaconda3\\envs\\py3-TF2.0\\lib\\site-packages\\sklearn\\utils\\fixes.py\", line 222, in __call__\n",
      "    return self.function(*args, **kwargs)\n",
      "  File \"C:\\Users\\pbeata\\anaconda3\\envs\\py3-TF2.0\\lib\\site-packages\\sklearn\\ensemble\\_forest.py\", line 169, in _parallel_build_trees\n",
      "    tree.fit(X, y, sample_weight=curr_sample_weight, check_input=False)\n",
      "  File \"C:\\Users\\pbeata\\anaconda3\\envs\\py3-TF2.0\\lib\\site-packages\\sklearn\\tree\\_classes.py\", line 1247, in fit\n",
      "    super().fit(\n",
      "  File \"C:\\Users\\pbeata\\anaconda3\\envs\\py3-TF2.0\\lib\\site-packages\\sklearn\\tree\\_classes.py\", line 285, in fit\n",
      "    if max_depth <= 0:\n",
      "TypeError: '<=' not supported between instances of 'str' and 'int'\n",
      "\n",
      "  warnings.warn(\"Estimator fit failed. The score on this train-test\"\n",
      "C:\\Users\\pbeata\\anaconda3\\envs\\py3-TF2.0\\lib\\site-packages\\sklearn\\model_selection\\_validation.py:610: FitFailedWarning: Estimator fit failed. The score on this train-test partition for these parameters will be set to nan. Details: \n",
      "Traceback (most recent call last):\n",
      "  File \"C:\\Users\\pbeata\\anaconda3\\envs\\py3-TF2.0\\lib\\site-packages\\sklearn\\model_selection\\_validation.py\", line 593, in _fit_and_score\n",
      "    estimator.fit(X_train, y_train, **fit_params)\n",
      "  File \"C:\\Users\\pbeata\\anaconda3\\envs\\py3-TF2.0\\lib\\site-packages\\sklearn\\ensemble\\_forest.py\", line 387, in fit\n",
      "    trees = Parallel(n_jobs=self.n_jobs, verbose=self.verbose,\n",
      "  File \"C:\\Users\\pbeata\\anaconda3\\envs\\py3-TF2.0\\lib\\site-packages\\joblib\\parallel.py\", line 1041, in __call__\n",
      "    if self.dispatch_one_batch(iterator):\n",
      "  File \"C:\\Users\\pbeata\\anaconda3\\envs\\py3-TF2.0\\lib\\site-packages\\joblib\\parallel.py\", line 859, in dispatch_one_batch\n",
      "    self._dispatch(tasks)\n",
      "  File \"C:\\Users\\pbeata\\anaconda3\\envs\\py3-TF2.0\\lib\\site-packages\\joblib\\parallel.py\", line 777, in _dispatch\n",
      "    job = self._backend.apply_async(batch, callback=cb)\n",
      "  File \"C:\\Users\\pbeata\\anaconda3\\envs\\py3-TF2.0\\lib\\site-packages\\joblib\\_parallel_backends.py\", line 208, in apply_async\n",
      "    result = ImmediateResult(func)\n",
      "  File \"C:\\Users\\pbeata\\anaconda3\\envs\\py3-TF2.0\\lib\\site-packages\\joblib\\_parallel_backends.py\", line 572, in __init__\n",
      "    self.results = batch()\n",
      "  File \"C:\\Users\\pbeata\\anaconda3\\envs\\py3-TF2.0\\lib\\site-packages\\joblib\\parallel.py\", line 262, in __call__\n",
      "    return [func(*args, **kwargs)\n",
      "  File \"C:\\Users\\pbeata\\anaconda3\\envs\\py3-TF2.0\\lib\\site-packages\\joblib\\parallel.py\", line 262, in <listcomp>\n",
      "    return [func(*args, **kwargs)\n",
      "  File \"C:\\Users\\pbeata\\anaconda3\\envs\\py3-TF2.0\\lib\\site-packages\\sklearn\\utils\\fixes.py\", line 222, in __call__\n",
      "    return self.function(*args, **kwargs)\n",
      "  File \"C:\\Users\\pbeata\\anaconda3\\envs\\py3-TF2.0\\lib\\site-packages\\sklearn\\ensemble\\_forest.py\", line 169, in _parallel_build_trees\n",
      "    tree.fit(X, y, sample_weight=curr_sample_weight, check_input=False)\n",
      "  File \"C:\\Users\\pbeata\\anaconda3\\envs\\py3-TF2.0\\lib\\site-packages\\sklearn\\tree\\_classes.py\", line 1247, in fit\n",
      "    super().fit(\n",
      "  File \"C:\\Users\\pbeata\\anaconda3\\envs\\py3-TF2.0\\lib\\site-packages\\sklearn\\tree\\_classes.py\", line 285, in fit\n",
      "    if max_depth <= 0:\n",
      "TypeError: '<=' not supported between instances of 'str' and 'int'\n",
      "\n",
      "  warnings.warn(\"Estimator fit failed. The score on this train-test\"\n",
      "C:\\Users\\pbeata\\anaconda3\\envs\\py3-TF2.0\\lib\\site-packages\\sklearn\\model_selection\\_validation.py:610: FitFailedWarning: Estimator fit failed. The score on this train-test partition for these parameters will be set to nan. Details: \n",
      "Traceback (most recent call last):\n",
      "  File \"C:\\Users\\pbeata\\anaconda3\\envs\\py3-TF2.0\\lib\\site-packages\\sklearn\\model_selection\\_validation.py\", line 593, in _fit_and_score\n",
      "    estimator.fit(X_train, y_train, **fit_params)\n",
      "  File \"C:\\Users\\pbeata\\anaconda3\\envs\\py3-TF2.0\\lib\\site-packages\\sklearn\\ensemble\\_forest.py\", line 387, in fit\n",
      "    trees = Parallel(n_jobs=self.n_jobs, verbose=self.verbose,\n",
      "  File \"C:\\Users\\pbeata\\anaconda3\\envs\\py3-TF2.0\\lib\\site-packages\\joblib\\parallel.py\", line 1041, in __call__\n",
      "    if self.dispatch_one_batch(iterator):\n",
      "  File \"C:\\Users\\pbeata\\anaconda3\\envs\\py3-TF2.0\\lib\\site-packages\\joblib\\parallel.py\", line 859, in dispatch_one_batch\n",
      "    self._dispatch(tasks)\n",
      "  File \"C:\\Users\\pbeata\\anaconda3\\envs\\py3-TF2.0\\lib\\site-packages\\joblib\\parallel.py\", line 777, in _dispatch\n",
      "    job = self._backend.apply_async(batch, callback=cb)\n",
      "  File \"C:\\Users\\pbeata\\anaconda3\\envs\\py3-TF2.0\\lib\\site-packages\\joblib\\_parallel_backends.py\", line 208, in apply_async\n",
      "    result = ImmediateResult(func)\n",
      "  File \"C:\\Users\\pbeata\\anaconda3\\envs\\py3-TF2.0\\lib\\site-packages\\joblib\\_parallel_backends.py\", line 572, in __init__\n",
      "    self.results = batch()\n",
      "  File \"C:\\Users\\pbeata\\anaconda3\\envs\\py3-TF2.0\\lib\\site-packages\\joblib\\parallel.py\", line 262, in __call__\n",
      "    return [func(*args, **kwargs)\n",
      "  File \"C:\\Users\\pbeata\\anaconda3\\envs\\py3-TF2.0\\lib\\site-packages\\joblib\\parallel.py\", line 262, in <listcomp>\n",
      "    return [func(*args, **kwargs)\n",
      "  File \"C:\\Users\\pbeata\\anaconda3\\envs\\py3-TF2.0\\lib\\site-packages\\sklearn\\utils\\fixes.py\", line 222, in __call__\n",
      "    return self.function(*args, **kwargs)\n",
      "  File \"C:\\Users\\pbeata\\anaconda3\\envs\\py3-TF2.0\\lib\\site-packages\\sklearn\\ensemble\\_forest.py\", line 169, in _parallel_build_trees\n",
      "    tree.fit(X, y, sample_weight=curr_sample_weight, check_input=False)\n",
      "  File \"C:\\Users\\pbeata\\anaconda3\\envs\\py3-TF2.0\\lib\\site-packages\\sklearn\\tree\\_classes.py\", line 1247, in fit\n",
      "    super().fit(\n",
      "  File \"C:\\Users\\pbeata\\anaconda3\\envs\\py3-TF2.0\\lib\\site-packages\\sklearn\\tree\\_classes.py\", line 285, in fit\n",
      "    if max_depth <= 0:\n",
      "TypeError: '<=' not supported between instances of 'str' and 'int'\n",
      "\n",
      "  warnings.warn(\"Estimator fit failed. The score on this train-test\"\n",
      "C:\\Users\\pbeata\\anaconda3\\envs\\py3-TF2.0\\lib\\site-packages\\sklearn\\model_selection\\_validation.py:610: FitFailedWarning: Estimator fit failed. The score on this train-test partition for these parameters will be set to nan. Details: \n",
      "Traceback (most recent call last):\n",
      "  File \"C:\\Users\\pbeata\\anaconda3\\envs\\py3-TF2.0\\lib\\site-packages\\sklearn\\model_selection\\_validation.py\", line 593, in _fit_and_score\n",
      "    estimator.fit(X_train, y_train, **fit_params)\n",
      "  File \"C:\\Users\\pbeata\\anaconda3\\envs\\py3-TF2.0\\lib\\site-packages\\sklearn\\ensemble\\_forest.py\", line 387, in fit\n",
      "    trees = Parallel(n_jobs=self.n_jobs, verbose=self.verbose,\n",
      "  File \"C:\\Users\\pbeata\\anaconda3\\envs\\py3-TF2.0\\lib\\site-packages\\joblib\\parallel.py\", line 1041, in __call__\n",
      "    if self.dispatch_one_batch(iterator):\n",
      "  File \"C:\\Users\\pbeata\\anaconda3\\envs\\py3-TF2.0\\lib\\site-packages\\joblib\\parallel.py\", line 859, in dispatch_one_batch\n",
      "    self._dispatch(tasks)\n",
      "  File \"C:\\Users\\pbeata\\anaconda3\\envs\\py3-TF2.0\\lib\\site-packages\\joblib\\parallel.py\", line 777, in _dispatch\n",
      "    job = self._backend.apply_async(batch, callback=cb)\n",
      "  File \"C:\\Users\\pbeata\\anaconda3\\envs\\py3-TF2.0\\lib\\site-packages\\joblib\\_parallel_backends.py\", line 208, in apply_async\n",
      "    result = ImmediateResult(func)\n",
      "  File \"C:\\Users\\pbeata\\anaconda3\\envs\\py3-TF2.0\\lib\\site-packages\\joblib\\_parallel_backends.py\", line 572, in __init__\n",
      "    self.results = batch()\n",
      "  File \"C:\\Users\\pbeata\\anaconda3\\envs\\py3-TF2.0\\lib\\site-packages\\joblib\\parallel.py\", line 262, in __call__\n",
      "    return [func(*args, **kwargs)\n",
      "  File \"C:\\Users\\pbeata\\anaconda3\\envs\\py3-TF2.0\\lib\\site-packages\\joblib\\parallel.py\", line 262, in <listcomp>\n",
      "    return [func(*args, **kwargs)\n",
      "  File \"C:\\Users\\pbeata\\anaconda3\\envs\\py3-TF2.0\\lib\\site-packages\\sklearn\\utils\\fixes.py\", line 222, in __call__\n",
      "    return self.function(*args, **kwargs)\n",
      "  File \"C:\\Users\\pbeata\\anaconda3\\envs\\py3-TF2.0\\lib\\site-packages\\sklearn\\ensemble\\_forest.py\", line 169, in _parallel_build_trees\n",
      "    tree.fit(X, y, sample_weight=curr_sample_weight, check_input=False)\n",
      "  File \"C:\\Users\\pbeata\\anaconda3\\envs\\py3-TF2.0\\lib\\site-packages\\sklearn\\tree\\_classes.py\", line 1247, in fit\n",
      "    super().fit(\n",
      "  File \"C:\\Users\\pbeata\\anaconda3\\envs\\py3-TF2.0\\lib\\site-packages\\sklearn\\tree\\_classes.py\", line 285, in fit\n",
      "    if max_depth <= 0:\n",
      "TypeError: '<=' not supported between instances of 'str' and 'int'\n",
      "\n",
      "  warnings.warn(\"Estimator fit failed. The score on this train-test\"\n",
      "C:\\Users\\pbeata\\anaconda3\\envs\\py3-TF2.0\\lib\\site-packages\\sklearn\\model_selection\\_validation.py:610: FitFailedWarning: Estimator fit failed. The score on this train-test partition for these parameters will be set to nan. Details: \n",
      "Traceback (most recent call last):\n",
      "  File \"C:\\Users\\pbeata\\anaconda3\\envs\\py3-TF2.0\\lib\\site-packages\\sklearn\\model_selection\\_validation.py\", line 593, in _fit_and_score\n",
      "    estimator.fit(X_train, y_train, **fit_params)\n",
      "  File \"C:\\Users\\pbeata\\anaconda3\\envs\\py3-TF2.0\\lib\\site-packages\\sklearn\\ensemble\\_forest.py\", line 387, in fit\n",
      "    trees = Parallel(n_jobs=self.n_jobs, verbose=self.verbose,\n",
      "  File \"C:\\Users\\pbeata\\anaconda3\\envs\\py3-TF2.0\\lib\\site-packages\\joblib\\parallel.py\", line 1041, in __call__\n",
      "    if self.dispatch_one_batch(iterator):\n",
      "  File \"C:\\Users\\pbeata\\anaconda3\\envs\\py3-TF2.0\\lib\\site-packages\\joblib\\parallel.py\", line 859, in dispatch_one_batch\n",
      "    self._dispatch(tasks)\n",
      "  File \"C:\\Users\\pbeata\\anaconda3\\envs\\py3-TF2.0\\lib\\site-packages\\joblib\\parallel.py\", line 777, in _dispatch\n",
      "    job = self._backend.apply_async(batch, callback=cb)\n",
      "  File \"C:\\Users\\pbeata\\anaconda3\\envs\\py3-TF2.0\\lib\\site-packages\\joblib\\_parallel_backends.py\", line 208, in apply_async\n",
      "    result = ImmediateResult(func)\n",
      "  File \"C:\\Users\\pbeata\\anaconda3\\envs\\py3-TF2.0\\lib\\site-packages\\joblib\\_parallel_backends.py\", line 572, in __init__\n",
      "    self.results = batch()\n",
      "  File \"C:\\Users\\pbeata\\anaconda3\\envs\\py3-TF2.0\\lib\\site-packages\\joblib\\parallel.py\", line 262, in __call__\n",
      "    return [func(*args, **kwargs)\n",
      "  File \"C:\\Users\\pbeata\\anaconda3\\envs\\py3-TF2.0\\lib\\site-packages\\joblib\\parallel.py\", line 262, in <listcomp>\n",
      "    return [func(*args, **kwargs)\n",
      "  File \"C:\\Users\\pbeata\\anaconda3\\envs\\py3-TF2.0\\lib\\site-packages\\sklearn\\utils\\fixes.py\", line 222, in __call__\n",
      "    return self.function(*args, **kwargs)\n",
      "  File \"C:\\Users\\pbeata\\anaconda3\\envs\\py3-TF2.0\\lib\\site-packages\\sklearn\\ensemble\\_forest.py\", line 169, in _parallel_build_trees\n",
      "    tree.fit(X, y, sample_weight=curr_sample_weight, check_input=False)\n",
      "  File \"C:\\Users\\pbeata\\anaconda3\\envs\\py3-TF2.0\\lib\\site-packages\\sklearn\\tree\\_classes.py\", line 1247, in fit\n",
      "    super().fit(\n",
      "  File \"C:\\Users\\pbeata\\anaconda3\\envs\\py3-TF2.0\\lib\\site-packages\\sklearn\\tree\\_classes.py\", line 285, in fit\n",
      "    if max_depth <= 0:\n",
      "TypeError: '<=' not supported between instances of 'str' and 'int'\n",
      "\n",
      "  warnings.warn(\"Estimator fit failed. The score on this train-test\"\n"
     ]
    },
    {
     "name": "stdout",
     "output_type": "stream",
     "text": [
      "[CV] END ...max_depth=None, max_features=16, n_estimators=50; total time=   0.0s\n",
      "[CV] END ..max_depth=None, max_features=16, n_estimators=100; total time=   0.0s\n",
      "[CV] END ..max_depth=None, max_features=16, n_estimators=100; total time=   0.0s\n",
      "[CV] END ..max_depth=None, max_features=16, n_estimators=100; total time=   0.0s\n",
      "[CV] END ..max_depth=None, max_features=16, n_estimators=100; total time=   0.0s\n",
      "[CV] END ..max_depth=None, max_features=16, n_estimators=100; total time=   0.0s\n"
     ]
    },
    {
     "name": "stderr",
     "output_type": "stream",
     "text": [
      "C:\\Users\\pbeata\\anaconda3\\envs\\py3-TF2.0\\lib\\site-packages\\sklearn\\model_selection\\_validation.py:610: FitFailedWarning: Estimator fit failed. The score on this train-test partition for these parameters will be set to nan. Details: \n",
      "Traceback (most recent call last):\n",
      "  File \"C:\\Users\\pbeata\\anaconda3\\envs\\py3-TF2.0\\lib\\site-packages\\sklearn\\model_selection\\_validation.py\", line 593, in _fit_and_score\n",
      "    estimator.fit(X_train, y_train, **fit_params)\n",
      "  File \"C:\\Users\\pbeata\\anaconda3\\envs\\py3-TF2.0\\lib\\site-packages\\sklearn\\ensemble\\_forest.py\", line 387, in fit\n",
      "    trees = Parallel(n_jobs=self.n_jobs, verbose=self.verbose,\n",
      "  File \"C:\\Users\\pbeata\\anaconda3\\envs\\py3-TF2.0\\lib\\site-packages\\joblib\\parallel.py\", line 1041, in __call__\n",
      "    if self.dispatch_one_batch(iterator):\n",
      "  File \"C:\\Users\\pbeata\\anaconda3\\envs\\py3-TF2.0\\lib\\site-packages\\joblib\\parallel.py\", line 859, in dispatch_one_batch\n",
      "    self._dispatch(tasks)\n",
      "  File \"C:\\Users\\pbeata\\anaconda3\\envs\\py3-TF2.0\\lib\\site-packages\\joblib\\parallel.py\", line 777, in _dispatch\n",
      "    job = self._backend.apply_async(batch, callback=cb)\n",
      "  File \"C:\\Users\\pbeata\\anaconda3\\envs\\py3-TF2.0\\lib\\site-packages\\joblib\\_parallel_backends.py\", line 208, in apply_async\n",
      "    result = ImmediateResult(func)\n",
      "  File \"C:\\Users\\pbeata\\anaconda3\\envs\\py3-TF2.0\\lib\\site-packages\\joblib\\_parallel_backends.py\", line 572, in __init__\n",
      "    self.results = batch()\n",
      "  File \"C:\\Users\\pbeata\\anaconda3\\envs\\py3-TF2.0\\lib\\site-packages\\joblib\\parallel.py\", line 262, in __call__\n",
      "    return [func(*args, **kwargs)\n",
      "  File \"C:\\Users\\pbeata\\anaconda3\\envs\\py3-TF2.0\\lib\\site-packages\\joblib\\parallel.py\", line 262, in <listcomp>\n",
      "    return [func(*args, **kwargs)\n",
      "  File \"C:\\Users\\pbeata\\anaconda3\\envs\\py3-TF2.0\\lib\\site-packages\\sklearn\\utils\\fixes.py\", line 222, in __call__\n",
      "    return self.function(*args, **kwargs)\n",
      "  File \"C:\\Users\\pbeata\\anaconda3\\envs\\py3-TF2.0\\lib\\site-packages\\sklearn\\ensemble\\_forest.py\", line 169, in _parallel_build_trees\n",
      "    tree.fit(X, y, sample_weight=curr_sample_weight, check_input=False)\n",
      "  File \"C:\\Users\\pbeata\\anaconda3\\envs\\py3-TF2.0\\lib\\site-packages\\sklearn\\tree\\_classes.py\", line 1247, in fit\n",
      "    super().fit(\n",
      "  File \"C:\\Users\\pbeata\\anaconda3\\envs\\py3-TF2.0\\lib\\site-packages\\sklearn\\tree\\_classes.py\", line 285, in fit\n",
      "    if max_depth <= 0:\n",
      "TypeError: '<=' not supported between instances of 'str' and 'int'\n",
      "\n",
      "  warnings.warn(\"Estimator fit failed. The score on this train-test\"\n",
      "C:\\Users\\pbeata\\anaconda3\\envs\\py3-TF2.0\\lib\\site-packages\\sklearn\\model_selection\\_validation.py:610: FitFailedWarning: Estimator fit failed. The score on this train-test partition for these parameters will be set to nan. Details: \n",
      "Traceback (most recent call last):\n",
      "  File \"C:\\Users\\pbeata\\anaconda3\\envs\\py3-TF2.0\\lib\\site-packages\\sklearn\\model_selection\\_validation.py\", line 593, in _fit_and_score\n",
      "    estimator.fit(X_train, y_train, **fit_params)\n",
      "  File \"C:\\Users\\pbeata\\anaconda3\\envs\\py3-TF2.0\\lib\\site-packages\\sklearn\\ensemble\\_forest.py\", line 387, in fit\n",
      "    trees = Parallel(n_jobs=self.n_jobs, verbose=self.verbose,\n",
      "  File \"C:\\Users\\pbeata\\anaconda3\\envs\\py3-TF2.0\\lib\\site-packages\\joblib\\parallel.py\", line 1041, in __call__\n",
      "    if self.dispatch_one_batch(iterator):\n",
      "  File \"C:\\Users\\pbeata\\anaconda3\\envs\\py3-TF2.0\\lib\\site-packages\\joblib\\parallel.py\", line 859, in dispatch_one_batch\n",
      "    self._dispatch(tasks)\n",
      "  File \"C:\\Users\\pbeata\\anaconda3\\envs\\py3-TF2.0\\lib\\site-packages\\joblib\\parallel.py\", line 777, in _dispatch\n",
      "    job = self._backend.apply_async(batch, callback=cb)\n",
      "  File \"C:\\Users\\pbeata\\anaconda3\\envs\\py3-TF2.0\\lib\\site-packages\\joblib\\_parallel_backends.py\", line 208, in apply_async\n",
      "    result = ImmediateResult(func)\n",
      "  File \"C:\\Users\\pbeata\\anaconda3\\envs\\py3-TF2.0\\lib\\site-packages\\joblib\\_parallel_backends.py\", line 572, in __init__\n",
      "    self.results = batch()\n",
      "  File \"C:\\Users\\pbeata\\anaconda3\\envs\\py3-TF2.0\\lib\\site-packages\\joblib\\parallel.py\", line 262, in __call__\n",
      "    return [func(*args, **kwargs)\n",
      "  File \"C:\\Users\\pbeata\\anaconda3\\envs\\py3-TF2.0\\lib\\site-packages\\joblib\\parallel.py\", line 262, in <listcomp>\n",
      "    return [func(*args, **kwargs)\n",
      "  File \"C:\\Users\\pbeata\\anaconda3\\envs\\py3-TF2.0\\lib\\site-packages\\sklearn\\utils\\fixes.py\", line 222, in __call__\n",
      "    return self.function(*args, **kwargs)\n",
      "  File \"C:\\Users\\pbeata\\anaconda3\\envs\\py3-TF2.0\\lib\\site-packages\\sklearn\\ensemble\\_forest.py\", line 169, in _parallel_build_trees\n",
      "    tree.fit(X, y, sample_weight=curr_sample_weight, check_input=False)\n",
      "  File \"C:\\Users\\pbeata\\anaconda3\\envs\\py3-TF2.0\\lib\\site-packages\\sklearn\\tree\\_classes.py\", line 1247, in fit\n",
      "    super().fit(\n",
      "  File \"C:\\Users\\pbeata\\anaconda3\\envs\\py3-TF2.0\\lib\\site-packages\\sklearn\\tree\\_classes.py\", line 285, in fit\n",
      "    if max_depth <= 0:\n",
      "TypeError: '<=' not supported between instances of 'str' and 'int'\n",
      "\n",
      "  warnings.warn(\"Estimator fit failed. The score on this train-test\"\n",
      "C:\\Users\\pbeata\\anaconda3\\envs\\py3-TF2.0\\lib\\site-packages\\sklearn\\model_selection\\_validation.py:610: FitFailedWarning: Estimator fit failed. The score on this train-test partition for these parameters will be set to nan. Details: \n",
      "Traceback (most recent call last):\n",
      "  File \"C:\\Users\\pbeata\\anaconda3\\envs\\py3-TF2.0\\lib\\site-packages\\sklearn\\model_selection\\_validation.py\", line 593, in _fit_and_score\n",
      "    estimator.fit(X_train, y_train, **fit_params)\n",
      "  File \"C:\\Users\\pbeata\\anaconda3\\envs\\py3-TF2.0\\lib\\site-packages\\sklearn\\ensemble\\_forest.py\", line 387, in fit\n",
      "    trees = Parallel(n_jobs=self.n_jobs, verbose=self.verbose,\n",
      "  File \"C:\\Users\\pbeata\\anaconda3\\envs\\py3-TF2.0\\lib\\site-packages\\joblib\\parallel.py\", line 1041, in __call__\n",
      "    if self.dispatch_one_batch(iterator):\n",
      "  File \"C:\\Users\\pbeata\\anaconda3\\envs\\py3-TF2.0\\lib\\site-packages\\joblib\\parallel.py\", line 859, in dispatch_one_batch\n",
      "    self._dispatch(tasks)\n",
      "  File \"C:\\Users\\pbeata\\anaconda3\\envs\\py3-TF2.0\\lib\\site-packages\\joblib\\parallel.py\", line 777, in _dispatch\n",
      "    job = self._backend.apply_async(batch, callback=cb)\n",
      "  File \"C:\\Users\\pbeata\\anaconda3\\envs\\py3-TF2.0\\lib\\site-packages\\joblib\\_parallel_backends.py\", line 208, in apply_async\n",
      "    result = ImmediateResult(func)\n",
      "  File \"C:\\Users\\pbeata\\anaconda3\\envs\\py3-TF2.0\\lib\\site-packages\\joblib\\_parallel_backends.py\", line 572, in __init__\n",
      "    self.results = batch()\n",
      "  File \"C:\\Users\\pbeata\\anaconda3\\envs\\py3-TF2.0\\lib\\site-packages\\joblib\\parallel.py\", line 262, in __call__\n",
      "    return [func(*args, **kwargs)\n",
      "  File \"C:\\Users\\pbeata\\anaconda3\\envs\\py3-TF2.0\\lib\\site-packages\\joblib\\parallel.py\", line 262, in <listcomp>\n",
      "    return [func(*args, **kwargs)\n",
      "  File \"C:\\Users\\pbeata\\anaconda3\\envs\\py3-TF2.0\\lib\\site-packages\\sklearn\\utils\\fixes.py\", line 222, in __call__\n",
      "    return self.function(*args, **kwargs)\n",
      "  File \"C:\\Users\\pbeata\\anaconda3\\envs\\py3-TF2.0\\lib\\site-packages\\sklearn\\ensemble\\_forest.py\", line 169, in _parallel_build_trees\n",
      "    tree.fit(X, y, sample_weight=curr_sample_weight, check_input=False)\n",
      "  File \"C:\\Users\\pbeata\\anaconda3\\envs\\py3-TF2.0\\lib\\site-packages\\sklearn\\tree\\_classes.py\", line 1247, in fit\n",
      "    super().fit(\n",
      "  File \"C:\\Users\\pbeata\\anaconda3\\envs\\py3-TF2.0\\lib\\site-packages\\sklearn\\tree\\_classes.py\", line 285, in fit\n",
      "    if max_depth <= 0:\n",
      "TypeError: '<=' not supported between instances of 'str' and 'int'\n",
      "\n",
      "  warnings.warn(\"Estimator fit failed. The score on this train-test\"\n",
      "C:\\Users\\pbeata\\anaconda3\\envs\\py3-TF2.0\\lib\\site-packages\\sklearn\\model_selection\\_validation.py:610: FitFailedWarning: Estimator fit failed. The score on this train-test partition for these parameters will be set to nan. Details: \n",
      "Traceback (most recent call last):\n",
      "  File \"C:\\Users\\pbeata\\anaconda3\\envs\\py3-TF2.0\\lib\\site-packages\\sklearn\\model_selection\\_validation.py\", line 593, in _fit_and_score\n",
      "    estimator.fit(X_train, y_train, **fit_params)\n",
      "  File \"C:\\Users\\pbeata\\anaconda3\\envs\\py3-TF2.0\\lib\\site-packages\\sklearn\\ensemble\\_forest.py\", line 387, in fit\n",
      "    trees = Parallel(n_jobs=self.n_jobs, verbose=self.verbose,\n",
      "  File \"C:\\Users\\pbeata\\anaconda3\\envs\\py3-TF2.0\\lib\\site-packages\\joblib\\parallel.py\", line 1041, in __call__\n",
      "    if self.dispatch_one_batch(iterator):\n",
      "  File \"C:\\Users\\pbeata\\anaconda3\\envs\\py3-TF2.0\\lib\\site-packages\\joblib\\parallel.py\", line 859, in dispatch_one_batch\n",
      "    self._dispatch(tasks)\n",
      "  File \"C:\\Users\\pbeata\\anaconda3\\envs\\py3-TF2.0\\lib\\site-packages\\joblib\\parallel.py\", line 777, in _dispatch\n",
      "    job = self._backend.apply_async(batch, callback=cb)\n",
      "  File \"C:\\Users\\pbeata\\anaconda3\\envs\\py3-TF2.0\\lib\\site-packages\\joblib\\_parallel_backends.py\", line 208, in apply_async\n",
      "    result = ImmediateResult(func)\n",
      "  File \"C:\\Users\\pbeata\\anaconda3\\envs\\py3-TF2.0\\lib\\site-packages\\joblib\\_parallel_backends.py\", line 572, in __init__\n",
      "    self.results = batch()\n",
      "  File \"C:\\Users\\pbeata\\anaconda3\\envs\\py3-TF2.0\\lib\\site-packages\\joblib\\parallel.py\", line 262, in __call__\n",
      "    return [func(*args, **kwargs)\n",
      "  File \"C:\\Users\\pbeata\\anaconda3\\envs\\py3-TF2.0\\lib\\site-packages\\joblib\\parallel.py\", line 262, in <listcomp>\n",
      "    return [func(*args, **kwargs)\n",
      "  File \"C:\\Users\\pbeata\\anaconda3\\envs\\py3-TF2.0\\lib\\site-packages\\sklearn\\utils\\fixes.py\", line 222, in __call__\n",
      "    return self.function(*args, **kwargs)\n",
      "  File \"C:\\Users\\pbeata\\anaconda3\\envs\\py3-TF2.0\\lib\\site-packages\\sklearn\\ensemble\\_forest.py\", line 169, in _parallel_build_trees\n",
      "    tree.fit(X, y, sample_weight=curr_sample_weight, check_input=False)\n",
      "  File \"C:\\Users\\pbeata\\anaconda3\\envs\\py3-TF2.0\\lib\\site-packages\\sklearn\\tree\\_classes.py\", line 1247, in fit\n",
      "    super().fit(\n",
      "  File \"C:\\Users\\pbeata\\anaconda3\\envs\\py3-TF2.0\\lib\\site-packages\\sklearn\\tree\\_classes.py\", line 285, in fit\n",
      "    if max_depth <= 0:\n",
      "TypeError: '<=' not supported between instances of 'str' and 'int'\n",
      "\n",
      "  warnings.warn(\"Estimator fit failed. The score on this train-test\"\n"
     ]
    },
    {
     "name": "stdout",
     "output_type": "stream",
     "text": [
      "[CV] END ..max_depth=None, max_features=16, n_estimators=200; total time=   0.0s\n",
      "[CV] END ..max_depth=None, max_features=16, n_estimators=200; total time=   0.0s\n",
      "[CV] END ..max_depth=None, max_features=16, n_estimators=200; total time=   0.0s\n",
      "[CV] END ..max_depth=None, max_features=16, n_estimators=200; total time=   0.0s\n"
     ]
    },
    {
     "name": "stderr",
     "output_type": "stream",
     "text": [
      "C:\\Users\\pbeata\\anaconda3\\envs\\py3-TF2.0\\lib\\site-packages\\sklearn\\model_selection\\_validation.py:610: FitFailedWarning: Estimator fit failed. The score on this train-test partition for these parameters will be set to nan. Details: \n",
      "Traceback (most recent call last):\n",
      "  File \"C:\\Users\\pbeata\\anaconda3\\envs\\py3-TF2.0\\lib\\site-packages\\sklearn\\model_selection\\_validation.py\", line 593, in _fit_and_score\n",
      "    estimator.fit(X_train, y_train, **fit_params)\n",
      "  File \"C:\\Users\\pbeata\\anaconda3\\envs\\py3-TF2.0\\lib\\site-packages\\sklearn\\ensemble\\_forest.py\", line 387, in fit\n",
      "    trees = Parallel(n_jobs=self.n_jobs, verbose=self.verbose,\n",
      "  File \"C:\\Users\\pbeata\\anaconda3\\envs\\py3-TF2.0\\lib\\site-packages\\joblib\\parallel.py\", line 1041, in __call__\n",
      "    if self.dispatch_one_batch(iterator):\n",
      "  File \"C:\\Users\\pbeata\\anaconda3\\envs\\py3-TF2.0\\lib\\site-packages\\joblib\\parallel.py\", line 859, in dispatch_one_batch\n",
      "    self._dispatch(tasks)\n",
      "  File \"C:\\Users\\pbeata\\anaconda3\\envs\\py3-TF2.0\\lib\\site-packages\\joblib\\parallel.py\", line 777, in _dispatch\n",
      "    job = self._backend.apply_async(batch, callback=cb)\n",
      "  File \"C:\\Users\\pbeata\\anaconda3\\envs\\py3-TF2.0\\lib\\site-packages\\joblib\\_parallel_backends.py\", line 208, in apply_async\n",
      "    result = ImmediateResult(func)\n",
      "  File \"C:\\Users\\pbeata\\anaconda3\\envs\\py3-TF2.0\\lib\\site-packages\\joblib\\_parallel_backends.py\", line 572, in __init__\n",
      "    self.results = batch()\n",
      "  File \"C:\\Users\\pbeata\\anaconda3\\envs\\py3-TF2.0\\lib\\site-packages\\joblib\\parallel.py\", line 262, in __call__\n",
      "    return [func(*args, **kwargs)\n",
      "  File \"C:\\Users\\pbeata\\anaconda3\\envs\\py3-TF2.0\\lib\\site-packages\\joblib\\parallel.py\", line 262, in <listcomp>\n",
      "    return [func(*args, **kwargs)\n",
      "  File \"C:\\Users\\pbeata\\anaconda3\\envs\\py3-TF2.0\\lib\\site-packages\\sklearn\\utils\\fixes.py\", line 222, in __call__\n",
      "    return self.function(*args, **kwargs)\n",
      "  File \"C:\\Users\\pbeata\\anaconda3\\envs\\py3-TF2.0\\lib\\site-packages\\sklearn\\ensemble\\_forest.py\", line 169, in _parallel_build_trees\n",
      "    tree.fit(X, y, sample_weight=curr_sample_weight, check_input=False)\n",
      "  File \"C:\\Users\\pbeata\\anaconda3\\envs\\py3-TF2.0\\lib\\site-packages\\sklearn\\tree\\_classes.py\", line 1247, in fit\n",
      "    super().fit(\n",
      "  File \"C:\\Users\\pbeata\\anaconda3\\envs\\py3-TF2.0\\lib\\site-packages\\sklearn\\tree\\_classes.py\", line 285, in fit\n",
      "    if max_depth <= 0:\n",
      "TypeError: '<=' not supported between instances of 'str' and 'int'\n",
      "\n",
      "  warnings.warn(\"Estimator fit failed. The score on this train-test\"\n",
      "C:\\Users\\pbeata\\anaconda3\\envs\\py3-TF2.0\\lib\\site-packages\\sklearn\\model_selection\\_validation.py:610: FitFailedWarning: Estimator fit failed. The score on this train-test partition for these parameters will be set to nan. Details: \n",
      "Traceback (most recent call last):\n",
      "  File \"C:\\Users\\pbeata\\anaconda3\\envs\\py3-TF2.0\\lib\\site-packages\\sklearn\\model_selection\\_validation.py\", line 593, in _fit_and_score\n",
      "    estimator.fit(X_train, y_train, **fit_params)\n",
      "  File \"C:\\Users\\pbeata\\anaconda3\\envs\\py3-TF2.0\\lib\\site-packages\\sklearn\\ensemble\\_forest.py\", line 387, in fit\n",
      "    trees = Parallel(n_jobs=self.n_jobs, verbose=self.verbose,\n",
      "  File \"C:\\Users\\pbeata\\anaconda3\\envs\\py3-TF2.0\\lib\\site-packages\\joblib\\parallel.py\", line 1041, in __call__\n",
      "    if self.dispatch_one_batch(iterator):\n",
      "  File \"C:\\Users\\pbeata\\anaconda3\\envs\\py3-TF2.0\\lib\\site-packages\\joblib\\parallel.py\", line 859, in dispatch_one_batch\n",
      "    self._dispatch(tasks)\n",
      "  File \"C:\\Users\\pbeata\\anaconda3\\envs\\py3-TF2.0\\lib\\site-packages\\joblib\\parallel.py\", line 777, in _dispatch\n",
      "    job = self._backend.apply_async(batch, callback=cb)\n",
      "  File \"C:\\Users\\pbeata\\anaconda3\\envs\\py3-TF2.0\\lib\\site-packages\\joblib\\_parallel_backends.py\", line 208, in apply_async\n",
      "    result = ImmediateResult(func)\n",
      "  File \"C:\\Users\\pbeata\\anaconda3\\envs\\py3-TF2.0\\lib\\site-packages\\joblib\\_parallel_backends.py\", line 572, in __init__\n",
      "    self.results = batch()\n",
      "  File \"C:\\Users\\pbeata\\anaconda3\\envs\\py3-TF2.0\\lib\\site-packages\\joblib\\parallel.py\", line 262, in __call__\n",
      "    return [func(*args, **kwargs)\n",
      "  File \"C:\\Users\\pbeata\\anaconda3\\envs\\py3-TF2.0\\lib\\site-packages\\joblib\\parallel.py\", line 262, in <listcomp>\n",
      "    return [func(*args, **kwargs)\n",
      "  File \"C:\\Users\\pbeata\\anaconda3\\envs\\py3-TF2.0\\lib\\site-packages\\sklearn\\utils\\fixes.py\", line 222, in __call__\n",
      "    return self.function(*args, **kwargs)\n",
      "  File \"C:\\Users\\pbeata\\anaconda3\\envs\\py3-TF2.0\\lib\\site-packages\\sklearn\\ensemble\\_forest.py\", line 169, in _parallel_build_trees\n",
      "    tree.fit(X, y, sample_weight=curr_sample_weight, check_input=False)\n",
      "  File \"C:\\Users\\pbeata\\anaconda3\\envs\\py3-TF2.0\\lib\\site-packages\\sklearn\\tree\\_classes.py\", line 1247, in fit\n",
      "    super().fit(\n",
      "  File \"C:\\Users\\pbeata\\anaconda3\\envs\\py3-TF2.0\\lib\\site-packages\\sklearn\\tree\\_classes.py\", line 285, in fit\n",
      "    if max_depth <= 0:\n",
      "TypeError: '<=' not supported between instances of 'str' and 'int'\n",
      "\n",
      "  warnings.warn(\"Estimator fit failed. The score on this train-test\"\n",
      "C:\\Users\\pbeata\\anaconda3\\envs\\py3-TF2.0\\lib\\site-packages\\sklearn\\model_selection\\_validation.py:610: FitFailedWarning: Estimator fit failed. The score on this train-test partition for these parameters will be set to nan. Details: \n",
      "Traceback (most recent call last):\n",
      "  File \"C:\\Users\\pbeata\\anaconda3\\envs\\py3-TF2.0\\lib\\site-packages\\sklearn\\model_selection\\_validation.py\", line 593, in _fit_and_score\n",
      "    estimator.fit(X_train, y_train, **fit_params)\n",
      "  File \"C:\\Users\\pbeata\\anaconda3\\envs\\py3-TF2.0\\lib\\site-packages\\sklearn\\ensemble\\_forest.py\", line 387, in fit\n",
      "    trees = Parallel(n_jobs=self.n_jobs, verbose=self.verbose,\n",
      "  File \"C:\\Users\\pbeata\\anaconda3\\envs\\py3-TF2.0\\lib\\site-packages\\joblib\\parallel.py\", line 1041, in __call__\n",
      "    if self.dispatch_one_batch(iterator):\n",
      "  File \"C:\\Users\\pbeata\\anaconda3\\envs\\py3-TF2.0\\lib\\site-packages\\joblib\\parallel.py\", line 859, in dispatch_one_batch\n",
      "    self._dispatch(tasks)\n",
      "  File \"C:\\Users\\pbeata\\anaconda3\\envs\\py3-TF2.0\\lib\\site-packages\\joblib\\parallel.py\", line 777, in _dispatch\n",
      "    job = self._backend.apply_async(batch, callback=cb)\n",
      "  File \"C:\\Users\\pbeata\\anaconda3\\envs\\py3-TF2.0\\lib\\site-packages\\joblib\\_parallel_backends.py\", line 208, in apply_async\n",
      "    result = ImmediateResult(func)\n",
      "  File \"C:\\Users\\pbeata\\anaconda3\\envs\\py3-TF2.0\\lib\\site-packages\\joblib\\_parallel_backends.py\", line 572, in __init__\n",
      "    self.results = batch()\n",
      "  File \"C:\\Users\\pbeata\\anaconda3\\envs\\py3-TF2.0\\lib\\site-packages\\joblib\\parallel.py\", line 262, in __call__\n",
      "    return [func(*args, **kwargs)\n",
      "  File \"C:\\Users\\pbeata\\anaconda3\\envs\\py3-TF2.0\\lib\\site-packages\\joblib\\parallel.py\", line 262, in <listcomp>\n",
      "    return [func(*args, **kwargs)\n",
      "  File \"C:\\Users\\pbeata\\anaconda3\\envs\\py3-TF2.0\\lib\\site-packages\\sklearn\\utils\\fixes.py\", line 222, in __call__\n",
      "    return self.function(*args, **kwargs)\n",
      "  File \"C:\\Users\\pbeata\\anaconda3\\envs\\py3-TF2.0\\lib\\site-packages\\sklearn\\ensemble\\_forest.py\", line 169, in _parallel_build_trees\n",
      "    tree.fit(X, y, sample_weight=curr_sample_weight, check_input=False)\n",
      "  File \"C:\\Users\\pbeata\\anaconda3\\envs\\py3-TF2.0\\lib\\site-packages\\sklearn\\tree\\_classes.py\", line 1247, in fit\n",
      "    super().fit(\n",
      "  File \"C:\\Users\\pbeata\\anaconda3\\envs\\py3-TF2.0\\lib\\site-packages\\sklearn\\tree\\_classes.py\", line 285, in fit\n",
      "    if max_depth <= 0:\n",
      "TypeError: '<=' not supported between instances of 'str' and 'int'\n",
      "\n",
      "  warnings.warn(\"Estimator fit failed. The score on this train-test\"\n",
      "C:\\Users\\pbeata\\anaconda3\\envs\\py3-TF2.0\\lib\\site-packages\\sklearn\\model_selection\\_validation.py:610: FitFailedWarning: Estimator fit failed. The score on this train-test partition for these parameters will be set to nan. Details: \n",
      "Traceback (most recent call last):\n",
      "  File \"C:\\Users\\pbeata\\anaconda3\\envs\\py3-TF2.0\\lib\\site-packages\\sklearn\\model_selection\\_validation.py\", line 593, in _fit_and_score\n",
      "    estimator.fit(X_train, y_train, **fit_params)\n",
      "  File \"C:\\Users\\pbeata\\anaconda3\\envs\\py3-TF2.0\\lib\\site-packages\\sklearn\\ensemble\\_forest.py\", line 387, in fit\n",
      "    trees = Parallel(n_jobs=self.n_jobs, verbose=self.verbose,\n",
      "  File \"C:\\Users\\pbeata\\anaconda3\\envs\\py3-TF2.0\\lib\\site-packages\\joblib\\parallel.py\", line 1041, in __call__\n",
      "    if self.dispatch_one_batch(iterator):\n",
      "  File \"C:\\Users\\pbeata\\anaconda3\\envs\\py3-TF2.0\\lib\\site-packages\\joblib\\parallel.py\", line 859, in dispatch_one_batch\n",
      "    self._dispatch(tasks)\n",
      "  File \"C:\\Users\\pbeata\\anaconda3\\envs\\py3-TF2.0\\lib\\site-packages\\joblib\\parallel.py\", line 777, in _dispatch\n",
      "    job = self._backend.apply_async(batch, callback=cb)\n",
      "  File \"C:\\Users\\pbeata\\anaconda3\\envs\\py3-TF2.0\\lib\\site-packages\\joblib\\_parallel_backends.py\", line 208, in apply_async\n",
      "    result = ImmediateResult(func)\n",
      "  File \"C:\\Users\\pbeata\\anaconda3\\envs\\py3-TF2.0\\lib\\site-packages\\joblib\\_parallel_backends.py\", line 572, in __init__\n",
      "    self.results = batch()\n",
      "  File \"C:\\Users\\pbeata\\anaconda3\\envs\\py3-TF2.0\\lib\\site-packages\\joblib\\parallel.py\", line 262, in __call__\n",
      "    return [func(*args, **kwargs)\n",
      "  File \"C:\\Users\\pbeata\\anaconda3\\envs\\py3-TF2.0\\lib\\site-packages\\joblib\\parallel.py\", line 262, in <listcomp>\n",
      "    return [func(*args, **kwargs)\n",
      "  File \"C:\\Users\\pbeata\\anaconda3\\envs\\py3-TF2.0\\lib\\site-packages\\sklearn\\utils\\fixes.py\", line 222, in __call__\n",
      "    return self.function(*args, **kwargs)\n",
      "  File \"C:\\Users\\pbeata\\anaconda3\\envs\\py3-TF2.0\\lib\\site-packages\\sklearn\\ensemble\\_forest.py\", line 169, in _parallel_build_trees\n",
      "    tree.fit(X, y, sample_weight=curr_sample_weight, check_input=False)\n",
      "  File \"C:\\Users\\pbeata\\anaconda3\\envs\\py3-TF2.0\\lib\\site-packages\\sklearn\\tree\\_classes.py\", line 1247, in fit\n",
      "    super().fit(\n",
      "  File \"C:\\Users\\pbeata\\anaconda3\\envs\\py3-TF2.0\\lib\\site-packages\\sklearn\\tree\\_classes.py\", line 285, in fit\n",
      "    if max_depth <= 0:\n",
      "TypeError: '<=' not supported between instances of 'str' and 'int'\n",
      "\n",
      "  warnings.warn(\"Estimator fit failed. The score on this train-test\"\n",
      "C:\\Users\\pbeata\\anaconda3\\envs\\py3-TF2.0\\lib\\site-packages\\sklearn\\model_selection\\_validation.py:610: FitFailedWarning: Estimator fit failed. The score on this train-test partition for these parameters will be set to nan. Details: \n",
      "Traceback (most recent call last):\n",
      "  File \"C:\\Users\\pbeata\\anaconda3\\envs\\py3-TF2.0\\lib\\site-packages\\sklearn\\model_selection\\_validation.py\", line 593, in _fit_and_score\n",
      "    estimator.fit(X_train, y_train, **fit_params)\n",
      "  File \"C:\\Users\\pbeata\\anaconda3\\envs\\py3-TF2.0\\lib\\site-packages\\sklearn\\ensemble\\_forest.py\", line 387, in fit\n",
      "    trees = Parallel(n_jobs=self.n_jobs, verbose=self.verbose,\n",
      "  File \"C:\\Users\\pbeata\\anaconda3\\envs\\py3-TF2.0\\lib\\site-packages\\joblib\\parallel.py\", line 1041, in __call__\n",
      "    if self.dispatch_one_batch(iterator):\n",
      "  File \"C:\\Users\\pbeata\\anaconda3\\envs\\py3-TF2.0\\lib\\site-packages\\joblib\\parallel.py\", line 859, in dispatch_one_batch\n",
      "    self._dispatch(tasks)\n",
      "  File \"C:\\Users\\pbeata\\anaconda3\\envs\\py3-TF2.0\\lib\\site-packages\\joblib\\parallel.py\", line 777, in _dispatch\n",
      "    job = self._backend.apply_async(batch, callback=cb)\n",
      "  File \"C:\\Users\\pbeata\\anaconda3\\envs\\py3-TF2.0\\lib\\site-packages\\joblib\\_parallel_backends.py\", line 208, in apply_async\n",
      "    result = ImmediateResult(func)\n",
      "  File \"C:\\Users\\pbeata\\anaconda3\\envs\\py3-TF2.0\\lib\\site-packages\\joblib\\_parallel_backends.py\", line 572, in __init__\n",
      "    self.results = batch()\n",
      "  File \"C:\\Users\\pbeata\\anaconda3\\envs\\py3-TF2.0\\lib\\site-packages\\joblib\\parallel.py\", line 262, in __call__\n",
      "    return [func(*args, **kwargs)\n",
      "  File \"C:\\Users\\pbeata\\anaconda3\\envs\\py3-TF2.0\\lib\\site-packages\\joblib\\parallel.py\", line 262, in <listcomp>\n",
      "    return [func(*args, **kwargs)\n",
      "  File \"C:\\Users\\pbeata\\anaconda3\\envs\\py3-TF2.0\\lib\\site-packages\\sklearn\\utils\\fixes.py\", line 222, in __call__\n",
      "    return self.function(*args, **kwargs)\n",
      "  File \"C:\\Users\\pbeata\\anaconda3\\envs\\py3-TF2.0\\lib\\site-packages\\sklearn\\ensemble\\_forest.py\", line 169, in _parallel_build_trees\n",
      "    tree.fit(X, y, sample_weight=curr_sample_weight, check_input=False)\n",
      "  File \"C:\\Users\\pbeata\\anaconda3\\envs\\py3-TF2.0\\lib\\site-packages\\sklearn\\tree\\_classes.py\", line 1247, in fit\n",
      "    super().fit(\n",
      "  File \"C:\\Users\\pbeata\\anaconda3\\envs\\py3-TF2.0\\lib\\site-packages\\sklearn\\tree\\_classes.py\", line 285, in fit\n",
      "    if max_depth <= 0:\n",
      "TypeError: '<=' not supported between instances of 'str' and 'int'\n",
      "\n",
      "  warnings.warn(\"Estimator fit failed. The score on this train-test\"\n",
      "C:\\Users\\pbeata\\anaconda3\\envs\\py3-TF2.0\\lib\\site-packages\\sklearn\\model_selection\\_validation.py:610: FitFailedWarning: Estimator fit failed. The score on this train-test partition for these parameters will be set to nan. Details: \n",
      "Traceback (most recent call last):\n",
      "  File \"C:\\Users\\pbeata\\anaconda3\\envs\\py3-TF2.0\\lib\\site-packages\\sklearn\\model_selection\\_validation.py\", line 593, in _fit_and_score\n",
      "    estimator.fit(X_train, y_train, **fit_params)\n",
      "  File \"C:\\Users\\pbeata\\anaconda3\\envs\\py3-TF2.0\\lib\\site-packages\\sklearn\\ensemble\\_forest.py\", line 387, in fit\n",
      "    trees = Parallel(n_jobs=self.n_jobs, verbose=self.verbose,\n",
      "  File \"C:\\Users\\pbeata\\anaconda3\\envs\\py3-TF2.0\\lib\\site-packages\\joblib\\parallel.py\", line 1041, in __call__\n",
      "    if self.dispatch_one_batch(iterator):\n",
      "  File \"C:\\Users\\pbeata\\anaconda3\\envs\\py3-TF2.0\\lib\\site-packages\\joblib\\parallel.py\", line 859, in dispatch_one_batch\n",
      "    self._dispatch(tasks)\n",
      "  File \"C:\\Users\\pbeata\\anaconda3\\envs\\py3-TF2.0\\lib\\site-packages\\joblib\\parallel.py\", line 777, in _dispatch\n",
      "    job = self._backend.apply_async(batch, callback=cb)\n",
      "  File \"C:\\Users\\pbeata\\anaconda3\\envs\\py3-TF2.0\\lib\\site-packages\\joblib\\_parallel_backends.py\", line 208, in apply_async\n",
      "    result = ImmediateResult(func)\n",
      "  File \"C:\\Users\\pbeata\\anaconda3\\envs\\py3-TF2.0\\lib\\site-packages\\joblib\\_parallel_backends.py\", line 572, in __init__\n",
      "    self.results = batch()\n",
      "  File \"C:\\Users\\pbeata\\anaconda3\\envs\\py3-TF2.0\\lib\\site-packages\\joblib\\parallel.py\", line 262, in __call__\n",
      "    return [func(*args, **kwargs)\n",
      "  File \"C:\\Users\\pbeata\\anaconda3\\envs\\py3-TF2.0\\lib\\site-packages\\joblib\\parallel.py\", line 262, in <listcomp>\n",
      "    return [func(*args, **kwargs)\n",
      "  File \"C:\\Users\\pbeata\\anaconda3\\envs\\py3-TF2.0\\lib\\site-packages\\sklearn\\utils\\fixes.py\", line 222, in __call__\n",
      "    return self.function(*args, **kwargs)\n",
      "  File \"C:\\Users\\pbeata\\anaconda3\\envs\\py3-TF2.0\\lib\\site-packages\\sklearn\\ensemble\\_forest.py\", line 169, in _parallel_build_trees\n",
      "    tree.fit(X, y, sample_weight=curr_sample_weight, check_input=False)\n",
      "  File \"C:\\Users\\pbeata\\anaconda3\\envs\\py3-TF2.0\\lib\\site-packages\\sklearn\\tree\\_classes.py\", line 1247, in fit\n",
      "    super().fit(\n",
      "  File \"C:\\Users\\pbeata\\anaconda3\\envs\\py3-TF2.0\\lib\\site-packages\\sklearn\\tree\\_classes.py\", line 285, in fit\n",
      "    if max_depth <= 0:\n",
      "TypeError: '<=' not supported between instances of 'str' and 'int'\n",
      "\n",
      "  warnings.warn(\"Estimator fit failed. The score on this train-test\"\n",
      "C:\\Users\\pbeata\\anaconda3\\envs\\py3-TF2.0\\lib\\site-packages\\sklearn\\model_selection\\_validation.py:610: FitFailedWarning: Estimator fit failed. The score on this train-test partition for these parameters will be set to nan. Details: \n",
      "Traceback (most recent call last):\n",
      "  File \"C:\\Users\\pbeata\\anaconda3\\envs\\py3-TF2.0\\lib\\site-packages\\sklearn\\model_selection\\_validation.py\", line 593, in _fit_and_score\n",
      "    estimator.fit(X_train, y_train, **fit_params)\n",
      "  File \"C:\\Users\\pbeata\\anaconda3\\envs\\py3-TF2.0\\lib\\site-packages\\sklearn\\ensemble\\_forest.py\", line 387, in fit\n",
      "    trees = Parallel(n_jobs=self.n_jobs, verbose=self.verbose,\n",
      "  File \"C:\\Users\\pbeata\\anaconda3\\envs\\py3-TF2.0\\lib\\site-packages\\joblib\\parallel.py\", line 1041, in __call__\n",
      "    if self.dispatch_one_batch(iterator):\n",
      "  File \"C:\\Users\\pbeata\\anaconda3\\envs\\py3-TF2.0\\lib\\site-packages\\joblib\\parallel.py\", line 859, in dispatch_one_batch\n",
      "    self._dispatch(tasks)\n",
      "  File \"C:\\Users\\pbeata\\anaconda3\\envs\\py3-TF2.0\\lib\\site-packages\\joblib\\parallel.py\", line 777, in _dispatch\n",
      "    job = self._backend.apply_async(batch, callback=cb)\n",
      "  File \"C:\\Users\\pbeata\\anaconda3\\envs\\py3-TF2.0\\lib\\site-packages\\joblib\\_parallel_backends.py\", line 208, in apply_async\n",
      "    result = ImmediateResult(func)\n",
      "  File \"C:\\Users\\pbeata\\anaconda3\\envs\\py3-TF2.0\\lib\\site-packages\\joblib\\_parallel_backends.py\", line 572, in __init__\n",
      "    self.results = batch()\n",
      "  File \"C:\\Users\\pbeata\\anaconda3\\envs\\py3-TF2.0\\lib\\site-packages\\joblib\\parallel.py\", line 262, in __call__\n",
      "    return [func(*args, **kwargs)\n",
      "  File \"C:\\Users\\pbeata\\anaconda3\\envs\\py3-TF2.0\\lib\\site-packages\\joblib\\parallel.py\", line 262, in <listcomp>\n",
      "    return [func(*args, **kwargs)\n",
      "  File \"C:\\Users\\pbeata\\anaconda3\\envs\\py3-TF2.0\\lib\\site-packages\\sklearn\\utils\\fixes.py\", line 222, in __call__\n",
      "    return self.function(*args, **kwargs)\n",
      "  File \"C:\\Users\\pbeata\\anaconda3\\envs\\py3-TF2.0\\lib\\site-packages\\sklearn\\ensemble\\_forest.py\", line 169, in _parallel_build_trees\n",
      "    tree.fit(X, y, sample_weight=curr_sample_weight, check_input=False)\n",
      "  File \"C:\\Users\\pbeata\\anaconda3\\envs\\py3-TF2.0\\lib\\site-packages\\sklearn\\tree\\_classes.py\", line 1247, in fit\n",
      "    super().fit(\n",
      "  File \"C:\\Users\\pbeata\\anaconda3\\envs\\py3-TF2.0\\lib\\site-packages\\sklearn\\tree\\_classes.py\", line 285, in fit\n",
      "    if max_depth <= 0:\n",
      "TypeError: '<=' not supported between instances of 'str' and 'int'\n",
      "\n",
      "  warnings.warn(\"Estimator fit failed. The score on this train-test\"\n",
      "C:\\Users\\pbeata\\anaconda3\\envs\\py3-TF2.0\\lib\\site-packages\\sklearn\\model_selection\\_validation.py:610: FitFailedWarning: Estimator fit failed. The score on this train-test partition for these parameters will be set to nan. Details: \n",
      "Traceback (most recent call last):\n",
      "  File \"C:\\Users\\pbeata\\anaconda3\\envs\\py3-TF2.0\\lib\\site-packages\\sklearn\\model_selection\\_validation.py\", line 593, in _fit_and_score\n",
      "    estimator.fit(X_train, y_train, **fit_params)\n",
      "  File \"C:\\Users\\pbeata\\anaconda3\\envs\\py3-TF2.0\\lib\\site-packages\\sklearn\\ensemble\\_forest.py\", line 387, in fit\n",
      "    trees = Parallel(n_jobs=self.n_jobs, verbose=self.verbose,\n",
      "  File \"C:\\Users\\pbeata\\anaconda3\\envs\\py3-TF2.0\\lib\\site-packages\\joblib\\parallel.py\", line 1041, in __call__\n",
      "    if self.dispatch_one_batch(iterator):\n",
      "  File \"C:\\Users\\pbeata\\anaconda3\\envs\\py3-TF2.0\\lib\\site-packages\\joblib\\parallel.py\", line 859, in dispatch_one_batch\n",
      "    self._dispatch(tasks)\n",
      "  File \"C:\\Users\\pbeata\\anaconda3\\envs\\py3-TF2.0\\lib\\site-packages\\joblib\\parallel.py\", line 777, in _dispatch\n",
      "    job = self._backend.apply_async(batch, callback=cb)\n",
      "  File \"C:\\Users\\pbeata\\anaconda3\\envs\\py3-TF2.0\\lib\\site-packages\\joblib\\_parallel_backends.py\", line 208, in apply_async\n",
      "    result = ImmediateResult(func)\n",
      "  File \"C:\\Users\\pbeata\\anaconda3\\envs\\py3-TF2.0\\lib\\site-packages\\joblib\\_parallel_backends.py\", line 572, in __init__\n",
      "    self.results = batch()\n",
      "  File \"C:\\Users\\pbeata\\anaconda3\\envs\\py3-TF2.0\\lib\\site-packages\\joblib\\parallel.py\", line 262, in __call__\n",
      "    return [func(*args, **kwargs)\n",
      "  File \"C:\\Users\\pbeata\\anaconda3\\envs\\py3-TF2.0\\lib\\site-packages\\joblib\\parallel.py\", line 262, in <listcomp>\n",
      "    return [func(*args, **kwargs)\n",
      "  File \"C:\\Users\\pbeata\\anaconda3\\envs\\py3-TF2.0\\lib\\site-packages\\sklearn\\utils\\fixes.py\", line 222, in __call__\n",
      "    return self.function(*args, **kwargs)\n",
      "  File \"C:\\Users\\pbeata\\anaconda3\\envs\\py3-TF2.0\\lib\\site-packages\\sklearn\\ensemble\\_forest.py\", line 169, in _parallel_build_trees\n",
      "    tree.fit(X, y, sample_weight=curr_sample_weight, check_input=False)\n",
      "  File \"C:\\Users\\pbeata\\anaconda3\\envs\\py3-TF2.0\\lib\\site-packages\\sklearn\\tree\\_classes.py\", line 1247, in fit\n",
      "    super().fit(\n",
      "  File \"C:\\Users\\pbeata\\anaconda3\\envs\\py3-TF2.0\\lib\\site-packages\\sklearn\\tree\\_classes.py\", line 285, in fit\n",
      "    if max_depth <= 0:\n",
      "TypeError: '<=' not supported between instances of 'str' and 'int'\n",
      "\n",
      "  warnings.warn(\"Estimator fit failed. The score on this train-test\"\n",
      "C:\\Users\\pbeata\\anaconda3\\envs\\py3-TF2.0\\lib\\site-packages\\sklearn\\model_selection\\_validation.py:610: FitFailedWarning: Estimator fit failed. The score on this train-test partition for these parameters will be set to nan. Details: \n",
      "Traceback (most recent call last):\n",
      "  File \"C:\\Users\\pbeata\\anaconda3\\envs\\py3-TF2.0\\lib\\site-packages\\sklearn\\model_selection\\_validation.py\", line 593, in _fit_and_score\n",
      "    estimator.fit(X_train, y_train, **fit_params)\n",
      "  File \"C:\\Users\\pbeata\\anaconda3\\envs\\py3-TF2.0\\lib\\site-packages\\sklearn\\ensemble\\_forest.py\", line 387, in fit\n",
      "    trees = Parallel(n_jobs=self.n_jobs, verbose=self.verbose,\n",
      "  File \"C:\\Users\\pbeata\\anaconda3\\envs\\py3-TF2.0\\lib\\site-packages\\joblib\\parallel.py\", line 1041, in __call__\n",
      "    if self.dispatch_one_batch(iterator):\n",
      "  File \"C:\\Users\\pbeata\\anaconda3\\envs\\py3-TF2.0\\lib\\site-packages\\joblib\\parallel.py\", line 859, in dispatch_one_batch\n",
      "    self._dispatch(tasks)\n",
      "  File \"C:\\Users\\pbeata\\anaconda3\\envs\\py3-TF2.0\\lib\\site-packages\\joblib\\parallel.py\", line 777, in _dispatch\n",
      "    job = self._backend.apply_async(batch, callback=cb)\n",
      "  File \"C:\\Users\\pbeata\\anaconda3\\envs\\py3-TF2.0\\lib\\site-packages\\joblib\\_parallel_backends.py\", line 208, in apply_async\n",
      "    result = ImmediateResult(func)\n",
      "  File \"C:\\Users\\pbeata\\anaconda3\\envs\\py3-TF2.0\\lib\\site-packages\\joblib\\_parallel_backends.py\", line 572, in __init__\n",
      "    self.results = batch()\n",
      "  File \"C:\\Users\\pbeata\\anaconda3\\envs\\py3-TF2.0\\lib\\site-packages\\joblib\\parallel.py\", line 262, in __call__\n",
      "    return [func(*args, **kwargs)\n",
      "  File \"C:\\Users\\pbeata\\anaconda3\\envs\\py3-TF2.0\\lib\\site-packages\\joblib\\parallel.py\", line 262, in <listcomp>\n",
      "    return [func(*args, **kwargs)\n",
      "  File \"C:\\Users\\pbeata\\anaconda3\\envs\\py3-TF2.0\\lib\\site-packages\\sklearn\\utils\\fixes.py\", line 222, in __call__\n",
      "    return self.function(*args, **kwargs)\n",
      "  File \"C:\\Users\\pbeata\\anaconda3\\envs\\py3-TF2.0\\lib\\site-packages\\sklearn\\ensemble\\_forest.py\", line 169, in _parallel_build_trees\n",
      "    tree.fit(X, y, sample_weight=curr_sample_weight, check_input=False)\n",
      "  File \"C:\\Users\\pbeata\\anaconda3\\envs\\py3-TF2.0\\lib\\site-packages\\sklearn\\tree\\_classes.py\", line 1247, in fit\n",
      "    super().fit(\n",
      "  File \"C:\\Users\\pbeata\\anaconda3\\envs\\py3-TF2.0\\lib\\site-packages\\sklearn\\tree\\_classes.py\", line 285, in fit\n",
      "    if max_depth <= 0:\n",
      "TypeError: '<=' not supported between instances of 'str' and 'int'\n",
      "\n",
      "  warnings.warn(\"Estimator fit failed. The score on this train-test\"\n"
     ]
    },
    {
     "name": "stdout",
     "output_type": "stream",
     "text": [
      "[CV] END ..max_depth=None, max_features=16, n_estimators=200; total time=   0.0s\n",
      "[CV] END ...max_depth=None, max_features=32, n_estimators=50; total time=   0.0s\n",
      "[CV] END ...max_depth=None, max_features=32, n_estimators=50; total time=   0.0s\n",
      "[CV] END ...max_depth=None, max_features=32, n_estimators=50; total time=   0.0s\n",
      "[CV] END ...max_depth=None, max_features=32, n_estimators=50; total time=   0.0s\n",
      "[CV] END ...max_depth=None, max_features=32, n_estimators=50; total time=   0.0s\n",
      "[CV] END ..max_depth=None, max_features=32, n_estimators=100; total time=   0.0s\n",
      "[CV] END ..max_depth=None, max_features=32, n_estimators=100; total time=   0.0s\n",
      "[CV] END ..max_depth=None, max_features=32, n_estimators=100; total time=   0.0s\n"
     ]
    },
    {
     "name": "stderr",
     "output_type": "stream",
     "text": [
      "C:\\Users\\pbeata\\anaconda3\\envs\\py3-TF2.0\\lib\\site-packages\\sklearn\\model_selection\\_validation.py:610: FitFailedWarning: Estimator fit failed. The score on this train-test partition for these parameters will be set to nan. Details: \n",
      "Traceback (most recent call last):\n",
      "  File \"C:\\Users\\pbeata\\anaconda3\\envs\\py3-TF2.0\\lib\\site-packages\\sklearn\\model_selection\\_validation.py\", line 593, in _fit_and_score\n",
      "    estimator.fit(X_train, y_train, **fit_params)\n",
      "  File \"C:\\Users\\pbeata\\anaconda3\\envs\\py3-TF2.0\\lib\\site-packages\\sklearn\\ensemble\\_forest.py\", line 387, in fit\n",
      "    trees = Parallel(n_jobs=self.n_jobs, verbose=self.verbose,\n",
      "  File \"C:\\Users\\pbeata\\anaconda3\\envs\\py3-TF2.0\\lib\\site-packages\\joblib\\parallel.py\", line 1041, in __call__\n",
      "    if self.dispatch_one_batch(iterator):\n",
      "  File \"C:\\Users\\pbeata\\anaconda3\\envs\\py3-TF2.0\\lib\\site-packages\\joblib\\parallel.py\", line 859, in dispatch_one_batch\n",
      "    self._dispatch(tasks)\n",
      "  File \"C:\\Users\\pbeata\\anaconda3\\envs\\py3-TF2.0\\lib\\site-packages\\joblib\\parallel.py\", line 777, in _dispatch\n",
      "    job = self._backend.apply_async(batch, callback=cb)\n",
      "  File \"C:\\Users\\pbeata\\anaconda3\\envs\\py3-TF2.0\\lib\\site-packages\\joblib\\_parallel_backends.py\", line 208, in apply_async\n",
      "    result = ImmediateResult(func)\n",
      "  File \"C:\\Users\\pbeata\\anaconda3\\envs\\py3-TF2.0\\lib\\site-packages\\joblib\\_parallel_backends.py\", line 572, in __init__\n",
      "    self.results = batch()\n",
      "  File \"C:\\Users\\pbeata\\anaconda3\\envs\\py3-TF2.0\\lib\\site-packages\\joblib\\parallel.py\", line 262, in __call__\n",
      "    return [func(*args, **kwargs)\n",
      "  File \"C:\\Users\\pbeata\\anaconda3\\envs\\py3-TF2.0\\lib\\site-packages\\joblib\\parallel.py\", line 262, in <listcomp>\n",
      "    return [func(*args, **kwargs)\n",
      "  File \"C:\\Users\\pbeata\\anaconda3\\envs\\py3-TF2.0\\lib\\site-packages\\sklearn\\utils\\fixes.py\", line 222, in __call__\n",
      "    return self.function(*args, **kwargs)\n",
      "  File \"C:\\Users\\pbeata\\anaconda3\\envs\\py3-TF2.0\\lib\\site-packages\\sklearn\\ensemble\\_forest.py\", line 169, in _parallel_build_trees\n",
      "    tree.fit(X, y, sample_weight=curr_sample_weight, check_input=False)\n",
      "  File \"C:\\Users\\pbeata\\anaconda3\\envs\\py3-TF2.0\\lib\\site-packages\\sklearn\\tree\\_classes.py\", line 1247, in fit\n",
      "    super().fit(\n",
      "  File \"C:\\Users\\pbeata\\anaconda3\\envs\\py3-TF2.0\\lib\\site-packages\\sklearn\\tree\\_classes.py\", line 285, in fit\n",
      "    if max_depth <= 0:\n",
      "TypeError: '<=' not supported between instances of 'str' and 'int'\n",
      "\n",
      "  warnings.warn(\"Estimator fit failed. The score on this train-test\"\n",
      "C:\\Users\\pbeata\\anaconda3\\envs\\py3-TF2.0\\lib\\site-packages\\sklearn\\model_selection\\_validation.py:610: FitFailedWarning: Estimator fit failed. The score on this train-test partition for these parameters will be set to nan. Details: \n",
      "Traceback (most recent call last):\n",
      "  File \"C:\\Users\\pbeata\\anaconda3\\envs\\py3-TF2.0\\lib\\site-packages\\sklearn\\model_selection\\_validation.py\", line 593, in _fit_and_score\n",
      "    estimator.fit(X_train, y_train, **fit_params)\n",
      "  File \"C:\\Users\\pbeata\\anaconda3\\envs\\py3-TF2.0\\lib\\site-packages\\sklearn\\ensemble\\_forest.py\", line 387, in fit\n",
      "    trees = Parallel(n_jobs=self.n_jobs, verbose=self.verbose,\n",
      "  File \"C:\\Users\\pbeata\\anaconda3\\envs\\py3-TF2.0\\lib\\site-packages\\joblib\\parallel.py\", line 1041, in __call__\n",
      "    if self.dispatch_one_batch(iterator):\n",
      "  File \"C:\\Users\\pbeata\\anaconda3\\envs\\py3-TF2.0\\lib\\site-packages\\joblib\\parallel.py\", line 859, in dispatch_one_batch\n",
      "    self._dispatch(tasks)\n",
      "  File \"C:\\Users\\pbeata\\anaconda3\\envs\\py3-TF2.0\\lib\\site-packages\\joblib\\parallel.py\", line 777, in _dispatch\n",
      "    job = self._backend.apply_async(batch, callback=cb)\n",
      "  File \"C:\\Users\\pbeata\\anaconda3\\envs\\py3-TF2.0\\lib\\site-packages\\joblib\\_parallel_backends.py\", line 208, in apply_async\n",
      "    result = ImmediateResult(func)\n",
      "  File \"C:\\Users\\pbeata\\anaconda3\\envs\\py3-TF2.0\\lib\\site-packages\\joblib\\_parallel_backends.py\", line 572, in __init__\n",
      "    self.results = batch()\n",
      "  File \"C:\\Users\\pbeata\\anaconda3\\envs\\py3-TF2.0\\lib\\site-packages\\joblib\\parallel.py\", line 262, in __call__\n",
      "    return [func(*args, **kwargs)\n",
      "  File \"C:\\Users\\pbeata\\anaconda3\\envs\\py3-TF2.0\\lib\\site-packages\\joblib\\parallel.py\", line 262, in <listcomp>\n",
      "    return [func(*args, **kwargs)\n",
      "  File \"C:\\Users\\pbeata\\anaconda3\\envs\\py3-TF2.0\\lib\\site-packages\\sklearn\\utils\\fixes.py\", line 222, in __call__\n",
      "    return self.function(*args, **kwargs)\n",
      "  File \"C:\\Users\\pbeata\\anaconda3\\envs\\py3-TF2.0\\lib\\site-packages\\sklearn\\ensemble\\_forest.py\", line 169, in _parallel_build_trees\n",
      "    tree.fit(X, y, sample_weight=curr_sample_weight, check_input=False)\n",
      "  File \"C:\\Users\\pbeata\\anaconda3\\envs\\py3-TF2.0\\lib\\site-packages\\sklearn\\tree\\_classes.py\", line 1247, in fit\n",
      "    super().fit(\n",
      "  File \"C:\\Users\\pbeata\\anaconda3\\envs\\py3-TF2.0\\lib\\site-packages\\sklearn\\tree\\_classes.py\", line 285, in fit\n",
      "    if max_depth <= 0:\n",
      "TypeError: '<=' not supported between instances of 'str' and 'int'\n",
      "\n",
      "  warnings.warn(\"Estimator fit failed. The score on this train-test\"\n",
      "C:\\Users\\pbeata\\anaconda3\\envs\\py3-TF2.0\\lib\\site-packages\\sklearn\\model_selection\\_validation.py:610: FitFailedWarning: Estimator fit failed. The score on this train-test partition for these parameters will be set to nan. Details: \n",
      "Traceback (most recent call last):\n",
      "  File \"C:\\Users\\pbeata\\anaconda3\\envs\\py3-TF2.0\\lib\\site-packages\\sklearn\\model_selection\\_validation.py\", line 593, in _fit_and_score\n",
      "    estimator.fit(X_train, y_train, **fit_params)\n",
      "  File \"C:\\Users\\pbeata\\anaconda3\\envs\\py3-TF2.0\\lib\\site-packages\\sklearn\\ensemble\\_forest.py\", line 387, in fit\n",
      "    trees = Parallel(n_jobs=self.n_jobs, verbose=self.verbose,\n",
      "  File \"C:\\Users\\pbeata\\anaconda3\\envs\\py3-TF2.0\\lib\\site-packages\\joblib\\parallel.py\", line 1041, in __call__\n",
      "    if self.dispatch_one_batch(iterator):\n",
      "  File \"C:\\Users\\pbeata\\anaconda3\\envs\\py3-TF2.0\\lib\\site-packages\\joblib\\parallel.py\", line 859, in dispatch_one_batch\n",
      "    self._dispatch(tasks)\n",
      "  File \"C:\\Users\\pbeata\\anaconda3\\envs\\py3-TF2.0\\lib\\site-packages\\joblib\\parallel.py\", line 777, in _dispatch\n",
      "    job = self._backend.apply_async(batch, callback=cb)\n",
      "  File \"C:\\Users\\pbeata\\anaconda3\\envs\\py3-TF2.0\\lib\\site-packages\\joblib\\_parallel_backends.py\", line 208, in apply_async\n",
      "    result = ImmediateResult(func)\n",
      "  File \"C:\\Users\\pbeata\\anaconda3\\envs\\py3-TF2.0\\lib\\site-packages\\joblib\\_parallel_backends.py\", line 572, in __init__\n",
      "    self.results = batch()\n",
      "  File \"C:\\Users\\pbeata\\anaconda3\\envs\\py3-TF2.0\\lib\\site-packages\\joblib\\parallel.py\", line 262, in __call__\n",
      "    return [func(*args, **kwargs)\n",
      "  File \"C:\\Users\\pbeata\\anaconda3\\envs\\py3-TF2.0\\lib\\site-packages\\joblib\\parallel.py\", line 262, in <listcomp>\n",
      "    return [func(*args, **kwargs)\n",
      "  File \"C:\\Users\\pbeata\\anaconda3\\envs\\py3-TF2.0\\lib\\site-packages\\sklearn\\utils\\fixes.py\", line 222, in __call__\n",
      "    return self.function(*args, **kwargs)\n",
      "  File \"C:\\Users\\pbeata\\anaconda3\\envs\\py3-TF2.0\\lib\\site-packages\\sklearn\\ensemble\\_forest.py\", line 169, in _parallel_build_trees\n",
      "    tree.fit(X, y, sample_weight=curr_sample_weight, check_input=False)\n",
      "  File \"C:\\Users\\pbeata\\anaconda3\\envs\\py3-TF2.0\\lib\\site-packages\\sklearn\\tree\\_classes.py\", line 1247, in fit\n",
      "    super().fit(\n",
      "  File \"C:\\Users\\pbeata\\anaconda3\\envs\\py3-TF2.0\\lib\\site-packages\\sklearn\\tree\\_classes.py\", line 285, in fit\n",
      "    if max_depth <= 0:\n",
      "TypeError: '<=' not supported between instances of 'str' and 'int'\n",
      "\n",
      "  warnings.warn(\"Estimator fit failed. The score on this train-test\"\n",
      "C:\\Users\\pbeata\\anaconda3\\envs\\py3-TF2.0\\lib\\site-packages\\sklearn\\model_selection\\_validation.py:610: FitFailedWarning: Estimator fit failed. The score on this train-test partition for these parameters will be set to nan. Details: \n",
      "Traceback (most recent call last):\n",
      "  File \"C:\\Users\\pbeata\\anaconda3\\envs\\py3-TF2.0\\lib\\site-packages\\sklearn\\model_selection\\_validation.py\", line 593, in _fit_and_score\n",
      "    estimator.fit(X_train, y_train, **fit_params)\n",
      "  File \"C:\\Users\\pbeata\\anaconda3\\envs\\py3-TF2.0\\lib\\site-packages\\sklearn\\ensemble\\_forest.py\", line 387, in fit\n",
      "    trees = Parallel(n_jobs=self.n_jobs, verbose=self.verbose,\n",
      "  File \"C:\\Users\\pbeata\\anaconda3\\envs\\py3-TF2.0\\lib\\site-packages\\joblib\\parallel.py\", line 1041, in __call__\n",
      "    if self.dispatch_one_batch(iterator):\n",
      "  File \"C:\\Users\\pbeata\\anaconda3\\envs\\py3-TF2.0\\lib\\site-packages\\joblib\\parallel.py\", line 859, in dispatch_one_batch\n",
      "    self._dispatch(tasks)\n",
      "  File \"C:\\Users\\pbeata\\anaconda3\\envs\\py3-TF2.0\\lib\\site-packages\\joblib\\parallel.py\", line 777, in _dispatch\n",
      "    job = self._backend.apply_async(batch, callback=cb)\n",
      "  File \"C:\\Users\\pbeata\\anaconda3\\envs\\py3-TF2.0\\lib\\site-packages\\joblib\\_parallel_backends.py\", line 208, in apply_async\n",
      "    result = ImmediateResult(func)\n",
      "  File \"C:\\Users\\pbeata\\anaconda3\\envs\\py3-TF2.0\\lib\\site-packages\\joblib\\_parallel_backends.py\", line 572, in __init__\n",
      "    self.results = batch()\n",
      "  File \"C:\\Users\\pbeata\\anaconda3\\envs\\py3-TF2.0\\lib\\site-packages\\joblib\\parallel.py\", line 262, in __call__\n",
      "    return [func(*args, **kwargs)\n",
      "  File \"C:\\Users\\pbeata\\anaconda3\\envs\\py3-TF2.0\\lib\\site-packages\\joblib\\parallel.py\", line 262, in <listcomp>\n",
      "    return [func(*args, **kwargs)\n",
      "  File \"C:\\Users\\pbeata\\anaconda3\\envs\\py3-TF2.0\\lib\\site-packages\\sklearn\\utils\\fixes.py\", line 222, in __call__\n",
      "    return self.function(*args, **kwargs)\n",
      "  File \"C:\\Users\\pbeata\\anaconda3\\envs\\py3-TF2.0\\lib\\site-packages\\sklearn\\ensemble\\_forest.py\", line 169, in _parallel_build_trees\n",
      "    tree.fit(X, y, sample_weight=curr_sample_weight, check_input=False)\n",
      "  File \"C:\\Users\\pbeata\\anaconda3\\envs\\py3-TF2.0\\lib\\site-packages\\sklearn\\tree\\_classes.py\", line 1247, in fit\n",
      "    super().fit(\n",
      "  File \"C:\\Users\\pbeata\\anaconda3\\envs\\py3-TF2.0\\lib\\site-packages\\sklearn\\tree\\_classes.py\", line 285, in fit\n",
      "    if max_depth <= 0:\n",
      "TypeError: '<=' not supported between instances of 'str' and 'int'\n",
      "\n",
      "  warnings.warn(\"Estimator fit failed. The score on this train-test\"\n",
      "C:\\Users\\pbeata\\anaconda3\\envs\\py3-TF2.0\\lib\\site-packages\\sklearn\\model_selection\\_validation.py:610: FitFailedWarning: Estimator fit failed. The score on this train-test partition for these parameters will be set to nan. Details: \n",
      "Traceback (most recent call last):\n",
      "  File \"C:\\Users\\pbeata\\anaconda3\\envs\\py3-TF2.0\\lib\\site-packages\\sklearn\\model_selection\\_validation.py\", line 593, in _fit_and_score\n",
      "    estimator.fit(X_train, y_train, **fit_params)\n",
      "  File \"C:\\Users\\pbeata\\anaconda3\\envs\\py3-TF2.0\\lib\\site-packages\\sklearn\\ensemble\\_forest.py\", line 387, in fit\n",
      "    trees = Parallel(n_jobs=self.n_jobs, verbose=self.verbose,\n",
      "  File \"C:\\Users\\pbeata\\anaconda3\\envs\\py3-TF2.0\\lib\\site-packages\\joblib\\parallel.py\", line 1041, in __call__\n",
      "    if self.dispatch_one_batch(iterator):\n",
      "  File \"C:\\Users\\pbeata\\anaconda3\\envs\\py3-TF2.0\\lib\\site-packages\\joblib\\parallel.py\", line 859, in dispatch_one_batch\n",
      "    self._dispatch(tasks)\n",
      "  File \"C:\\Users\\pbeata\\anaconda3\\envs\\py3-TF2.0\\lib\\site-packages\\joblib\\parallel.py\", line 777, in _dispatch\n",
      "    job = self._backend.apply_async(batch, callback=cb)\n",
      "  File \"C:\\Users\\pbeata\\anaconda3\\envs\\py3-TF2.0\\lib\\site-packages\\joblib\\_parallel_backends.py\", line 208, in apply_async\n",
      "    result = ImmediateResult(func)\n",
      "  File \"C:\\Users\\pbeata\\anaconda3\\envs\\py3-TF2.0\\lib\\site-packages\\joblib\\_parallel_backends.py\", line 572, in __init__\n",
      "    self.results = batch()\n",
      "  File \"C:\\Users\\pbeata\\anaconda3\\envs\\py3-TF2.0\\lib\\site-packages\\joblib\\parallel.py\", line 262, in __call__\n",
      "    return [func(*args, **kwargs)\n",
      "  File \"C:\\Users\\pbeata\\anaconda3\\envs\\py3-TF2.0\\lib\\site-packages\\joblib\\parallel.py\", line 262, in <listcomp>\n",
      "    return [func(*args, **kwargs)\n",
      "  File \"C:\\Users\\pbeata\\anaconda3\\envs\\py3-TF2.0\\lib\\site-packages\\sklearn\\utils\\fixes.py\", line 222, in __call__\n",
      "    return self.function(*args, **kwargs)\n",
      "  File \"C:\\Users\\pbeata\\anaconda3\\envs\\py3-TF2.0\\lib\\site-packages\\sklearn\\ensemble\\_forest.py\", line 169, in _parallel_build_trees\n",
      "    tree.fit(X, y, sample_weight=curr_sample_weight, check_input=False)\n",
      "  File \"C:\\Users\\pbeata\\anaconda3\\envs\\py3-TF2.0\\lib\\site-packages\\sklearn\\tree\\_classes.py\", line 1247, in fit\n",
      "    super().fit(\n",
      "  File \"C:\\Users\\pbeata\\anaconda3\\envs\\py3-TF2.0\\lib\\site-packages\\sklearn\\tree\\_classes.py\", line 285, in fit\n",
      "    if max_depth <= 0:\n",
      "TypeError: '<=' not supported between instances of 'str' and 'int'\n",
      "\n",
      "  warnings.warn(\"Estimator fit failed. The score on this train-test\"\n"
     ]
    },
    {
     "name": "stdout",
     "output_type": "stream",
     "text": [
      "[CV] END ..max_depth=None, max_features=32, n_estimators=100; total time=   0.0s\n",
      "[CV] END ..max_depth=None, max_features=32, n_estimators=100; total time=   0.0s\n",
      "[CV] END ..max_depth=None, max_features=32, n_estimators=200; total time=   0.0s\n",
      "[CV] END ..max_depth=None, max_features=32, n_estimators=200; total time=   0.0s\n",
      "[CV] END ..max_depth=None, max_features=32, n_estimators=200; total time=   0.0s\n"
     ]
    },
    {
     "name": "stderr",
     "output_type": "stream",
     "text": [
      "C:\\Users\\pbeata\\anaconda3\\envs\\py3-TF2.0\\lib\\site-packages\\sklearn\\model_selection\\_validation.py:610: FitFailedWarning: Estimator fit failed. The score on this train-test partition for these parameters will be set to nan. Details: \n",
      "Traceback (most recent call last):\n",
      "  File \"C:\\Users\\pbeata\\anaconda3\\envs\\py3-TF2.0\\lib\\site-packages\\sklearn\\model_selection\\_validation.py\", line 593, in _fit_and_score\n",
      "    estimator.fit(X_train, y_train, **fit_params)\n",
      "  File \"C:\\Users\\pbeata\\anaconda3\\envs\\py3-TF2.0\\lib\\site-packages\\sklearn\\ensemble\\_forest.py\", line 387, in fit\n",
      "    trees = Parallel(n_jobs=self.n_jobs, verbose=self.verbose,\n",
      "  File \"C:\\Users\\pbeata\\anaconda3\\envs\\py3-TF2.0\\lib\\site-packages\\joblib\\parallel.py\", line 1041, in __call__\n",
      "    if self.dispatch_one_batch(iterator):\n",
      "  File \"C:\\Users\\pbeata\\anaconda3\\envs\\py3-TF2.0\\lib\\site-packages\\joblib\\parallel.py\", line 859, in dispatch_one_batch\n",
      "    self._dispatch(tasks)\n",
      "  File \"C:\\Users\\pbeata\\anaconda3\\envs\\py3-TF2.0\\lib\\site-packages\\joblib\\parallel.py\", line 777, in _dispatch\n",
      "    job = self._backend.apply_async(batch, callback=cb)\n",
      "  File \"C:\\Users\\pbeata\\anaconda3\\envs\\py3-TF2.0\\lib\\site-packages\\joblib\\_parallel_backends.py\", line 208, in apply_async\n",
      "    result = ImmediateResult(func)\n",
      "  File \"C:\\Users\\pbeata\\anaconda3\\envs\\py3-TF2.0\\lib\\site-packages\\joblib\\_parallel_backends.py\", line 572, in __init__\n",
      "    self.results = batch()\n",
      "  File \"C:\\Users\\pbeata\\anaconda3\\envs\\py3-TF2.0\\lib\\site-packages\\joblib\\parallel.py\", line 262, in __call__\n",
      "    return [func(*args, **kwargs)\n",
      "  File \"C:\\Users\\pbeata\\anaconda3\\envs\\py3-TF2.0\\lib\\site-packages\\joblib\\parallel.py\", line 262, in <listcomp>\n",
      "    return [func(*args, **kwargs)\n",
      "  File \"C:\\Users\\pbeata\\anaconda3\\envs\\py3-TF2.0\\lib\\site-packages\\sklearn\\utils\\fixes.py\", line 222, in __call__\n",
      "    return self.function(*args, **kwargs)\n",
      "  File \"C:\\Users\\pbeata\\anaconda3\\envs\\py3-TF2.0\\lib\\site-packages\\sklearn\\ensemble\\_forest.py\", line 169, in _parallel_build_trees\n",
      "    tree.fit(X, y, sample_weight=curr_sample_weight, check_input=False)\n",
      "  File \"C:\\Users\\pbeata\\anaconda3\\envs\\py3-TF2.0\\lib\\site-packages\\sklearn\\tree\\_classes.py\", line 1247, in fit\n",
      "    super().fit(\n",
      "  File \"C:\\Users\\pbeata\\anaconda3\\envs\\py3-TF2.0\\lib\\site-packages\\sklearn\\tree\\_classes.py\", line 285, in fit\n",
      "    if max_depth <= 0:\n",
      "TypeError: '<=' not supported between instances of 'str' and 'int'\n",
      "\n",
      "  warnings.warn(\"Estimator fit failed. The score on this train-test\"\n",
      "C:\\Users\\pbeata\\anaconda3\\envs\\py3-TF2.0\\lib\\site-packages\\sklearn\\model_selection\\_validation.py:610: FitFailedWarning: Estimator fit failed. The score on this train-test partition for these parameters will be set to nan. Details: \n",
      "Traceback (most recent call last):\n",
      "  File \"C:\\Users\\pbeata\\anaconda3\\envs\\py3-TF2.0\\lib\\site-packages\\sklearn\\model_selection\\_validation.py\", line 593, in _fit_and_score\n",
      "    estimator.fit(X_train, y_train, **fit_params)\n",
      "  File \"C:\\Users\\pbeata\\anaconda3\\envs\\py3-TF2.0\\lib\\site-packages\\sklearn\\ensemble\\_forest.py\", line 387, in fit\n",
      "    trees = Parallel(n_jobs=self.n_jobs, verbose=self.verbose,\n",
      "  File \"C:\\Users\\pbeata\\anaconda3\\envs\\py3-TF2.0\\lib\\site-packages\\joblib\\parallel.py\", line 1041, in __call__\n",
      "    if self.dispatch_one_batch(iterator):\n",
      "  File \"C:\\Users\\pbeata\\anaconda3\\envs\\py3-TF2.0\\lib\\site-packages\\joblib\\parallel.py\", line 859, in dispatch_one_batch\n",
      "    self._dispatch(tasks)\n",
      "  File \"C:\\Users\\pbeata\\anaconda3\\envs\\py3-TF2.0\\lib\\site-packages\\joblib\\parallel.py\", line 777, in _dispatch\n",
      "    job = self._backend.apply_async(batch, callback=cb)\n",
      "  File \"C:\\Users\\pbeata\\anaconda3\\envs\\py3-TF2.0\\lib\\site-packages\\joblib\\_parallel_backends.py\", line 208, in apply_async\n",
      "    result = ImmediateResult(func)\n",
      "  File \"C:\\Users\\pbeata\\anaconda3\\envs\\py3-TF2.0\\lib\\site-packages\\joblib\\_parallel_backends.py\", line 572, in __init__\n",
      "    self.results = batch()\n",
      "  File \"C:\\Users\\pbeata\\anaconda3\\envs\\py3-TF2.0\\lib\\site-packages\\joblib\\parallel.py\", line 262, in __call__\n",
      "    return [func(*args, **kwargs)\n",
      "  File \"C:\\Users\\pbeata\\anaconda3\\envs\\py3-TF2.0\\lib\\site-packages\\joblib\\parallel.py\", line 262, in <listcomp>\n",
      "    return [func(*args, **kwargs)\n",
      "  File \"C:\\Users\\pbeata\\anaconda3\\envs\\py3-TF2.0\\lib\\site-packages\\sklearn\\utils\\fixes.py\", line 222, in __call__\n",
      "    return self.function(*args, **kwargs)\n",
      "  File \"C:\\Users\\pbeata\\anaconda3\\envs\\py3-TF2.0\\lib\\site-packages\\sklearn\\ensemble\\_forest.py\", line 169, in _parallel_build_trees\n",
      "    tree.fit(X, y, sample_weight=curr_sample_weight, check_input=False)\n",
      "  File \"C:\\Users\\pbeata\\anaconda3\\envs\\py3-TF2.0\\lib\\site-packages\\sklearn\\tree\\_classes.py\", line 1247, in fit\n",
      "    super().fit(\n",
      "  File \"C:\\Users\\pbeata\\anaconda3\\envs\\py3-TF2.0\\lib\\site-packages\\sklearn\\tree\\_classes.py\", line 285, in fit\n",
      "    if max_depth <= 0:\n",
      "TypeError: '<=' not supported between instances of 'str' and 'int'\n",
      "\n",
      "  warnings.warn(\"Estimator fit failed. The score on this train-test\"\n",
      "C:\\Users\\pbeata\\anaconda3\\envs\\py3-TF2.0\\lib\\site-packages\\sklearn\\model_selection\\_search.py:918: UserWarning: One or more of the test scores are non-finite: [0.6994022  0.69927963 0.69784822 0.62364063 0.63153066 0.62330554\n",
      " 0.53557582 0.53160879 0.51556392 0.61669915 0.62361633 0.62543769\n",
      " 0.69680363 0.69249435 0.69395109 0.83775098 0.8402021  0.84169755\n",
      " 0.78741227 0.79005179 0.79321167 0.71520427 0.71743782 0.71798354\n",
      " 0.79019007 0.78701918 0.79041871 0.82821862 0.83071089 0.83145012\n",
      " 0.87881046 0.88099568 0.88209776 0.85147394 0.85556494 0.85219665\n",
      " 0.79733499 0.80291997 0.803209   0.84866774 0.85416758 0.85092174\n",
      " 0.8752552  0.8780613  0.88112726 0.89283443 0.89510365 0.89494443\n",
      " 0.87975921 0.87808662 0.87773997 0.83975725 0.84240376 0.84255786\n",
      " 0.87922819 0.87967431 0.88061544 0.89569962 0.8978056  0.89944645\n",
      " 0.8980329  0.89883351 0.89966195 0.89363185 0.89229613 0.8926233\n",
      " 0.86027174 0.86439327 0.86523161 0.88895594 0.8931033  0.89293131\n",
      " 0.90363354 0.90499495 0.90623134        nan        nan        nan\n",
      "        nan        nan        nan        nan        nan        nan\n",
      "        nan        nan        nan        nan        nan        nan]\n",
      "  warnings.warn(\n"
     ]
    },
    {
     "name": "stdout",
     "output_type": "stream",
     "text": [
      "[CV] END ..max_depth=None, max_features=32, n_estimators=200; total time=   0.0s\n",
      "[CV] END ..max_depth=None, max_features=32, n_estimators=200; total time=   0.0s\n"
     ]
    },
    {
     "data": {
      "text/plain": [
       "GridSearchCV(cv=5, estimator=RandomForestRegressor(),\n",
       "             param_grid={'max_depth': [2, 4, 6, 8, 10, 'None'],\n",
       "                         'max_features': ['auto', 'sqrt', 'log2', 16, 32],\n",
       "                         'n_estimators': [50, 100, 200]},\n",
       "             verbose=2)"
      ]
     },
     "execution_count": 58,
     "metadata": {},
     "output_type": "execute_result"
    }
   ],
   "source": [
    "rfr_grid.fit(X_train_scaled, y_train)"
   ]
  },
  {
   "cell_type": "code",
   "execution_count": 59,
   "id": "champion-output",
   "metadata": {},
   "outputs": [
    {
     "data": {
      "text/plain": [
       "RandomForestRegressor(max_depth=10, max_features=32, n_estimators=200)"
      ]
     },
     "execution_count": 59,
     "metadata": {},
     "output_type": "execute_result"
    }
   ],
   "source": [
    "# the best hyperparameters found during the grid search:\n",
    "rfr_grid.best_estimator_"
   ]
  },
  {
   "cell_type": "code",
   "execution_count": 60,
   "id": "demanding-television",
   "metadata": {},
   "outputs": [
    {
     "name": "stdout",
     "output_type": "stream",
     "text": [
      "MAE:  $15614.91\n",
      "RMSE: $21997.33\n"
     ]
    }
   ],
   "source": [
    "rfr_pred = rfr_grid.predict(X_test_scaled)\n",
    "mae = mean_absolute_error(y_test, rfr_pred)\n",
    "rmse = np.sqrt(mean_squared_error(y_test, rfr_pred))\n",
    "\n",
    "print(f'MAE:  ${round(mae, 2)}')\n",
    "print(f'RMSE: ${round(rmse, 2)}')"
   ]
  },
  {
   "cell_type": "markdown",
   "id": "endless-elimination",
   "metadata": {},
   "source": [
    "### Summary of Model Performance"
   ]
  },
  {
   "cell_type": "markdown",
   "id": "tired-elder",
   "metadata": {},
   "source": [
    "| Model             | MAE       | RMSE      | Notes           |\n",
    "|:-----             |:-----     |:-----     |:-----           |\n",
    "|1. Elastic Net     |\\\\$14,197   |\\\\$20,172   | Lowest RMSE     |\n",
    "|2. Linear          |\\\\$14,577   |\\\\$20,849   |                 |\n",
    "|3. Lasso           |\\\\$14,191   |\\\\$20,554   | Lowest MAE      |\n",
    "|4. Ridge           |\\\\$14,275   |\\\\$20,867   |                 |\n",
    "|5. Random Forest   |\\\\$15,366   |\\\\$21,807   |                 |"
   ]
  },
  {
   "cell_type": "markdown",
   "id": "trying-roads",
   "metadata": {},
   "source": [
    "The best regression model in terms of the mean absolute error (using the 10% withheld training split of data) was the Lasso model. The lowest root mean square error was the Elastic Net with an L1 ration of 1, which is essentially the same thing as pure Lasso regression. We can confirm this by comparing the mean absolute error for the Elastic Net and Lasso above as they are quite similar. \n",
    "\n",
    "For a mean house sale price of \\\\$180,815 across the full data set, this means that the mean average absolute error of the Lasso model relative to the average price as a percentage is only 7.8\\%. \n",
    "\n",
    "The Random Forest Regressor performed the worst out of this group of regression models (relatively speaking). While Random Forests are commonly used for classification problems, scikit-learn provides a regressor based on Random Forests as well. However, if we take a closer look at the grid search results for the Random Forest Regressor, we see that using a max depth of 10 and max features of 32, the mean absolute error was \\\\$15,615: meaning that our error only increased from \\\\$14,191 (Lasso) to \\\\$15,615 (Random Forest), but we only needed to use 32 features compared to the 205 needed for Lasso. _Note that when using Lasso, 68 of the coefficients dropped to zero, therefore only 273 - 68 = 205 features were included in the actual predictions._ \n",
    "\n",
    "For a mean house sale price of \\\\$180,815 across the full data set, this means that the mean average absolute error of the Random Forest model relative to the average price as a percentage is only 8.5\\%. "
   ]
  }
 ],
 "metadata": {
  "kernelspec": {
   "display_name": "Python 3",
   "language": "python",
   "name": "python3"
  },
  "language_info": {
   "codemirror_mode": {
    "name": "ipython",
    "version": 3
   },
   "file_extension": ".py",
   "mimetype": "text/x-python",
   "name": "python",
   "nbconvert_exporter": "python",
   "pygments_lexer": "ipython3",
   "version": "3.8.8"
  }
 },
 "nbformat": 4,
 "nbformat_minor": 5
}
